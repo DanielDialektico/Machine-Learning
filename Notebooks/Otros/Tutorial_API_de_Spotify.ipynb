{
  "nbformat": 4,
  "nbformat_minor": 0,
  "metadata": {
    "colab": {
      "provenance": [],
      "authorship_tag": "ABX9TyNj96pd7T9rq21Mohlav17T",
      "include_colab_link": true
    },
    "kernelspec": {
      "name": "python3",
      "display_name": "Python 3"
    },
    "language_info": {
      "name": "python"
    }
  },
  "cells": [
    {
      "cell_type": "markdown",
      "metadata": {
        "id": "view-in-github",
        "colab_type": "text"
      },
      "source": [
        "<a href=\"https://colab.research.google.com/github/DanielDialektico/Machine-Learning/blob/main/Notebooks/Otros/Tutorial_API_de_Spotify.ipynb\" target=\"_parent\"><img src=\"https://colab.research.google.com/assets/colab-badge.svg\" alt=\"Open In Colab\"/></a>"
      ]
    },
    {
      "cell_type": "markdown",
      "source": [
        "![MiniLogoW4.png](data:image/png;base64,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)"
      ],
      "metadata": {
        "id": "7_lxZ9fdNVE-"
      }
    },
    {
      "cell_type": "markdown",
      "source": [
        "**INTRODUCCIÓN A LA API DE SPOTIFY PARA PYTHON 🎼**"
      ],
      "metadata": {
        "id": "Fkxue2A5NgKd"
      }
    },
    {
      "cell_type": "markdown",
      "source": [
        "Instalamos la librería:"
      ],
      "metadata": {
        "id": "Sp_53fMDOYbV"
      }
    },
    {
      "cell_type": "code",
      "execution_count": null,
      "metadata": {
        "id": "gWu06FeQ1DvV"
      },
      "outputs": [],
      "source": [
        "!pip install spotipy"
      ]
    },
    {
      "cell_type": "markdown",
      "source": [
        "Se declaran las variables con las **credenciales** ([ver tutorial](https://dialektico.com/tutorial-api-spotify-python/)), y la variable que utilizaremos para acceder a la API."
      ],
      "metadata": {
        "id": "eelTZnCEM5aW"
      }
    },
    {
      "cell_type": "code",
      "source": [
        "# Se importan las librerías necesarias.\n",
        "import spotipy\n",
        "import pandas as pd\n",
        "from spotipy.oauth2 import SpotifyClientCredentials\n",
        "\n",
        "# Se declara el ID del cliente.\n",
        "client_id = 'Añade tu Client ID'\n",
        "\n",
        "# Se declara el valor del secret client.\n",
        "client_secret = 'Añade tu Client Secret'\n",
        "\n",
        "client_credentials_manager = SpotifyClientCredentials(client_id, client_secret)\n",
        "sp = spotipy.Spotify(client_credentials_manager=client_credentials_manager)"
      ],
      "metadata": {
        "id": "kdytcG9B1FLQ"
      },
      "execution_count": null,
      "outputs": []
    },
    {
      "cell_type": "markdown",
      "source": [
        "Visualizamos el formato en el que se entrega la información, usando como ejemplo la extracción de datos de la agrupación **Blackpink**."
      ],
      "metadata": {
        "id": "Si19GMZjPOSF"
      }
    },
    {
      "cell_type": "code",
      "source": [
        "# Se busca información sobre Blackpink.\n",
        "result = sp.search(q='Blackpink', type='artist', limit=1)\n",
        "\n",
        "# Se imprime el resultado.\n",
        "result"
      ],
      "metadata": {
        "id": "j5Yuyhz04JCG"
      },
      "execution_count": null,
      "outputs": []
    },
    {
      "cell_type": "markdown",
      "source": [
        "Ahora accedemos a un elemento en particular del diccionario, extrayendo el **número de seguidor**es del grupo en la plataforma:"
      ],
      "metadata": {
        "id": "RzB-_Ke4P449"
      }
    },
    {
      "cell_type": "code",
      "source": [
        "# Se imprime el número de seguidores de Blackpink.\n",
        "result['artists']['items'][0]['followers']['total']"
      ],
      "metadata": {
        "id": "Zck0qeca4fdl"
      },
      "execution_count": null,
      "outputs": []
    },
    {
      "cell_type": "markdown",
      "source": [
        "Obtenemos el top de canciones más populares de la banda utilizando el método [artist_top_tracks](https://spotipy.readthedocs.io/en/2.22.1/#spotipy.client.Spotify.artist_top_tracks):"
      ],
      "metadata": {
        "id": "27-ruIcvQZrV"
      }
    },
    {
      "cell_type": "code",
      "source": [
        "# Se busca información sobre Blackpink y se obtiene su ID de artista.\n",
        "result = sp.search(q='Blackpink', type='artist', limit=1)\n",
        "blackpink_id = result['artists']['items'][0]['id']\n",
        "\n",
        "# Se obtienen las 10 canciones más escuchadas de Blackpink.\n",
        "results = sp.artist_top_tracks(blackpink_id, country='US')\n",
        "\n",
        "# Se imprime el nombre de las canciones.\n",
        "for track in results['tracks']:\n",
        "    print(track['name'])"
      ],
      "metadata": {
        "id": "L58BV_Pc1M-W"
      },
      "execution_count": null,
      "outputs": []
    },
    {
      "cell_type": "markdown",
      "source": [
        "Creamos una función que crea una función para la extracción de 50 canciones de un **género** definido (entrada), sus características, y acomoda la información en un dataFrame de **Pandas**:"
      ],
      "metadata": {
        "id": "KiCvCsX1RoTt"
      }
    },
    {
      "cell_type": "code",
      "source": [
        "def songs_by_genre(genre):\n",
        "\n",
        "    # Se buscan las 50 canciones más populares del género especificado.\n",
        "    results = sp.search(q=f'genre:{genre}', type='track', limit=50)\n",
        "    tracks = results['tracks']['items']\n",
        "\n",
        "    # Se crea una lista de diccionarios con el nombre de la canción y las características deseadas.\n",
        "    song_features = []\n",
        "    for track in tracks:\n",
        "        features = sp.audio_features(track['id'])[0]\n",
        "        song_features.append({'Nombre': track['name'], 'Bailabilidad': features['danceability'], 'Energía': features['energy'], 'Acústica': features['acousticness'], 'Duración (ms)': features['duration_ms'],\n",
        "                          'Acústica': features['acousticness'], 'Instrumentalidad': features['instrumentalness'], 'Sonoridad': features['loudness'], 'Tempo': features['tempo'],\n",
        "                          'Discursividad': features['speechiness'],'ID': features['id'], 'Modo': features['mode'], 'Valencia': features['valence'], 'Género': genre})\n",
        "\n",
        "\n",
        "    # Se crea un dataFrame de Pandas con la información extraída.\n",
        "    data_frame = pd.DataFrame(song_features)\n",
        "\n",
        "    return data_frame"
      ],
      "metadata": {
        "id": "WseKCX_zRrM1"
      },
      "execution_count": null,
      "outputs": []
    },
    {
      "cell_type": "markdown",
      "source": [
        "Creamos un bucle que obtenga estos datos para cada género especificado en una **lista**, y concatenamos las **tablas** resultantes:"
      ],
      "metadata": {
        "id": "ze3To9KzR_1t"
      }
    },
    {
      "cell_type": "code",
      "source": [
        "# Se importa una librería para la generación de una barra de progreso.\n",
        "from tqdm import tqdm\n",
        "\n",
        "# Se crea una lista con los géneros musicales deseados.\n",
        "genres_list = ['world-music', 'salsa', 'rock-n-roll', 'reggae', 'reggaeton', 'pop', 'black-metal', 'k-pop', 'hip-hop', 'electronic']\n",
        "\n",
        "# Se itera sobre esta lista utilizando sus elementos como entradas de la función creada.\n",
        "tables = []\n",
        "\n",
        "for item in tqdm(genres_list, desc = 'Creando conjunto de datos:'):\n",
        "  table = songs_by_genre(item)\n",
        "  tables.append(table)\n",
        "\n",
        "# Se concatenan las tablas y se imprime el resultado.\n",
        "dataset = pd.concat(tables)\n",
        "dataset"
      ],
      "metadata": {
        "id": "OYr7aksZSFjn"
      },
      "execution_count": null,
      "outputs": []
    },
    {
      "cell_type": "markdown",
      "source": [
        "Por último se descarga en formato CSV:"
      ],
      "metadata": {
        "id": "qZ9IIVkQSUGM"
      }
    },
    {
      "cell_type": "code",
      "source": [
        "# Se convierte a formato CSV.\n",
        "dataset.to_csv('dataset.csv', index=False)\n",
        "\n",
        "# Se descarga el CSV.\n",
        "from google.colab import files\n",
        "files.download('dataset.csv')"
      ],
      "metadata": {
        "id": "nehofeRXM1-f"
      },
      "execution_count": null,
      "outputs": []
    },
    {
      "cell_type": "markdown",
      "source": [
        "O en formato XLS:"
      ],
      "metadata": {
        "id": "vaJTOIBCSuRF"
      }
    },
    {
      "cell_type": "code",
      "source": [
        "# Se convierte a formato Excel.\n",
        "dataset.to_excel('dataset.xlsx', index=False)\n",
        "\n",
        "# Se descarga el Excel.\n",
        "from google.colab import files\n",
        "files.download('dataset.xlsx')"
      ],
      "metadata": {
        "id": "MmpDA3WUSkoH"
      },
      "execution_count": null,
      "outputs": []
    },
    {
      "cell_type": "markdown",
      "source": [
        "No olvides que puedes encontrar más tópicos como este en https://dialektico.com/."
      ],
      "metadata": {
        "id": "0QjcY7SqTatu"
      }
    }
  ]
}