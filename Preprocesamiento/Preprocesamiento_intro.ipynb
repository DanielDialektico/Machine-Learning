{
  "nbformat": 4,
  "nbformat_minor": 0,
  "metadata": {
    "colab": {
      "provenance": [],
      "collapsed_sections": [],
      "authorship_tag": "ABX9TyPlY2NsWZQQRSianpYFW3I3",
      "include_colab_link": true
    },
    "kernelspec": {
      "name": "python3",
      "display_name": "Python 3"
    },
    "language_info": {
      "name": "python"
    }
  },
  "cells": [
    {
      "cell_type": "markdown",
      "metadata": {
        "id": "view-in-github",
        "colab_type": "text"
      },
      "source": [
        "<a href=\"https://colab.research.google.com/github/DanielDialektico/Machine-Learning/blob/main/Preprocesamiento/Preprocesamiento_intro.ipynb\" target=\"_parent\"><img src=\"https://colab.research.google.com/assets/colab-badge.svg\" alt=\"Open In Colab\"/></a>"
      ]
    },
    {
      "cell_type": "markdown",
      "source": [
        "![MiniLogoW2.jpg](data:image/jpeg;base64,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)"
      ],
      "metadata": {
        "id": "ZFMNTnouzvtk"
      }
    },
    {
      "cell_type": "markdown",
      "source": [
        "**INTRODUCCIÓN AL PREPROCESAMIENTO DE DATOS** ⚒"
      ],
      "metadata": {
        "id": "tV0QYCqa0vT1"
      }
    },
    {
      "cell_type": "markdown",
      "source": [
        "# 1. Introducción\n",
        "En esta práctica **observarás** y **comprenderás** cómo se preprocesa un conjunto de datos con algunas librerías de **Python**, principalmente **Pandas**, la cual nos permite trabajar de forma sencilla con información dispuesta en tablas. \n",
        "\n",
        "Ejecutarás código que te ayude a **limpiar**, **transformar** y **reducir** un conjunto de datos para generar uno más comprensible y digerible para la máquina y para quien lo manipule y analice. \n",
        "\n",
        "El conjunto de datos que utilizaremos comprende **información real** de características de automóviles, los cuales están dispuestos en una tabla. Para más información sobre estos datos, consúltese el **apéndice** al final de la lección."
      ],
      "metadata": {
        "id": "ShK24xsfCnBG"
      }
    },
    {
      "cell_type": "markdown",
      "source": [
        "# 2. Objetivo\n",
        "Se nos ha dado la tarea de **analizar los datos** para hallar insights (descubrimientos relevantes), y posteriormente crear un modelo de **machine learning**. Para ello, se nos ha pedido que solo utilicemos las siguientes características de los coches: tipo de combustible, longitud, latitud, anchura, caballos de fuerza y precio. \n",
        "\n",
        "Nuestro objetivo será **preprocesar** el conjunto de datos para llevar a cabo estas actividades de manera eficiente.  "
      ],
      "metadata": {
        "id": "KqMzw_24Ey-D"
      }
    },
    {
      "cell_type": "markdown",
      "source": [
        "# 3. Declaración de librerías y carga de datos\n",
        "Para cargar  el conjunto de datos a nuestro espacio de trabajo, leeremos un CSV alojado en un repositorio de **GitHub**, el cual extraeremos utilizando la URL del archivo, y almacenaremos en una tabla utilizando la librería Pandas. \n",
        "\n",
        "La declaración de las **librerías** que utilizaremos se encuentra al principio del código. "
      ],
      "metadata": {
        "id": "v_xCEZn-QSwN"
      }
    },
    {
      "cell_type": "markdown",
      "source": [
        "**Nota**: *Recuerda que para ejecutar las celdas de código solo debes colocarte sobre estas y presionar Shift + Enter, u oprimir el **botón de reproducción**.*\n",
        "\n",
        "Ejecuta la siguiente celda para cargar los datos y las librerías, y de ahora en adelante, haz lo mismo con todas estas conforme vayan apareciendo:"
      ],
      "metadata": {
        "id": "Wq_2Fz9eSXRy"
      }
    },
    {
      "cell_type": "code",
      "source": [
        "#Se importan las librerías\n",
        "import pandas as pd\n",
        "import sklearn\n",
        "from sklearn import preprocessing\n",
        "import seaborn as sns\n",
        "import matplotlib.pyplot as plt\n",
        "import numpy as np\n",
        "import warnings\n",
        "\n",
        "#Se define el tipo de formato de las gráficas\n",
        "plt.style.use('seaborn-whitegrid')\n",
        "\n",
        "#Se ignoran las alertas para que no se impriman en la pantalla\n",
        "warnings.filterwarnings('ignore')\n",
        "\n",
        "#Se carga el conjunto de datos desde GitHub\n",
        "dataset = pd.read_csv('https://raw.githubusercontent.com/DanielDialektico/Machine-Learning/main/Regresi%C3%B3n%20Lineal/Autom%C3%B3viles.csv')"
      ],
      "metadata": {
        "id": "ILh0ohbvSlQ0"
      },
      "execution_count": 1,
      "outputs": []
    },
    {
      "cell_type": "markdown",
      "source": [
        "Comprobamos que la carga se haya realizado correctamente mostrando los primeros cinco renglones de la tabla:"
      ],
      "metadata": {
        "id": "4BraKNkeT9iC"
      }
    },
    {
      "cell_type": "code",
      "source": [
        "#Se especifica que se muestren todas las columnas de la tabla.\n",
        "pd.set_option('display.max_columns', None)\n",
        "\n",
        "#Se imprimen los primeros cinco renglones.\n",
        "dataset.head()"
      ],
      "metadata": {
        "id": "CWbE5EpdUG1t"
      },
      "execution_count": null,
      "outputs": []
    },
    {
      "cell_type": "markdown",
      "source": [
        "# 4. Limpieza de datos\n",
        "Ahora que hemos cargado nuestro conjunto de datos, comenzaremos su **preprocesamiento** con la primer técnica observada en la [introducción al preprocesamiento](https://dialektico.com/introduccion-preprocesamiento/): la **limpieza de datos**. \n",
        "\n",
        "Para esto, primero es necesario visualizar de forma general las características de nuestro conjunto, para lo que utilizaremos la funcion **info()** de Pandas, la cual nos mostrará lo siguiente:  \n",
        "\n",
        "* Número de renglones y columnas. \n",
        "* **Column**: el nombre de cada columna. \n",
        "\n",
        "* **Non-Null Count**: el número de valores no nulos, los cuales son los datos válidos, es decir, datos no vacíos o que no generan algún conflicto de lectura.\n",
        "* **Dtype**: el tipo de datos en el que está categorizada cada columna."
      ],
      "metadata": {
        "id": "4dbnsCpLPcZk"
      }
    },
    {
      "cell_type": "markdown",
      "source": [
        "\n",
        "Ejecuta la siguiente celda para ver esta información:"
      ],
      "metadata": {
        "id": "KrGiLGq0brZm"
      }
    },
    {
      "cell_type": "code",
      "execution_count": null,
      "metadata": {
        "id": "PZLfS1_ihwKQ"
      },
      "outputs": [],
      "source": [
        "#Se despliega la información general del conjunto de datos.\n",
        "dataset.info()"
      ]
    },
    {
      "cell_type": "markdown",
      "source": [
        "En esta lista nos percatamos de que tenemos **26 columnas y 205 renglones**, y de que en algunas columnas tenemos la presencia de **valores nulos**, ya que el conteo \"non-null\" no siempre es de 205. \n",
        "\n",
        "El ejemplo más claro de esto es el de la columna \"normalized-losses\", la cual cuenta solo con 164 valores no nulos, indicando un total de 41 valores nulos presentes.\n",
        "\n",
        "Pero antes de ocuparnos de ello, eliminaremos aquellas columnas que no necesitaremos, dado que solo son necesarias las 6 características mencionadas anteriormente."
      ],
      "metadata": {
        "id": "ozEqAzr7hAMb"
      }
    },
    {
      "cell_type": "markdown",
      "source": [
        "Ejectua el siguiente código para mantener solo las columnas con las variables \"tipo de combustible\", \"longitud\", \"latitud\", \"anchura\", \"caballos de fuerza\" y \"precio\"."
      ],
      "metadata": {
        "id": "SkRPGBZVcMCV"
      }
    },
    {
      "cell_type": "code",
      "source": [
        "#Se mantienen solo las columnas con las características deseadas y se imprime el resultado.\n",
        "dataset = dataset.loc[:, [' fuel-type', 'length', 'width', 'height', 'horsepower', 'price']]\n",
        "dataset"
      ],
      "metadata": {
        "id": "P7bCBlLPcAIg"
      },
      "execution_count": null,
      "outputs": []
    },
    {
      "cell_type": "markdown",
      "source": [
        "Ahora que nuestro conjunto de datos contiene solo las columnas con las que planeamos trabajar, volvemos a imprimir el resumen de nuestra tabla:"
      ],
      "metadata": {
        "id": "eahKhOJbzXPA"
      }
    },
    {
      "cell_type": "code",
      "source": [
        "dataset.info()"
      ],
      "metadata": {
        "id": "p8GFIbCOyrt2"
      },
      "execution_count": null,
      "outputs": []
    },
    {
      "cell_type": "markdown",
      "source": [
        "Como se observa en la salida de esta casilla, ya contamos con solo 6 columnas, de las cuales solo dos cuentan con valores nulos. Dado que se trata solo de 6 renglones con este tipo de valores (solo el 3% de nuestro conjunto de datos), procederemos a eliminar estos utilizando la función **dropna()**:"
      ],
      "metadata": {
        "id": "-S9OHhA20J-f"
      }
    },
    {
      "cell_type": "code",
      "source": [
        "#Se eliminan los renglones con valores nulos, y se resetea el índice (primera columna con la numeración) para tener una enumeración correcta.\n",
        "dataset = dataset.dropna().reset_index(drop = True)\n",
        "dataset"
      ],
      "metadata": {
        "id": "se28Ovl80FTk"
      },
      "execution_count": null,
      "outputs": []
    },
    {
      "cell_type": "markdown",
      "source": [
        "Notarás que los renglones ahora son 199. \n",
        "\n",
        "En el siguiente paso, procederemos a cambiar los títulos de nuestras columnas, con el fin de tener nombres de variables en español para un análisis y visualización más cómoda y consistente:"
      ],
      "metadata": {
        "id": "M0XKH-Dq26E2"
      }
    },
    {
      "cell_type": "code",
      "source": [
        "#Se renombran las columnas.\n",
        "dataset = dataset.rename(columns = {' fuel-type': 'Tipo de combustible', 'length': 'Longitud', 'width': 'Anchura', 'height': 'Altura',\n",
        "                                    'horsepower':'Caballos de fuerza', 'price': 'Precio'})\n",
        "dataset"
      ],
      "metadata": {
        "id": "sZGQCv0o2oF2"
      },
      "execution_count": null,
      "outputs": []
    },
    {
      "cell_type": "markdown",
      "source": [
        "Por último, revisaremos la existencia de renglones duplicados con la función **drop_duplicates(**), y en caso de haberlos, los eliminaremos."
      ],
      "metadata": {
        "id": "WSvgOdTRSvZd"
      }
    },
    {
      "cell_type": "code",
      "source": [
        "#Se eliminan los renglones repetidos y se resetea el índice de nuevo.\n",
        "dataset.drop_duplicates(inplace = True)\n",
        "dataset = dataset.reset_index(drop = True)\n",
        "dataset"
      ],
      "metadata": {
        "id": "UnF3qY1E7asO"
      },
      "execution_count": null,
      "outputs": []
    },
    {
      "cell_type": "markdown",
      "source": [
        "Ahora la cantidad de renglones es de 194, por lo que se eliminaron **5 renglones repetidos**. \n",
        "\n",
        "Dado que no es necesario efectuar más modificaciones básicas a nuestro conjunto datos, con esto concluimos su limpieza, y pasamos a la fase de **transformación**."
      ],
      "metadata": {
        "id": "r4xTtDrqTfM9"
      }
    },
    {
      "cell_type": "markdown",
      "source": [
        "# 5. Transformación\n",
        "Como ya hemos [definido](https://dialektico.com/introduccion-preprocesamiento/#transf), la **transformación** de los datos consiste en expresarlos en formas estratégicas para un mejor procesamiento computacional.\n",
        "\n",
        "Antes de realizar acciones concernientes a esto, desplegaremos estadísticas básicas de nuestro conjunto de datos utilizando la función **describe()**, la cual nos mostrará la siguiente información de cada columna:\n",
        "\n",
        "\n",
        "\n",
        "*   **Count**: número de valores de cada columna.\n",
        "*   **Mean**: su promedio.\n",
        "*   **Std**: su desviación estándar.\n",
        "*   **Min**: su valor mínimo.\n",
        "*   **Max**: su valor máximo.\n",
        "*   **25%, 50%, 75%**: sus percentiles\n",
        "\n"
      ],
      "metadata": {
        "id": "JDeJBlVYT5Zd"
      }
    },
    {
      "cell_type": "code",
      "source": [
        "#Desplegamos las estadísticas del conjunto de datos.\n",
        "dataset.describe()"
      ],
      "metadata": {
        "id": "QMnQwRPL74fo"
      },
      "execution_count": null,
      "outputs": []
    },
    {
      "cell_type": "markdown",
      "source": [
        "Se puede notar que tenemos la información de todas las columnas excepto la de la variable \"Tipo de combustible\", ya que no es de tipo numérica (es **[cualitativa](https://dialektico.com/datos-machine-learning/#Dcualit)**).\n",
        "\n",
        "Como en nuestros **objetivos** se ha establecido que estos datos se utilizarán como entradas para un modelo de aprendizaje automático, los datos de esta columna deberán convertirse a tipo numérico, por lo que utilizaremos la librería **Sklearn** y su función **LabelEncoder()** para esto."
      ],
      "metadata": {
        "id": "Hp_09j7IggzT"
      }
    },
    {
      "cell_type": "markdown",
      "source": [
        "Ejecuta el siguiente fragmento para convertir los valores de la variable \"Tipo de combustible\" en números enteros:"
      ],
      "metadata": {
        "id": "hFaWFgP8e7B9"
      }
    },
    {
      "cell_type": "code",
      "source": [
        "#Se declara el codificador.\n",
        "le = preprocessing.LabelEncoder()\n",
        "\n",
        "#Se transforman los valores de la columna en enteros.\n",
        "dataset['Tipo de combustible'] = le.fit_transform(dataset['Tipo de combustible'])\n",
        "dataset"
      ],
      "metadata": {
        "id": "fpf-YEJFcTjC"
      },
      "execution_count": null,
      "outputs": []
    },
    {
      "cell_type": "markdown",
      "source": [
        "En esta última tabla se observa la **transformación** de cada valor de la columna \"Tipo de combustible\" a números enteros. Haciendo una rápida comparación con la columna antes de ser transformada, podemos constatar que los valores iguales a \"diesel\" se transcribieron como ceros, y los valores iguales a \"gas\" como unos.\n",
        "\n",
        "A primera vista, pareciera que solo tenemos dos valores diferentes para esta variable, pero lo comprobaremos utilizando la función **value_counts()** de Pandas, la cual nos indicará el número de diferentes valores de esta columna, y el número de ocurrencias de cada uno."
      ],
      "metadata": {
        "id": "ZNMXkCyWjPGv"
      }
    },
    {
      "cell_type": "code",
      "source": [
        "n_ceros = dataset['Tipo de combustible'].value_counts()[0]\n",
        "n_ones = dataset['Tipo de combustible'].value_counts()[1]\n",
        "\n",
        "print('Hay ' + str(n_ceros) + ' valores iguales a 0.')\n",
        "print('Hay ' + str(n_ones) + ' valores iguales a 1.')"
      ],
      "metadata": {
        "id": "mVstF6PXjF3P"
      },
      "execution_count": null,
      "outputs": []
    },
    {
      "cell_type": "markdown",
      "source": [
        "Ahora que tenemos codificados los valores cualitativos de esta columna, utilizremos las funciones **min()** y **max()** para observar si nuestros valores máximos y mínimos entre variables están muy lejanos los unos de los otros."
      ],
      "metadata": {
        "id": "ojIGbFkEmCmM"
      }
    },
    {
      "cell_type": "code",
      "source": [
        "#Se imprimen los valores máximos y mínimos de cada columna.\n",
        "print('VALORES MÍNIMOS:')\n",
        "print(dataset.min())\n",
        "print('\\n')\n",
        "\n",
        "print('VALORES MÁXIMOS:')\n",
        "print(dataset.max())"
      ],
      "metadata": {
        "id": "r2xHKT6Onlbs"
      },
      "execution_count": null,
      "outputs": []
    },
    {
      "cell_type": "markdown",
      "source": [
        "Sin contar los valores mínimos y máximos de la primera columna (ya que sabemos que son 0 y 1 respectivamente), se pueden observar valores muy lejanos entre mínimos y máximos de las variables, siendo 47 el mínimo, y 45400 el máximo. \n",
        "\n",
        "Para **eficientar el procesamiento** de estos datos en un modelo predictivo, es recomendable colocar todos los datos en un intervalo, es decir, escalarlos para que sus distancias numéricas no sean tales que el algoritmo tome tiempos largos para cumplir su objetivo. A esto también se le llama normalización.\n",
        "\n",
        "Para realizar esta tarea utilizaremos la función **MinMaxScaler()** de Sklearn:"
      ],
      "metadata": {
        "id": "G0XPOlqBozwa"
      }
    },
    {
      "cell_type": "code",
      "source": [
        "#Se declara la clase que escalará nuestros datos.\n",
        "scaler = preprocessing.MinMaxScaler()\n",
        "\n",
        "#Se escalan los datos a un intervalo entre 0 y 1.\n",
        "normalized = scaler.fit_transform(dataset)\n",
        "\n",
        "#Se toman los valores de las columnas, y se recrea la tabla con los datos escalados.\n",
        "column_names = dataset.columns\n",
        "dataset = pd.DataFrame(normalized, columns = column_names)\n",
        "dataset"
      ],
      "metadata": {
        "id": "DBR8lv8pnhfa"
      },
      "execution_count": null,
      "outputs": []
    },
    {
      "cell_type": "markdown",
      "source": [
        "El resultado es el conjunto de datos con los números escalados entre 0 y 1, lo cual minimiza las distancias y procura un procesamiento de mayor rendimiento."
      ],
      "metadata": {
        "id": "h-DRgGxDrQrv"
      }
    },
    {
      "cell_type": "markdown",
      "source": [
        "# 6. Reducción de datos\n",
        "Por último en nuestro ejercicio de preprocesamiento, haremos una **reducción de datos** empleando técnicas para eliminar valores atípicos (outliers)."
      ],
      "metadata": {
        "id": "8SdVNPTqtkLq"
      }
    },
    {
      "cell_type": "markdown",
      "source": [
        "## 6.1 Datos atípicos - Outliers\n",
        "El tratamiento de los **valores atípicos** es todo un tema que se pueda estudiar aparte, en este caso no ahondaremos en sus métodos y las consideraciones previas a la aplicación de estos, simplemente eliminaremos aquellos datos que se alejen considerablemente de los demás, ya que representan un **comportamiento anormal**.\n",
        "\n",
        "Para una rápida ilustración de esto, graficaremos los datos de los **caballos de fuerza** de cada coche respecto a su **precio**, utilizando la librería **Matplotlib**. En esta gráfica observarás cómo hay puntos que parecen alejarse demasiado de aquellos que están más agrupados; estos son los datos que vamos a eliminar."
      ],
      "metadata": {
        "id": "MPj86X0LwT4G"
      }
    },
    {
      "cell_type": "code",
      "source": [
        "#Se determinan los datos a graficar, en este caso: el precio y los caballos de fuerza de cada automóvil.\n",
        "xpoints = dataset['Caballos de fuerza']\n",
        "ypoints = dataset['Precio']\n",
        "\n",
        "#Se grafican.\n",
        "plt.figure(figsize=(7, 7))\n",
        "plt.plot(xpoints, ypoints, 'o') \n",
        "plt.title(\"PRECIO DE COCHES RESPECTO A CABALLOS DE FUERZA\", fontdict = {'family': 'DejaVu Sans', 'color':  'black', 'weight': 'bold', 'size': 14})\n",
        "plt.xlabel(\"CABALLOS DE FUERZA\", fontdict = {'family': 'DejaVu Sans', 'color':  '#630000', 'weight': 'bold', 'size': 10})\n",
        "plt.ylabel(\"PRECIO\", fontdict = {'family': 'DejaVu Sans', 'color':  '#630000', 'weight': 'bold', 'size': 10}) \n",
        "plt.show()"
      ],
      "metadata": {
        "id": "S1N8Ny-gwlOW"
      },
      "execution_count": null,
      "outputs": []
    },
    {
      "cell_type": "markdown",
      "source": [
        "Para remover los valores atípicos de los caballos de fuerza y el precio, utilizaremos el método del **rango intercuartílico**, el cual es solo una de entre muchas técnicas utilizadas para datos sin **distribuciones normales**. Esto se explicará más a detalle en lecciones posteriores.\n",
        "\n",
        "A continuación, se muestra la gráfica después de aplicar esta reducción:"
      ],
      "metadata": {
        "id": "kdpNa7rF8RTT"
      }
    },
    {
      "cell_type": "code",
      "source": [
        "#Se crea una función que calcula los límites superior e inferior del rango intercuartílico.\n",
        "def iqrFilter(column):\n",
        "  percentile25 = dataset[column].quantile(0.25)\n",
        "  percentile75 = dataset[column].quantile(0.75)\n",
        "  iqr = percentile75 - percentile25\n",
        "  \n",
        "  upper_limit = percentile75 + 1.5 * iqr\n",
        "  lower_limit = percentile25 - 1.5 * iqr\n",
        "  \n",
        "  return upper_limit,lower_limit\n",
        "\n",
        "#Se crea un conjunto de datos temporal para hacer las comparaciones.\n",
        "dataset_temp = dataset\n",
        "\n",
        "#Se realiza la detección y eliminación de los valores atípicos en el precio y los caballos de fuerza\n",
        "for i in ['Precio', 'Caballos de fuerza']:\n",
        "  upperP,lowerP = iqrFilter(i)\n",
        "  dataset_temp = dataset_temp[dataset[i] > lowerP]\n",
        "  dataset_temp = dataset_temp[dataset[i] < upperP]\n",
        "\n",
        "xpoints = dataset['Caballos de fuerza']\n",
        "ypoints = dataset['Precio']\n",
        "\n",
        "t_xpoints = dataset_temp['Caballos de fuerza']\n",
        "t_ypoints = dataset_temp['Precio']\n",
        "\n",
        "#Se despliegan ambas gráficas.\n",
        "fig, (ax1, ax2) = plt.subplots(1, 2, figsize=(14, 7), sharex=True)\n",
        "\n",
        "ax1.plot(xpoints, ypoints, 'o')\n",
        "ax1.set_title(\"ANTES DE LA REMOCIÓN\", fontdict = {'family': 'DejaVu Sans', 'color':  'black', 'weight': 'bold', 'size': 14})\n",
        "ax1.set_xlabel(\"CABALLOS DE FUERZA\", fontdict = {'family': 'DejaVu Sans', 'color':  '#630000', 'weight': 'bold', 'size': 10})\n",
        "ax1.set_ylabel(\"PRECIO\", fontdict = {'family': 'DejaVu Sans', 'color':  '#630000', 'weight': 'bold', 'size': 10}) \n",
        "\n",
        "ax2.plot(t_xpoints, t_ypoints, 'o')\n",
        "ax2.set_title(\"DESPUÉS DE LA REMOCIÓN\", fontdict = {'family': 'DejaVu Sans', 'color':  'black', 'weight': 'bold', 'size': 14})\n",
        "ax2.set_xlabel(\"CABALLOS DE FUERZA\", fontdict = {'family': 'DejaVu Sans', 'color':  '#630000', 'weight': 'bold', 'size': 10})\n",
        "ax2.set_ylabel(\"PRECIO\", fontdict = {'family': 'DejaVu Sans', 'color':  '#630000', 'weight': 'bold', 'size': 10}) \n",
        "\n",
        "plt.show()"
      ],
      "metadata": {
        "id": "g3ZOO8gq3ptC"
      },
      "execution_count": null,
      "outputs": []
    },
    {
      "cell_type": "markdown",
      "source": [
        "En las gráficas es clara la diferencia: en la de la derecha se aprecia cómo han desaparecido los puntos más lejanos a la agrupación de los datos, por lo que se observa un cambio en el rango del eje vertical, cuyo máximo valor ha descendido de 1 a 0.6. \n",
        "\n",
        "Habiendo vislumbrado el objetivo de esta eliminación de datos atípicos, se procede a hacer lo mismo para todas las columnas (a excepción de la primera, ya que solo contiene dos posibles valores) y mostrar la tabla resultante:"
      ],
      "metadata": {
        "id": "3qfPRoeYD_Ty"
      }
    },
    {
      "cell_type": "code",
      "source": [
        "for i in dataset.columns[1:6]:\n",
        "  upperP,lowerP = iqrFilter(i)\n",
        "  dataset = dataset.loc[dataset[i] > lowerP]\n",
        "  dataset = dataset.loc[dataset[i] < upperP]\n",
        "\n",
        "dataset = dataset.reset_index(drop = True)\n",
        "dataset"
      ],
      "metadata": {
        "id": "QSCpUymSEnD4"
      },
      "execution_count": null,
      "outputs": []
    },
    {
      "cell_type": "markdown",
      "source": [
        "En esta última tabla se observa un total de 174 renglones, por lo que el conjunto de datos fue reducido a una versión más estadísticamente significativa. \n",
        "\n",
        "En particular, esta tabla ya no necesita ser reducida mediante otro método, y ya hemos aplicado técnicas que son altamente frecuentes en la etapa de preprocesamiento de datos. "
      ],
      "metadata": {
        "id": "bOw4Z6bXFnfp"
      }
    },
    {
      "cell_type": "markdown",
      "source": [
        "Para visualizar las diferencias entre nuestro conjunto de datos inicial y el preprocesado, a continuación mostraremos ambas tablas."
      ],
      "metadata": {
        "id": "PzlOfpdzjXME"
      }
    },
    {
      "cell_type": "markdown",
      "source": [
        "**Conjunto de datos inicial:**"
      ],
      "metadata": {
        "id": "6WI9zKAhjfkr"
      }
    },
    {
      "cell_type": "code",
      "source": [
        "prep_dataset = dataset\n",
        "dataset = pd.read_csv('https://raw.githubusercontent.com/DanielDialektico/Machine-Learning/main/Regresi%C3%B3n%20Lineal/Autom%C3%B3viles.csv')\n",
        "dataset"
      ],
      "metadata": {
        "id": "jCTdADObiTzb"
      },
      "execution_count": null,
      "outputs": []
    },
    {
      "cell_type": "markdown",
      "source": [
        "**Conjunto de datos preprocesado:**"
      ],
      "metadata": {
        "id": "kQ-1q7U7jr_C"
      }
    },
    {
      "cell_type": "code",
      "source": [
        "prep_dataset"
      ],
      "metadata": {
        "id": "byffijjojvTL"
      },
      "execution_count": null,
      "outputs": []
    },
    {
      "cell_type": "markdown",
      "source": [
        "Así concluye nuestra primera práctica en Python. En esta ocasión, no se propondrán ejercicios, ya que el procesamiento se irá practicando de forma casi ineludible en cada algoritmo de machine learning abordado en el curso.\n",
        "\n",
        "▶ [Regresar a la lección](https://dialektico.com/introduccion-preprocesamiento/#c%C3%B3digo) 🧙"
      ],
      "metadata": {
        "id": "_5WBEo_5iR7C"
      }
    },
    {
      "cell_type": "markdown",
      "source": [
        "# 7. Apéndice\n",
        "\n",
        "## 7.1 Sobre el conjunto de datos\n",
        "El conjunto de datos utilizado en este ejercicio fue obtenido del Repositorio de Aprendizaje de Máquinas UCI del Centro para Machine Learning e Inteligencia Artificial de la Universidad de California.\n",
        "\n",
        "Estos datos fueron recolectados por Jeffrey C. Schlimmer (Jeffrey.Schlimmer '@' a.gp.cs.cmu.edu), de las siguientes fuentes:\n",
        "\n",
        "*   1985 Model Import Car and Truck Specifications, 1985 Ward's Automotive Yearbook.\n",
        "*   Personal Auto Manuals, Insurance Services Office, 160 Water Street, New York, NY 10038.\n",
        "*Insurance Collision Report, Insurance Institute for Highway Safety, Watergate 600, Washington, DC 20037.\n",
        "\n",
        "**Atributos y sus rangos**:\n",
        "1. symboling: -3, -2, -1, 0, 1, 2, 3.\n",
        "2. normalized-losses: continuo de 65 a 256.\n",
        "3. make:\n",
        "alfa-romero, audi, bmw, chevrolet, dodge, honda,\n",
        "isuzu, jaguar, mazda, mercedes-benz, mercury,\n",
        "mitsubishi, nissan, peugot, plymouth, porsche,\n",
        "renault, saab, subaru, toyota, volkswagen, volvo\n",
        "\n",
        "4. fuel-type: diesel, gasolina.\n",
        "5. aspiration: std, turbo.\n",
        "6. num-of-doors: cuatro, dos.\n",
        "7. body-style:: techo duro, wagon, sedán, hatchback, descapotable.\n",
        "8. drive-wheels: 4x4, fwd, rwd.\n",
        "9. engine-location: delantero, trasero.\n",
        "10. wheel-base: continua de 86,6 a 120,9.\n",
        "11. lenght: continua de 141,1 a 208,1.\n",
        "12. width: continua de 60,3 a 72,3.\n",
        "13. height: continua de 47,8 a 59,8.\n",
        "14. curb-weigh: continuo de 1488 a 4066.\n",
        "15. engine-type: dohc, dohcv, l, ohc, ohcf, ohcv, rotor.\n",
        "16. num-of-cylinders: ocho, cinco, cuatro, seis, tres, doce, dos.\n",
        "17. engine-size: continuo de 61 a 326.\n",
        "18. fuel-system: 1bbl, 2bbl, 4bbl, idi, mfi, mpfi, spdi, spfi.\n",
        "19. bore: continuo de 2,54 a 3,94.\n",
        "20. stroke: continua de 2,07 a 4,17.\n",
        "21. compression-ratio: continua de 7 a 23.\n",
        "22. horsepower: continua de 48 a 288.\n",
        "23. peak-rpm: continua de 4.150 a 6.600 rpm.\n",
        "24. city-mpg: continuo de 13 a 49.\n",
        "25. highway-mpg: continuo de 16 a 54."
      ],
      "metadata": {
        "id": "HaVTloDvHZTr"
      }
    }
  ]
}