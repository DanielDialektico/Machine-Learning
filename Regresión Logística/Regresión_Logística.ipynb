{
  "nbformat": 4,
  "nbformat_minor": 0,
  "metadata": {
    "colab": {
      "provenance": [],
      "authorship_tag": "ABX9TyMtbYv1NEj4ouyhJSasx+1Z",
      "include_colab_link": true
    },
    "kernelspec": {
      "name": "python3",
      "display_name": "Python 3"
    },
    "language_info": {
      "name": "python"
    }
  },
  "cells": [
    {
      "cell_type": "markdown",
      "metadata": {
        "id": "view-in-github",
        "colab_type": "text"
      },
      "source": [
        "<a href=\"https://colab.research.google.com/github/DanielDialektico/Machine-Learning/blob/main/Regresi%C3%B3n%20Log%C3%ADstica/Regresi%C3%B3n_Log%C3%ADstica.ipynb\" target=\"_parent\"><img src=\"https://colab.research.google.com/assets/colab-badge.svg\" alt=\"Open In Colab\"/></a>"
      ]
    },
    {
      "cell_type": "markdown",
      "source": [
        "![MiniLogoW4.png](data:image/png;base64,iVBORw0KGgoAAAANSUhEUgAAASwAAABNCAYAAAAcolk+AAAACXBIWXMAAAsTAAALEwEAmpwYAAAVTElEQVR4nO2de3RU1b3HPztAkJCYF3ARhABBiCm5UsELNKah8mwrFolpveKFIBhYva1SkZVQpSILJChXoddyZUQeiqjENkG0XiFIXIAIgmDqrQiSRFFeYhJIeCXAvn+cmfFkMpM5ZzJnHmF/1ppFzp69z/kxj+/s/Tu//fsJKSUKhUIRDkQE2wCFQqEwihIshUIRNijBUigUYYMSLIVCETYowVIoFGFD22AboAgbugDjgcFAnJvnLwGfAy8D3wTMKsU1hVBhDQoDDAf+CGQCkV767gT+ArxmsU2KaxAlWApv9AHWAcNMjKkC/gW4bIlFimsW5cNSeGMa5sQKIAFtVqZQ+JUmPiwhRDDsUIQgUsqbgbv0bcuXL2fDhg1u+y9cuJD09HTH4RAhRIm1FiquBfSrwCZLwnARLClle6ATEBVsW1rIJeB7IcS5YBuiR0rZDs0X9aCj7dSpUyQnJ1NXV9ek/6xZs1iyZInjsAGIFUJcCIStitaNXqPC7i6hlLILMAnIoHUIVj1wWkpZCfxFCPHPINvjYBgwRt/w5JNPuhWrqVOn8swzz+ibXldipbACxwwrArgVuB+4AQj0NOscUAMcQ7vL9KmnGYeU8lFgId7vVoUjHwghhgfbCCllZ2A18EtH26FDh0hNTeXKlSuN+mZlZfHGG2/Qpk0bR9NpIUTngBmraPW4zrAigHuABcBNQbJJz7fAp1LKE0ApUCiEuAjOZWAGrVOsADKllB1DYHl4PzBS35Cfn99ErEaNGsX69ev1YnUB+K2nk9qXmdHNXLfe6P/dwLlMnU9hDPvrHo/22rfx0t0MDcBZ4Lzj++4OIaUcDKwnNMTKlfNACfAJ2q31aGAD0A/g6uXLXHazRAk3ImNj4Qff4d+BM810v4D99RBCNNfPI1LKaLQA0KEeutwHpDkOdu7cye23396ow9ChQ9m6dStRUY1W5DuBt13O9Y398Uu0z1jHZkyrB04Am4UQb3iw/Udody57ezmX/nyn0QJf23vp728a7NcuFUJsMjtYStkRGAiMRgsTicL/bpyraJ+pKmA7sF3/ubLbkAn8AuiM9hrGYaFgAXVoq633hBBbXJ3uzwEz/Xhhq9iL9uG709Fw4oMPeHfUqOBZ5CcmnjpFZFycmSENwGbgFU9fbHdIKbsBk9FmqbeifQm8jSE9PZ1du3Y52wYMGMD27duJM2ZzPVBt5Fo6aoHnhRB/dLHlTmAxkGriXKFAFdr/5wkjnaWUXdH8tJlogtXNOtMacRb4CDgC/A9wHTALuANNrALNKeAtYA3ajyFt0RzXTiZOnMg777xjqRVt2rQhJiaG6OhoOnToQI8ePejXrx833XQTgwYNIi0tTb/McDDYUqPCi3ZoM5YhgGHBQhOrBZiIv/vwww85duwYSUlJAHTu3JlNmzYZFSvQlu9mxAogBpgjpfzUIcj2mVU4ihVocWl/klLu9TbTklKmAIvQfpgDfVPserTZHGgidRW4OcA26OmCNpseCzwAbGmLy7Tu3LlznDnj00rDFFVVVc6/9+7d2+i5hIQExo8fT05ODhkZGZbbEsZ0klIOFUJ85K2jfWp/OyaDhdPT06msrPTRvBazmB8EeQbhKVZ6lgAeBcs+s1qEtmcz2PRv7skzZ840cob7g6ioKCIj3bqnbwRsQO+QDGuoqqpi1apVrFq1iiFDhrBs2TKGDBkSbLMsZ/fu3SxatMhrvzlz5uhfjz+h+Re80df+ALQP3LZt23wx0zSjR48mKioKm83G9OnTm+2bm5vLihUrHIeJ4Jxd3aHvN336dGw2m9drr1ixgtzcXHJzczl16pRP9reE3r1789xzzzkOk7x0n4TO5QFQX1/Pe++9x86dO/n222+pra31u42xsbEkJSWRnp7OiBEjaNu2qSy89dZbrFy5kj179nDy5Em/2+Cgffv2pKamMnbsWP7whz/QubNzJdoLuCckBUvP7t27GTZsGHPnzmXevHlhE9jqC8ePH2fjxo1e++Xk5OgPbzB4+iS0Nx2AiooK7r77bhPW+U5FRQW9evXy2s8dUsq2wEPoZlfl5eWGxKpPnz7k5uYCsHnzZr766iufbGgJt9xyi/7Qo9PffvftJ+iWgZ999hkTJkzg8OHD1hnoQkpKCkVFRaSkpDjb8vLyePrppwNy/UuXLrF//37279/P6tWr2bVrl/6z83RY7CWUUjJ//nweeeSRYJuiCDy3AY3urCxevNjQQN1MLRzohW4GdvXqVbKysgIqVgAHDx5kwoQJXL16FYAvvvgiYGLlyokTJ/S7JwC6hfwMS8/SpUsZMWIEd955p9e+vX/9a+L6N12GXzh5koMGfp0VIUEk8Hu0EAbA+OwqOzubkSNHeu0XQgwE/tVxUFZWxqFDh4JiyOeff05ZWRkDBw5s4l8ONB9//LH+sH2LBWvcuHHMnz/fUN/q6mqOHj3Knj172LhxI998Yz7P27x58wwJVp/f/Iae48Y1aa8qKzMtWGmzZzN44UJDfVe7dxoqfCMSl9lVfn6+oYEFBQVW2GMlMehuiNTU1ATPEt31GxoagmqH61awFgtWQkICAwcONDVm0qRJLF26lGXLljF79mxTdxv27dvHiRMn6Nq1q0lLFWGKM+ympKSEwsJCrwMKCgro06ePpUb5yFV/n7BDhw6e7qy5paGhgfPnz/vbDLKysrjxxhtNjdm0aRPl5eWmxgRtSdi2bVtmzZrFsWPHePbZZ02NLS8vV4IVIMaPH09mZmaLzpGQkOAXW4z4ruLj452Odj07duzg8mXv+QQ3b97s9U4maP6x0aNHe+3nIiYVXgeYZPny5a43YZqluLjYkpstv/vd7xg+fLipMZWVlSEhWKs9tHcEegApaHuRALjvvvtMC1Z9fb3PxinMkZmZycyZM4NtBiUlJZSUeE+vVVBQQHx8fJN2o7/+Xbp0MdzP5J3Py8AcMwMUTfG3YF0UQjzQXAcp5TCgEOgOkJiY6GcTFK0RI76rQYMGuc6uNgPJ9kcwqQWeFkJ4X8+2HmrctHVE26XhM2F1lzCQjHn3XeffMS7+kPd+/nPn372ysug/bZrbcZV//StfrFxpoZVB4WsTff2Sr8xms7Fv3z6v/Vwc7YeEEGMApJTJaFuZ3Dl7fgH8rIUmVqFFqLtSD5QJIUpbeH6jHBZC9NM3SCnzcW+blWx2vPYutqwH/r0lJ1aC5YFuI0Z4fO7Y1q3OvxNvvdXjuGPvv+9/w4LL10IIb9HaTqSUC9Gq7bQII76r3Nxc1zCG2Y4/hBBHgD+7G2cPTG2pYH2Ptjn/DiDW5blkKaU7p9EFtC92q/uQWIkSLEVIY7PZvDpm4+PjycvL0ze9KYR4y1LDGpMEvI75Td45Usq/o0qiGSYsIt0V1y5GZld5eXn6MIbzQohsS41qii8ZKbCPmYK2sVdhACVYipBl8eLFXmdXffr0cZ1dLbPUKGvohZfsCC2g2qLzBgW1JLTTf9o0emVluX3u2NatHv1R33/yCXsfe8x5rI+I7z9tGt3u+CHJgN5Zr2ie6upqQ7MrF0f7Mdekf4GkuLiYAwcOGO6fk5OjD42YaoFJAB8CX2AXxJSUFJ54wnseQV83q1uNEiw7kfHxHh3tx95/n380rgrzw3NbtzZywusFK6Z3b2J693Y3LFzpJKV0X5SwKZeAH/l6IZvNRnV185ODkSNHkp3daPVnbP+URRQXF7N27VrD/YcPH64XBkvie4QQ/5BS7kYnWPPmzbPiUgFBCZbCDFGA5f4ho7Mrl2wMe4QQyy0zygBr1qxhzZo1TdorKyspLS11HicmJnLXXXc16Wchb6IVFQlUqmXLUIKlCDny8/O9zq5yc3P1jvbLaCl0Q4ovv/ySBQsWsG7dukYVh1588cWA2mFPy7xJSnkH8F80n0MtFi2Xe0iiBEsRUpSXl3vdghMfH+/qu1onhPg/Sw0zwaFDh3jqqaeaCFWwscd8/bi5PlLKBcBjzfUJJkqwFM0yZ84cn3weaWlpbN++3fQ4I/sF8/Ly9PsFa4UQU0xfyCIefPBBXnrppUYZSNq1a9coTUt0tLdyigpPKMFSNMvFixe5eNFjXUuPWJF7HNyGMTznqW8w+O6775xilZyczOOPP87p06eZPdsZeO9M8x3snFfhiIrDUoQVLmJ1GdgfJFPcMnr0aJKTk1m9ejUHDx4kJyfHbVEHhW8owVKEFS53D9sCNillMIp8umXy5MlKqCxECZYirCgvL3cVrc7A40EypwkdO3ZUQmUh6pU1gD5a/VpjwIABJCebTyfV28eA2fj4eK8hDfn5+WRnZ+vDGh6UUr5mpKCsRdQCnwP/FqTrG0JK2R7vKX86NfNc0FGCZYBuI0Y0m26mNTN16tSAZhzNzs6mpKTE6x7C6dOns2XLFsdhB+BFIM1i8zxRhZat4RTajO8mtPL0IYGUsgtakdYMvAuWucTsAUYJliLkWLFiBaNGjWq2j6MghW5rzgAp5T1CiDctN7ApPdGS5HkslBpkJqFtWwr7kk7Kh6UwizTwuAR8C3znywVGjhzptpCEK24i4l8IkgNeYEKs2rVrUZZgU0gpo9ESC4a9WIESLIU5vhZCRBh4XCeEuBFtmeYTLsGhbnHjgE8EjBXJtAgpJTU1NdTU1His6XfdddrOFyvKbblhMOBMi9vQ0OC0r7mHkQpDwUAtCQ1QW1FBrcFyRNeqr8vfOAJEvRWfWLx4MdnZ2QwaNMjR9ICUsjBYqYfr6uqchX4XLFjQbOmrAFV/GoouueA777xjqMzXtm3bTJftCgRKsAzwxcqVHtPLuDJFlSDzG3l5eYZSJOfn5+sd8JHAC0A/zyOsIyYmhh07dgTj0tcEakmoCGlcUsi4paSkBJutUZbhm6SUOVbZ5IY6tCR5CotRgqUIadwk6XOLGwf881LKwZYZ1pgvgbHAq2jipbAItSQMfzpJKY1kgwvUl9fvFBQUUFjYfA3S6upq8vPz9TOyjsB/A8MsNg8AIUQlcD+AlPIZ4NFAXNeFtlJK1zsVHYNgR397PURXfM5A68DfgtXGzQsGml8hEegK/JoQCqprBdyIVknbCC19v82kSAYY0MLrAZoDvqCgwKsD3mazkZ2dra9POFhKOUoIsaW5ca2IroDr+9PHXUeLScKi4q3+Fqx2NH3BQItRSUB7QRvlrlYpNvxCoGJsApIi2R25ubmGHPDTp0/nyJEjjsO2wEopZX8hhPkcOQGmtraWmJiYlpyiA1oq5FaLFT6skW4eGWjTwSaJ9ouKikxfoE2bNi2zUBF2uMky6hY3sVk9gYetsstfvPDCC6SmpvLVV18F25SQJqg+rFdffZVFi8zPHLt3726BNeFDRUWFqXJSeiIjI0lNTfWvQdZyFOgBOJd73rKSOmKzdJujn5BSbhVC7LXWVN84cOAAM2fOJCMjgx49egTbHJ/YsWOH6dXS8ePHTV8nYIJVU1PD2bNnqaio4KOPPmLDhg188sknps/Tq1cv/QfxmuSRRx7xeWxSUhKVlZWG+z///PMUFxf7fD3Q7uCNHTvWl6F1aIVRn8a+GlixYoXX7BEOB/yGDU7vRAcC6IA3Q11dHffeey9xcXG88sorRESYW/RMmTKFKVOCnyF67ty5AblOiwVr7dq1pmqxtZRHHzV286W2ooKqsrIm7WcOHfK3Sa2aI0eO6H1CPpGTk9OS4S8DY4BR8EMEvLcyYIWFha6bowdLKccLIYpbYoy/mTFjBocPH2bz5s107do12OaEHJGRjd2zYRXWMGbMGGbMmGGo7x6DwubgH888YziavTlWR7aKPaYhgxDiOynlcuA2IA60CPjCwkJDEfA6wXJkJ90phPBpU7YJDG13WLt2LaWlpTz22GOMcNnS5W0fpdUkJGg38vv1C8qGASd9+/bVH54Nm8DRcePG8be//U053K9B7LMiZ+hGfHy8a253twQxO2kZ4LwrmZyczK9+9Svnw3EnsLS0lJ/+9Kc8+eSTTU6QlpZGSkpKAExtyoABA0hL01KLDR06lMzMzKDYERERwUMPPaRv+iDkBSsxMRGbzcbGjRuJimou75iilbMKzQEPaGEOungrj+Tn57vOxP7DpctZP9jmeo73gV2Og3HjxlFcXOx8dOnSBYBOnTrx2muvuf0RjoiIoKioiJtvvtkP5hnnlltuoaioyFnZJyIigrfffpuHH36YuLi4gNkxbNgwtmzZQkZGhqPpMjApZJeEt912G1OmTCEnJ4cOHToE25yA0LNnTyZPnmzpNTp1CukMuK44868IIT6SUr6AlogO0CLgBw/2HsDvJjupnj1AJdALjL8HPXv21B++oT+wL2PXo6VMbhJpfuHCBQBefvllunVzVo9vAAqALCAVICUlhbKyMrZt28bOnTs5evSoJYVZ27VrR1JSEhkZGWRkZDRx/EdHR7N06VKWLFnC4cOHOXnypCXxk1FRUVx//fX079/f3ZJ4A1AjpJQvoSvzPX78eDZu3Oh3YzwRGxtL9+7d6du3L3379mXQoEFkZmYaCl048cEHvOslM2U4MPHUKSID+OsVRqzRF0m1J+dbT8uCI/cIIYboG6SUr2DfVuMD9UIIt8n77PbmAQ8C1zvaDxw4wOuvv+4aVzZXCLFASjkObTYZ7F+WK8DXgG/J+f2HRBOrewGElPI/0YpRtgM4d+6cx8Rj/qR9+/ZmZk5ngaXAPrQPbEdQgtXKOSKE6OvaKKW8B3gJnQCYoA4Y6lrW3n7O5Wg+LjPUA68IIaY110lKeQPal+520EJ8oqOj9dV1ioQQE3T909BS5PzEpD3+4jTwWyFEoZRyPPBn7LFwAeQKWmGP3wOljkYhpYxFU/QJ7scFjStAOTBfCLEOmr7x9TU1VH36afAs9BNd0tOJ+OHDa+UWkivAGfu/gfwA1gI1Bq9ZB7zZXPl5H75El4BPgQdcxcrlvBOBxbjZkeHCeeB/hRATDV4fKaUNbablSpUQwu317N/Ne4CHgO5oy1l/+52vognv92g3NpYKIU56sOV24G6gLxDrZzsagGrgn2g/As4gTUclbdAEC+DHaIoezDJFl9Cqj3wGPIVOVV3w9Ma3Bqrw/mXxFx3RZaK0kHOA4wvg7Zr6vkYw8n8we06rGIqWMlq/IbwKbdvQuqBYFIYIvXqhbVD+Eb5Nt81wCW3aeRzzHyZ3b3xrQH14rw1uAFLQcmgd9dJX4YKrYIUTNwATsUdAhzH/BJ5FfXgVCq+Es2ApFIprjJAPHFUoFAoHSrAUCkXYoARLoVCEDUqwFApF2KAES6FQhA1KsBQKRdigBEuhUIQN/w9d/eJ1luqtZwAAAABJRU5ErkJggg==)"
      ],
      "metadata": {
        "id": "xPGjW3UrmTba"
      }
    },
    {
      "cell_type": "markdown",
      "source": [
        "**INTRODUCCIÓN A LA REGRESIÓN LOGÍSTICA 📊**"
      ],
      "metadata": {
        "id": "xrhztrCHms3B"
      }
    },
    {
      "cell_type": "markdown",
      "source": [
        "# 1. Introducción"
      ],
      "metadata": {
        "id": "Cmlh9L5rnAqS"
      }
    },
    {
      "cell_type": "markdown",
      "source": [
        "En esta práctica elaboraremos un modelo de **clasificación** aplicando una **regresión logística** a un conjunto datos de **Spotify**. Con ello podrás experimentar las diferencias entre algoritmos de **regresión** y **clasificación**, así como aprender la forma en que se ensamblan y operan este tipo de modelos en un entorno de programación."
      ],
      "metadata": {
        "id": "4CPT_wn0nGCk"
      }
    },
    {
      "cell_type": "markdown",
      "source": [
        "# 2. Objetivo"
      ],
      "metadata": {
        "id": "H6Nv942ToSnT"
      }
    },
    {
      "cell_type": "markdown",
      "source": [
        "Se plantea el siguiente caso: se nos ha entregado un conjunto de datos de canciones obtenido directamente de la base de datos de **Spotify**, el cual consta de 500 elementos con las siguientes **características** de cada pista: bailabilidad, energía,\tacústica,\tduración,\tinstrumentalidad,\tsonoridad,\ttempo,\tdiscursividad, y género.\n",
        "Estas métricas son creaciones propias de la compañía, y el equipo de ingeniería desea saber específicamente si los valores de las variables **bailabilidad** y **energía** son significativas al grado de poder ser un factor de diferenciación entre distintos géneros musicales.\n"
      ],
      "metadata": {
        "id": "RtlCn207ob6j"
      }
    },
    {
      "cell_type": "markdown",
      "source": [
        "Las tareas a realizar son las siguientes:\n",
        "\n",
        "\n",
        "*  Elaborar un **modelo** de **machine learning** que pueda clasificar canciones en los géneros **black metal** y **reggaeton** de acuerdo con su grado de bailabilidad, y mostrar cuál es valor del límite de decisión.\n",
        "*  Crear un modelo que, dado el valor de bailabilidad y energía de una canción, logre clasificar canciones en los mismos dos géneros.\n",
        "*  Crear modelo idéntico al segundo, pero añadiendo el género **salsa** a las clases.\n"
      ],
      "metadata": {
        "id": "PbqaaDlP1UJ7"
      }
    },
    {
      "cell_type": "markdown",
      "source": [
        "**Nota:** la bailabilidad está definida como qué tan **bailable** es una canción respecto a algunos elementos como tempo, estabilidad del ritmo, fuerza del ritmo, entre otros. La **energía**, por otro lado, es una medida perceptiva de intensidad y actividad en la canción. Como se ha mencionado, estas son métricas reales inventadas por Spotify, para más contexto sobre el conjunto de datos y sus atributos, revísese el **apéndice** al final."
      ],
      "metadata": {
        "id": "r04TOcm01V4S"
      }
    },
    {
      "cell_type": "markdown",
      "source": [
        "# 3. Carga y exploración de datos"
      ],
      "metadata": {
        "id": "54cNG_SYqdOm"
      }
    },
    {
      "cell_type": "markdown",
      "source": [
        "Comenzaremos explorando el conjunto de datos, el cual se extraerá desde un repositorio de [GitHub](https://github.com/DanielDialektico/Machine-Learning/tree/main); además, cargaremos las librerías necesarias para nuestro espacio de trabajo."
      ],
      "metadata": {
        "id": "8rSIRgt1qflS"
      }
    },
    {
      "cell_type": "code",
      "execution_count": null,
      "metadata": {
        "colab": {
          "base_uri": "https://localhost:8080/",
          "height": 424
        },
        "id": "brirRtxwmOPa",
        "outputId": "4bd27a90-bfb5-446b-9cad-77ae02d81f2d"
      },
      "outputs": [
        {
          "output_type": "execute_result",
          "data": {
            "text/plain": [
              "                                Nombre  Bailabilidad  Energía  Acústica  \\\n",
              "0         Oceans (Where Feet May Fail)         0.262    0.361  0.508000   \n",
              "1                What A Beautiful Name         0.424    0.506  0.201000   \n",
              "2            So Will I (100 Billion X)         0.431    0.416  0.046200   \n",
              "3                       God Only Knows         0.597    0.417  0.395000   \n",
              "4    Who You Say I Am - Studio Version         0.376    0.650  0.004060   \n",
              "..                                 ...           ...      ...       ...   \n",
              "495                        Blue Monday         0.589    0.696  0.000087   \n",
              "496            Praise You - Radio Edit         0.621    0.885  0.041800   \n",
              "497                                 #3         0.159    0.071  0.911000   \n",
              "498            Coming Back (feat. SZA)         0.653    0.496  0.625000   \n",
              "499                        Assumptions         0.639    0.815  0.123000   \n",
              "\n",
              "     Duración (ms)  Instrumentalidad  Sonoridad    Tempo  Discursividad  \\\n",
              "0           535963          0.002680    -10.187  126.786         0.0333   \n",
              "1           238200          0.000000     -5.877  135.902         0.0284   \n",
              "2           411000          0.000002    -10.376  127.964         0.0296   \n",
              "3           229760          0.000008     -7.952  143.839         0.0502   \n",
              "4           198705          0.000000     -8.147  171.907         0.0406   \n",
              "..             ...               ...        ...      ...            ...   \n",
              "495         267000          0.000034     -8.109  129.833         0.0340   \n",
              "496         227973          0.492000     -6.826  109.728         0.0473   \n",
              "497         464293          0.856000    -27.109  146.977         0.0409   \n",
              "498         195905          0.274000     -7.262   86.013         0.0868   \n",
              "499         220838          0.001130     -4.718  126.055         0.2210   \n",
              "\n",
              "          Género  \n",
              "0    world-music  \n",
              "1    world-music  \n",
              "2    world-music  \n",
              "3    world-music  \n",
              "4    world-music  \n",
              "..           ...  \n",
              "495   electronic  \n",
              "496   electronic  \n",
              "497   electronic  \n",
              "498   electronic  \n",
              "499   electronic  \n",
              "\n",
              "[500 rows x 10 columns]"
            ],
            "text/html": [
              "\n",
              "  <div id=\"df-ad9ab973-d975-4142-86fa-53aabcdb82fe\">\n",
              "    <div class=\"colab-df-container\">\n",
              "      <div>\n",
              "<style scoped>\n",
              "    .dataframe tbody tr th:only-of-type {\n",
              "        vertical-align: middle;\n",
              "    }\n",
              "\n",
              "    .dataframe tbody tr th {\n",
              "        vertical-align: top;\n",
              "    }\n",
              "\n",
              "    .dataframe thead th {\n",
              "        text-align: right;\n",
              "    }\n",
              "</style>\n",
              "<table border=\"1\" class=\"dataframe\">\n",
              "  <thead>\n",
              "    <tr style=\"text-align: right;\">\n",
              "      <th></th>\n",
              "      <th>Nombre</th>\n",
              "      <th>Bailabilidad</th>\n",
              "      <th>Energía</th>\n",
              "      <th>Acústica</th>\n",
              "      <th>Duración (ms)</th>\n",
              "      <th>Instrumentalidad</th>\n",
              "      <th>Sonoridad</th>\n",
              "      <th>Tempo</th>\n",
              "      <th>Discursividad</th>\n",
              "      <th>Género</th>\n",
              "    </tr>\n",
              "  </thead>\n",
              "  <tbody>\n",
              "    <tr>\n",
              "      <th>0</th>\n",
              "      <td>Oceans (Where Feet May Fail)</td>\n",
              "      <td>0.262</td>\n",
              "      <td>0.361</td>\n",
              "      <td>0.508000</td>\n",
              "      <td>535963</td>\n",
              "      <td>0.002680</td>\n",
              "      <td>-10.187</td>\n",
              "      <td>126.786</td>\n",
              "      <td>0.0333</td>\n",
              "      <td>world-music</td>\n",
              "    </tr>\n",
              "    <tr>\n",
              "      <th>1</th>\n",
              "      <td>What A Beautiful Name</td>\n",
              "      <td>0.424</td>\n",
              "      <td>0.506</td>\n",
              "      <td>0.201000</td>\n",
              "      <td>238200</td>\n",
              "      <td>0.000000</td>\n",
              "      <td>-5.877</td>\n",
              "      <td>135.902</td>\n",
              "      <td>0.0284</td>\n",
              "      <td>world-music</td>\n",
              "    </tr>\n",
              "    <tr>\n",
              "      <th>2</th>\n",
              "      <td>So Will I (100 Billion X)</td>\n",
              "      <td>0.431</td>\n",
              "      <td>0.416</td>\n",
              "      <td>0.046200</td>\n",
              "      <td>411000</td>\n",
              "      <td>0.000002</td>\n",
              "      <td>-10.376</td>\n",
              "      <td>127.964</td>\n",
              "      <td>0.0296</td>\n",
              "      <td>world-music</td>\n",
              "    </tr>\n",
              "    <tr>\n",
              "      <th>3</th>\n",
              "      <td>God Only Knows</td>\n",
              "      <td>0.597</td>\n",
              "      <td>0.417</td>\n",
              "      <td>0.395000</td>\n",
              "      <td>229760</td>\n",
              "      <td>0.000008</td>\n",
              "      <td>-7.952</td>\n",
              "      <td>143.839</td>\n",
              "      <td>0.0502</td>\n",
              "      <td>world-music</td>\n",
              "    </tr>\n",
              "    <tr>\n",
              "      <th>4</th>\n",
              "      <td>Who You Say I Am - Studio Version</td>\n",
              "      <td>0.376</td>\n",
              "      <td>0.650</td>\n",
              "      <td>0.004060</td>\n",
              "      <td>198705</td>\n",
              "      <td>0.000000</td>\n",
              "      <td>-8.147</td>\n",
              "      <td>171.907</td>\n",
              "      <td>0.0406</td>\n",
              "      <td>world-music</td>\n",
              "    </tr>\n",
              "    <tr>\n",
              "      <th>...</th>\n",
              "      <td>...</td>\n",
              "      <td>...</td>\n",
              "      <td>...</td>\n",
              "      <td>...</td>\n",
              "      <td>...</td>\n",
              "      <td>...</td>\n",
              "      <td>...</td>\n",
              "      <td>...</td>\n",
              "      <td>...</td>\n",
              "      <td>...</td>\n",
              "    </tr>\n",
              "    <tr>\n",
              "      <th>495</th>\n",
              "      <td>Blue Monday</td>\n",
              "      <td>0.589</td>\n",
              "      <td>0.696</td>\n",
              "      <td>0.000087</td>\n",
              "      <td>267000</td>\n",
              "      <td>0.000034</td>\n",
              "      <td>-8.109</td>\n",
              "      <td>129.833</td>\n",
              "      <td>0.0340</td>\n",
              "      <td>electronic</td>\n",
              "    </tr>\n",
              "    <tr>\n",
              "      <th>496</th>\n",
              "      <td>Praise You - Radio Edit</td>\n",
              "      <td>0.621</td>\n",
              "      <td>0.885</td>\n",
              "      <td>0.041800</td>\n",
              "      <td>227973</td>\n",
              "      <td>0.492000</td>\n",
              "      <td>-6.826</td>\n",
              "      <td>109.728</td>\n",
              "      <td>0.0473</td>\n",
              "      <td>electronic</td>\n",
              "    </tr>\n",
              "    <tr>\n",
              "      <th>497</th>\n",
              "      <td>#3</td>\n",
              "      <td>0.159</td>\n",
              "      <td>0.071</td>\n",
              "      <td>0.911000</td>\n",
              "      <td>464293</td>\n",
              "      <td>0.856000</td>\n",
              "      <td>-27.109</td>\n",
              "      <td>146.977</td>\n",
              "      <td>0.0409</td>\n",
              "      <td>electronic</td>\n",
              "    </tr>\n",
              "    <tr>\n",
              "      <th>498</th>\n",
              "      <td>Coming Back (feat. SZA)</td>\n",
              "      <td>0.653</td>\n",
              "      <td>0.496</td>\n",
              "      <td>0.625000</td>\n",
              "      <td>195905</td>\n",
              "      <td>0.274000</td>\n",
              "      <td>-7.262</td>\n",
              "      <td>86.013</td>\n",
              "      <td>0.0868</td>\n",
              "      <td>electronic</td>\n",
              "    </tr>\n",
              "    <tr>\n",
              "      <th>499</th>\n",
              "      <td>Assumptions</td>\n",
              "      <td>0.639</td>\n",
              "      <td>0.815</td>\n",
              "      <td>0.123000</td>\n",
              "      <td>220838</td>\n",
              "      <td>0.001130</td>\n",
              "      <td>-4.718</td>\n",
              "      <td>126.055</td>\n",
              "      <td>0.2210</td>\n",
              "      <td>electronic</td>\n",
              "    </tr>\n",
              "  </tbody>\n",
              "</table>\n",
              "<p>500 rows × 10 columns</p>\n",
              "</div>\n",
              "      <button class=\"colab-df-convert\" onclick=\"convertToInteractive('df-ad9ab973-d975-4142-86fa-53aabcdb82fe')\"\n",
              "              title=\"Convert this dataframe to an interactive table.\"\n",
              "              style=\"display:none;\">\n",
              "        \n",
              "  <svg xmlns=\"http://www.w3.org/2000/svg\" height=\"24px\"viewBox=\"0 0 24 24\"\n",
              "       width=\"24px\">\n",
              "    <path d=\"M0 0h24v24H0V0z\" fill=\"none\"/>\n",
              "    <path d=\"M18.56 5.44l.94 2.06.94-2.06 2.06-.94-2.06-.94-.94-2.06-.94 2.06-2.06.94zm-11 1L8.5 8.5l.94-2.06 2.06-.94-2.06-.94L8.5 2.5l-.94 2.06-2.06.94zm10 10l.94 2.06.94-2.06 2.06-.94-2.06-.94-.94-2.06-.94 2.06-2.06.94z\"/><path d=\"M17.41 7.96l-1.37-1.37c-.4-.4-.92-.59-1.43-.59-.52 0-1.04.2-1.43.59L10.3 9.45l-7.72 7.72c-.78.78-.78 2.05 0 2.83L4 21.41c.39.39.9.59 1.41.59.51 0 1.02-.2 1.41-.59l7.78-7.78 2.81-2.81c.8-.78.8-2.07 0-2.86zM5.41 20L4 18.59l7.72-7.72 1.47 1.35L5.41 20z\"/>\n",
              "  </svg>\n",
              "      </button>\n",
              "      \n",
              "  <style>\n",
              "    .colab-df-container {\n",
              "      display:flex;\n",
              "      flex-wrap:wrap;\n",
              "      gap: 12px;\n",
              "    }\n",
              "\n",
              "    .colab-df-convert {\n",
              "      background-color: #E8F0FE;\n",
              "      border: none;\n",
              "      border-radius: 50%;\n",
              "      cursor: pointer;\n",
              "      display: none;\n",
              "      fill: #1967D2;\n",
              "      height: 32px;\n",
              "      padding: 0 0 0 0;\n",
              "      width: 32px;\n",
              "    }\n",
              "\n",
              "    .colab-df-convert:hover {\n",
              "      background-color: #E2EBFA;\n",
              "      box-shadow: 0px 1px 2px rgba(60, 64, 67, 0.3), 0px 1px 3px 1px rgba(60, 64, 67, 0.15);\n",
              "      fill: #174EA6;\n",
              "    }\n",
              "\n",
              "    [theme=dark] .colab-df-convert {\n",
              "      background-color: #3B4455;\n",
              "      fill: #D2E3FC;\n",
              "    }\n",
              "\n",
              "    [theme=dark] .colab-df-convert:hover {\n",
              "      background-color: #434B5C;\n",
              "      box-shadow: 0px 1px 3px 1px rgba(0, 0, 0, 0.15);\n",
              "      filter: drop-shadow(0px 1px 2px rgba(0, 0, 0, 0.3));\n",
              "      fill: #FFFFFF;\n",
              "    }\n",
              "  </style>\n",
              "\n",
              "      <script>\n",
              "        const buttonEl =\n",
              "          document.querySelector('#df-ad9ab973-d975-4142-86fa-53aabcdb82fe button.colab-df-convert');\n",
              "        buttonEl.style.display =\n",
              "          google.colab.kernel.accessAllowed ? 'block' : 'none';\n",
              "\n",
              "        async function convertToInteractive(key) {\n",
              "          const element = document.querySelector('#df-ad9ab973-d975-4142-86fa-53aabcdb82fe');\n",
              "          const dataTable =\n",
              "            await google.colab.kernel.invokeFunction('convertToInteractive',\n",
              "                                                     [key], {});\n",
              "          if (!dataTable) return;\n",
              "\n",
              "          const docLinkHtml = 'Like what you see? Visit the ' +\n",
              "            '<a target=\"_blank\" href=https://colab.research.google.com/notebooks/data_table.ipynb>data table notebook</a>'\n",
              "            + ' to learn more about interactive tables.';\n",
              "          element.innerHTML = '';\n",
              "          dataTable['output_type'] = 'display_data';\n",
              "          await google.colab.output.renderOutput(dataTable, element);\n",
              "          const docLink = document.createElement('div');\n",
              "          docLink.innerHTML = docLinkHtml;\n",
              "          element.appendChild(docLink);\n",
              "        }\n",
              "      </script>\n",
              "    </div>\n",
              "  </div>\n",
              "  "
            ]
          },
          "metadata": {},
          "execution_count": 1
        }
      ],
      "source": [
        "# Se cargan las librerías\n",
        "import pandas as pd\n",
        "import sklearn\n",
        "from sklearn import preprocessing\n",
        "from sklearn.metrics import classification_report\n",
        "from sklearn.linear_model import LogisticRegression\n",
        "from sklearn.model_selection import train_test_split\n",
        "import matplotlib.pyplot as plt\n",
        "import matplotlib.lines as mlines\n",
        "import numpy as np\n",
        "import warnings\n",
        "\n",
        "# Se filtran las advertencias.\n",
        "warnings.filterwarnings('ignore')\n",
        "\n",
        "# Se define el estilo de las gráficas.\n",
        "plt.style.use('seaborn-v0_8-whitegrid')\n",
        "\n",
        "# Se carga el conjunto de datos desde un repositorio de GitHub.\n",
        "dataset = pd.read_csv('https://raw.githubusercontent.com/DanielDialektico/Machine-Learning/main/Conjuntos%20de%20datos/Spotify_genres.csv')\n",
        "\n",
        "# Se imprime el conjunto de datos.\n",
        "dataset"
      ]
    },
    {
      "cell_type": "markdown",
      "source": [
        "Para una exploración más detallada, procederemos a mostrar algunas estadísticas y resúmenes sobre los datos utilizando las funciones describe() e info() de [Pandas](https://pandas.pydata.org/):"
      ],
      "metadata": {
        "id": "BZV4M9Zys_bL"
      }
    },
    {
      "cell_type": "code",
      "source": [
        "# Se imprimen estadísticas de cada variable.\n",
        "dataset.describe()"
      ],
      "metadata": {
        "colab": {
          "base_uri": "https://localhost:8080/",
          "height": 300
        },
        "id": "E6FD-EPGtfbR",
        "outputId": "9b141e02-fbd8-4bc8-9f56-2da1e71276c3"
      },
      "execution_count": null,
      "outputs": [
        {
          "output_type": "execute_result",
          "data": {
            "text/plain": [
              "       Bailabilidad     Energía    Acústica  Duración (ms)  Instrumentalidad  \\\n",
              "count    500.000000  500.000000  500.000000     500.000000        500.000000   \n",
              "mean       0.626770    0.664207    0.227265  230351.806000          0.070762   \n",
              "std        0.183871    0.177095    0.245249   76522.269259          0.212675   \n",
              "min        0.100000    0.022300    0.000002   87467.000000          0.000000   \n",
              "25%        0.511750    0.556250    0.019475  180930.000000          0.000000   \n",
              "50%        0.643500    0.682500    0.130000  210973.000000          0.000008   \n",
              "75%        0.784500    0.796250    0.396250  262120.250000          0.000991   \n",
              "max        0.964000    0.991000    0.996000  626880.000000          0.951000   \n",
              "\n",
              "        Sonoridad       Tempo  Discursividad  \n",
              "count  500.000000  500.000000     500.000000  \n",
              "mean    -6.642706  121.479746       0.090544  \n",
              "std      3.149834   28.625996       0.082288  \n",
              "min    -30.016000   54.669000       0.025400  \n",
              "25%     -8.118500   96.989500       0.039275  \n",
              "50%     -6.133500  120.018000       0.055900  \n",
              "75%     -4.417500  139.371750       0.106000  \n",
              "max     -1.215000  196.120000       0.530000  "
            ],
            "text/html": [
              "\n",
              "  <div id=\"df-4e0fdb30-d8a1-4cc1-adcb-f61a48a2ae05\">\n",
              "    <div class=\"colab-df-container\">\n",
              "      <div>\n",
              "<style scoped>\n",
              "    .dataframe tbody tr th:only-of-type {\n",
              "        vertical-align: middle;\n",
              "    }\n",
              "\n",
              "    .dataframe tbody tr th {\n",
              "        vertical-align: top;\n",
              "    }\n",
              "\n",
              "    .dataframe thead th {\n",
              "        text-align: right;\n",
              "    }\n",
              "</style>\n",
              "<table border=\"1\" class=\"dataframe\">\n",
              "  <thead>\n",
              "    <tr style=\"text-align: right;\">\n",
              "      <th></th>\n",
              "      <th>Bailabilidad</th>\n",
              "      <th>Energía</th>\n",
              "      <th>Acústica</th>\n",
              "      <th>Duración (ms)</th>\n",
              "      <th>Instrumentalidad</th>\n",
              "      <th>Sonoridad</th>\n",
              "      <th>Tempo</th>\n",
              "      <th>Discursividad</th>\n",
              "    </tr>\n",
              "  </thead>\n",
              "  <tbody>\n",
              "    <tr>\n",
              "      <th>count</th>\n",
              "      <td>500.000000</td>\n",
              "      <td>500.000000</td>\n",
              "      <td>500.000000</td>\n",
              "      <td>500.000000</td>\n",
              "      <td>500.000000</td>\n",
              "      <td>500.000000</td>\n",
              "      <td>500.000000</td>\n",
              "      <td>500.000000</td>\n",
              "    </tr>\n",
              "    <tr>\n",
              "      <th>mean</th>\n",
              "      <td>0.626770</td>\n",
              "      <td>0.664207</td>\n",
              "      <td>0.227265</td>\n",
              "      <td>230351.806000</td>\n",
              "      <td>0.070762</td>\n",
              "      <td>-6.642706</td>\n",
              "      <td>121.479746</td>\n",
              "      <td>0.090544</td>\n",
              "    </tr>\n",
              "    <tr>\n",
              "      <th>std</th>\n",
              "      <td>0.183871</td>\n",
              "      <td>0.177095</td>\n",
              "      <td>0.245249</td>\n",
              "      <td>76522.269259</td>\n",
              "      <td>0.212675</td>\n",
              "      <td>3.149834</td>\n",
              "      <td>28.625996</td>\n",
              "      <td>0.082288</td>\n",
              "    </tr>\n",
              "    <tr>\n",
              "      <th>min</th>\n",
              "      <td>0.100000</td>\n",
              "      <td>0.022300</td>\n",
              "      <td>0.000002</td>\n",
              "      <td>87467.000000</td>\n",
              "      <td>0.000000</td>\n",
              "      <td>-30.016000</td>\n",
              "      <td>54.669000</td>\n",
              "      <td>0.025400</td>\n",
              "    </tr>\n",
              "    <tr>\n",
              "      <th>25%</th>\n",
              "      <td>0.511750</td>\n",
              "      <td>0.556250</td>\n",
              "      <td>0.019475</td>\n",
              "      <td>180930.000000</td>\n",
              "      <td>0.000000</td>\n",
              "      <td>-8.118500</td>\n",
              "      <td>96.989500</td>\n",
              "      <td>0.039275</td>\n",
              "    </tr>\n",
              "    <tr>\n",
              "      <th>50%</th>\n",
              "      <td>0.643500</td>\n",
              "      <td>0.682500</td>\n",
              "      <td>0.130000</td>\n",
              "      <td>210973.000000</td>\n",
              "      <td>0.000008</td>\n",
              "      <td>-6.133500</td>\n",
              "      <td>120.018000</td>\n",
              "      <td>0.055900</td>\n",
              "    </tr>\n",
              "    <tr>\n",
              "      <th>75%</th>\n",
              "      <td>0.784500</td>\n",
              "      <td>0.796250</td>\n",
              "      <td>0.396250</td>\n",
              "      <td>262120.250000</td>\n",
              "      <td>0.000991</td>\n",
              "      <td>-4.417500</td>\n",
              "      <td>139.371750</td>\n",
              "      <td>0.106000</td>\n",
              "    </tr>\n",
              "    <tr>\n",
              "      <th>max</th>\n",
              "      <td>0.964000</td>\n",
              "      <td>0.991000</td>\n",
              "      <td>0.996000</td>\n",
              "      <td>626880.000000</td>\n",
              "      <td>0.951000</td>\n",
              "      <td>-1.215000</td>\n",
              "      <td>196.120000</td>\n",
              "      <td>0.530000</td>\n",
              "    </tr>\n",
              "  </tbody>\n",
              "</table>\n",
              "</div>\n",
              "      <button class=\"colab-df-convert\" onclick=\"convertToInteractive('df-4e0fdb30-d8a1-4cc1-adcb-f61a48a2ae05')\"\n",
              "              title=\"Convert this dataframe to an interactive table.\"\n",
              "              style=\"display:none;\">\n",
              "        \n",
              "  <svg xmlns=\"http://www.w3.org/2000/svg\" height=\"24px\"viewBox=\"0 0 24 24\"\n",
              "       width=\"24px\">\n",
              "    <path d=\"M0 0h24v24H0V0z\" fill=\"none\"/>\n",
              "    <path d=\"M18.56 5.44l.94 2.06.94-2.06 2.06-.94-2.06-.94-.94-2.06-.94 2.06-2.06.94zm-11 1L8.5 8.5l.94-2.06 2.06-.94-2.06-.94L8.5 2.5l-.94 2.06-2.06.94zm10 10l.94 2.06.94-2.06 2.06-.94-2.06-.94-.94-2.06-.94 2.06-2.06.94z\"/><path d=\"M17.41 7.96l-1.37-1.37c-.4-.4-.92-.59-1.43-.59-.52 0-1.04.2-1.43.59L10.3 9.45l-7.72 7.72c-.78.78-.78 2.05 0 2.83L4 21.41c.39.39.9.59 1.41.59.51 0 1.02-.2 1.41-.59l7.78-7.78 2.81-2.81c.8-.78.8-2.07 0-2.86zM5.41 20L4 18.59l7.72-7.72 1.47 1.35L5.41 20z\"/>\n",
              "  </svg>\n",
              "      </button>\n",
              "      \n",
              "  <style>\n",
              "    .colab-df-container {\n",
              "      display:flex;\n",
              "      flex-wrap:wrap;\n",
              "      gap: 12px;\n",
              "    }\n",
              "\n",
              "    .colab-df-convert {\n",
              "      background-color: #E8F0FE;\n",
              "      border: none;\n",
              "      border-radius: 50%;\n",
              "      cursor: pointer;\n",
              "      display: none;\n",
              "      fill: #1967D2;\n",
              "      height: 32px;\n",
              "      padding: 0 0 0 0;\n",
              "      width: 32px;\n",
              "    }\n",
              "\n",
              "    .colab-df-convert:hover {\n",
              "      background-color: #E2EBFA;\n",
              "      box-shadow: 0px 1px 2px rgba(60, 64, 67, 0.3), 0px 1px 3px 1px rgba(60, 64, 67, 0.15);\n",
              "      fill: #174EA6;\n",
              "    }\n",
              "\n",
              "    [theme=dark] .colab-df-convert {\n",
              "      background-color: #3B4455;\n",
              "      fill: #D2E3FC;\n",
              "    }\n",
              "\n",
              "    [theme=dark] .colab-df-convert:hover {\n",
              "      background-color: #434B5C;\n",
              "      box-shadow: 0px 1px 3px 1px rgba(0, 0, 0, 0.15);\n",
              "      filter: drop-shadow(0px 1px 2px rgba(0, 0, 0, 0.3));\n",
              "      fill: #FFFFFF;\n",
              "    }\n",
              "  </style>\n",
              "\n",
              "      <script>\n",
              "        const buttonEl =\n",
              "          document.querySelector('#df-4e0fdb30-d8a1-4cc1-adcb-f61a48a2ae05 button.colab-df-convert');\n",
              "        buttonEl.style.display =\n",
              "          google.colab.kernel.accessAllowed ? 'block' : 'none';\n",
              "\n",
              "        async function convertToInteractive(key) {\n",
              "          const element = document.querySelector('#df-4e0fdb30-d8a1-4cc1-adcb-f61a48a2ae05');\n",
              "          const dataTable =\n",
              "            await google.colab.kernel.invokeFunction('convertToInteractive',\n",
              "                                                     [key], {});\n",
              "          if (!dataTable) return;\n",
              "\n",
              "          const docLinkHtml = 'Like what you see? Visit the ' +\n",
              "            '<a target=\"_blank\" href=https://colab.research.google.com/notebooks/data_table.ipynb>data table notebook</a>'\n",
              "            + ' to learn more about interactive tables.';\n",
              "          element.innerHTML = '';\n",
              "          dataTable['output_type'] = 'display_data';\n",
              "          await google.colab.output.renderOutput(dataTable, element);\n",
              "          const docLink = document.createElement('div');\n",
              "          docLink.innerHTML = docLinkHtml;\n",
              "          element.appendChild(docLink);\n",
              "        }\n",
              "      </script>\n",
              "    </div>\n",
              "  </div>\n",
              "  "
            ]
          },
          "metadata": {},
          "execution_count": 2
        }
      ]
    },
    {
      "cell_type": "code",
      "source": [
        "# Se imprime información sobre tipos de datos de cada variable, entre otras características.\n",
        "dataset.info()"
      ],
      "metadata": {
        "colab": {
          "base_uri": "https://localhost:8080/"
        },
        "id": "qtrcDu3os7oy",
        "outputId": "2ee8d078-2b3c-40f6-c0b6-29f3efd2c526"
      },
      "execution_count": null,
      "outputs": [
        {
          "output_type": "stream",
          "name": "stdout",
          "text": [
            "<class 'pandas.core.frame.DataFrame'>\n",
            "RangeIndex: 500 entries, 0 to 499\n",
            "Data columns (total 10 columns):\n",
            " #   Column            Non-Null Count  Dtype  \n",
            "---  ------            --------------  -----  \n",
            " 0   Nombre            500 non-null    object \n",
            " 1   Bailabilidad      500 non-null    float64\n",
            " 2   Energía           500 non-null    float64\n",
            " 3   Acústica          500 non-null    float64\n",
            " 4   Duración (ms)     500 non-null    int64  \n",
            " 5   Instrumentalidad  500 non-null    float64\n",
            " 6   Sonoridad         500 non-null    float64\n",
            " 7   Tempo             500 non-null    float64\n",
            " 8   Discursividad     500 non-null    float64\n",
            " 9   Género            500 non-null    object \n",
            "dtypes: float64(7), int64(1), object(2)\n",
            "memory usage: 39.2+ KB\n"
          ]
        }
      ]
    },
    {
      "cell_type": "markdown",
      "source": [
        "A partir de esto, podemos inferir que cada **atributo** tiene sus tipos de datos correctamente definidos, y no contamos con valores nulos. Sin embargo, aún hacen falta algunas adecuaciones."
      ],
      "metadata": {
        "id": "5FFnDjYPuZz9"
      }
    },
    {
      "cell_type": "markdown",
      "source": [
        "# 4. Preprocesamiento de datos"
      ],
      "metadata": {
        "id": "xY6QefLwulFa"
      }
    },
    {
      "cell_type": "markdown",
      "source": [
        "Una vez realizada la breve **exploración** de los datos, procedemos a ejecutar las etapas de **preprocesamiento**, que serán las siguientes:\n",
        "\n",
        "*   **Limpieza de datos**: se delimitará el conjunto de datos solo a los atributos de interés (bailabilidad y energía) eliminando las columnas sobrantes; se tomarán solo los renglones etiquetados con los géneros a utilizar (black metal, reggaeton y salsa), y por último se removerán las canciones repetidas. \n",
        "*   **Transformación de datos**: se transformará la variable categórica \"Género\" a tipo numérico.\n"
      ],
      "metadata": {
        "id": "O-Dbant7uoBy"
      }
    },
    {
      "cell_type": "markdown",
      "source": [
        "## 4.1 Limpieza y transformación del conjunto de datos "
      ],
      "metadata": {
        "id": "NwzBeAT4wODD"
      }
    },
    {
      "cell_type": "markdown",
      "source": [
        "Comenzaremos el preprocesamiento tomando solo las **columnas** correspondientes a las **variables** que deseamos procesar como características de entrada para el modelo:"
      ],
      "metadata": {
        "id": "ScJ9n-N9wZNr"
      }
    },
    {
      "cell_type": "code",
      "source": [
        "# Se filtran solo las columnas deseadas.\n",
        "reduc_dataset = dataset.iloc[0:,[0,1,2,-1]]\n",
        "\n",
        "# Se imprime el conjunto de datos.\n",
        "reduc_dataset"
      ],
      "metadata": {
        "colab": {
          "base_uri": "https://localhost:8080/",
          "height": 424
        },
        "id": "1WF9KpMjtanE",
        "outputId": "1fce40c2-105b-4f1a-9ff5-ae77011a0d43"
      },
      "execution_count": null,
      "outputs": [
        {
          "output_type": "execute_result",
          "data": {
            "text/plain": [
              "                                Nombre  Bailabilidad  Energía       Género\n",
              "0         Oceans (Where Feet May Fail)         0.262    0.361  world-music\n",
              "1                What A Beautiful Name         0.424    0.506  world-music\n",
              "2            So Will I (100 Billion X)         0.431    0.416  world-music\n",
              "3                       God Only Knows         0.597    0.417  world-music\n",
              "4    Who You Say I Am - Studio Version         0.376    0.650  world-music\n",
              "..                                 ...           ...      ...          ...\n",
              "495                        Blue Monday         0.589    0.696   electronic\n",
              "496            Praise You - Radio Edit         0.621    0.885   electronic\n",
              "497                                 #3         0.159    0.071   electronic\n",
              "498            Coming Back (feat. SZA)         0.653    0.496   electronic\n",
              "499                        Assumptions         0.639    0.815   electronic\n",
              "\n",
              "[500 rows x 4 columns]"
            ],
            "text/html": [
              "\n",
              "  <div id=\"df-fefe29c9-d86d-4154-950f-7fc62247845f\">\n",
              "    <div class=\"colab-df-container\">\n",
              "      <div>\n",
              "<style scoped>\n",
              "    .dataframe tbody tr th:only-of-type {\n",
              "        vertical-align: middle;\n",
              "    }\n",
              "\n",
              "    .dataframe tbody tr th {\n",
              "        vertical-align: top;\n",
              "    }\n",
              "\n",
              "    .dataframe thead th {\n",
              "        text-align: right;\n",
              "    }\n",
              "</style>\n",
              "<table border=\"1\" class=\"dataframe\">\n",
              "  <thead>\n",
              "    <tr style=\"text-align: right;\">\n",
              "      <th></th>\n",
              "      <th>Nombre</th>\n",
              "      <th>Bailabilidad</th>\n",
              "      <th>Energía</th>\n",
              "      <th>Género</th>\n",
              "    </tr>\n",
              "  </thead>\n",
              "  <tbody>\n",
              "    <tr>\n",
              "      <th>0</th>\n",
              "      <td>Oceans (Where Feet May Fail)</td>\n",
              "      <td>0.262</td>\n",
              "      <td>0.361</td>\n",
              "      <td>world-music</td>\n",
              "    </tr>\n",
              "    <tr>\n",
              "      <th>1</th>\n",
              "      <td>What A Beautiful Name</td>\n",
              "      <td>0.424</td>\n",
              "      <td>0.506</td>\n",
              "      <td>world-music</td>\n",
              "    </tr>\n",
              "    <tr>\n",
              "      <th>2</th>\n",
              "      <td>So Will I (100 Billion X)</td>\n",
              "      <td>0.431</td>\n",
              "      <td>0.416</td>\n",
              "      <td>world-music</td>\n",
              "    </tr>\n",
              "    <tr>\n",
              "      <th>3</th>\n",
              "      <td>God Only Knows</td>\n",
              "      <td>0.597</td>\n",
              "      <td>0.417</td>\n",
              "      <td>world-music</td>\n",
              "    </tr>\n",
              "    <tr>\n",
              "      <th>4</th>\n",
              "      <td>Who You Say I Am - Studio Version</td>\n",
              "      <td>0.376</td>\n",
              "      <td>0.650</td>\n",
              "      <td>world-music</td>\n",
              "    </tr>\n",
              "    <tr>\n",
              "      <th>...</th>\n",
              "      <td>...</td>\n",
              "      <td>...</td>\n",
              "      <td>...</td>\n",
              "      <td>...</td>\n",
              "    </tr>\n",
              "    <tr>\n",
              "      <th>495</th>\n",
              "      <td>Blue Monday</td>\n",
              "      <td>0.589</td>\n",
              "      <td>0.696</td>\n",
              "      <td>electronic</td>\n",
              "    </tr>\n",
              "    <tr>\n",
              "      <th>496</th>\n",
              "      <td>Praise You - Radio Edit</td>\n",
              "      <td>0.621</td>\n",
              "      <td>0.885</td>\n",
              "      <td>electronic</td>\n",
              "    </tr>\n",
              "    <tr>\n",
              "      <th>497</th>\n",
              "      <td>#3</td>\n",
              "      <td>0.159</td>\n",
              "      <td>0.071</td>\n",
              "      <td>electronic</td>\n",
              "    </tr>\n",
              "    <tr>\n",
              "      <th>498</th>\n",
              "      <td>Coming Back (feat. SZA)</td>\n",
              "      <td>0.653</td>\n",
              "      <td>0.496</td>\n",
              "      <td>electronic</td>\n",
              "    </tr>\n",
              "    <tr>\n",
              "      <th>499</th>\n",
              "      <td>Assumptions</td>\n",
              "      <td>0.639</td>\n",
              "      <td>0.815</td>\n",
              "      <td>electronic</td>\n",
              "    </tr>\n",
              "  </tbody>\n",
              "</table>\n",
              "<p>500 rows × 4 columns</p>\n",
              "</div>\n",
              "      <button class=\"colab-df-convert\" onclick=\"convertToInteractive('df-fefe29c9-d86d-4154-950f-7fc62247845f')\"\n",
              "              title=\"Convert this dataframe to an interactive table.\"\n",
              "              style=\"display:none;\">\n",
              "        \n",
              "  <svg xmlns=\"http://www.w3.org/2000/svg\" height=\"24px\"viewBox=\"0 0 24 24\"\n",
              "       width=\"24px\">\n",
              "    <path d=\"M0 0h24v24H0V0z\" fill=\"none\"/>\n",
              "    <path d=\"M18.56 5.44l.94 2.06.94-2.06 2.06-.94-2.06-.94-.94-2.06-.94 2.06-2.06.94zm-11 1L8.5 8.5l.94-2.06 2.06-.94-2.06-.94L8.5 2.5l-.94 2.06-2.06.94zm10 10l.94 2.06.94-2.06 2.06-.94-2.06-.94-.94-2.06-.94 2.06-2.06.94z\"/><path d=\"M17.41 7.96l-1.37-1.37c-.4-.4-.92-.59-1.43-.59-.52 0-1.04.2-1.43.59L10.3 9.45l-7.72 7.72c-.78.78-.78 2.05 0 2.83L4 21.41c.39.39.9.59 1.41.59.51 0 1.02-.2 1.41-.59l7.78-7.78 2.81-2.81c.8-.78.8-2.07 0-2.86zM5.41 20L4 18.59l7.72-7.72 1.47 1.35L5.41 20z\"/>\n",
              "  </svg>\n",
              "      </button>\n",
              "      \n",
              "  <style>\n",
              "    .colab-df-container {\n",
              "      display:flex;\n",
              "      flex-wrap:wrap;\n",
              "      gap: 12px;\n",
              "    }\n",
              "\n",
              "    .colab-df-convert {\n",
              "      background-color: #E8F0FE;\n",
              "      border: none;\n",
              "      border-radius: 50%;\n",
              "      cursor: pointer;\n",
              "      display: none;\n",
              "      fill: #1967D2;\n",
              "      height: 32px;\n",
              "      padding: 0 0 0 0;\n",
              "      width: 32px;\n",
              "    }\n",
              "\n",
              "    .colab-df-convert:hover {\n",
              "      background-color: #E2EBFA;\n",
              "      box-shadow: 0px 1px 2px rgba(60, 64, 67, 0.3), 0px 1px 3px 1px rgba(60, 64, 67, 0.15);\n",
              "      fill: #174EA6;\n",
              "    }\n",
              "\n",
              "    [theme=dark] .colab-df-convert {\n",
              "      background-color: #3B4455;\n",
              "      fill: #D2E3FC;\n",
              "    }\n",
              "\n",
              "    [theme=dark] .colab-df-convert:hover {\n",
              "      background-color: #434B5C;\n",
              "      box-shadow: 0px 1px 3px 1px rgba(0, 0, 0, 0.15);\n",
              "      filter: drop-shadow(0px 1px 2px rgba(0, 0, 0, 0.3));\n",
              "      fill: #FFFFFF;\n",
              "    }\n",
              "  </style>\n",
              "\n",
              "      <script>\n",
              "        const buttonEl =\n",
              "          document.querySelector('#df-fefe29c9-d86d-4154-950f-7fc62247845f button.colab-df-convert');\n",
              "        buttonEl.style.display =\n",
              "          google.colab.kernel.accessAllowed ? 'block' : 'none';\n",
              "\n",
              "        async function convertToInteractive(key) {\n",
              "          const element = document.querySelector('#df-fefe29c9-d86d-4154-950f-7fc62247845f');\n",
              "          const dataTable =\n",
              "            await google.colab.kernel.invokeFunction('convertToInteractive',\n",
              "                                                     [key], {});\n",
              "          if (!dataTable) return;\n",
              "\n",
              "          const docLinkHtml = 'Like what you see? Visit the ' +\n",
              "            '<a target=\"_blank\" href=https://colab.research.google.com/notebooks/data_table.ipynb>data table notebook</a>'\n",
              "            + ' to learn more about interactive tables.';\n",
              "          element.innerHTML = '';\n",
              "          dataTable['output_type'] = 'display_data';\n",
              "          await google.colab.output.renderOutput(dataTable, element);\n",
              "          const docLink = document.createElement('div');\n",
              "          docLink.innerHTML = docLinkHtml;\n",
              "          element.appendChild(docLink);\n",
              "        }\n",
              "      </script>\n",
              "    </div>\n",
              "  </div>\n",
              "  "
            ]
          },
          "metadata": {},
          "execution_count": 4
        }
      ]
    },
    {
      "cell_type": "markdown",
      "source": [
        "Ahora seleccionamos solo los renglones que correspondan a **canciones** de los **géneros** que utilizaremos para alimentar al modelo:"
      ],
      "metadata": {
        "id": "kEWWa3_zzDV7"
      }
    },
    {
      "cell_type": "code",
      "source": [
        "# Se seleccionan los renglones correspondientes a los géneros elegidos.\n",
        "filt_dataset = reduc_dataset.loc[reduc_dataset.iloc[:, -1].isin([\"black-metal\", \"salsa\", \"reggaeton\"])]\n",
        "\n",
        "# Se imprime el conjunto de datos.\n",
        "filt_dataset"
      ],
      "metadata": {
        "colab": {
          "base_uri": "https://localhost:8080/",
          "height": 424
        },
        "id": "fGKwWU3zxek9",
        "outputId": "51a46112-961a-4db6-937f-9385273f3848"
      },
      "execution_count": null,
      "outputs": [
        {
          "output_type": "execute_result",
          "data": {
            "text/plain": [
              "                      Nombre  Bailabilidad  Energía       Género\n",
              "50             Vivir Mi Vida         0.656    0.877        salsa\n",
              "51                  Llorarás         0.704    0.884        salsa\n",
              "52                Suavemente         0.811    0.880        salsa\n",
              "53     Ven Devórame Otra Vez         0.643    0.602        salsa\n",
              "54           Yo No Sé Mañana         0.653    0.827        salsa\n",
              "..                       ...           ...      ...          ...\n",
              "345               Deathcrush         0.219    0.908  black-metal\n",
              "346                     FTBS         0.265    0.912  black-metal\n",
              "347  Stress Builds Character         0.286    0.780  black-metal\n",
              "348          Fear of Failure         0.246    0.924  black-metal\n",
              "349         Deathmask Divine         0.432    0.982  black-metal\n",
              "\n",
              "[150 rows x 4 columns]"
            ],
            "text/html": [
              "\n",
              "  <div id=\"df-914cf09c-89d8-4907-96f4-85d0668cbb10\">\n",
              "    <div class=\"colab-df-container\">\n",
              "      <div>\n",
              "<style scoped>\n",
              "    .dataframe tbody tr th:only-of-type {\n",
              "        vertical-align: middle;\n",
              "    }\n",
              "\n",
              "    .dataframe tbody tr th {\n",
              "        vertical-align: top;\n",
              "    }\n",
              "\n",
              "    .dataframe thead th {\n",
              "        text-align: right;\n",
              "    }\n",
              "</style>\n",
              "<table border=\"1\" class=\"dataframe\">\n",
              "  <thead>\n",
              "    <tr style=\"text-align: right;\">\n",
              "      <th></th>\n",
              "      <th>Nombre</th>\n",
              "      <th>Bailabilidad</th>\n",
              "      <th>Energía</th>\n",
              "      <th>Género</th>\n",
              "    </tr>\n",
              "  </thead>\n",
              "  <tbody>\n",
              "    <tr>\n",
              "      <th>50</th>\n",
              "      <td>Vivir Mi Vida</td>\n",
              "      <td>0.656</td>\n",
              "      <td>0.877</td>\n",
              "      <td>salsa</td>\n",
              "    </tr>\n",
              "    <tr>\n",
              "      <th>51</th>\n",
              "      <td>Llorarás</td>\n",
              "      <td>0.704</td>\n",
              "      <td>0.884</td>\n",
              "      <td>salsa</td>\n",
              "    </tr>\n",
              "    <tr>\n",
              "      <th>52</th>\n",
              "      <td>Suavemente</td>\n",
              "      <td>0.811</td>\n",
              "      <td>0.880</td>\n",
              "      <td>salsa</td>\n",
              "    </tr>\n",
              "    <tr>\n",
              "      <th>53</th>\n",
              "      <td>Ven Devórame Otra Vez</td>\n",
              "      <td>0.643</td>\n",
              "      <td>0.602</td>\n",
              "      <td>salsa</td>\n",
              "    </tr>\n",
              "    <tr>\n",
              "      <th>54</th>\n",
              "      <td>Yo No Sé Mañana</td>\n",
              "      <td>0.653</td>\n",
              "      <td>0.827</td>\n",
              "      <td>salsa</td>\n",
              "    </tr>\n",
              "    <tr>\n",
              "      <th>...</th>\n",
              "      <td>...</td>\n",
              "      <td>...</td>\n",
              "      <td>...</td>\n",
              "      <td>...</td>\n",
              "    </tr>\n",
              "    <tr>\n",
              "      <th>345</th>\n",
              "      <td>Deathcrush</td>\n",
              "      <td>0.219</td>\n",
              "      <td>0.908</td>\n",
              "      <td>black-metal</td>\n",
              "    </tr>\n",
              "    <tr>\n",
              "      <th>346</th>\n",
              "      <td>FTBS</td>\n",
              "      <td>0.265</td>\n",
              "      <td>0.912</td>\n",
              "      <td>black-metal</td>\n",
              "    </tr>\n",
              "    <tr>\n",
              "      <th>347</th>\n",
              "      <td>Stress Builds Character</td>\n",
              "      <td>0.286</td>\n",
              "      <td>0.780</td>\n",
              "      <td>black-metal</td>\n",
              "    </tr>\n",
              "    <tr>\n",
              "      <th>348</th>\n",
              "      <td>Fear of Failure</td>\n",
              "      <td>0.246</td>\n",
              "      <td>0.924</td>\n",
              "      <td>black-metal</td>\n",
              "    </tr>\n",
              "    <tr>\n",
              "      <th>349</th>\n",
              "      <td>Deathmask Divine</td>\n",
              "      <td>0.432</td>\n",
              "      <td>0.982</td>\n",
              "      <td>black-metal</td>\n",
              "    </tr>\n",
              "  </tbody>\n",
              "</table>\n",
              "<p>150 rows × 4 columns</p>\n",
              "</div>\n",
              "      <button class=\"colab-df-convert\" onclick=\"convertToInteractive('df-914cf09c-89d8-4907-96f4-85d0668cbb10')\"\n",
              "              title=\"Convert this dataframe to an interactive table.\"\n",
              "              style=\"display:none;\">\n",
              "        \n",
              "  <svg xmlns=\"http://www.w3.org/2000/svg\" height=\"24px\"viewBox=\"0 0 24 24\"\n",
              "       width=\"24px\">\n",
              "    <path d=\"M0 0h24v24H0V0z\" fill=\"none\"/>\n",
              "    <path d=\"M18.56 5.44l.94 2.06.94-2.06 2.06-.94-2.06-.94-.94-2.06-.94 2.06-2.06.94zm-11 1L8.5 8.5l.94-2.06 2.06-.94-2.06-.94L8.5 2.5l-.94 2.06-2.06.94zm10 10l.94 2.06.94-2.06 2.06-.94-2.06-.94-.94-2.06-.94 2.06-2.06.94z\"/><path d=\"M17.41 7.96l-1.37-1.37c-.4-.4-.92-.59-1.43-.59-.52 0-1.04.2-1.43.59L10.3 9.45l-7.72 7.72c-.78.78-.78 2.05 0 2.83L4 21.41c.39.39.9.59 1.41.59.51 0 1.02-.2 1.41-.59l7.78-7.78 2.81-2.81c.8-.78.8-2.07 0-2.86zM5.41 20L4 18.59l7.72-7.72 1.47 1.35L5.41 20z\"/>\n",
              "  </svg>\n",
              "      </button>\n",
              "      \n",
              "  <style>\n",
              "    .colab-df-container {\n",
              "      display:flex;\n",
              "      flex-wrap:wrap;\n",
              "      gap: 12px;\n",
              "    }\n",
              "\n",
              "    .colab-df-convert {\n",
              "      background-color: #E8F0FE;\n",
              "      border: none;\n",
              "      border-radius: 50%;\n",
              "      cursor: pointer;\n",
              "      display: none;\n",
              "      fill: #1967D2;\n",
              "      height: 32px;\n",
              "      padding: 0 0 0 0;\n",
              "      width: 32px;\n",
              "    }\n",
              "\n",
              "    .colab-df-convert:hover {\n",
              "      background-color: #E2EBFA;\n",
              "      box-shadow: 0px 1px 2px rgba(60, 64, 67, 0.3), 0px 1px 3px 1px rgba(60, 64, 67, 0.15);\n",
              "      fill: #174EA6;\n",
              "    }\n",
              "\n",
              "    [theme=dark] .colab-df-convert {\n",
              "      background-color: #3B4455;\n",
              "      fill: #D2E3FC;\n",
              "    }\n",
              "\n",
              "    [theme=dark] .colab-df-convert:hover {\n",
              "      background-color: #434B5C;\n",
              "      box-shadow: 0px 1px 3px 1px rgba(0, 0, 0, 0.15);\n",
              "      filter: drop-shadow(0px 1px 2px rgba(0, 0, 0, 0.3));\n",
              "      fill: #FFFFFF;\n",
              "    }\n",
              "  </style>\n",
              "\n",
              "      <script>\n",
              "        const buttonEl =\n",
              "          document.querySelector('#df-914cf09c-89d8-4907-96f4-85d0668cbb10 button.colab-df-convert');\n",
              "        buttonEl.style.display =\n",
              "          google.colab.kernel.accessAllowed ? 'block' : 'none';\n",
              "\n",
              "        async function convertToInteractive(key) {\n",
              "          const element = document.querySelector('#df-914cf09c-89d8-4907-96f4-85d0668cbb10');\n",
              "          const dataTable =\n",
              "            await google.colab.kernel.invokeFunction('convertToInteractive',\n",
              "                                                     [key], {});\n",
              "          if (!dataTable) return;\n",
              "\n",
              "          const docLinkHtml = 'Like what you see? Visit the ' +\n",
              "            '<a target=\"_blank\" href=https://colab.research.google.com/notebooks/data_table.ipynb>data table notebook</a>'\n",
              "            + ' to learn more about interactive tables.';\n",
              "          element.innerHTML = '';\n",
              "          dataTable['output_type'] = 'display_data';\n",
              "          await google.colab.output.renderOutput(dataTable, element);\n",
              "          const docLink = document.createElement('div');\n",
              "          docLink.innerHTML = docLinkHtml;\n",
              "          element.appendChild(docLink);\n",
              "        }\n",
              "      </script>\n",
              "    </div>\n",
              "  </div>\n",
              "  "
            ]
          },
          "metadata": {},
          "execution_count": 5
        }
      ]
    },
    {
      "cell_type": "markdown",
      "source": [
        "Ahora, en caso de existir, removemos las canciones repetidas:"
      ],
      "metadata": {
        "id": "9-nmlNXk0bSZ"
      }
    },
    {
      "cell_type": "code",
      "source": [
        "# Se eliminan las canciones repetidas.\n",
        "prep_dataset = filt_dataset.drop_duplicates(subset=['Nombre']).reset_index(drop = True)\n",
        "\n",
        "# Se imprime el conjunto de datos.\n",
        "prep_dataset"
      ],
      "metadata": {
        "colab": {
          "base_uri": "https://localhost:8080/",
          "height": 424
        },
        "id": "kvTSEah4zc-c",
        "outputId": "c7abc2e5-0f31-4711-8e61-273e6c1c7695"
      },
      "execution_count": null,
      "outputs": [
        {
          "output_type": "execute_result",
          "data": {
            "text/plain": [
              "                      Nombre  Bailabilidad  Energía       Género\n",
              "0              Vivir Mi Vida         0.656    0.877        salsa\n",
              "1                   Llorarás         0.704    0.884        salsa\n",
              "2                 Suavemente         0.811    0.880        salsa\n",
              "3      Ven Devórame Otra Vez         0.643    0.602        salsa\n",
              "4            Yo No Sé Mañana         0.653    0.827        salsa\n",
              "..                       ...           ...      ...          ...\n",
              "134               Deathcrush         0.219    0.908  black-metal\n",
              "135                     FTBS         0.265    0.912  black-metal\n",
              "136  Stress Builds Character         0.286    0.780  black-metal\n",
              "137          Fear of Failure         0.246    0.924  black-metal\n",
              "138         Deathmask Divine         0.432    0.982  black-metal\n",
              "\n",
              "[139 rows x 4 columns]"
            ],
            "text/html": [
              "\n",
              "  <div id=\"df-d56815f5-3d90-41dd-8625-a05548491361\">\n",
              "    <div class=\"colab-df-container\">\n",
              "      <div>\n",
              "<style scoped>\n",
              "    .dataframe tbody tr th:only-of-type {\n",
              "        vertical-align: middle;\n",
              "    }\n",
              "\n",
              "    .dataframe tbody tr th {\n",
              "        vertical-align: top;\n",
              "    }\n",
              "\n",
              "    .dataframe thead th {\n",
              "        text-align: right;\n",
              "    }\n",
              "</style>\n",
              "<table border=\"1\" class=\"dataframe\">\n",
              "  <thead>\n",
              "    <tr style=\"text-align: right;\">\n",
              "      <th></th>\n",
              "      <th>Nombre</th>\n",
              "      <th>Bailabilidad</th>\n",
              "      <th>Energía</th>\n",
              "      <th>Género</th>\n",
              "    </tr>\n",
              "  </thead>\n",
              "  <tbody>\n",
              "    <tr>\n",
              "      <th>0</th>\n",
              "      <td>Vivir Mi Vida</td>\n",
              "      <td>0.656</td>\n",
              "      <td>0.877</td>\n",
              "      <td>salsa</td>\n",
              "    </tr>\n",
              "    <tr>\n",
              "      <th>1</th>\n",
              "      <td>Llorarás</td>\n",
              "      <td>0.704</td>\n",
              "      <td>0.884</td>\n",
              "      <td>salsa</td>\n",
              "    </tr>\n",
              "    <tr>\n",
              "      <th>2</th>\n",
              "      <td>Suavemente</td>\n",
              "      <td>0.811</td>\n",
              "      <td>0.880</td>\n",
              "      <td>salsa</td>\n",
              "    </tr>\n",
              "    <tr>\n",
              "      <th>3</th>\n",
              "      <td>Ven Devórame Otra Vez</td>\n",
              "      <td>0.643</td>\n",
              "      <td>0.602</td>\n",
              "      <td>salsa</td>\n",
              "    </tr>\n",
              "    <tr>\n",
              "      <th>4</th>\n",
              "      <td>Yo No Sé Mañana</td>\n",
              "      <td>0.653</td>\n",
              "      <td>0.827</td>\n",
              "      <td>salsa</td>\n",
              "    </tr>\n",
              "    <tr>\n",
              "      <th>...</th>\n",
              "      <td>...</td>\n",
              "      <td>...</td>\n",
              "      <td>...</td>\n",
              "      <td>...</td>\n",
              "    </tr>\n",
              "    <tr>\n",
              "      <th>134</th>\n",
              "      <td>Deathcrush</td>\n",
              "      <td>0.219</td>\n",
              "      <td>0.908</td>\n",
              "      <td>black-metal</td>\n",
              "    </tr>\n",
              "    <tr>\n",
              "      <th>135</th>\n",
              "      <td>FTBS</td>\n",
              "      <td>0.265</td>\n",
              "      <td>0.912</td>\n",
              "      <td>black-metal</td>\n",
              "    </tr>\n",
              "    <tr>\n",
              "      <th>136</th>\n",
              "      <td>Stress Builds Character</td>\n",
              "      <td>0.286</td>\n",
              "      <td>0.780</td>\n",
              "      <td>black-metal</td>\n",
              "    </tr>\n",
              "    <tr>\n",
              "      <th>137</th>\n",
              "      <td>Fear of Failure</td>\n",
              "      <td>0.246</td>\n",
              "      <td>0.924</td>\n",
              "      <td>black-metal</td>\n",
              "    </tr>\n",
              "    <tr>\n",
              "      <th>138</th>\n",
              "      <td>Deathmask Divine</td>\n",
              "      <td>0.432</td>\n",
              "      <td>0.982</td>\n",
              "      <td>black-metal</td>\n",
              "    </tr>\n",
              "  </tbody>\n",
              "</table>\n",
              "<p>139 rows × 4 columns</p>\n",
              "</div>\n",
              "      <button class=\"colab-df-convert\" onclick=\"convertToInteractive('df-d56815f5-3d90-41dd-8625-a05548491361')\"\n",
              "              title=\"Convert this dataframe to an interactive table.\"\n",
              "              style=\"display:none;\">\n",
              "        \n",
              "  <svg xmlns=\"http://www.w3.org/2000/svg\" height=\"24px\"viewBox=\"0 0 24 24\"\n",
              "       width=\"24px\">\n",
              "    <path d=\"M0 0h24v24H0V0z\" fill=\"none\"/>\n",
              "    <path d=\"M18.56 5.44l.94 2.06.94-2.06 2.06-.94-2.06-.94-.94-2.06-.94 2.06-2.06.94zm-11 1L8.5 8.5l.94-2.06 2.06-.94-2.06-.94L8.5 2.5l-.94 2.06-2.06.94zm10 10l.94 2.06.94-2.06 2.06-.94-2.06-.94-.94-2.06-.94 2.06-2.06.94z\"/><path d=\"M17.41 7.96l-1.37-1.37c-.4-.4-.92-.59-1.43-.59-.52 0-1.04.2-1.43.59L10.3 9.45l-7.72 7.72c-.78.78-.78 2.05 0 2.83L4 21.41c.39.39.9.59 1.41.59.51 0 1.02-.2 1.41-.59l7.78-7.78 2.81-2.81c.8-.78.8-2.07 0-2.86zM5.41 20L4 18.59l7.72-7.72 1.47 1.35L5.41 20z\"/>\n",
              "  </svg>\n",
              "      </button>\n",
              "      \n",
              "  <style>\n",
              "    .colab-df-container {\n",
              "      display:flex;\n",
              "      flex-wrap:wrap;\n",
              "      gap: 12px;\n",
              "    }\n",
              "\n",
              "    .colab-df-convert {\n",
              "      background-color: #E8F0FE;\n",
              "      border: none;\n",
              "      border-radius: 50%;\n",
              "      cursor: pointer;\n",
              "      display: none;\n",
              "      fill: #1967D2;\n",
              "      height: 32px;\n",
              "      padding: 0 0 0 0;\n",
              "      width: 32px;\n",
              "    }\n",
              "\n",
              "    .colab-df-convert:hover {\n",
              "      background-color: #E2EBFA;\n",
              "      box-shadow: 0px 1px 2px rgba(60, 64, 67, 0.3), 0px 1px 3px 1px rgba(60, 64, 67, 0.15);\n",
              "      fill: #174EA6;\n",
              "    }\n",
              "\n",
              "    [theme=dark] .colab-df-convert {\n",
              "      background-color: #3B4455;\n",
              "      fill: #D2E3FC;\n",
              "    }\n",
              "\n",
              "    [theme=dark] .colab-df-convert:hover {\n",
              "      background-color: #434B5C;\n",
              "      box-shadow: 0px 1px 3px 1px rgba(0, 0, 0, 0.15);\n",
              "      filter: drop-shadow(0px 1px 2px rgba(0, 0, 0, 0.3));\n",
              "      fill: #FFFFFF;\n",
              "    }\n",
              "  </style>\n",
              "\n",
              "      <script>\n",
              "        const buttonEl =\n",
              "          document.querySelector('#df-d56815f5-3d90-41dd-8625-a05548491361 button.colab-df-convert');\n",
              "        buttonEl.style.display =\n",
              "          google.colab.kernel.accessAllowed ? 'block' : 'none';\n",
              "\n",
              "        async function convertToInteractive(key) {\n",
              "          const element = document.querySelector('#df-d56815f5-3d90-41dd-8625-a05548491361');\n",
              "          const dataTable =\n",
              "            await google.colab.kernel.invokeFunction('convertToInteractive',\n",
              "                                                     [key], {});\n",
              "          if (!dataTable) return;\n",
              "\n",
              "          const docLinkHtml = 'Like what you see? Visit the ' +\n",
              "            '<a target=\"_blank\" href=https://colab.research.google.com/notebooks/data_table.ipynb>data table notebook</a>'\n",
              "            + ' to learn more about interactive tables.';\n",
              "          element.innerHTML = '';\n",
              "          dataTable['output_type'] = 'display_data';\n",
              "          await google.colab.output.renderOutput(dataTable, element);\n",
              "          const docLink = document.createElement('div');\n",
              "          docLink.innerHTML = docLinkHtml;\n",
              "          element.appendChild(docLink);\n",
              "        }\n",
              "      </script>\n",
              "    </div>\n",
              "  </div>\n",
              "  "
            ]
          },
          "metadata": {},
          "execution_count": 6
        }
      ]
    },
    {
      "cell_type": "markdown",
      "source": [
        "El resultado final es una tabla con **139 renglones** y **4 columnas**, por lo que se puede inferir que se han removido 11 canciones repetidas (aprox. un 8% del total). \n"
      ],
      "metadata": {
        "id": "sVfEXp2D0t5j"
      }
    },
    {
      "cell_type": "markdown",
      "source": [
        "Hecho esto solo queda la transformación de la variable \"Género\" a una variable numérica **discreta**, para lo cual utilizaremos la clase **labelEncoder()** de la librería sklearn:"
      ],
      "metadata": {
        "id": "FCnooZep5XIy"
      }
    },
    {
      "cell_type": "code",
      "source": [
        "#Se codifica la variable género en cantidades discretas.\n",
        "label_encoder = preprocessing.LabelEncoder()\n",
        "prep_dataset['Género'] = label_encoder.fit_transform(prep_dataset['Género'])\n",
        "\n",
        "# Se imprime el conjunto de datos.\n",
        "prep_dataset"
      ],
      "metadata": {
        "colab": {
          "base_uri": "https://localhost:8080/",
          "height": 424
        },
        "id": "PCgHWC9B225a",
        "outputId": "ced950d4-0007-4630-8e4b-951d8870e9a3"
      },
      "execution_count": null,
      "outputs": [
        {
          "output_type": "execute_result",
          "data": {
            "text/plain": [
              "                      Nombre  Bailabilidad  Energía  Género\n",
              "0              Vivir Mi Vida         0.656    0.877       2\n",
              "1                   Llorarás         0.704    0.884       2\n",
              "2                 Suavemente         0.811    0.880       2\n",
              "3      Ven Devórame Otra Vez         0.643    0.602       2\n",
              "4            Yo No Sé Mañana         0.653    0.827       2\n",
              "..                       ...           ...      ...     ...\n",
              "134               Deathcrush         0.219    0.908       0\n",
              "135                     FTBS         0.265    0.912       0\n",
              "136  Stress Builds Character         0.286    0.780       0\n",
              "137          Fear of Failure         0.246    0.924       0\n",
              "138         Deathmask Divine         0.432    0.982       0\n",
              "\n",
              "[139 rows x 4 columns]"
            ],
            "text/html": [
              "\n",
              "  <div id=\"df-39fa20e7-d192-4dfd-994b-4667ce3bec75\">\n",
              "    <div class=\"colab-df-container\">\n",
              "      <div>\n",
              "<style scoped>\n",
              "    .dataframe tbody tr th:only-of-type {\n",
              "        vertical-align: middle;\n",
              "    }\n",
              "\n",
              "    .dataframe tbody tr th {\n",
              "        vertical-align: top;\n",
              "    }\n",
              "\n",
              "    .dataframe thead th {\n",
              "        text-align: right;\n",
              "    }\n",
              "</style>\n",
              "<table border=\"1\" class=\"dataframe\">\n",
              "  <thead>\n",
              "    <tr style=\"text-align: right;\">\n",
              "      <th></th>\n",
              "      <th>Nombre</th>\n",
              "      <th>Bailabilidad</th>\n",
              "      <th>Energía</th>\n",
              "      <th>Género</th>\n",
              "    </tr>\n",
              "  </thead>\n",
              "  <tbody>\n",
              "    <tr>\n",
              "      <th>0</th>\n",
              "      <td>Vivir Mi Vida</td>\n",
              "      <td>0.656</td>\n",
              "      <td>0.877</td>\n",
              "      <td>2</td>\n",
              "    </tr>\n",
              "    <tr>\n",
              "      <th>1</th>\n",
              "      <td>Llorarás</td>\n",
              "      <td>0.704</td>\n",
              "      <td>0.884</td>\n",
              "      <td>2</td>\n",
              "    </tr>\n",
              "    <tr>\n",
              "      <th>2</th>\n",
              "      <td>Suavemente</td>\n",
              "      <td>0.811</td>\n",
              "      <td>0.880</td>\n",
              "      <td>2</td>\n",
              "    </tr>\n",
              "    <tr>\n",
              "      <th>3</th>\n",
              "      <td>Ven Devórame Otra Vez</td>\n",
              "      <td>0.643</td>\n",
              "      <td>0.602</td>\n",
              "      <td>2</td>\n",
              "    </tr>\n",
              "    <tr>\n",
              "      <th>4</th>\n",
              "      <td>Yo No Sé Mañana</td>\n",
              "      <td>0.653</td>\n",
              "      <td>0.827</td>\n",
              "      <td>2</td>\n",
              "    </tr>\n",
              "    <tr>\n",
              "      <th>...</th>\n",
              "      <td>...</td>\n",
              "      <td>...</td>\n",
              "      <td>...</td>\n",
              "      <td>...</td>\n",
              "    </tr>\n",
              "    <tr>\n",
              "      <th>134</th>\n",
              "      <td>Deathcrush</td>\n",
              "      <td>0.219</td>\n",
              "      <td>0.908</td>\n",
              "      <td>0</td>\n",
              "    </tr>\n",
              "    <tr>\n",
              "      <th>135</th>\n",
              "      <td>FTBS</td>\n",
              "      <td>0.265</td>\n",
              "      <td>0.912</td>\n",
              "      <td>0</td>\n",
              "    </tr>\n",
              "    <tr>\n",
              "      <th>136</th>\n",
              "      <td>Stress Builds Character</td>\n",
              "      <td>0.286</td>\n",
              "      <td>0.780</td>\n",
              "      <td>0</td>\n",
              "    </tr>\n",
              "    <tr>\n",
              "      <th>137</th>\n",
              "      <td>Fear of Failure</td>\n",
              "      <td>0.246</td>\n",
              "      <td>0.924</td>\n",
              "      <td>0</td>\n",
              "    </tr>\n",
              "    <tr>\n",
              "      <th>138</th>\n",
              "      <td>Deathmask Divine</td>\n",
              "      <td>0.432</td>\n",
              "      <td>0.982</td>\n",
              "      <td>0</td>\n",
              "    </tr>\n",
              "  </tbody>\n",
              "</table>\n",
              "<p>139 rows × 4 columns</p>\n",
              "</div>\n",
              "      <button class=\"colab-df-convert\" onclick=\"convertToInteractive('df-39fa20e7-d192-4dfd-994b-4667ce3bec75')\"\n",
              "              title=\"Convert this dataframe to an interactive table.\"\n",
              "              style=\"display:none;\">\n",
              "        \n",
              "  <svg xmlns=\"http://www.w3.org/2000/svg\" height=\"24px\"viewBox=\"0 0 24 24\"\n",
              "       width=\"24px\">\n",
              "    <path d=\"M0 0h24v24H0V0z\" fill=\"none\"/>\n",
              "    <path d=\"M18.56 5.44l.94 2.06.94-2.06 2.06-.94-2.06-.94-.94-2.06-.94 2.06-2.06.94zm-11 1L8.5 8.5l.94-2.06 2.06-.94-2.06-.94L8.5 2.5l-.94 2.06-2.06.94zm10 10l.94 2.06.94-2.06 2.06-.94-2.06-.94-.94-2.06-.94 2.06-2.06.94z\"/><path d=\"M17.41 7.96l-1.37-1.37c-.4-.4-.92-.59-1.43-.59-.52 0-1.04.2-1.43.59L10.3 9.45l-7.72 7.72c-.78.78-.78 2.05 0 2.83L4 21.41c.39.39.9.59 1.41.59.51 0 1.02-.2 1.41-.59l7.78-7.78 2.81-2.81c.8-.78.8-2.07 0-2.86zM5.41 20L4 18.59l7.72-7.72 1.47 1.35L5.41 20z\"/>\n",
              "  </svg>\n",
              "      </button>\n",
              "      \n",
              "  <style>\n",
              "    .colab-df-container {\n",
              "      display:flex;\n",
              "      flex-wrap:wrap;\n",
              "      gap: 12px;\n",
              "    }\n",
              "\n",
              "    .colab-df-convert {\n",
              "      background-color: #E8F0FE;\n",
              "      border: none;\n",
              "      border-radius: 50%;\n",
              "      cursor: pointer;\n",
              "      display: none;\n",
              "      fill: #1967D2;\n",
              "      height: 32px;\n",
              "      padding: 0 0 0 0;\n",
              "      width: 32px;\n",
              "    }\n",
              "\n",
              "    .colab-df-convert:hover {\n",
              "      background-color: #E2EBFA;\n",
              "      box-shadow: 0px 1px 2px rgba(60, 64, 67, 0.3), 0px 1px 3px 1px rgba(60, 64, 67, 0.15);\n",
              "      fill: #174EA6;\n",
              "    }\n",
              "\n",
              "    [theme=dark] .colab-df-convert {\n",
              "      background-color: #3B4455;\n",
              "      fill: #D2E3FC;\n",
              "    }\n",
              "\n",
              "    [theme=dark] .colab-df-convert:hover {\n",
              "      background-color: #434B5C;\n",
              "      box-shadow: 0px 1px 3px 1px rgba(0, 0, 0, 0.15);\n",
              "      filter: drop-shadow(0px 1px 2px rgba(0, 0, 0, 0.3));\n",
              "      fill: #FFFFFF;\n",
              "    }\n",
              "  </style>\n",
              "\n",
              "      <script>\n",
              "        const buttonEl =\n",
              "          document.querySelector('#df-39fa20e7-d192-4dfd-994b-4667ce3bec75 button.colab-df-convert');\n",
              "        buttonEl.style.display =\n",
              "          google.colab.kernel.accessAllowed ? 'block' : 'none';\n",
              "\n",
              "        async function convertToInteractive(key) {\n",
              "          const element = document.querySelector('#df-39fa20e7-d192-4dfd-994b-4667ce3bec75');\n",
              "          const dataTable =\n",
              "            await google.colab.kernel.invokeFunction('convertToInteractive',\n",
              "                                                     [key], {});\n",
              "          if (!dataTable) return;\n",
              "\n",
              "          const docLinkHtml = 'Like what you see? Visit the ' +\n",
              "            '<a target=\"_blank\" href=https://colab.research.google.com/notebooks/data_table.ipynb>data table notebook</a>'\n",
              "            + ' to learn more about interactive tables.';\n",
              "          element.innerHTML = '';\n",
              "          dataTable['output_type'] = 'display_data';\n",
              "          await google.colab.output.renderOutput(dataTable, element);\n",
              "          const docLink = document.createElement('div');\n",
              "          docLink.innerHTML = docLinkHtml;\n",
              "          element.appendChild(docLink);\n",
              "        }\n",
              "      </script>\n",
              "    </div>\n",
              "  </div>\n",
              "  "
            ]
          },
          "metadata": {},
          "execution_count": 7
        }
      ]
    },
    {
      "cell_type": "markdown",
      "source": [
        "Podemos notar cómo se realizaron las siguientes conversiones para cada salida de la variable Género:\n",
        "\n",
        "*   Black metal = 0\n",
        "*   Reggaeton = 1\n",
        "*   Salsa = 2\n",
        "\n"
      ],
      "metadata": {
        "id": "DsA_fsbM5-qj"
      }
    },
    {
      "cell_type": "markdown",
      "source": [
        "Nótese que, a diferencia de cómo trabajamos el caso en nuestra exploración de la regresión logística, aquí las **probabilidades condicionales** se van a calcular en relación al género **reggaeton**, ya que se le asignó el número 1, lo cual no afecta a los resultados ni el objetivo del modelo. \n",
        "\n",
        "Con esto concluye la etapa de **preprocesamiento** y pasamos a confeccionar el primer **modelo**."
      ],
      "metadata": {
        "id": "tIQQbgl_6SET"
      }
    },
    {
      "cell_type": "markdown",
      "source": [
        "# 5. Regresión logística univariable"
      ],
      "metadata": {
        "id": "kqnWoKyd6iIC"
      }
    },
    {
      "cell_type": "markdown",
      "source": [
        "El primer modelo que elaboraremos será el que clasifique canciones en las clases **black metal** y **reggaeton** de acuerdo con su **bailabilidad**, por lo que solo considerará una **variable** independiente (un atributo) y dos categorías (dos posibles valores de la variable dependiente). Para esto haremos uso de la clase **LogisticRegression(**) de sklearn."
      ],
      "metadata": {
        "id": "nMfZRL2d6qBp"
      }
    },
    {
      "cell_type": "markdown",
      "source": [
        "Primero seleccionaremos solo los datos correspondientes a estos dos géneros, y realizamos la división del conjunto en los subconjuntos de **entrenamiento** y **prueba**."
      ],
      "metadata": {
        "id": "TfWG84b47CsW"
      }
    },
    {
      "cell_type": "code",
      "source": [
        "# Se seleccionan los renglones correspondientes a los géneros black metal y reggaeton\n",
        "mod1_dataset = prep_dataset.loc[prep_dataset['Género'].isin([0, 1])]\n",
        "\n",
        "# Se generan los conjuntos de entrenamiento y prueba.\n",
        "inputs = mod1_dataset['Bailabilidad']\n",
        "outputs = mod1_dataset['Género']\n",
        "x_train, x_test, y_train, y_test = train_test_split(inputs, outputs, test_size=0.2, random_state=42)"
      ],
      "metadata": {
        "id": "AVQI29nj7y0U"
      },
      "execution_count": null,
      "outputs": []
    },
    {
      "cell_type": "markdown",
      "source": [
        "Ahora **entrenamos** el modelo utilizando la **regresión logística** y graficamos el modelo resultante:"
      ],
      "metadata": {
        "id": "cGYVsNhH8iOi"
      }
    },
    {
      "cell_type": "code",
      "source": [
        "x_train = x_train.to_numpy().reshape(-1,1)\n",
        "\n",
        "# Se entrena el modelo.\n",
        "logisticRegr = LogisticRegression()\n",
        "logisticRegr.fit(x_train, y_train.values.ravel())\n",
        "\n",
        "#-------------Gráfica---------------\n",
        "# Se crea un rango de valores para el eje x.\n",
        "x_range= np.linspace(x_train.min() - 1, x_train.max() + 1, 1000)\n",
        "\n",
        "# Se calculan los valores correspondientes al eje y para la curva de la función logística.\n",
        "logistic_curve = logisticRegr.predict_proba(x_range.reshape(-1, 1))[:, 1]\n",
        "\n",
        "# Se define el tamaño de la gráfica.\n",
        "plt.figure(figsize=(7, 7))\n",
        "\n",
        "# Se grafican los puntos de las dos clases del conjunto de entrenamiento.\n",
        "plt.scatter(x_test[y_test == 0], y_test[y_test == 0], color='blue', s = 30)\n",
        "plt.scatter(x_test[y_test == 1], y_test[y_test == 1], color='red', s = 30)\n",
        "\n",
        "# Se grafica la curva de la función logística.\n",
        "plt.plot(x_range, logistic_curve, color='purple', label='Curva logística', linewidth=2)\n",
        "\n",
        "# Se definen las leyendas de la gráfica.\n",
        "function = mlines.Line2D([], [], color='purple', linewidth=3, label='Curva logística')\n",
        "class_0 = mlines.Line2D([], [], color='blue', marker='o', linestyle='None', markersize=10, label='Clase 0')\n",
        "class_1 = mlines.Line2D([], [], color='red', marker='o', linestyle='None', markersize=10, label='Clase 1')\n",
        "\n",
        "# Se configuran las características de las leyendas.\n",
        "plt.legend(handles=[function, class_0, class_1], loc='upper left', prop={'family': 'DejaVu Sans', 'weight': 'bold', 'size': 11}, frameon=True, framealpha=1, facecolor='#dddddd', shadow=True)\n",
        "\n",
        "# Se añaden títulos e información adicional.\n",
        "plt.title(\"Función logística\", fontdict = {'family': 'DejaVu Sans', 'color':  'black', 'weight': 'bold', 'size': 13}, pad = 15)\n",
        "plt.xlabel(\"BAILABILIDAD\", fontdict = {'family': 'DejaVu Sans', 'color':  'black', 'weight': 'bold', 'size': 10}, labelpad = 15)\n",
        "plt.ylabel(\"PROBABILIDAD\", fontdict = {'family': 'DejaVu Sans', 'color':  'black', 'weight': 'bold', 'size': 10}, labelpad = 15)\n",
        "plt.suptitle(\"Fig. 1 Gráfica de la curva de la función logística resultante del ajuste del modelo.\", fontproperties = {'family': 'DejaVu Sans', 'size': 11}, y=-0.001)\n",
        "\n",
        "plt.show()"
      ],
      "metadata": {
        "colab": {
          "base_uri": "https://localhost:8080/",
          "height": 705
        },
        "id": "bKOntMq054wy",
        "outputId": "fff27855-f1b8-4c8f-9028-25a92dd066e7"
      },
      "execution_count": null,
      "outputs": [
        {
          "output_type": "display_data",
          "data": {
            "text/plain": [
              "<Figure size 700x700 with 1 Axes>"
            ],
            "image/png": "[encoded data removed]"
          },
          "metadata": {}
        }
      ]
    },
    {
      "cell_type": "markdown",
      "source": [
        "Recordemos que está curva está dada por el siguiente modelo:"
      ],
      "metadata": {
        "id": "wY7sqT3bvnRd"
      }
    },
    {
      "cell_type": "markdown",
      "source": [
        "\\begin{align}\n",
        "        p(y=1|x,\\theta)=\\frac{1}{1+e^{-(\\theta_{0}+\\theta_{1}x)}}\\:.\\tag{1.1}\n",
        "    \\end{align}"
      ],
      "metadata": {
        "id": "2Ob2Xwjavq2k"
      }
    },
    {
      "cell_type": "markdown",
      "source": [
        "Una vez ajustado el modelo, evaluamos su **precisión** (**accuracy**), la cual se da mediante la siguiente razón:"
      ],
      "metadata": {
        "id": "LDPfOZq9Nsxw"
      }
    },
    {
      "cell_type": "markdown",
      "source": [
        "\\begin{align}\n",
        "        \\mathrm{accuracy} = \\frac{\\mathrm{Predicciones\\:correctas}}{\\mathrm{Total\\:de\\:predicciones}}\\:.\\tag{1.2}\n",
        "    \\end{align}"
      ],
      "metadata": {
        "id": "iwDoKmcY_RKk"
      }
    },
    {
      "cell_type": "markdown",
      "source": [
        "Lo calculamos como sigue e imprimimos su valor:"
      ],
      "metadata": {
        "id": "LMc1nHGFAfeE"
      }
    },
    {
      "cell_type": "code",
      "source": [
        "# Se calcula e imprime el valor de la precisión del modelo.\n",
        "score = logisticRegr.score(x_test.to_numpy().reshape(-1,1), y_test.values.ravel())\n",
        "\n",
        "print(\"La precisión del modelo es: \" + str(score))"
      ],
      "metadata": {
        "colab": {
          "base_uri": "https://localhost:8080/"
        },
        "id": "Xrw59-3C_Cfk",
        "outputId": "d03ec3d1-d52a-4967-a2ae-7e2f76cfab43"
      },
      "execution_count": null,
      "outputs": [
        {
          "output_type": "stream",
          "name": "stdout",
          "text": [
            "La precisión del modelo es: 1.0\n"
          ]
        }
      ]
    },
    {
      "cell_type": "markdown",
      "source": [
        "La razón obtenida debería ser 1 (o muy cercana 1), lo cual quiere decir que el modelo acierta en el 100% (o aproximadamente el 100%) de las observaciones del conjunto de prueba.\n",
        "\n",
        "**Nota:** la precisión es solo una de varias medidas disponibles para la evaluación del modelo; hablaremos sobre ello en próximas exploraciones."
      ],
      "metadata": {
        "id": "Mzsn8SLMAySD"
      }
    },
    {
      "cell_type": "markdown",
      "source": [
        "## 5.1 Límite de decisión"
      ],
      "metadata": {
        "id": "gj8eqiOhF3ap"
      }
    },
    {
      "cell_type": "markdown",
      "source": [
        "Ahora exploremos brevemente el **límite de decisión**. Recordemos que este nos indica el **umbral** que determina si una observación pertenece o no a una clase determinada, y está dada por la siguiente ecuación:\n",
        "\n"
      ],
      "metadata": {
        "id": "_HN_fdNkGECb"
      }
    },
    {
      "cell_type": "markdown",
      "source": [
        "\\begin{align}\n",
        "        b_{dec}=-\\frac{\\theta_0}{\\theta_1}\\:.\\tag{1.3} \n",
        "    \\end{align}"
      ],
      "metadata": {
        "id": "zcHLbonRGZa7"
      }
    },
    {
      "cell_type": "markdown",
      "source": [
        "donde $\\theta_0$ y $\\theta_1$ son los parámetros de la **función sigmoide**."
      ],
      "metadata": {
        "id": "XLDB-T5GOz8o"
      }
    },
    {
      "cell_type": "markdown",
      "source": [
        "Para obtener el valor del límite de decisión extraemos el valor de los parámetros de la función y realizamos la división correspondiente:"
      ],
      "metadata": {
        "id": "6leAUYrtG1cj"
      }
    },
    {
      "cell_type": "code",
      "source": [
        "# Se extraen los valores de los parámetros del modelo.\n",
        "theta_0 = logisticRegr.coef_[0]\n",
        "theta_1 = logisticRegr.intercept_\n",
        "\n",
        "# Se realiza la división y se imprime el resultado.\n",
        "decision_b  = -theta_1 / theta_0\n",
        "print('El valor del límite de decisión es aproximadamente:\\n' + str(decision_b[0])[0:4])"
      ],
      "metadata": {
        "colab": {
          "base_uri": "https://localhost:8080/"
        },
        "id": "kPJ8l4d4DVx8",
        "outputId": "0264fead-5023-4e65-ff45-c51bf3f9ecb0"
      },
      "execution_count": null,
      "outputs": [
        {
          "output_type": "stream",
          "name": "stdout",
          "text": [
            "El valor del límite de decisión es aproximadamente:\n",
            "0.58\n"
          ]
        }
      ]
    },
    {
      "cell_type": "markdown",
      "source": [
        "Graficamos el límite:"
      ],
      "metadata": {
        "id": "el8uekwsKW_j"
      }
    },
    {
      "cell_type": "code",
      "source": [
        "# Se crea un rango de valores para el eje x.\n",
        "x_values = np.linspace(x_train.min() - 1, x_train.max() + 1, 1000)\n",
        "\n",
        "# Se calculan los valores correspondientes en el eje y\n",
        "y_values = -(theta_1 + theta_0*x_values)/theta_0\n",
        "\n",
        "# Se define el tamaño de la gráfica.\n",
        "plt.figure(figsize=(7, 7))\n",
        "\n",
        "# Se grafican los puntos de las dos clases del conjunto de entrenamiento.\n",
        "plt.scatter(x_train[y_train == 0], y_train[y_train == 0], color='blue', s = 50)\n",
        "plt.scatter(x_train[y_train == 1], y_train[y_train == 1], color='red', s = 50)\n",
        "\n",
        "# Se grafica la recta correspondiente al límite de decisión.\n",
        "plt.plot(x_values, y_values, color='black', linewidth = 2)\n",
        "\n",
        "# Se definen las leyendas de la gráfica.\n",
        "line = mlines.Line2D([], [], color='black', linewidth=3, label='Límite de decisión')\n",
        "red_circle = mlines.Line2D([], [], color='blue', marker='o', linestyle='None', markersize=10, label='Clase 0')\n",
        "blue_circle = mlines.Line2D([], [], color='red', marker='o', linestyle='None', markersize=10, label='Clase 1')\n",
        "\n",
        "# Se configuran las características de las leyendas.\n",
        "plt.legend(handles=[line, red_circle, blue_circle], loc='upper left', prop={'family': 'DejaVu Sans', 'weight': 'bold', 'size': 11}, frameon=True, framealpha=1, facecolor='#dddddd', shadow=True)\n",
        "\n",
        "# Se añaden títulos e información adicional.\n",
        "plt.title(\"Límite de decisión\", fontdict = {'family': 'DejaVu Sans', 'color':  'black', 'weight': 'bold', 'size': 14}, pad = 15)\n",
        "plt.xlabel(\"BAILABILIDAD\", fontdict = {'family': 'DejaVu Sans', 'color':  'black', 'weight': 'bold', 'size': 10}, labelpad = 15)\n",
        "plt.ylabel(\"PROBABILIDAD\", fontdict = {'family': 'DejaVu Sans', 'color':  'black', 'weight': 'bold', 'size': 10}, labelpad = 15)\n",
        "plt.suptitle(\"Fig. 2 Recta correspondiente al límite de decisión del modelo.\", fontproperties = {'family': 'DejaVu Sans', 'size': 11}, y=-0.001)\n",
        "\n",
        "# Se limitan los ejes de la gráfica.\n",
        "plt.ylim(-0.1, 1.1)\n",
        "plt.xlim(0, 1)\n",
        "\n",
        "plt.show()"
      ],
      "metadata": {
        "colab": {
          "base_uri": "https://localhost:8080/",
          "height": 705
        },
        "id": "aOTje_6OJ5Ec",
        "outputId": "fc7041e4-ebb4-48ec-fa31-4082b8222cce"
      },
      "execution_count": null,
      "outputs": [
        {
          "output_type": "display_data",
          "data": {
            "text/plain": [
              "<Figure size 700x700 with 1 Axes>"
            ],
            "image/png": "[encoded data removed]"
          },
          "metadata": {}
        }
      ]
    },
    {
      "cell_type": "markdown",
      "source": [
        "## 5.2 Utilizando el modelo"
      ],
      "metadata": {
        "id": "EhH2xHOKT4K8"
      }
    },
    {
      "cell_type": "markdown",
      "source": [
        "Ahora utilizaremos el modelo para calcular la **probabilidad** y **clase** de la canción **FTBS**, la cual tiene una **bailabilidad** de **0.265**. \n",
        "\n",
        "En el siguiente bloque se calcula la probabilidad de que esta pertenezca a la clase **reggaeton**, es decir, a la **clase 1**."
      ],
      "metadata": {
        "id": "GDpVHBKST7f8"
      }
    },
    {
      "cell_type": "code",
      "source": [
        "prob = logisticRegr.predict_proba(np.array(0.265).reshape(-1,1))\n",
        "print('La probabilidad de que la canción pertenezca a la clase 1 es:\\n' + str(prob[0][1])[0:4])"
      ],
      "metadata": {
        "colab": {
          "base_uri": "https://localhost:8080/"
        },
        "id": "_2oHyFRSVb8F",
        "outputId": "76289ede-2fb6-490f-8fc6-4f592618bbd7"
      },
      "execution_count": null,
      "outputs": [
        {
          "output_type": "stream",
          "name": "stdout",
          "text": [
            "La probabilidad de que la canción pertenezca a la clase 1 es:\n",
            "0.21\n"
          ]
        }
      ]
    },
    {
      "cell_type": "markdown",
      "source": [
        "Esta predicción de probabilidad se puede visualizar sobre la curva del modelo en la **figura 3**:"
      ],
      "metadata": {
        "id": "gDLchF90V7HW"
      }
    },
    {
      "cell_type": "code",
      "source": [
        "# Se define el tamaño de la gráfica.\n",
        "plt.figure(figsize=(7, 7))\n",
        "\n",
        "# Se grafica la curva de la función logística.\n",
        "plt.plot(x_range, logistic_curve, color='purple', label='Curva logística', linewidth=2)\n",
        "plt.plot(0.265, 0.21, 'o', markersize = 15, color=\"orange\", label = 'Probabilidad estimada = ' + str(prob[0][1])[0:4])\n",
        "\n",
        "# Se configuran las características de las leyendas.\n",
        "plt.legend(loc='upper left', prop = {'family': 'DejaVu Sans', 'weight': 'bold', 'size': 10}, frameon = True, framealpha = 1, facecolor  = '#dddddd', shadow = True)\n",
        "\n",
        "# Se añaden títulos e información adicional.\n",
        "plt.title(\"Predicción de la función logística\", fontdict = {'family': 'DejaVu Sans', 'color':  'black', 'weight': 'bold', 'size': 14}, pad = 14)\n",
        "plt.xlabel(\"BAILABILIDAD\", fontdict = {'family': 'DejaVu Sans', 'color':  'black', 'weight': 'bold', 'size': 10}, labelpad = 10)\n",
        "plt.ylabel(\"PROBABILIDAD\", fontdict = {'family': 'DejaVu Sans', 'color':  'black', 'weight': 'bold', 'size': 10}, labelpad = 10)\n",
        "plt.suptitle(\"Fig. 3 Predicción realizada por el modelo visualizada sobre la curva de la función sigmoidea.\", fontproperties = {'family': 'DejaVu Sans', 'size': 11}, y=-0.001)\n",
        "\n",
        "plt.show()"
      ],
      "metadata": {
        "colab": {
          "base_uri": "https://localhost:8080/",
          "height": 705
        },
        "id": "jiOC7VDHWRvD",
        "outputId": "702675eb-b250-4377-80f5-b811e46253d9"
      },
      "execution_count": null,
      "outputs": [
        {
          "output_type": "display_data",
          "data": {
            "text/plain": [
              "<Figure size 700x700 with 1 Axes>"
            ],
            "image/png": "[encoded data removed]"
          },
          "metadata": {}
        }
      ]
    },
    {
      "cell_type": "markdown",
      "source": [
        "Ahora que hemos calculado esta probabilidad, revisamos cuál es la **categoría** asignada por el algoritmo utilizando el método **predict()**:"
      ],
      "metadata": {
        "id": "zh2kgcn5yskM"
      }
    },
    {
      "cell_type": "code",
      "source": [
        "predict_class = logisticRegr.predict(np.array(0.265).reshape(-1,1))[0]\n",
        "print('La clase estimada para la canción es:\\n' + str(predict_class))"
      ],
      "metadata": {
        "colab": {
          "base_uri": "https://localhost:8080/"
        },
        "id": "qSG2glYpSIR9",
        "outputId": "9ed15ff5-9db8-4c40-a820-207486b077d8"
      },
      "execution_count": null,
      "outputs": [
        {
          "output_type": "stream",
          "name": "stdout",
          "text": [
            "La clase estimada para la canción es:\n",
            "0\n"
          ]
        }
      ]
    },
    {
      "cell_type": "markdown",
      "source": [
        "Dado que la clase 0 es **black metal**, concluimos que esta pista se atribuye a tal categoría."
      ],
      "metadata": {
        "id": "VHpKH0vgzI08"
      }
    },
    {
      "cell_type": "markdown",
      "source": [
        "# 6. Regresión logística multivariable"
      ],
      "metadata": {
        "id": "yahDEatIzPf8"
      }
    },
    {
      "cell_type": "markdown",
      "source": [
        "La siguiente tarea a realizar es crear un modelo que haga las mismas clasificaciones, pero tomando en cuenta dos variables independientes: **bailabilidad** y **energía**. Por lo que se está hablando de una regresión logística multivariable.\n",
        "\n",
        "En el siguiente fragmento se ajustará el modelo para ambas variables y se imprimirá su **precisión** de predicción."
      ],
      "metadata": {
        "id": "LWLRVBCwzUuL"
      }
    },
    {
      "cell_type": "code",
      "source": [
        "# Se seleccionan las variables y se generan los conjuntos de entrenamiento y prueba.\n",
        "inputs = mod1_dataset[['Bailabilidad','Energía']]\n",
        "outputs = mod1_dataset['Género']\n",
        "x_train, x_test, y_train, y_test = train_test_split(inputs, outputs, test_size=0.2, random_state=42)\n",
        "\n",
        "# Se entrena el modelo.\n",
        "logisticRegr.fit(x_train, y_train)\n",
        "\n",
        "# Se calcula e imprime el valor de la precisión del modelo.\n",
        "y_pred = logisticRegr.predict(x_test)\n",
        "score = logisticRegr.score(x_test, y_test)\n",
        "\n",
        "print(\"La precisión del modelo es: \" + str(score))"
      ],
      "metadata": {
        "id": "wO5XSWusVA98",
        "colab": {
          "base_uri": "https://localhost:8080/"
        },
        "outputId": "77dbad38-8e52-401f-e1b6-8c32b25f8a20"
      },
      "execution_count": null,
      "outputs": [
        {
          "output_type": "stream",
          "name": "stdout",
          "text": [
            "La precisión del modelo es: 1.0\n"
          ]
        }
      ]
    },
    {
      "cell_type": "markdown",
      "source": [
        "Podemos observar que la **precisión** del modelo es también del 100%; esto es porque ambas variables son linealmente separables en su totalidad, lo cual se puede constatar en la **figura 4**:"
      ],
      "metadata": {
        "id": "WqgG9QO-PHOo"
      }
    },
    {
      "cell_type": "code",
      "source": [
        "# Se crea una malla de puntos en el plano.\n",
        "x_min, x_max = mod1_dataset['Bailabilidad'].min() - 0.1, mod1_dataset['Bailabilidad'].max() + 0.1\n",
        "y_min, y_max = mod1_dataset['Energía'].min() - 0.1, mod1_dataset['Energía'].max() + 0.1\n",
        "xx, yy = np.meshgrid(np.arange(x_min, 1.1, 0.001),\n",
        "                     np.arange(y_min, 1.09, 0.001))\n",
        "\n",
        "# Se obtienen las etiquetas para cada punto.\n",
        "labels = mod1_dataset['Género']\n",
        "\n",
        "# Se predicen las etiquetas de los puntos en la malla.\n",
        "Z = logisticRegr.predict(np.c_[xx.ravel(), yy.ravel()])\n",
        "Z = Z.reshape(xx.shape)\n",
        "\n",
        "# Se crea una lista de colores para cada punto.\n",
        "colors = ['blue' if label == 0 else 'red' for label in labels]\n",
        "\n",
        "# Se define el tamaño de la gráfica.\n",
        "plt.figure(figsize=(7, 7))\n",
        "\n",
        "# Se grafican los puntos y el límite de decisión.\n",
        "plt.scatter(mod1_dataset['Bailabilidad'], mod1_dataset['Energía'], c=colors)\n",
        "plt.contour(xx, yy, Z, levels=[0], colors='black', linewidths=2)\n",
        "\n",
        "# Se definen las leyendas de la gráfica.\n",
        "line = mlines.Line2D([], [], color='black', linewidth=3, label='Límite de decisión')\n",
        "red_circle = mlines.Line2D([], [], color='blue', marker='o', linestyle='None', markersize=10, label='Clase 0')\n",
        "blue_circle = mlines.Line2D([], [], color='red', marker='o', linestyle='None', markersize=10, label='Clase 1')\n",
        "\n",
        "# Se configuran las características de las leyendas.\n",
        "plt.legend(handles=[line, red_circle, blue_circle], loc='lower left', prop={'family': 'DejaVu Sans', 'weight': 'bold', 'size': 11}, frameon=True, framealpha=1, facecolor='#dddddd', shadow=True)\n",
        "\n",
        "# Se añaden títulos e información adicional.\n",
        "plt.title(\"Límite de decisión\", fontdict = {'family': 'DejaVu Sans', 'color':  'black', 'weight': 'bold', 'size': 14}, pad = 14)\n",
        "plt.xlabel(\"BAILABILIDAD\", fontdict = {'family': 'DejaVu Sans', 'color':  'black', 'weight': 'bold', 'size': 10}, labelpad = 10)\n",
        "plt.ylabel(\"ENERGÍA\", fontdict = {'family': 'DejaVu Sans', 'color':  'black', 'weight': 'bold', 'size': 10}, labelpad = 10)\n",
        "plt.suptitle(\"Fig. 4 Límite de decisión del modelo separando las observaciones de las dos clases existentes.\", fontproperties = {'family': 'DejaVu Sans', 'size': 11}, y=-0.001)\n",
        "\n",
        "plt.show()"
      ],
      "metadata": {
        "colab": {
          "base_uri": "https://localhost:8080/",
          "height": 704
        },
        "id": "tRJgvDH6121t",
        "outputId": "e3bb2939-8144-4e75-9d9a-30a6818d2bf6"
      },
      "execution_count": null,
      "outputs": [
        {
          "output_type": "display_data",
          "data": {
            "text/plain": [
              "<Figure size 700x700 with 1 Axes>"
            ],
            "image/png": "[encoded data removed]"
          },
          "metadata": {}
        }
      ]
    },
    {
      "cell_type": "markdown",
      "source": [
        "La recta en la gráfica **separa** de forma consistente las dos clases de datos, lo cual demuestra que las variables **energía** y **bailabilidad** marcan una diferenciación muy precisa entre canciones de ambos géneros."
      ],
      "metadata": {
        "id": "Ur0g1PW2QS3c"
      }
    },
    {
      "cell_type": "markdown",
      "source": [
        "# 7. Regresión logística multivariable multiclase"
      ],
      "metadata": {
        "id": "LBRiRWMhQMI1"
      }
    },
    {
      "cell_type": "markdown",
      "source": [
        "Por último se creará un modelo idéntico, con la diferencia de que se añadirá una **clase** **extra**: el género **salsa**.\n",
        "\n",
        "Para esto volveremos a utilizar el conjunto de datos que resultó del preprocesamiento. Parta la clasificación final, la librería sklearn utiliza la función **softmax** en la definición de la pertenencia de los datos a las distintas clases. Este método será discutido en expediciones próximas.\n",
        "\n",
        "Entrenamos el modelo con tres clases e imprimimos su precisión:"
      ],
      "metadata": {
        "id": "OL_uLrI8QQRN"
      }
    },
    {
      "cell_type": "code",
      "source": [
        "# Se generan los conjuntos de entrenamiento y prueba.\n",
        "inputs = prep_dataset[['Bailabilidad','Energía']]\n",
        "outputs = prep_dataset['Género']\n",
        "x_train, x_test, y_train, y_test = train_test_split(inputs, outputs, test_size=0.2, random_state=42)\n",
        "\n",
        "#Se entrena el modelo.\n",
        "logisticRegr.fit(x_train, y_train)\n",
        "\n",
        "# Se calcula e imprime el valor de la precisión del modelo.\n",
        "y_pred = logisticRegr.predict(x_test)\n",
        "score = logisticRegr.score(x_test, y_test)\n",
        "\n",
        "print(\"La precisión del modelo es: \" + str(score))"
      ],
      "metadata": {
        "colab": {
          "base_uri": "https://localhost:8080/"
        },
        "id": "tOP18UqqPhM1",
        "outputId": "fb760d13-484d-4b63-bbad-7b7ae5d14c4d"
      },
      "execution_count": null,
      "outputs": [
        {
          "output_type": "stream",
          "name": "stdout",
          "text": [
            "La precisión del modelo es: 0.75\n"
          ]
        }
      ]
    },
    {
      "cell_type": "markdown",
      "source": [
        "Notaremos que el modelo tiene una precisión considerablemente más baja, lo cual puede ser porque las observaciones añadidas no son tan seperables como en el caso anterior.\n",
        "\n",
        "Una forma de visualizar esto es la que se muestra en la **figura 5**:"
      ],
      "metadata": {
        "id": "ukeUeKy9VNmN"
      }
    },
    {
      "cell_type": "code",
      "source": [
        "# Se crea una malla de puntos en el plano.\n",
        "x_min, x_max = prep_dataset['Bailabilidad'].min() - 0.1, prep_dataset['Bailabilidad'].max() + 0.1\n",
        "y_min, y_max = prep_dataset['Energía'].min() - 0.1, prep_dataset['Energía'].max() + 0.1\n",
        "xx, yy = np.meshgrid(np.arange(x_min, 1.1, 0.001),\n",
        "                     np.arange(y_min, 1.09, 0.001))\n",
        "\n",
        "# Se obtienen las etiquetas para cada punto.\n",
        "labels = prep_dataset['Género']\n",
        "\n",
        "# Se predicen las etiquetas de los puntos en la malla.\n",
        "Z = logisticRegr.predict(np.c_[xx.ravel(), yy.ravel()])\n",
        "Z = Z.reshape(xx.shape)\n",
        "\n",
        "# Se crea una lista de colores para cada punto.\n",
        "colors = ['red' if label == 0 else 'blue' if label == 1 else 'green' if label == 2 else 'black' for label in labels]\n",
        "\n",
        "# Se define el tamaño de la gráfica.\n",
        "plt.figure(figsize=(7, 7))\n",
        "\n",
        "# Se grafican los puntos y el límite de decisión.\n",
        "plt.scatter(prep_dataset['Bailabilidad'], prep_dataset['Energía'], c=colors)\n",
        "\n",
        "# Se definen las leyendas de la gráfica.\n",
        "blue_circle = mlines.Line2D([], [], color='blue', marker='o', linestyle='None', markersize=10, label='Clase 0')\n",
        "red_circle = mlines.Line2D([], [], color='red', marker='o', linestyle='None', markersize=10, label='Clase 1')\n",
        "yellow_circle = mlines.Line2D([], [], color='green', marker='o', linestyle='None', markersize=10, label='Clase 2')\n",
        "\n",
        "# Se configuran las características de las leyendas.\n",
        "plt.legend(handles=[blue_circle, red_circle, yellow_circle], loc='lower left', prop={'family': 'DejaVu Sans', 'weight': 'bold', 'size': 11}, frameon=True, framealpha=1, facecolor='#dddddd', shadow=True)\n",
        "\n",
        "#Se añaden títulos e información adicional.\n",
        "plt.title(\"Dispersión de los datos\", fontdict = {'family': 'DejaVu Sans', 'color':  'black', 'weight': 'bold', 'size': 14}, pad = 14)\n",
        "plt.xlabel(\"BAILABILIDAD\", fontdict = {'family': 'DejaVu Sans', 'color':  'black', 'weight': 'bold', 'size': 10}, labelpad = 10)\n",
        "plt.ylabel(\"ENERGÍA\", fontdict = {'family': 'DejaVu Sans', 'color':  'black', 'weight': 'bold', 'size': 10}, labelpad = 10)\n",
        "plt.suptitle(\"Fig. 5 Dispersión de los datos etiquetados por clases.\", fontproperties = {'family': 'DejaVu Sans', 'size': 11}, y=-0.001)\n",
        "\n",
        "plt.show()"
      ],
      "metadata": {
        "colab": {
          "base_uri": "https://localhost:8080/",
          "height": 705
        },
        "id": "4UTWssNUS6Sm",
        "outputId": "32486e15-96d6-44ee-82a3-e28bdd9af8e1"
      },
      "execution_count": null,
      "outputs": [
        {
          "output_type": "display_data",
          "data": {
            "text/plain": [
              "<Figure size 700x700 with 1 Axes>"
            ],
            "image/png": "[encoded data removed]"
          },
          "metadata": {}
        }
      ]
    },
    {
      "cell_type": "markdown",
      "source": [
        "Se puede constatar que a pesar de que los puntos pertenecientes a la **clase 1** y la **clase 2** tienen una separación marcada, los ejemplos de entrenamiento de la **clase 0** y la **clase 2** se mezclan un poco más, generando una precisión más baja del modelo. Esto se puede explicar por **similitudes** en las canciones respecto a las métricas seleccionadas.\n",
        "\n",
        "Sin embargo, los resultados de los tres modelos apuntan a que las métricas involucradas pueden ser marcadores efectivos de **diferenciación** entre canciones de diferentes **géneros musicales**. Para crear modelos multicaclase con mayor precisión se pueden sumar otras variables, o incluso utilizar un modelos de clasificación diferentes."
      ],
      "metadata": {
        "id": "5cWDcjE4Vb60"
      }
    },
    {
      "cell_type": "markdown",
      "source": [
        "Ahora puedes experimentar con distintas combinaciones de **clases** y **métricas** para el entrenamiento del modelo con regresión logística"
      ],
      "metadata": {
        "id": "gZZGnrmvU90g"
      }
    },
    {
      "cell_type": "markdown",
      "source": [
        "# 8. Ejercicio (opcional)"
      ],
      "metadata": {
        "id": "b8sOY0XHWsau"
      }
    },
    {
      "cell_type": "markdown",
      "source": [
        "Por último, tienes la oportunidad de elegir las **clases** y **métricas** que gustes para el entrenamiento del modelo. Recuerda que puedes elegir entre las siguientes características (sin contar Nombre y Género): "
      ],
      "metadata": {
        "id": "oPr5V4MFW8Xq"
      }
    },
    {
      "cell_type": "code",
      "source": [
        "# Se imprimen las características del conjunto de datos.\n",
        "dataset.columns.tolist()"
      ],
      "metadata": {
        "colab": {
          "base_uri": "https://localhost:8080/"
        },
        "id": "JUs0Vc03TaYu",
        "outputId": "3babb16c-17c6-45c9-a246-52509d1d5b8b"
      },
      "execution_count": null,
      "outputs": [
        {
          "output_type": "execute_result",
          "data": {
            "text/plain": [
              "['Nombre',\n",
              " 'Bailabilidad',\n",
              " 'Energía',\n",
              " 'Acústica',\n",
              " 'Duración (ms)',\n",
              " 'Instrumentalidad',\n",
              " 'Sonoridad',\n",
              " 'Tempo',\n",
              " 'Discursividad',\n",
              " 'Género']"
            ]
          },
          "metadata": {},
          "execution_count": 21
        }
      ]
    },
    {
      "cell_type": "markdown",
      "source": [
        "Y las siguientes clases:"
      ],
      "metadata": {
        "id": "mzSWJrT4X5Z1"
      }
    },
    {
      "cell_type": "code",
      "source": [
        "# Se imprimen los géneros disponibles.\n",
        "dataset['Género'].unique().tolist()"
      ],
      "metadata": {
        "colab": {
          "base_uri": "https://localhost:8080/"
        },
        "id": "NPr2QVrCX7S_",
        "outputId": "d9d5e89c-8604-4622-b818-513e48697861"
      },
      "execution_count": null,
      "outputs": [
        {
          "output_type": "execute_result",
          "data": {
            "text/plain": [
              "['world-music',\n",
              " 'salsa',\n",
              " 'rock-n-roll',\n",
              " 'reggae',\n",
              " 'reggaeton',\n",
              " 'pop',\n",
              " 'black-metal',\n",
              " 'k-pop',\n",
              " 'hip-hop',\n",
              " 'electronic']"
            ]
          },
          "metadata": {},
          "execution_count": 22
        }
      ]
    },
    {
      "cell_type": "markdown",
      "source": [
        "Modifica el siguiente fragmento con tus elecciones (no olvides colocar el texto entre comillas simples o dobles):"
      ],
      "metadata": {
        "id": "_RzImGlUX0M-"
      }
    },
    {
      "cell_type": "code",
      "source": [
        "# Se carga el conjunt de datos.\n",
        "dataset = pd.read_csv('https://raw.githubusercontent.com/DanielDialektico/Machine-Learning/main/Conjuntos%20de%20datos/Spotify_genres.csv')\n",
        "\n",
        "# Se eligen dos atributos.\n",
        "attribute_1 = #Escribe tu elección.\n",
        "attribute_2 = #Escribe tu elección.\n",
        "\n",
        "# Se eligen dos géneros.\n",
        "genre_1 = #Escribe tu elección.\n",
        "genre_2 = #Escribe tu elección.\n",
        "\n",
        "# Se preprocesa el conjunto de datos.\n",
        "dataset = dataset.loc[:, ['Nombre', attribute_1, attribute_2, 'Género']]\n",
        "dataset = dataset.loc[dataset.iloc[:, -1].isin([genre_1, genre_2])]\n",
        "dataset = dataset.drop_duplicates(subset=['Nombre']).reset_index(drop = True)\n",
        "dataset['Género'] = label_encoder.fit_transform(dataset['Género'])\n",
        "\n",
        "dataset"
      ],
      "metadata": {
        "colab": {
          "base_uri": "https://localhost:8080/",
          "height": 424
        },
        "id": "xv9bfad6XiG3",
        "outputId": "3ddf6175-7f8a-4d8a-90b7-595ada983786"
      },
      "execution_count": null,
      "outputs": [
        {
          "output_type": "execute_result",
          "data": {
            "text/plain": [
              "                     Nombre    Tempo  Instrumentalidad  Género\n",
              "0                       TQG  179.974          0.000000       1\n",
              "1           Me Porto Bonito   92.005          0.000027       1\n",
              "2          Tití Me Preguntó  106.672          0.000291       1\n",
              "3                    Chanel  132.005          0.003170       1\n",
              "4                Classy 101  100.065          0.000000       1\n",
              "..                      ...      ...               ...     ...\n",
              "86               Deathcrush  121.476          0.933000       0\n",
              "87                     FTBS   94.248          0.180000       0\n",
              "88  Stress Builds Character   80.705          0.038600       0\n",
              "89          Fear of Failure  149.851          0.072300       0\n",
              "90         Deathmask Divine  113.966          0.000010       0\n",
              "\n",
              "[91 rows x 4 columns]"
            ],
            "text/html": [
              "\n",
              "  <div id=\"df-c501e4cf-ba2d-49a6-912c-bdb82a214550\">\n",
              "    <div class=\"colab-df-container\">\n",
              "      <div>\n",
              "<style scoped>\n",
              "    .dataframe tbody tr th:only-of-type {\n",
              "        vertical-align: middle;\n",
              "    }\n",
              "\n",
              "    .dataframe tbody tr th {\n",
              "        vertical-align: top;\n",
              "    }\n",
              "\n",
              "    .dataframe thead th {\n",
              "        text-align: right;\n",
              "    }\n",
              "</style>\n",
              "<table border=\"1\" class=\"dataframe\">\n",
              "  <thead>\n",
              "    <tr style=\"text-align: right;\">\n",
              "      <th></th>\n",
              "      <th>Nombre</th>\n",
              "      <th>Tempo</th>\n",
              "      <th>Instrumentalidad</th>\n",
              "      <th>Género</th>\n",
              "    </tr>\n",
              "  </thead>\n",
              "  <tbody>\n",
              "    <tr>\n",
              "      <th>0</th>\n",
              "      <td>TQG</td>\n",
              "      <td>179.974</td>\n",
              "      <td>0.000000</td>\n",
              "      <td>1</td>\n",
              "    </tr>\n",
              "    <tr>\n",
              "      <th>1</th>\n",
              "      <td>Me Porto Bonito</td>\n",
              "      <td>92.005</td>\n",
              "      <td>0.000027</td>\n",
              "      <td>1</td>\n",
              "    </tr>\n",
              "    <tr>\n",
              "      <th>2</th>\n",
              "      <td>Tití Me Preguntó</td>\n",
              "      <td>106.672</td>\n",
              "      <td>0.000291</td>\n",
              "      <td>1</td>\n",
              "    </tr>\n",
              "    <tr>\n",
              "      <th>3</th>\n",
              "      <td>Chanel</td>\n",
              "      <td>132.005</td>\n",
              "      <td>0.003170</td>\n",
              "      <td>1</td>\n",
              "    </tr>\n",
              "    <tr>\n",
              "      <th>4</th>\n",
              "      <td>Classy 101</td>\n",
              "      <td>100.065</td>\n",
              "      <td>0.000000</td>\n",
              "      <td>1</td>\n",
              "    </tr>\n",
              "    <tr>\n",
              "      <th>...</th>\n",
              "      <td>...</td>\n",
              "      <td>...</td>\n",
              "      <td>...</td>\n",
              "      <td>...</td>\n",
              "    </tr>\n",
              "    <tr>\n",
              "      <th>86</th>\n",
              "      <td>Deathcrush</td>\n",
              "      <td>121.476</td>\n",
              "      <td>0.933000</td>\n",
              "      <td>0</td>\n",
              "    </tr>\n",
              "    <tr>\n",
              "      <th>87</th>\n",
              "      <td>FTBS</td>\n",
              "      <td>94.248</td>\n",
              "      <td>0.180000</td>\n",
              "      <td>0</td>\n",
              "    </tr>\n",
              "    <tr>\n",
              "      <th>88</th>\n",
              "      <td>Stress Builds Character</td>\n",
              "      <td>80.705</td>\n",
              "      <td>0.038600</td>\n",
              "      <td>0</td>\n",
              "    </tr>\n",
              "    <tr>\n",
              "      <th>89</th>\n",
              "      <td>Fear of Failure</td>\n",
              "      <td>149.851</td>\n",
              "      <td>0.072300</td>\n",
              "      <td>0</td>\n",
              "    </tr>\n",
              "    <tr>\n",
              "      <th>90</th>\n",
              "      <td>Deathmask Divine</td>\n",
              "      <td>113.966</td>\n",
              "      <td>0.000010</td>\n",
              "      <td>0</td>\n",
              "    </tr>\n",
              "  </tbody>\n",
              "</table>\n",
              "<p>91 rows × 4 columns</p>\n",
              "</div>\n",
              "      <button class=\"colab-df-convert\" onclick=\"convertToInteractive('df-c501e4cf-ba2d-49a6-912c-bdb82a214550')\"\n",
              "              title=\"Convert this dataframe to an interactive table.\"\n",
              "              style=\"display:none;\">\n",
              "        \n",
              "  <svg xmlns=\"http://www.w3.org/2000/svg\" height=\"24px\"viewBox=\"0 0 24 24\"\n",
              "       width=\"24px\">\n",
              "    <path d=\"M0 0h24v24H0V0z\" fill=\"none\"/>\n",
              "    <path d=\"M18.56 5.44l.94 2.06.94-2.06 2.06-.94-2.06-.94-.94-2.06-.94 2.06-2.06.94zm-11 1L8.5 8.5l.94-2.06 2.06-.94-2.06-.94L8.5 2.5l-.94 2.06-2.06.94zm10 10l.94 2.06.94-2.06 2.06-.94-2.06-.94-.94-2.06-.94 2.06-2.06.94z\"/><path d=\"M17.41 7.96l-1.37-1.37c-.4-.4-.92-.59-1.43-.59-.52 0-1.04.2-1.43.59L10.3 9.45l-7.72 7.72c-.78.78-.78 2.05 0 2.83L4 21.41c.39.39.9.59 1.41.59.51 0 1.02-.2 1.41-.59l7.78-7.78 2.81-2.81c.8-.78.8-2.07 0-2.86zM5.41 20L4 18.59l7.72-7.72 1.47 1.35L5.41 20z\"/>\n",
              "  </svg>\n",
              "      </button>\n",
              "      \n",
              "  <style>\n",
              "    .colab-df-container {\n",
              "      display:flex;\n",
              "      flex-wrap:wrap;\n",
              "      gap: 12px;\n",
              "    }\n",
              "\n",
              "    .colab-df-convert {\n",
              "      background-color: #E8F0FE;\n",
              "      border: none;\n",
              "      border-radius: 50%;\n",
              "      cursor: pointer;\n",
              "      display: none;\n",
              "      fill: #1967D2;\n",
              "      height: 32px;\n",
              "      padding: 0 0 0 0;\n",
              "      width: 32px;\n",
              "    }\n",
              "\n",
              "    .colab-df-convert:hover {\n",
              "      background-color: #E2EBFA;\n",
              "      box-shadow: 0px 1px 2px rgba(60, 64, 67, 0.3), 0px 1px 3px 1px rgba(60, 64, 67, 0.15);\n",
              "      fill: #174EA6;\n",
              "    }\n",
              "\n",
              "    [theme=dark] .colab-df-convert {\n",
              "      background-color: #3B4455;\n",
              "      fill: #D2E3FC;\n",
              "    }\n",
              "\n",
              "    [theme=dark] .colab-df-convert:hover {\n",
              "      background-color: #434B5C;\n",
              "      box-shadow: 0px 1px 3px 1px rgba(0, 0, 0, 0.15);\n",
              "      filter: drop-shadow(0px 1px 2px rgba(0, 0, 0, 0.3));\n",
              "      fill: #FFFFFF;\n",
              "    }\n",
              "  </style>\n",
              "\n",
              "      <script>\n",
              "        const buttonEl =\n",
              "          document.querySelector('#df-c501e4cf-ba2d-49a6-912c-bdb82a214550 button.colab-df-convert');\n",
              "        buttonEl.style.display =\n",
              "          google.colab.kernel.accessAllowed ? 'block' : 'none';\n",
              "\n",
              "        async function convertToInteractive(key) {\n",
              "          const element = document.querySelector('#df-c501e4cf-ba2d-49a6-912c-bdb82a214550');\n",
              "          const dataTable =\n",
              "            await google.colab.kernel.invokeFunction('convertToInteractive',\n",
              "                                                     [key], {});\n",
              "          if (!dataTable) return;\n",
              "\n",
              "          const docLinkHtml = 'Like what you see? Visit the ' +\n",
              "            '<a target=\"_blank\" href=https://colab.research.google.com/notebooks/data_table.ipynb>data table notebook</a>'\n",
              "            + ' to learn more about interactive tables.';\n",
              "          element.innerHTML = '';\n",
              "          dataTable['output_type'] = 'display_data';\n",
              "          await google.colab.output.renderOutput(dataTable, element);\n",
              "          const docLink = document.createElement('div');\n",
              "          docLink.innerHTML = docLinkHtml;\n",
              "          element.appendChild(docLink);\n",
              "        }\n",
              "      </script>\n",
              "    </div>\n",
              "  </div>\n",
              "  "
            ]
          },
          "metadata": {},
          "execution_count": 35
        }
      ]
    },
    {
      "cell_type": "markdown",
      "source": [
        "Ahora entrena tu modelo ejecutando el siguiente fragmento sin hacer modificaciones al código, y observa el valor de su precisión:"
      ],
      "metadata": {
        "id": "SPKFCWPxbQQO"
      }
    },
    {
      "cell_type": "code",
      "source": [
        "# Se generan los conjuntos de entrenamiento y prueba.\n",
        "inputs = dataset[[attribute_1, attribute_2]]\n",
        "outputs = dataset['Género']\n",
        "x_train, x_test, y_train, y_test = train_test_split(inputs, outputs, test_size=0.2, random_state=42)\n",
        "\n",
        "#Se entrena el modelo.\n",
        "logisticRegr.fit(x_train, y_train)\n",
        "\n",
        "#Se calcula e imprime la precisión del modelo.\n",
        "y_pred = logisticRegr.predict(x_test)\n",
        "score = logisticRegr.score(x_test, y_test)\n",
        "\n",
        "print(\"La precisión del modelo es: \" + str(score))"
      ],
      "metadata": {
        "colab": {
          "base_uri": "https://localhost:8080/"
        },
        "id": "022MueJdZFaG",
        "outputId": "3b528e71-0f64-4151-9629-54b04aabc553"
      },
      "execution_count": null,
      "outputs": [
        {
          "output_type": "stream",
          "name": "stdout",
          "text": [
            "La precisión del modelo es: 0.7894736842105263\n"
          ]
        }
      ]
    },
    {
      "cell_type": "markdown",
      "source": [
        "Por último, indaga en cómo luce la separación de clases ejecutando la siguiente celda:"
      ],
      "metadata": {
        "id": "WvR_V01jbazW"
      }
    },
    {
      "cell_type": "code",
      "source": [
        "# Se crea una malla de puntos en el plano.\n",
        "x_min, x_max = dataset[attribute_1].min() - 0.1, dataset[attribute_1].max() + 0.1\n",
        "y_min, y_max = dataset[attribute_2].min() - 0.1, dataset[attribute_2].max() + 0.1\n",
        "xx, yy = np.meshgrid(np.linspace(x_min, x_max, 2000), np.linspace(y_min, y_max, 2000))\n",
        "\n",
        "# Se obtienen las etiquetas para cada punto.\n",
        "labels = dataset['Género']\n",
        "\n",
        "# Se predicen las etiquetas de los puntos en la malla.\n",
        "Z = logisticRegr.predict(np.c_[xx.ravel(), yy.ravel()])\n",
        "Z = Z.reshape(xx.shape)\n",
        "\n",
        "# Se crea una lista de colores para cada punto.\n",
        "colors = ['blue' if label == 0 else 'red' for label in labels]\n",
        "\n",
        "# Se define el tamaño de la gráfica.\n",
        "plt.figure(figsize=(7, 7))\n",
        "\n",
        "# Se grafican los puntos y el límite de decisión.\n",
        "plt.scatter(dataset[attribute_1], dataset[attribute_2], c=colors)\n",
        "plt.contour(xx, yy, Z, levels=[0], colors='black', linewidths=2)\n",
        "\n",
        "# Se definen las leyendas de la gráfica.\n",
        "line1 = mlines.Line2D([], [], color='black', linewidth=3, label='Límite de decisión')\n",
        "red_circle = mlines.Line2D([], [], color='blue', marker='o', linestyle='None', markersize=7, label='Clase 0')\n",
        "blue_circle = mlines.Line2D([], [], color='red', marker='o', linestyle='None', markersize=7, label='Clase 1')\n",
        "\n",
        "# Se configuran las características de las leyendas.\n",
        "plt.legend(handles=[line1, red_circle, blue_circle], loc='center left', prop={'family': 'DejaVu Sans', 'weight': 'bold', 'size': 8}, frameon=True, framealpha=1, facecolor='#dddddd', shadow=True)\n",
        "\n",
        "# Se añaden títulos e información adicional.\n",
        "plt.title(\"Límite de decisión\", fontdict = {'family': 'DejaVu Sans', 'color':  'black', 'weight': 'bold', 'size': 14}, pad = 14)\n",
        "plt.xlabel(attribute_1, fontdict = {'family': 'DejaVu Sans', 'color':  'black', 'weight': 'bold', 'size': 10}, labelpad = 10)\n",
        "plt.ylabel(attribute_2, fontdict = {'family': 'DejaVu Sans', 'color':  'black', 'weight': 'bold', 'size': 10}, labelpad = 10)\n",
        "\n",
        "plt.show()"
      ],
      "metadata": {
        "colab": {
          "base_uri": "https://localhost:8080/",
          "height": 657
        },
        "id": "ys4Y7RCyaXSv",
        "outputId": "464fde39-85ae-4a58-ed36-6bdc2434b0ea"
      },
      "execution_count": null,
      "outputs": [
        {
          "output_type": "display_data",
          "data": {
            "text/plain": [
              "<Figure size 700x700 with 1 Axes>"
            ],
            "image/png": "[encoded data removed]"
          },
          "metadata": {}
        }
      ]
    },
    {
      "cell_type": "markdown",
      "source": [
        "¿Cuáles han sido tus resultados?, ¿encontraste alguna combinación linealmente separable? Compártenos tus resultados en los comentarios de la lección."
      ],
      "metadata": {
        "id": "WEocmxJZF9rw"
      }
    },
    {
      "cell_type": "markdown",
      "source": [
        "Con este ejercicio concluye esta práctica de regresión logística, recomiendo que tomes tu tiempo haciendo tus propios experimentos en el último apartado.\n",
        "\n",
        "▶ [Regresar a la lección](https://dialektico.com/regresion-logistica-fundamentos/) 🧙"
      ],
      "metadata": {
        "id": "xvtJ6SCw8NGS"
      }
    },
    {
      "cell_type": "markdown",
      "source": [
        "# 9. Apéndice"
      ],
      "metadata": {
        "id": "JZ0Cav9z9S4X"
      }
    },
    {
      "cell_type": "markdown",
      "source": [
        "## 9.1 Conjunto de datos"
      ],
      "metadata": {
        "id": "P6isJ4yWWkFC"
      }
    },
    {
      "cell_type": "markdown",
      "source": [
        "Este conjunto de datos fue extraído por **Dialéktico** utilizando la **API** de **Spotify**, consta de 500 canciones y 9 atributos:"
      ],
      "metadata": {
        "id": "dwa_LMX7Wo1p"
      }
    },
    {
      "cell_type": "markdown",
      "source": [
        "**Género**: género musical al que pertenece la canción.\n",
        "\n",
        "**Nombre**: nombre de la canción.\n",
        "\n",
        "**Acústica**: medida de confianza de 0,0 a 1.0 de si la pista es acústica. 1.0 representa una alta confianza en que la pista es acústica.\n",
        "\n",
        "**Bailabilidad**: la capacidad de baile describe qué tan adecuada es una pista para bailar en función de una combinación de elementos musicales que incluyen tempo, estabilidad del ritmo, fuerza del ritmo y regularidad general. Un valor de 0,0 es menos bailable y 1.0 es más bailable.\n",
        "\n",
        "**Duración (ms)**: duración de la pista en milisegundos.\n",
        "\n",
        "**Energía**: medida de 0.0 a 1.0 que representa un grado perceptivo de intensidad y actividad. Por lo general, las pistas enérgicas se sienten rápidas, fuertes y ruidosas. Por ejemplo, el death metal tiene mucha energía, mientras que un preludio de Bach tiene una puntuación baja en la escala. Las características perceptivas que contribuyen a este atributo incluyen el rango dinámico, el volumen percibido, el timbre, la tasa de inicio y la entropía general.\n",
        "\n",
        "**Instrumentalidad**: predice si una pista no contiene voces. Los sonidos \"Ooh\" y \"aah\" se tratan como instrumentales en este contexto. Las pistas de rap o de palabras habladas son claramente \"vocales\". Cuanto más cerca esté el valor de instrumentalidad de 1.0, mayor será la probabilidad de que la pista no contenga contenido vocal. Los valores superiores a 0.5 pretenden representar pistas instrumentales, pero la confianza es mayor a medida que el valor se acerca a 1.0.\n",
        "\n",
        "**Sonoridad**: volumen general de una pista en decibelios (dB). Los valores de sonoridad se promedian en toda la pista y son útiles para comparar la sonoridad relativa de las pistas. El volumen es la cualidad de un sonido que es el principal correlato psicológico de la fuerza física (amplitud). Los valores suelen oscilar entre -60 y 0 db.\n",
        "\n",
        "**Tempo**: el tempo general estimado de una pista en pulsaciones por minuto (BPM). En terminología musical, el tempo es la velocidad o ritmo de una pieza dada y se deriva directamente de la duración promedio del tiempo.\n",
        "\n",
        "**Discursividad**: detecta la presencia de palabras habladas en una pista. Cuanto más se parece exclusivamente al habla la grabación (por ejemplo, programa de entrevistas, audiolibro, poesía), más cerca de 1.0 es el valor del atributo. Los valores superiores a 0.66 describen pistas que probablemente estén formadas en su totalidad por palabras habladas. Los valores entre 0.33 y 0.66 describen pistas que pueden contener tanto música como voz, ya sea en secciones o en capas, incluidos casos como la música rap. Los valores por debajo de 0.33 probablemente representen música y otras pistas que no sean de voz."
      ],
      "metadata": {
        "id": "8DKjVFuu9T63"
      }
    },
    {
      "cell_type": "code",
      "source": [],
      "metadata": {
        "id": "6uDFZ9IaAM9a"
      },
      "execution_count": null,
      "outputs": []
    }
  ]
}