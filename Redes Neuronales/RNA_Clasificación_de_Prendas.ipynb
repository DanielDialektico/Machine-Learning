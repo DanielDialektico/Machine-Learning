{
  "nbformat": 4,
  "nbformat_minor": 0,
  "metadata": {
    "colab": {
      "provenance": [],
      "toc_visible": true,
      "authorship_tag": "ABX9TyMRalOsFRSFGlz9kg8AmB2o",
      "include_colab_link": true
    },
    "kernelspec": {
      "name": "python3",
      "display_name": "Python 3"
    },
    "language_info": {
      "name": "python"
    }
  },
  "cells": [
    {
      "cell_type": "markdown",
      "metadata": {
        "id": "view-in-github",
        "colab_type": "text"
      },
      "source": [
        "<a href=\"https://colab.research.google.com/github/DanielDialektico/Machine-Learning/blob/main/Redes%20Neuronales/RNA_Clasificaci%C3%B3n_de_Prendas.ipynb\" target=\"_parent\"><img src=\"https://colab.research.google.com/assets/colab-badge.svg\" alt=\"Open In Colab\"/></a>"
      ]
    },
    {
      "cell_type": "markdown",
      "source": [
        "![MiniLogoW4.png](data:image/png;base64,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)"
      ],
      "metadata": {
        "id": "bwFoYrixWA8H"
      }
    },
    {
      "cell_type": "markdown",
      "source": [
        "**ALGORITMO DE APRENDIZAJE SUPERVISADO** 🤖"
      ],
      "metadata": {
        "id": "fnwnz7jcW9en"
      }
    },
    {
      "cell_type": "markdown",
      "metadata": {
        "id": "xM9PkwPe_wHC"
      },
      "source": [
        "# 1. Introducción\n",
        "En esta práctica podrás observar y ejecutar la procreación y entrenamiento de un algoritmo de **aprendizaje supervisado** desde la carga del **conjunto de datos**, hasta la evaluación del **modelo** resultante. \n",
        "\n",
        "El fin de esto es que presencies cómo se concretan los **objetivos** que persigue el aprendizaje supervisado en cada diferente paso de su metodología, operando desde un espacio de programación en **Python**. \n",
        "\n",
        "Como se mencionó en la **[exploración](https://dialektico.com/aprendizaje-supervisado/)**, este algoritmo utilizará **redes neuronales artificiales** para aprender a realizar una tarea de clasificación. \n",
        "\n"
      ]
    },
    {
      "cell_type": "markdown",
      "metadata": {
        "id": "XgLk0Fo9Z2-Q"
      },
      "source": [
        "# 2. Objetivo"
      ]
    },
    {
      "cell_type": "markdown",
      "source": [
        "Como ya se ha establecido, el objetivo planteado es el de entrenar un modelo para otorgarle la capacidad de **clasificar** imágenes de ropa de acuerdo a **10 clases** diferentes, las cuales se pueden consultar en la siguiente tabla: <br>\n",
        "<br>\n",
        "<center>\n",
        "<table>\n",
        "  <tr>\n",
        "    <th>Nombre de la prenda (salida)</th>\n",
        "  </tr>\n",
        "  <tr>\n",
        "    <td>Playera/Blusa</td>\n",
        "  </tr>\n",
        "  <tr>\n",
        "    <td>Pantalón</td>\n",
        "  </tr>\n",
        "    <tr>\n",
        "    <td>Suéter</td>\n",
        "  </tr>\n",
        "    <tr>\n",
        "    <td>Vestido</td>\n",
        "  </tr>\n",
        "    <tr>\n",
        "    <td>Abrigo</td>\n",
        "  </tr>\n",
        "    <tr>\n",
        "    <td>Sandalia</td>\n",
        "  </tr>\n",
        "    <tr>\n",
        "    <td>Camisa</td>\n",
        "  </tr>\n",
        "    <tr>\n",
        "    <td>Zapato/Tenis</td>\n",
        "  </tr>\n",
        "    <tr>\n",
        "    <td>Bolsa</td>\n",
        "  </tr>\n",
        "    <tr>\n",
        "    <td>Botín</td>\n",
        "  </tr>\n",
        "</table></center><br>\n",
        "<br>\n",
        "\n",
        "Para este código utilizaremos parte de las librerías antes vistas para **preprocesamiento** de datos, y sumaremos la librería [Tensorflow](https://www.tensorflow.org/), la cual fue desarrollada por **Google**, y será clave para el cumplimiento de nuestro objetivo, ya que sus funciones están expresamente enfocadas en el diseño de modelos de **machine learning**. "
      ],
      "metadata": {
        "id": "CEPx7pJwXA0R"
      }
    },
    {
      "cell_type": "markdown",
      "source": [
        "# 3. Conjunto de datos"
      ],
      "metadata": {
        "id": "cyS88eqnYqAz"
      }
    },
    {
      "cell_type": "markdown",
      "source": [
        "Las imágenes que utilizaremos para entrenar el modelo provienen del popular  conjunto de datos **[Fashion MNIST](https://github.com/zalandoresearch/fashion-mnist)**, el cual es de acceso público y contiene más de **70,000** imágenes de ropa de baja resolución de las categorías antes mencionadas, en escala de grises, de tamaño 28x28. \n",
        "\n",
        "En la siguiente figura se puede observar una muestra de este conjunto de datos:\n",
        "<center><table>\n",
        "  <tr><td>\n",
        "    <img src=\"https://tensorflow.org/images/fashion-mnist-sprite.png\"\n",
        "         alt=\"Fashion MNIST sprite\"  width=\"600\">\n",
        "  </td></tr>\n",
        "</table></center>\n",
        "\n",
        "<center><b>Fig. 1</b> Pequeña muestra del conjunto de datos fashion MNIST</a> (Zalando, MIT License).</center>"
      ],
      "metadata": {
        "id": "l7yt21i8Ykl7"
      }
    },
    {
      "cell_type": "markdown",
      "source": [
        "# 4. Carga de datos y preprocesamiento"
      ],
      "metadata": {
        "id": "XgzePflE0upj"
      }
    },
    {
      "cell_type": "markdown",
      "source": [
        "Para invocar al conjunto de datos a nuestro espacio de trabajo utilizaremos la API **[Keras](https://www.tensorflow.org/guide/keras?hl=es-419)** de la librería **tensorflow**, la cual nos permitirá almacenar los datos en un arreglo, en este caso, una **tupla**.\n",
        "\n",
        "Ejecuta el siguiente bloque para cargar las librerías y los datos: "
      ],
      "metadata": {
        "id": "Pk7ltwyF1PlN"
      }
    },
    {
      "cell_type": "code",
      "source": [
        "#Se importan las librerías.\n",
        "import tensorflow as tf\n",
        "from tensorflow import keras\n",
        "import numpy as np\n",
        "import matplotlib.pyplot as plt\n",
        "import seaborn as sns\n",
        "import warnings\n",
        "\n",
        "#Se define el tipo de formato de las gráficas.\n",
        "plt.style.use('seaborn-v0_8-whitegrid')\n",
        "\n",
        "#Se ignoran las alertas.\n",
        "warnings.filterwarnings('ignore')\n",
        "\n",
        "#Se carga el conjunto de datos.\n",
        "dataset = keras.datasets.fashion_mnist.load_data()"
      ],
      "metadata": {
        "id": "hXzKvVaOhEpY"
      },
      "execution_count": null,
      "outputs": []
    },
    {
      "cell_type": "markdown",
      "source": [
        "Como sabemos por nuestro **[entrenamiento en preprocesamiento de datos](https://dialektico.com/introduccion-preprocesamiento/)**, toda **entrada** de un modelo de **machine learning** debe ser una estructura matemática legible para la máquina, por lo que debemos asegurarnos de que nuestro conjunto de datos esté acondicionado de esta manera. \n",
        "\n",
        "Afortunadamente, este conjunto ya provee la información en **formas matriciales**, es decir, cada imagen se expresa como una matriz, donde todo número contenido en esta representa un valor para cada **pixel**, en un rango de entre 0 y 255. A estar la imagen en escala de grises, el valor 0 corresponde al color **negro**, mientras que el 255 al **blanco**, y los valores intermedios a diferentes tonos de **grises**.\n",
        "\n",
        "La **figura 2** muestra una ejemplificación de esto:\n",
        "\n"
      ],
      "metadata": {
        "id": "sIGmJ0dcji1-"
      }
    },
    {
      "cell_type": "markdown",
      "source": [
        "<center><img src=\"https://dialektico.com/wp-content/uploads/2023/03/Colab1.jpg\"\n",
        "         alt=\"Fashion MNIST sprite\"  width=\"300\"></center>\n",
        "\n",
        "<center><b>Fig. 2</b> Relación entre los valores de una representación matricial de una imagen en escala de grises y sus correspondientes variaciones de color en escala de grises. Rescatado de <a href=\"https://www.researchgate.net/publication/325569674_Analysis_of_Emotions_From_Body_Postures_Based_on_Digital_Imaging\">(Bradley & Lang, 1994b)</a></center>"
      ],
      "metadata": {
        "id": "Iy6Y2-2apKet"
      }
    },
    {
      "cell_type": "markdown",
      "source": [
        "Esto es una conversión típica en **visión computacional** (estudio del procesamiento de imágenes), y la exploraremos más a detalle cuando tengamos nuestros primeros encuentros con **redes neuronales convolucionales**."
      ],
      "metadata": {
        "id": "pd7ofoPel4SZ"
      }
    },
    {
      "cell_type": "markdown",
      "source": [
        "Por el momento, solo nos limitaremos a observar una de las matrices asociadas a una imagen del conjunto de datos:"
      ],
      "metadata": {
        "id": "7xw1ufw9ppps"
      }
    },
    {
      "cell_type": "code",
      "source": [
        "#Se selecciona una imagen del conjunto de datos.\n",
        "matrix = dataset[0][0][5]\n",
        "\n",
        "#Se imprime una imagen del conjunto de datos y su respectiva matriz.\n",
        "fig, axs = plt.subplots(1, 2, figsize=(18, 9), gridspec_kw={'width_ratios': [1.5, 2]})\n",
        "\n",
        "#Imagen.\n",
        "axs[0].imshow(matrix, cmap='gray')\n",
        "axs[0].set_title(\"IMAGEN\", fontdict = {'family': 'DejaVu Sans', 'color':  'black', 'weight': 'bold', 'size': 14}, pad = 15)\n",
        "axs[0].set_yticks([])\n",
        "axs[0].set_xticks([])\n",
        "\n",
        "#Matriz.\n",
        "axs[1].set_facecolor('white')\n",
        "sns.heatmap(matrix, fmt='d', annot=True, square=True, cmap='gray_r', vmin=0, vmax=0,\n",
        "            linewidths=0.5, linecolor='k', cbar=False, ax=axs[1], annot_kws={'fontsize':8}) \n",
        "\n",
        "axs[1].set_title(\"MATRIZ\", fontdict = {'family': 'DejaVu Sans', 'color':  'black', 'weight': 'bold', 'size': 15}, pad = 15)\n",
        "axs[1].set_xticklabels([])\n",
        "axs[1].set_yticklabels([])\n",
        "\n",
        "plt.suptitle(\"Fig. 3 Visualización de una de las imágenes del conjunto datos y su respectiva matriz, donde cada número indica un valor asociado a un color en escala de grises.\", \n",
        "             fontproperties = {'family': 'DejaVu Sans', 'size': 14}, y=-0.001)\n",
        "plt.show()"
      ],
      "metadata": {
        "id": "C4djiljXqnDW"
      },
      "execution_count": null,
      "outputs": []
    },
    {
      "cell_type": "markdown",
      "source": [
        "En la **figura 3** se despliega la comparación entre una imagen del conjunto de datos (a la izquierda), y su matriz con los valores de cada pixel (lado derecho).\n",
        "\n",
        "Dado que no hay mucho **preprocesamiento** que aplicar a estas imágenes, solo se dividirá el conjunto de datos en los conjuntos de **entrenamiento** (train) y **prueba** (test), se asignarán nombres a las **categorías**, y se **normalizarán** los valores de todas las matrices dividiéndolos entre su valor máximo: **255**.\n",
        "\n",
        "En el siguiente bloque se efectuarán las **divisiones** del conjunto de datos (cuyas longitudes ya fueron definidas por quienes lo crearon), la asignación de los nombres de las **etiquetas**, la **normalización** de los datos, y se imprimirá el número de ejemplos de imágenes de cada subconjunto:\n",
        "\n"
      ],
      "metadata": {
        "id": "T-rKJ4RQfjt5"
      }
    },
    {
      "cell_type": "code",
      "source": [
        "#Se definen las entradas y salidas de conjuntos de entrenamiento y prueba respectivamente.\n",
        "(train_inputs, train_outputs), (test_inputs, test_outputs) = dataset\n",
        "\n",
        "#Se normalizan los datos.\n",
        "train_images = train_inputs / 255.0\n",
        "test_images = test_inputs / 255.0\n",
        "\n",
        "#Se definen los nombres de cada categoría\n",
        "class_names = ['Playera/Blusa', 'Pantalón', 'Suéter', 'Vestido', 'Abrigo',\n",
        "               'Sandalia', 'Camisa', 'Zapato/tenis', 'Mochila', 'Botín']\n",
        "\n",
        "#Se imprimen las longitudes de los conjuntos:\n",
        "print('Número de ejemplos de entrenamiento en el conjunto de entrenamiento: ' + str(len(train_inputs)))\n",
        "print('Número de ejemplos de entrenamiento en el conjunto de prueba: ' + str(len(test_inputs)))"
      ],
      "metadata": {
        "id": "6g5VsA8Rj-nq"
      },
      "execution_count": null,
      "outputs": []
    },
    {
      "cell_type": "markdown",
      "source": [
        "Podemos observar que se tiene una distribución de imágenes de alrededor de 85% del total para el conjunto de **entrenamiento**, y 15% para el de **prueba**.  "
      ],
      "metadata": {
        "id": "2dio4reqlm7G"
      }
    },
    {
      "cell_type": "markdown",
      "source": [
        "# 5. Entrenamiento del modelo"
      ],
      "metadata": {
        "id": "4QrY71DhmHHr"
      }
    },
    {
      "cell_type": "markdown",
      "source": [
        "Ahora que hemos cargado los datos, podemos crear y entrenar el **modelo** para que aprenda a **clasificar** prendas. Los detalles sobre cómo sucede esto los aprenderemos en próximas expediciones, hoy solo lo veremos en acción. \n",
        "\n",
        "El siguiente bloque **entrenará** al modelo de **aprendizaje automático** durante **8 épocas** (8 iteraciones), es decir, se procesará la información 10 veces con el fin de extraer **patrones** para la concreción de nuestro objetivo. Al ejecutar el código, podrás ver cómo se imprimen los resultados para cada época (**Epoch**). El valor de **accuracy** al final de cada línea es el valor de la **precisión** de clasificación del modelo.\n",
        "\n",
        "**Nota**: tardará poco más de un minuto en ejecutarse."
      ],
      "metadata": {
        "id": "kIIYZ3sdmKL8"
      }
    },
    {
      "cell_type": "code",
      "metadata": {
        "id": "pjVscjTP_HBL"
      },
      "source": [
        "#Se define el modelo de redes neuronales artificiales y se compila.\n",
        "model = keras.Sequential([\n",
        "    keras.layers.Flatten(input_shape=(28, 28)),\n",
        "    keras.layers.Dense(128, activation='relu'),\n",
        "    keras.layers.Dense(128, activation='relu'),\n",
        "    keras.layers.Dense(10, activation='softmax')])\n",
        "\n",
        "model.compile(optimizer='adam',\n",
        "              loss='sparse_categorical_crossentropy',\n",
        "              metrics=['accuracy'])\n",
        "\n",
        "model.fit(train_inputs, train_outputs, epochs=8, verbose = 1)\n",
        "\n",
        "test_loss, test_acc = model.evaluate(test_inputs,  test_outputs, verbose=0)\n",
        "\n",
        "#Se imprime la precisión de predicción del modelo.\n",
        "print('\\nPrecisión de predicción final:', test_acc)"
      ],
      "execution_count": null,
      "outputs": []
    },
    {
      "cell_type": "markdown",
      "metadata": {
        "id": "-mIheOi-VTxJ"
      },
      "source": [
        "Al final observarás una **precisión** de predicción por encima del **80%**. La intención de este modelo fue entrenarlo con una **arquitectura** que no generara una precisión cercana al 100% para poder presenciar un modelo que aún puede ser **optimizado**.  En este caso, podríamos hacer algunas adecuaciones, como utilizar **capas convolucionales**, entre otros ajustes a los **hiperparámetros**, pero de esto hablaremos luego. "
      ]
    },
    {
      "cell_type": "markdown",
      "metadata": {
        "id": "t3qlJWvmaJzr"
      },
      "source": [
        "# 6. Clasificando prendas con el modelo entrenado\n"
      ]
    },
    {
      "cell_type": "markdown",
      "metadata": {
        "id": "bYVX1Q_wY6He"
      },
      "source": [
        "El modelo está entrenado y listo para realizar predicciones. Al ejecutar la siguiente casilla de código le darás una **imagen**, este la **procesará** y nos dirá a qué clase \"**piensa**\" que pertenece. "
      ]
    },
    {
      "cell_type": "code",
      "source": [
        "#Se realizan las predicciones con nuevas imágenes.\n",
        "predictions = model.predict(test_inputs, verbose = 0)\n",
        "\n",
        "#Se define una función para el despliegue de la imagen testeada, junto a su probabilidad de categorización estimada, y su etiqueta verdadera.\n",
        "def plot_image(image_indx, predictions_arr, true_output, image, font_size):\n",
        "  predictions_arr, true_output, image, font_size = predictions_arr, true_output[image_indx], image[image_indx], font_size\n",
        "  plt.grid(False)\n",
        "  plt.xticks([])\n",
        "  plt.yticks([])\n",
        "\n",
        "  plt.imshow(image, cmap=plt.cm.binary)\n",
        "\n",
        "  predicted_output = np.argmax(predictions_arr)\n",
        "  if predicted_output == true_output:\n",
        "    color = 'blue'\n",
        "  else:\n",
        "    color = 'red'\n",
        "\n",
        "  plt.xlabel('Predicción del modelo: ' + str(class_names[predicted_output]) + '\\n'\n",
        "              + 'Etiqueta real: ' + str(class_names[true_output]),\n",
        "              color=color, fontdict = {'family': 'DejaVu Sans', 'color':  'black', 'weight': 'bold', 'size': font_size}, labelpad=15)\n",
        "\n",
        "#Se selecciona la imagen número 160 del conjunto de datos, se entrega al modelo, y se grafican los resultados.\n",
        "image_indx = 165\n",
        "plt.figure(figsize=(7,7))\n",
        "plt.plot\n",
        "plot_image(image_indx, predictions[image_indx], test_outputs, test_inputs, 14)"
      ],
      "metadata": {
        "id": "bNAnHLxurjUP"
      },
      "execution_count": null,
      "outputs": []
    },
    {
      "cell_type": "markdown",
      "metadata": {
        "id": "SfxgTcjiZczf"
      },
      "source": [
        "El resultado es una imagen con dos líneas de texto adjuntas:\n",
        "\n",
        "\n",
        "*   La primera indica a qué **categoría** ha asignado el modelo a la imagen de entrada.\n",
        "*   La segunda muestra la **etiqueta** real de la imagen, extraída del conjunto de datos de prueba.\n"
      ]
    },
    {
      "cell_type": "markdown",
      "source": [
        "Nos podemos percatar de que en la primera línea de texto el modelo ha etiquetado como **botín** a la imagen que le hemos proporcionado, y que esta coincide con la etiqueta **real** mostrada debajo, lo cual nos indica que el modelo **acertó** en su **clasificación**.\n",
        "\n",
        "**Nota**: si el color de las letras es **azul**, quiere decir que la predicción fue exitosa, en caso contrario, se mostrarán teñidas de **rojo**."
      ],
      "metadata": {
        "id": "2kDvzI7cUbZi"
      }
    },
    {
      "cell_type": "markdown",
      "metadata": {
        "id": "WosTCtaPZzKW"
      },
      "source": [
        "Probemos ahora con una imagen diferente:"
      ]
    },
    {
      "cell_type": "code",
      "metadata": {
        "id": "khWtTrdJYgxR"
      },
      "source": [
        "#Se etiqueta, evalúa y grafica una imagen nueva.\n",
        "image_indx = 51\n",
        "plt.figure(figsize=(7,7))\n",
        "plt.plot\n",
        "plot_image(image_indx, predictions[image_indx], test_outputs, test_inputs, 14)"
      ],
      "execution_count": null,
      "outputs": []
    },
    {
      "cell_type": "markdown",
      "metadata": {
        "id": "5ga01bR1dGzf"
      },
      "source": [
        "En este caso, dependiendo de cómo se entrenó tu red, puede que esta haga una predicción errónea, etiquetando al abrigo como otra prenda diferente."
      ]
    },
    {
      "cell_type": "markdown",
      "metadata": {
        "id": "oRv1SPaNdemW"
      },
      "source": [
        "Finalmente, para una visualización más amplia del rendimiento del modelo, en el siguiente fragmento lo utilizaremos para clasificar un grupo de **15 imágenes diferentes**. (Recuerda que aquellas acompañadas por textos color **rojo** representan imágenes mal etiquetadas)."
      ]
    },
    {
      "cell_type": "code",
      "metadata": {
        "id": "2B1DDs7-ag1o"
      },
      "source": [
        "#Se evalúan y grafican 15 imágenes del conjunto de datos.\n",
        "num_rows = 4\n",
        "num_cols = 3\n",
        "j=0\n",
        "\n",
        "plt.figure(figsize=(18, 18))\n",
        "for i in range(13,25):\n",
        "  plt.subplot(num_rows, 2*num_cols, 2*j+1)\n",
        "  plot_image(i, predictions[i], test_outputs, test_inputs, 10)\n",
        "  j = j + 1\n",
        "plt.tight_layout()\n",
        "plt.show()"
      ],
      "execution_count": null,
      "outputs": []
    },
    {
      "cell_type": "markdown",
      "metadata": {
        "id": "KWofrjkVfG03"
      },
      "source": [
        "Notarás que la mayoría de las imágenes fueron clasificadas de forma exitosa, pero con algunos errores de predicción.\n"
      ]
    },
    {
      "cell_type": "markdown",
      "source": [
        "## Define tus propias pruebas"
      ],
      "metadata": {
        "id": "z6PsNa8YZ38d"
      }
    },
    {
      "cell_type": "markdown",
      "source": [
        "Por último, tienes la libertad de utilizar cualquier imagen que desees del conjunto de datos de **prueba** y hacer que el modelo la clasifique. Lo único que tienes que hacer es modificar la **primera línea** del siguiente fragmento de código, agregando un número entre el **0** y el **9999**. \n",
        "\n",
        "Una vez que hayas colocado el número, ejecuta el programa para observar el resultado."
      ],
      "metadata": {
        "id": "DpW93NN1a9M0"
      }
    },
    {
      "cell_type": "code",
      "source": [
        "image_indx = #Escribe aquí un número entre el 0 y el 9999\n",
        "\n",
        "plt.figure(figsize=(7,7))\n",
        "plt.plot\n",
        "plot_image(image_indx, predictions[image_indx], test_outputs, test_inputs, 14)"
      ],
      "metadata": {
        "id": "uKq9Bf3_bUul"
      },
      "execution_count": null,
      "outputs": []
    },
    {
      "cell_type": "markdown",
      "source": [
        "Con esto concluye nuestro primer acercamiento a los **algoritmos de aprendizaje supervisado**, en este caso, una **red neuronal artificial**, también conocida como **perceptrón o perceptrón multicapa**. \n",
        "\n",
        "Recuerda que esto es solo ilustrativo, en las próximas exploraciones comprenderemos cómo operan y se elaboran todo tipo de **modelos** de **aprendizaje de máquinas**.\n",
        "\n",
        "▶ [Regresar a la lección](https://dialektico.com/aprendizaje-supervisado/) 🧙"
      ],
      "metadata": {
        "id": "ejd9aSL-Zzt7"
      }
    },
    {
      "cell_type": "code",
      "metadata": {
        "id": "qThQxN8Aj9kG"
      },
      "source": [
        "# MIT License\n",
        "#\n",
        "# Copyright (c) 2023 Daniel García\n",
        "#\n",
        "# Permission is hereby granted, free of charge, to any person obtaining a\n",
        "# copy of this software and associated documentation files (the \"Software\"),\n",
        "# to deal in the Software without restriction, including without limitation\n",
        "# the rights to use, copy, modify, merge, publish, distribute, sublicense,\n",
        "# and/or sell copies of the Software, and to permit persons to whom the\n",
        "# Software is furnished to do so, subject to the following conditions:\n",
        "#\n",
        "# The above copyright notice and this permission notice shall be included in\n",
        "# all copies or substantial portions of the Software.\n",
        "#\n",
        "# THE SOFTWARE IS PROVIDED \"AS IS\", WITHOUT WARRANTY OF ANY KIND, EXPRESS OR\n",
        "# IMPLIED, INCLUDING BUT NOT LIMITED TO THE WARRANTIES OF MERCHANTABILITY,\n",
        "# FITNESS FOR A PARTICULAR PURPOSE AND NONINFRINGEMENT. IN NO EVENT SHALL\n",
        "# THE AUTHORS OR COPYRIGHT HOLDERS BE LIABLE FOR ANY CLAIM, DAMAGES OR OTHER\n",
        "# LIABILITY, WHETHER IN AN ACTION OF CONTRACT, TORT OR OTHERWISE, ARISING\n",
        "# FROM, OUT OF OR IN CONNECTION WITH THE SOFTWARE OR THE USE OR OTHER\n",
        "# DEALINGS IN THE SOFTWARE."
      ],
      "execution_count": null,
      "outputs": []
    }
  ]
}