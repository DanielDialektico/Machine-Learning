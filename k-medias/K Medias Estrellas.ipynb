{
  "nbformat": 4,
  "nbformat_minor": 0,
  "metadata": {
    "colab": {
      "name": "K_Medias_Estrellas.ipynb",
      "provenance": [],
      "collapsed_sections": [],
      "authorship_tag": "ABX9TyPBwPCvFDGvMKuiHnrr9NgA",
      "include_colab_link": true
    },
    "kernelspec": {
      "name": "python3",
      "display_name": "Python 3"
    },
    "language_info": {
      "name": "python"
    }
  },
  "cells": [
    {
      "cell_type": "markdown",
      "metadata": {
        "id": "view-in-github",
        "colab_type": "text"
      },
      "source": [
        "<a href=\"https://colab.research.google.com/github/DanielDialektico/Machine-Learning/blob/main/k-medias/K%20Medias%20Estrellas.ipynb\" target=\"_parent\"><img src=\"https://colab.research.google.com/assets/colab-badge.svg\" alt=\"Open In Colab\"/></a>"
      ]
    },
    {
      "cell_type": "markdown",
      "source": [
        "![MiniLogo.png](data:image/png;base64,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)"
      ],
      "metadata": {
        "id": "AfGT4c0rxOd4"
      }
    },
    {
      "cell_type": "markdown",
      "source": [
        "# 1. Introducción\n",
        "En esta libreta se presenta un modelo de K-medias aplicado a un **conjunto de datos de estrellas** y sus propiedades físicas. El fin es crear tres agrupaciones de estrellas de acuerdo a tres de estas característcas, ejemplificando el uso del **aprendizaje no supervisado** para la estructuración de información no etiquetada. "
      ],
      "metadata": {
        "id": "uOL4DoVciQ3o"
      }
    },
    {
      "cell_type": "markdown",
      "source": [
        "# 2. Carga de la información y exploración del conjunto de datos\n",
        "El conjunto de datos se carga desde mi repositorio de **GitHub**. La información general sobre este conjunto de datos se especifica en el **apéndice** al final.\n",
        "\n",
        "Antes de hacer uso del algoritmo de k-medias, se procede a hacer una efímera exploración de los datos. En este bloque se utiliza la función *head* de Pandas para imprimir los primeros cinco renglones y las 7 columnas del arreglo, esto para obtener un primer vistazo de la tabla generada."
      ],
      "metadata": {
        "id": "gczAb7YekPSv"
      }
    },
    {
      "cell_type": "code",
      "source": [
        "#Se importan las librerías\n",
        "import pandas as pd\n",
        "import numpy as np\n",
        "import matplotlib.pyplot as plt\n",
        "import seaborn as sns\n",
        "import warnings\n",
        "from mpl_toolkits.mplot3d import Axes3D\n",
        "from sklearn.cluster import KMeans\n",
        "from sklearn.metrics import pairwise_distances_argmin_min\n",
        "\n",
        "#Se carga el conjunto de datos desde GitHub\n",
        "dataset = pd.read_csv('https://raw.githubusercontent.com/DanielDialektico/Machine-Learning/main/k-medias/estrellas_data_2.csv')\n",
        "\n",
        "#Se imprime el encabezado\n",
        "dataset.head()"
      ],
      "metadata": {
        "id": "hW3eaNbHk64A"
      },
      "execution_count": null,
      "outputs": []
    },
    {
      "cell_type": "markdown",
      "source": [
        "Con el fin de identificar los tipos de valores embebidos en los datos, y posibles valores nulos, se imprime un resumen informativo utilizando la función info() de Pandas, donde se constata que se cuentan con valores de tipo **enteros, flotantes, y objetos (solo para un atributo)**. Además, se aprecia la **ausencia de valores nulos**."
      ],
      "metadata": {
        "id": "StvoAe7lr9b1"
      }
    },
    {
      "cell_type": "code",
      "source": [
        "dataset.info()"
      ],
      "metadata": {
        "id": "ttmWYoxjIDmT"
      },
      "execution_count": null,
      "outputs": []
    },
    {
      "cell_type": "markdown",
      "source": [
        "Con el fin de trabajar sobre un espacio desplegable en gráficas, se seleccionan tres atributos del conjunto de datos: **Distancia**, **Magnitud absoluta**, e **Índice de color**. \n",
        "Se crea una gráfica tridimensional de este subconjunto con el fin de observar su distribución."
      ],
      "metadata": {
        "id": "tb8rSih2u0LE"
      }
    },
    {
      "cell_type": "code",
      "source": [
        "#Se grafican los valores de los 3 atributos seleccionados.\n",
        "graph_3d = plt.figure(figsize=(10,8)).gca(projection='3d')\n",
        "graph_3d.scatter(dataset['Distancia'], dataset['Magnitud absoluta'], dataset['Índice de color'])\n",
        "plt.show()"
      ],
      "metadata": {
        "id": "HJYiowV4spkF"
      },
      "execution_count": null,
      "outputs": []
    },
    {
      "cell_type": "markdown",
      "source": [
        "# 3. Preprocesamiento"
      ],
      "metadata": {
        "id": "hD6anoGo03b-"
      }
    },
    {
      "cell_type": "markdown",
      "source": [
        "De forma intuitiva, se pueden observar posibles **valores atípicos** (puntos alejados del mayor conglomerado). Para eliminar estos valores atípicos se procede a imprimir la distribución particular de cada atributo, además de su gráfico de caja con el fin de obtener una visualización de estos."
      ],
      "metadata": {
        "id": "oVj9SaUHwBru"
      }
    },
    {
      "cell_type": "code",
      "source": [
        "warnings.filterwarnings('ignore')\n",
        "\n",
        "#Se generan las gráficas de distribución y de caja para cada variable.\n",
        "plt.figure(figsize=(16,8))\n",
        "plt.subplot(3,2,1)\n",
        "sns.distplot(dataset['Distancia'])\n",
        "plt.subplot(3,2,2)\n",
        "sns.boxplot(dataset['Distancia'])\n",
        "plt.figure(figsize=(16,8))\n",
        "plt.subplot(3,2,3)\n",
        "sns.distplot(dataset['Magnitud absoluta'])\n",
        "plt.subplot(3,2,4)\n",
        "sns.boxplot(dataset['Magnitud absoluta'])\n",
        "plt.figure(figsize=(16,8))\n",
        "plt.subplot(3,2,5)\n",
        "sns.distplot(dataset['Índice de color'])\n",
        "plt.subplot(3,2,6)\n",
        "sns.boxplot(dataset['Índice de color'])"
      ],
      "metadata": {
        "id": "du-gsd_TL72c"
      },
      "execution_count": null,
      "outputs": []
    },
    {
      "cell_type": "markdown",
      "source": [
        "Debido a que se tienen distribuciones que no tienen una **distribución normal**, se procede a eliminar los valores atípicos utilizando el método por rango intercuartílico, en el que se desechan los puntos que estén por debajo y por arriba del espacio determinado por el primer y tercer cuartil. "
      ],
      "metadata": {
        "id": "VpUNqC7H0UvZ"
      }
    },
    {
      "cell_type": "code",
      "source": [
        "#Se crea una función que realice los cálculos de los límites inferiores y superiores del rango intercuartílico\n",
        "def iqrFilter(data):\n",
        "  percentile25 = dataset[data].quantile(0.25)\n",
        "  percentile75 = dataset[data].quantile(0.75)\n",
        "  iqr = percentile75 - percentile25\n",
        "  \n",
        "  upper_limit = percentile75 + 1.5 * iqr\n",
        "  lower_limit = percentile25 - 1.5 * iqr\n",
        "  \n",
        "  return upper_limit,lower_limit\n",
        "\n",
        "#Se aplica la función para la definición de los límites de cada columna\n",
        "upperD,lowerD = iqrFilter('Distancia')\n",
        "upperM,lowerM = iqrFilter('Magnitud absoluta')\n",
        "upperI,lowerI = iqrFilter('Índice de color')  \n",
        "\n",
        "#Se eliminan los valores que no pertenezcan al rango establecido.\n",
        "dataset = dataset[dataset['Distancia'] > lowerD]\n",
        "dataset = dataset[dataset['Distancia'] < upperD]\n",
        "dataset = dataset[dataset['Magnitud absoluta'] > lowerM]\n",
        "dataset = dataset[dataset['Magnitud absoluta'] < upperM]\n",
        "dataset = dataset[dataset['Índice de color'] > lowerI]\n",
        "dataset = dataset[dataset['Índice de color'] < upperI]"
      ],
      "metadata": {
        "id": "nZOR8SBxmP9A"
      },
      "execution_count": null,
      "outputs": []
    },
    {
      "cell_type": "markdown",
      "source": [
        "Una vez realizado el filtrado, se grafican de nuevo los puntos correspondientes al subconjunto seleccionando, lo cual muestra una **disminución visible de los valores atípicos**. Dado que el fin de este trabajo es aplicar un algoritmo de agrupación y ya se tiene una forma más centrada de los datos, no se aplican más pruebas y filtros para posibles residuos. "
      ],
      "metadata": {
        "id": "wBLgrbSQ3F_C"
      }
    },
    {
      "cell_type": "code",
      "source": [
        "#Se grafican los valores de los 3 atributos seleccionados.\n",
        "graph_3d = plt.figure(figsize=(10,8)).gca(projection='3d')\n",
        "graph_3d.scatter(dataset['Distancia'], dataset['Magnitud absoluta'], dataset['Índice de color'])\n",
        "plt.show()"
      ],
      "metadata": {
        "id": "N71wnkqw3A8z"
      },
      "execution_count": null,
      "outputs": []
    },
    {
      "cell_type": "markdown",
      "source": [
        "# 4. Agrupación con k-medias\n",
        "Se procede a utilizar el modelo de **k-medias**, especificando un número de agrupaciones igual a tres, lo cual generará esta cantidad de conglomerados al rededor de 3 **centroides** diferentes."
      ],
      "metadata": {
        "id": "LRfTEbms39XG"
      }
    },
    {
      "cell_type": "code",
      "source": [
        "#Se definen los atributos seleccionados como un arreglo de numpy para ser utilizados en nuestro modelo.\n",
        "attributes = np.array(dataset[['Distancia', 'Magnitud absoluta', 'Índice de color']])\n",
        "\n",
        "#Se configura el modelo con 3 agrupaciones.\n",
        "kmeans = KMeans(n_clusters=3).fit(attributes)\n",
        "#Se obtiene el valor de los centroides.\n",
        "centroids = kmeans.cluster_centers_"
      ],
      "metadata": {
        "id": "kTo6q0OCyEIX"
      },
      "execution_count": null,
      "outputs": []
    },
    {
      "cell_type": "markdown",
      "source": [
        "Para observar los resultados, se muestran las tres agrupaciones generadas utilizando como distintivo un color diferente para cada una. "
      ],
      "metadata": {
        "id": "DAoxi8s25Hdy"
      }
    },
    {
      "cell_type": "code",
      "source": [
        "#Se utiliza el modelo para señalar a qué agrupación pertenece cada grupo\n",
        "labels = kmeans.predict(attributes)\n",
        "C = kmeans.cluster_centers_\n",
        "\n",
        "colors=['red','green','blue']\n",
        "points_colors=[]\n",
        "for row in labels:\n",
        "    points_colors.append(colors[row])\n",
        "graph_3d = plt.figure(figsize=(10,8)).gca(projection='3d')\n",
        "graph_3d.scatter(dataset['Distancia'], dataset['Magnitud absoluta'], dataset['Índice de color'], c = points_colors)\n",
        "plt.show()"
      ],
      "metadata": {
        "id": "GWwncmI8yyie"
      },
      "execution_count": null,
      "outputs": []
    },
    {
      "cell_type": "markdown",
      "source": [
        "Para finalizar, se grafican los puntos de nuevo, esta vez seleccionando un grosor más bajo para cada uno, y añadiendo tres círculos de cada color, los cuales representan a los **centroides** generados por el modelo."
      ],
      "metadata": {
        "id": "CKjunJgK6RD2"
      }
    },
    {
      "cell_type": "code",
      "source": [
        "graph_3d = plt.figure(figsize=(10,8)).gca(projection='3d')\n",
        "graph_3d.scatter(dataset['Distancia'], dataset['Magnitud absoluta'], dataset['Índice de color'], c = points_colors, s= 1)\n",
        "graph_3d.scatter(C[:, 0], C[:, 1], C[:, 2], marker='o', c = colors, s=1000)\n",
        "plt.show()"
      ],
      "metadata": {
        "id": "Y-9p16mdzrOw"
      },
      "execution_count": null,
      "outputs": []
    },
    {
      "cell_type": "markdown",
      "source": [
        "Encuentra más códigos como este y las explicaciones de los modelos en https://dialektico.com/"
      ],
      "metadata": {
        "id": "GVoO4cbS8r2J"
      }
    },
    {
      "cell_type": "markdown",
      "source": [
        "# 5. Apéndice\n",
        "\n",
        "### **Conjunto de datos**\n",
        "El conjunto de datos  utilizado para este trabajo fue descargado de https://www.kaggle.com/datasets/vinesmsuic/star-categorization-giants-and-dwarfs. Consiste en una base de datos de 3,642 estrellas y sus características, obtenida de la herramienta de consulta de catálogos astronómicos [Vizier](https://vizier.u-strasbg.fr/viz-bin/VizieR-3?-source=I%2F239%2Fhip_main&-out.max=50&-out.form=HTML+Table&-out.add=_RAJ%2C_DEJ&-sort=_r&-oc.form=sexa). \n",
        "Para mayor detalles visitar la **primer URL**. \n"
      ],
      "metadata": {
        "id": "EMBTnCHD8rKR"
      }
    }
  ]
}