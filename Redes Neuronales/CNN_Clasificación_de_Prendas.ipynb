{
  "nbformat": 4,
  "nbformat_minor": 0,
  "metadata": {
    "colab": {
      "name": "CNN_Clasificación_de_Prendas.ipynb",
      "provenance": [],
      "collapsed_sections": [],
      "authorship_tag": "ABX9TyNboUeCaKf5ypNBxcnXV+8M",
      "include_colab_link": true
    },
    "kernelspec": {
      "name": "python3",
      "display_name": "Python 3"
    },
    "language_info": {
      "name": "python"
    }
  },
  "cells": [
    {
      "cell_type": "markdown",
      "metadata": {
        "id": "view-in-github",
        "colab_type": "text"
      },
      "source": [
        "<a href=\"https://colab.research.google.com/gist/DanielDialektico/12559da060949deb8ee5184225550643/cnn_clasificaci-n_de_prendas.ipynb\" target=\"_parent\"><img src=\"https://colab.research.google.com/assets/colab-badge.svg\" alt=\"Open In Colab\"/></a>"
      ]
    },
    {
      "cell_type": "markdown",
      "metadata": {
        "id": "xM9PkwPe_wHC"
      },
      "source": [
        "# 1. Introducción\n",
        "En este apartado te presentaré un programa de **machine learning** de aprendizaje supervisado, en el que podrás observar cómo opera cada una de sus partes y cómo lleva a cabo su objetivo. Es un algoritmo que utiliza **redes neuronales artificiales** para clasificar imágenes de ropa de acuerdo a **10 clases** diferentes: <br>\n",
        "<br>\n",
        "<table>\n",
        "  <tr>\n",
        "    <th>Nombre de la prenda (salida)</th>\n",
        "  </tr>\n",
        "  <tr>\n",
        "    <td>Playera/Blusa</td>\n",
        "  </tr>\n",
        "  <tr>\n",
        "    <td>Pantalón</td>\n",
        "  </tr>\n",
        "    <tr>\n",
        "    <td>Suéter</td>\n",
        "  </tr>\n",
        "    <tr>\n",
        "    <td>Vestido</td>\n",
        "  </tr>\n",
        "    <tr>\n",
        "    <td>Abrigo</td>\n",
        "  </tr>\n",
        "    <tr>\n",
        "    <td>Sandalia</td>\n",
        "  </tr>\n",
        "    <tr>\n",
        "    <td>Camisa</td>\n",
        "  </tr>\n",
        "    <tr>\n",
        "    <td>Zapato/Tenis</td>\n",
        "  </tr>\n",
        "    <tr>\n",
        "    <td>Bolsa</td>\n",
        "  </tr>\n",
        "    <tr>\n",
        "    <td>Botín</td>\n",
        "  </tr>\n",
        "</table><br>\n",
        "<br>
        "\n",
        "Este código, a diferencia de los demás códigos que utilizaremos en [el curso](https://dialektico.com/cursoml/) (que son códigos propios) es un ejemplo extraído del repositorio oficial de [Tensorflow](https://www.tensorflow.org/) que he **simplificado y traducido** para su mejor comprensión. \n",
        "\n",
        "Las imágenes utilizadas para entrenar este algoritmo provienen del set de datos de **Fashion MNIST**, el cual contiene más de 70,000 imágenes de las categorías antes mencionadas. Son de resolución baja y se pueden observar de forma general en la siguiente imagen: \n",
        "<table>\n",
        "  <tr><td>\n",
        "    <img src=\"https://tensorflow.org/images/fashion-mnist-sprite.png\"\n",
        "         alt=\"Fashion MNIST sprite\"  width=\"600\">\n",
        "  </td></tr>\n",
        "  <tr><td align=\"center\">\n",
        "    <b>Figure 1.</b> <a href=\"https://github.com/zalandoresearch/fashion-mnist\">Fashion-MNIST samples</a> (by Zalando, MIT License).<br/>&nbsp;\n",
        "  </td></tr>\n",
        "</table>"
      ]
    },
    {
      "cell_type": "markdown",
      "metadata": {
        "id": "XgLk0Fo9Z2-Q"
      },
      "source": [
        "# 2. Conjunto de datos y entrenamiento de la red"
      ]
    },
    {
      "cell_type": "markdown",
      "metadata": {
        "id": "wyqVCUAHBCIq"
      },
      "source": [
        "En este primer bloque vamos a **descargar el conjunto de datos** y entrenar una **red neuronal artificial** que aprenderá a clasificar cada imagen de acuerdo a una de las 10 categorías. \n",
        "\n",
        "Ejecuta el código y debajo observarás la descarga de información y las épocas correspondientes al **entrenamiento del algoritmo**, el cual mejora su **capacidad de clasificación** conforme cada ciclo. Esto es un claro ejemplo de **aprendizaje supervisado**, en el que apartir de un grupo de ***entradas*** (imágenes de prendas), cada una etiquetada con su nombre (***salidas***), la computadora aprende a identificar cada una de ellas.  \n",
        "\n",
        "No te preocupes por entender cada parte del código, ya lo aprenderás a su tiempo. Solo pon atención en las partes que te estaré señalando. \n",
        "\n",
        "**Recordatorio**: *para ejecutar los bloques de código solo debes colocar el cursor sobre los corchetes situados al principio de cada bloque y pulsar sobre el símbolo de \"reproducir\".*\n",
        "\n",
        "**Ejecuta el siguiente bloque**:"
      ]
    },
    {
      "cell_type": "code",
      "metadata": {
        "id": "pjVscjTP_HBL"
      },
      "source": [
        "import tensorflow as tf\n",
        "from tensorflow import keras\n",
        "import numpy as np\n",
        "import matplotlib.pyplot as plt\n",
        "\n",
        "#Se descarga el conunto de datos\n",
        "fashion_mnist = keras.datasets.fashion_mnist\n",
        "\n",
        "(train_images, train_labels), (test_images, test_labels) = fashion_mnist.load_data()\n",
        "\n",
        "#Se definen los nombres de cada categoría\n",
        "class_names = ['Playera/Blusa', 'Pantalón', 'Suéter', 'Vestido', 'Abrigo',\n",
        "               'Sandalia', 'Camisa', 'Zapato/tenis', 'Mochila', 'Botín']\n",
        "\n",
        "#Se normalizan los datos:\n",
        "train_images = train_images / 255.0\n",
        "\n",
        "test_images = test_images / 255.0\n",
        "\n",
        "#Se define el modelo de redes neuronales artificiales.\n",
        "model = keras.Sequential([\n",
        "    keras.layers.Flatten(input_shape=(28, 28)),\n",
        "    keras.layers.Dense(128, activation='relu'),\n",
        "    keras.layers.Dense(10, activation='softmax')\n",
        "])\n",
        "\n",
        "#Se compila el modelo y se pide la impresión de la precisión como forma de medición de sus resultados.\n",
        "model.compile(optimizer='adam',\n",
        "              loss='sparse_categorical_crossentropy',\n",
        "              metrics=['accuracy'])\n",
        "\n",
        "model.fit(train_images, train_labels, epochs=10)\n",
        "\n",
        "test_loss, test_acc = model.evaluate(test_images,  test_labels, verbose=2)\n",
        "\n",
        "print('\\nPrecisión de predicción:', test_acc)"
      ],
      "execution_count": null,
      "outputs": []
    },
    {
      "cell_type": "markdown",
      "metadata": {
        "id": "-mIheOi-VTxJ"
      },
      "source": [
        "Después de ejecutarse, la última línea impresa por el código debe mostrar un **aproximado de 88% de precisión de predicción**. Para mejorar esta métrica podemos hacer algunas adecuaciones, como utilizar **redes neuronales convolucionales** o ajustar **hyperparámetros**, pero de esto hablaremos luego. Por el momento, el modelo ha sido entrenado y vamos a intentar realizar una predicción utilizando una imagen nueva. "
      ]
    },
    {
      "cell_type": "markdown",
      "metadata": {
        "id": "t3qlJWvmaJzr"
      },
      "source": [
        "# 3. Haciendo predicciones"
      ]
    },
    {
      "cell_type": "markdown",
      "metadata": {
        "id": "bYVX1Q_wY6He"
      },
      "source": [
        "Al ejecutar el siguiente bloque de código le darás una imagen al algoritmo, este la procesará y nos dirá qué \"piensa\" que es. \n",
        "\n",
        "Una vez que termine, verás desplegada la imagen, en la parte superior podrás observar **el nombre que le ha dado nuestra red neuronal artificial**, y un porcentaje, el cual es la **probabilidad que la red otorga a ese objeto de llamarse con la clase que le ha asignado** (en este caso, la probabilidad de que la imagen sea un botín).\n",
        "\n",
        "**Ejecuta el siguiente bloque para ver el resultado:**"
      ]
    },
    {
      "cell_type": "code",
      "metadata": {
        "id": "oIqJVu43YThR"
      },
      "source": [
        "\n",
        "#Se realizan las predicciones con nuevas imágenes.\n",
        "predictions = model.predict(test_images)\n",
        "\n",
        "#Se definen funciones para el despliegue de la imagen testeada, junto a su probabilidad de categorización estimada.\n",
        "def plot_image(i, predictions_array, true_label, img):\n",
        "  predictions_array, true_label, img = predictions_array, true_label[i], img[i]\n",
        "  plt.grid(False)\n",
        "  plt.xticks([])\n",
        "  plt.yticks([])\n",
        "\n",
        "  plt.imshow(img, cmap=plt.cm.binary)\n",
        "\n",
        "  predicted_label = np.argmax(predictions_array)\n",
        "  if predicted_label == true_label:\n",
        "    color = 'blue'\n",
        "  else:\n",
        "    color = 'red'\n",
        "\n",
        "  plt.xlabel(\"{} {:2.0f}% ({})\".format(class_names[predicted_label],\n",
        "                                100*np.max(predictions_array),\n",
        "                                class_names[true_label]),\n",
        "                                color=color)\n",
        "\n",
        "def plot_value_array(i, predictions_array, true_label):\n",
        "  predictions_array, true_label = predictions_array, true_label[i]\n",
        "  plt.grid(False)\n",
        "  plt.xticks(range(10))\n",
        "  plt.yticks([])\n",
        "  thisplot = plt.bar(range(10), predictions_array, color=\"#777777\")\n",
        "  plt.ylim([0, 1])\n",
        "  predicted_label = np.argmax(predictions_array)\n",
        "\n",
        "  thisplot[predicted_label].set_color('red')\n",
        "  thisplot[true_label].set_color('blue')\n",
        "\n",
        "i = 0\n",
        "plt.figure(figsize=(6,3))\n",
        "plt.plot\n",
        "plot_image(i, predictions[i], test_labels, test_images)"
      ],
      "execution_count": null,
      "outputs": []
    },
    {
      "cell_type": "markdown",
      "metadata": {
        "id": "SfxgTcjiZczf"
      },
      "source": [
        "El **porcentaje de predicción** mostrado debajo de la imagen, debería ser de entre 90 y 100%. Es decir, el algoritmo tiene ese porcentaje de seguridad de que se la imagen es un botín. El primer nombre que aparece es el que **predijo nuestra red**, mientras que el segundo, el que está entre paréntesis, corresponde a su *nombre verdadero*, en este caso ambos son iguales, es decir, nuestro algoritmo **acertó en su predicción**."
      ]
    },
    {
      "cell_type": "markdown",
      "metadata": {
        "id": "WosTCtaPZzKW"
      },
      "source": [
        "Probemos ahora con una imagen diferente, una de un zapato:\n",
        "\n",
        "**Ejecuta el bloque:**"
      ]
    },
    {
      "cell_type": "code",
      "metadata": {
        "id": "khWtTrdJYgxR"
      },
      "source": [
        "i = 12\n",
        "plt.figure(figsize=(6,3))\n",
        "plt.subplot(1,2,1)\n",
        "plot_image(i, predictions[i], test_labels, test_images)\n",
        "plt.show()"
      ],
      "execution_count": null,
      "outputs": []
    },
    {
      "cell_type": "markdown",
      "metadata": {
        "id": "5ga01bR1dGzf"
      },
      "source": [
        "En este caso la **precisión de predicción es más baja**. De hecho, dependiendo de cómo se entrenó tu red puede que esta haga una predicción errónea, he observado que en veces clasifica la imagen como una sandalia, o como un zapato."
      ]
    },
    {
      "cell_type": "markdown",
      "metadata": {
        "id": "145e_ttKfVas"
      },
      "source": [
        "# 4. Evalúa el modelo con más imágenes"
      ]
    },
    {
      "cell_type": "markdown",
      "metadata": {
        "id": "oRv1SPaNdemW"
      },
      "source": [
        "En este último bloque te mostraré un **conjunto de imágenes identificadas por nuestro algoritmo**. Evalúa su capacidad de predicción y observa los diversos resultados, aquellos que estén en letras rojas representan imágenes mal etiquetadas por el algoritmo.\n",
        "Notarás que pocas veces se equivoca:"
      ]
    },
    {
      "cell_type": "markdown",
      "metadata": {
        "id": "TG0ydClcfslZ"
      },
      "source": [
        "**Ejecuta el bloque:**"
      ]
    },
    {
      "cell_type": "code",
      "metadata": {
        "id": "2B1DDs7-ag1o"
      },
      "source": [
        "num_rows = 5\n",
        "num_cols = 3\n",
        "num_images = num_rows*num_cols\n",
        "plt.figure(figsize=(2*2*num_cols, 2*num_rows))\n",
        "for i in range(num_images):\n",
        "  plt.subplot(num_rows, 2*num_cols, 2*i+1)\n",
        "  plot_image(i, predictions[i], test_labels, test_images)\n",
        "plt.tight_layout()\n",
        "plt.show()"
      ],
      "execution_count": null,
      "outputs": []
    },
    {
      "cell_type": "markdown",
      "metadata": {
        "id": "KWofrjkVfG03"
      },
      "source": [
        "Notarás que la mayoría de las imágenes fueron clasificadas de forma exitosa. si no es que todas. \n",
        "Con esto concluye nuestro primer acercamiento a un **algoritmo de aprendizaje supervisado**, en este caso, una **red neuronal artificial**, también conocida como **perceptrón o perceptrón multicapa**. Recuerda que esto es solo ilustrativo, si deseas conocer a fondo el funcionamiento de cada parte del modelo, continúa con las [lecciones del curso](https://dialektico.com/cursoml/)."
      ]
    },
    {
      "cell_type": "code",
      "metadata": {
        "id": "qThQxN8Aj9kG"
      },
      "source": [
        "# MIT License\n",
        "#\n",
        "# Copyright (c) 2017 François Chollet\n",
        "#\n",
        "# Permission is hereby granted, free of charge, to any person obtaining a\n",
        "# copy of this software and associated documentation files (the \"Software\"),\n",
        "# to deal in the Software without restriction, including without limitation\n",
        "# the rights to use, copy, modify, merge, publish, distribute, sublicense,\n",
        "# and/or sell copies of the Software, and to permit persons to whom the\n",
        "# Software is furnished to do so, subject to the following conditions:\n",
        "#\n",
        "# The above copyright notice and this permission notice shall be included in\n",
        "# all copies or substantial portions of the Software.\n",
        "#\n",
        "# THE SOFTWARE IS PROVIDED \"AS IS\", WITHOUT WARRANTY OF ANY KIND, EXPRESS OR\n",
        "# IMPLIED, INCLUDING BUT NOT LIMITED TO THE WARRANTIES OF MERCHANTABILITY,\n",
        "# FITNESS FOR A PARTICULAR PURPOSE AND NONINFRINGEMENT. IN NO EVENT SHALL\n",
        "# THE AUTHORS OR COPYRIGHT HOLDERS BE LIABLE FOR ANY CLAIM, DAMAGES OR OTHER\n",
        "# LIABILITY, WHETHER IN AN ACTION OF CONTRACT, TORT OR OTHERWISE, ARISING\n",
        "# FROM, OUT OF OR IN CONNECTION WITH THE SOFTWARE OR THE USE OR OTHER\n",
        "# DEALINGS IN THE SOFTWARE."
      ],
      "execution_count": null,
      "outputs": []
    }
  ]
}
