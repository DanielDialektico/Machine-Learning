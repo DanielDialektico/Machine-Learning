{
  "nbformat": 4,
  "nbformat_minor": 0,
  "metadata": {
    "colab": {
      "name": "K_Medias_Estrellas.ipynb",
      "provenance": [],
      "collapsed_sections": [],
      "toc_visible": true,
      "authorship_tag": "ABX9TyNlHtxA0ReV8YCXHYYUQ71A",
      "include_colab_link": true
    },
    "kernelspec": {
      "name": "python3",
      "display_name": "Python 3"
    },
    "language_info": {
      "name": "python"
    }
  },
  "cells": [
    {
      "cell_type": "markdown",
      "metadata": {
        "id": "view-in-github",
        "colab_type": "text"
      },
      "source": [
        "<a href=\"https://colab.research.google.com/github/DanielDialektico/Machine-Learning/blob/main/K_Medias_Estrellas.ipynb\" target=\"_parent\"><img src=\"https://colab.research.google.com/assets/colab-badge.svg\" alt=\"Open In Colab\"/></a>"
      ]
    },
    {
      "cell_type": "markdown",
      "source": [
        "# 1. Introducción\n",
        "En esta libreta se presenta un modelo de K-medias aplicado a un **conjunto de datos de estrellas** y sus propiedades físicas. El fin es crear tres agrupaciones de estrellas de acuerdo a tres de estas característcas, ejemplificando el uso del **aprendizaje no supervisado** para la estructuración de información no etiquetada. "
      ],
      "metadata": {
        "id": "uOL4DoVciQ3o"
      }
    },
    {
      "cell_type": "markdown",
      "source": [
        "# 2. Carga de la información y exploración del conjunto de datos\n",
        "El conjunto de datos se carga desde mi repositorio de **GitHub**. La información general sobre este conjunto de datos se especifica en el **apéndice** al final.\n",
        "\n",
        "Antes de hacer uso del algoritmo de k-medias, se procede a hacer una efímera exploración de los datos. En este bloque se utiliza la función *head* de Pandas para imprimir los primeros cinco renglones y las 7 columnas del arreglo, esto para obtener un primer vistazo de la tabla generada."
      ],
      "metadata": {
        "id": "gczAb7YekPSv"
      }
    },
    {
      "cell_type": "code",
      "source": [
        "#Se importan las librerías\n",
        "import pandas as pd\n",
        "import numpy as np\n",
        "import matplotlib.pyplot as plt\n",
        "import seaborn as sns\n",
        "import warnings\n",
        "from mpl_toolkits.mplot3d import Axes3D\n",
        "from sklearn.cluster import KMeans\n",
        "from sklearn.metrics import pairwise_distances_argmin_min\n",
        "\n",
        "#Se carga el conjunto de datos desde GitHub\n",
        "dataset = pd.read_csv('https://raw.githubusercontent.com/DanielDialektico/Machine-Learning/main/k-medias/estrellas_data_2.csv')\n",
        "\n",
        "#Se imprime el encabezado\n",
        "dataset.head()"
      ],
      "metadata": {
        "id": "hW3eaNbHk64A"
      },
      "execution_count": null,
      "outputs": []
    },
    {
      "cell_type": "markdown",
      "source": [
        "Con el fin de identificar los tipos de valores embebidos en los datos, y posibles valores nulos, se imprime un resumen informativo utilizando la función info() de Pandas, donde se constata que se cuentan con valores de tipo **enteros, flotantes, y objetos (solo para un atributo)**. Además, se aprecia la **ausencia de valores nulos**."
      ],
      "metadata": {
        "id": "StvoAe7lr9b1"
      }
    },
    {
      "cell_type": "code",
      "source": [
        "dataset.info()"
      ],
      "metadata": {
        "id": "ttmWYoxjIDmT"
      },
      "execution_count": null,
      "outputs": []
    },
    {
      "cell_type": "markdown",
      "source": [
        "Con el fin de trabajar sobre un espacio desplegable en gráficas, se seleccionan tres atributos del conjunto de datos: **Distancia**, **Magnitud absoluta**, e **Índice de color**. \n",
        "Se crea una gráfica tridimensional de este subconjunto con el fin de observar su distribución."
      ],
      "metadata": {
        "id": "tb8rSih2u0LE"
      }
    },
    {
      "cell_type": "code",
      "source": [
        "#Se grafican los valores de los 3 atributos seleccionados.\n",
        "graph_3d = plt.figure(figsize=(10,8)).gca(projection='3d')\n",
        "graph_3d.scatter(dataset['Distancia'], dataset['Magnitud absoluta'], dataset['Índice de color'])\n",
        "plt.show()"
      ],
      "metadata": {
        "id": "HJYiowV4spkF"
      },
      "execution_count": null,
      "outputs": []
    },
    {
      "cell_type": "markdown",
      "source": [
        "# 3. Preprocesamiento"
      ],
      "metadata": {
        "id": "hD6anoGo03b-"
      }
    },
    {
      "cell_type": "markdown",
      "source": [
        "De forma intuitiva, se pueden observar posibles **valores atípicos** (puntos alejados del mayor conglomerado). Para eliminar estos valores atípicos se procede a imprimir la distribución particular de cada atributo, además de su gráfico de caja con el fin de obtener una visualización de estos."
      ],
      "metadata": {
        "id": "oVj9SaUHwBru"
      }
    },
    {
      "cell_type": "code",
      "source": [
        "warnings.filterwarnings('ignore')\n",
        "\n",
        "#Se generan las gráficas de distribución y de caja para cada variable.\n",
        "plt.figure(figsize=(16,8))\n",
        "plt.subplot(3,2,1)\n",
        "sns.distplot(dataset['Distancia'])\n",
        "plt.subplot(3,2,2)\n",
        "sns.boxplot(dataset['Distancia'])\n",
        "plt.figure(figsize=(16,8))\n",
        "plt.subplot(3,2,3)\n",
        "sns.distplot(dataset['Magnitud absoluta'])\n",
        "plt.subplot(3,2,4)\n",
        "sns.boxplot(dataset['Magnitud absoluta'])\n",
        "plt.figure(figsize=(16,8))\n",
        "plt.subplot(3,2,5)\n",
        "sns.distplot(dataset['Índice de color'])\n",
        "plt.subplot(3,2,6)\n",
        "sns.boxplot(dataset['Índice de color'])"
      ],
      "metadata": {
        "id": "du-gsd_TL72c"
      },
      "execution_count": null,
      "outputs": []
    },
    {
      "cell_type": "markdown",
      "source": [
        "Debido a que se tienen distribuciones que no tienen una **distribución normal**, se procede a eliminar los valores atípicos utilizando el método por rango intercuartílico, en el que se desechan los puntos que estén por debajo y por arriba del espacio determinado por el primer y tercer cuartil. "
      ],
      "metadata": {
        "id": "VpUNqC7H0UvZ"
      }
    },
    {
      "cell_type": "code",
      "source": [
        "#Se crea una función que realice los cálculos de los límites inferiores y superiores del rango intercuartílico\n",
        "def iqrFilter(data):\n",
        "  percentile25 = dataset[data].quantile(0.25)\n",
        "  percentile75 = dataset[data].quantile(0.75)\n",
        "  iqr = percentile75 - percentile25\n",
        "  \n",
        "  upper_limit = percentile75 + 1.5 * iqr\n",
        "  lower_limit = percentile25 - 1.5 * iqr\n",
        "  \n",
        "  return upper_limit,lower_limit\n",
        "\n",
        "#Se aplica la función para la definición de los límites de cada columna\n",
        "upperD,lowerD = iqrFilter('Distancia')\n",
        "upperM,lowerM = iqrFilter('Magnitud absoluta')\n",
        "upperI,lowerI = iqrFilter('Índice de color')  \n",
        "\n",
        "#Se eliminan los valores que no pertenezcan al rango establecido.\n",
        "dataset = dataset[dataset['Distancia'] > lowerD]\n",
        "dataset = dataset[dataset['Distancia'] < upperD]\n",
        "dataset = dataset[dataset['Magnitud absoluta'] > lowerM]\n",
        "dataset = dataset[dataset['Magnitud absoluta'] < upperM]\n",
        "dataset = dataset[dataset['Índice de color'] > lowerI]\n",
        "dataset = dataset[dataset['Índice de color'] < upperI]"
      ],
      "metadata": {
        "id": "nZOR8SBxmP9A"
      },
      "execution_count": 5,
      "outputs": []
    },
    {
      "cell_type": "markdown",
      "source": [
        "Una vez realizado el filtrado, se grafican de nuevo los puntos correspondientes al subconjunto seleccionando, lo cual muestra una **disminución visible de los valores atípicos**. Dado que el fin de este trabajo es aplicar un algoritmo de agrupación y ya se tiene una forma más centrada de los datos, no se aplican más pruebas y filtros para posibles residuos. "
      ],
      "metadata": {
        "id": "wBLgrbSQ3F_C"
      }
    },
    {
      "cell_type": "code",
      "source": [
        "#Se grafican los valores de los 3 atributos seleccionados.\n",
        "graph_3d = plt.figure(figsize=(10,8)).gca(projection='3d')\n",
        "graph_3d.scatter(dataset['Distancia'], dataset['Magnitud absoluta'], dataset['Índice de color'])\n",
        "plt.show()"
      ],
      "metadata": {
        "id": "N71wnkqw3A8z"
      },
      "execution_count": null,
      "outputs": []
    },
    {
      "cell_type": "markdown",
      "source": [
        "# 4. Agrupación con k-medias\n",
        "Se procede a utilizar el modelo de **k-medias**, especificando un número de agrupaciones igual a tres, lo cual generará esta cantidad de conglomerados al rededor de 3 **centroides** diferentes."
      ],
      "metadata": {
        "id": "LRfTEbms39XG"
      }
    },
    {
      "cell_type": "code",
      "source": [
        "#Se definen los atributos seleccionados como un arreglo de numpy para ser utilizados en nuestro modelo.\n",
        "attributes = np.array(dataset[['Distancia', 'Magnitud absoluta', 'Índice de color']])\n",
        "\n",
        "#Se configura el modelo con 3 agrupaciones.\n",
        "kmeans = KMeans(n_clusters=3).fit(attributes)\n",
        "#Se obtiene el valor de los centroides.\n",
        "centroids = kmeans.cluster_centers_"
      ],
      "metadata": {
        "id": "kTo6q0OCyEIX"
      },
      "execution_count": 7,
      "outputs": []
    },
    {
      "cell_type": "markdown",
      "source": [
        "Para observar los resultados, se muestran las tres agrupaciones generadas utilizando como distintivo un color diferente para cada una. "
      ],
      "metadata": {
        "id": "DAoxi8s25Hdy"
      }
    },
    {
      "cell_type": "code",
      "source": [
        "#Se utiliza el modelo para señalar a qué agrupación pertenece cada grupo\n",
        "labels = kmeans.predict(attributes)\n",
        "C = kmeans.cluster_centers_\n",
        "\n",
        "colors=['red','green','blue']\n",
        "points_colors=[]\n",
        "for row in labels:\n",
        "    points_colors.append(colors[row])\n",
        "graph_3d = plt.figure(figsize=(10,8)).gca(projection='3d')\n",
        "graph_3d.scatter(dataset['Distancia'], dataset['Magnitud absoluta'], dataset['Índice de color'], c = points_colors)\n",
        "plt.show()"
      ],
      "metadata": {
        "id": "GWwncmI8yyie"
      },
      "execution_count": null,
      "outputs": []
    },
    {
      "cell_type": "markdown",
      "source": [
        "Para finalizar, se grafican los puntos de nuevo, esta vez seleccionando un grosor más bajo para cada uno, y añadiendo tres círculos de cada color, los cuales representan a los **centroides** generados por el modelo."
      ],
      "metadata": {
        "id": "CKjunJgK6RD2"
      }
    },
    {
      "cell_type": "code",
      "source": [
        "graph_3d = plt.figure(figsize=(10,8)).gca(projection='3d')\n",
        "graph_3d.scatter(dataset['Distancia'], dataset['Magnitud absoluta'], dataset['Índice de color'], c = points_colors, s= 1)\n",
        "graph_3d.scatter(C[:, 0], C[:, 1], C[:, 2], marker='o', c = colors, s=1000)\n",
        "plt.show()"
      ],
      "metadata": {
        "id": "Y-9p16mdzrOw"
      },
      "execution_count": null,
      "outputs": []
    },
    {
      "cell_type": "markdown",
      "source": [
        "Encuentra más códigos como este y las explicaciones de los modelos en https://dialektico.com/"
      ],
      "metadata": {
        "id": "GVoO4cbS8r2J"
      }
    },
    {
      "cell_type": "markdown",
      "source": [
        "# 5. Apéndice\n",
        "\n",
        "### **Conjunto de datos**\n",
        "El conjunto de datos  utilizado para este trabajo fue descargado de https://www.kaggle.com/datasets/vinesmsuic/star-categorization-giants-and-dwarfs. Consiste en una base de datos de 3,642 estrellas y sus características, obtenida de la herramienta de consulta de catálogos astronómicos [Vizier](https://vizier.u-strasbg.fr/viz-bin/VizieR-3?-source=I%2F239%2Fhip_main&-out.max=50&-out.form=HTML+Table&-out.add=_RAJ%2C_DEJ&-sort=_r&-oc.form=sexa). \n",
        "Para mayor detalles visitar la **primer URL**. \n"
      ],
      "metadata": {
        "id": "EMBTnCHD8rKR"
      }
    }
  ]
}
