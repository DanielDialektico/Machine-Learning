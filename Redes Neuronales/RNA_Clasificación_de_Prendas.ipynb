{
  "nbformat": 4,
  "nbformat_minor": 0,
  "metadata": {
    "colab": {
      "provenance": [],
      "collapsed_sections": [],
      "authorship_tag": "ABX9TyPILvC4ED+KeCdCWMhNmOaM",
      "include_colab_link": true
    },
    "kernelspec": {
      "name": "python3",
      "display_name": "Python 3"
    },
    "language_info": {
      "name": "python"
    }
  },
  "cells": [
    {
      "cell_type": "markdown",
      "metadata": {
        "id": "view-in-github",
        "colab_type": "text"
      },
      "source": [
        "<a href=\"https://colab.research.google.com/github/DanielDialektico/Machine-Learning/blob/main/Redes%20Neuronales/RNA_Clasificaci%C3%B3n_de_Prendas.ipynb\" target=\"_parent\"><img src=\"https://colab.research.google.com/assets/colab-badge.svg\" alt=\"Open In Colab\"/></a>"
      ]
    },
    {
      "cell_type": "markdown",
      "source": [
        "![MiniLogoW2.jpg](data:image/jpeg;base64,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)"
      ],
      "metadata": {
        "id": "BuxHXwsislJx"
      }
    },
    {
      "cell_type": "markdown",
      "source": [
        "**ALGORITMO DE APRENDIZAJE SUPERVISADO** ⚡"
      ],
      "metadata": {
        "id": "QXnW4Ipy_puR"
      }
    },
    {
      "cell_type": "markdown",
      "metadata": {
        "id": "xM9PkwPe_wHC"
      },
      "source": [
        "# 1. Introducción\n",
        "Como ya he descrito detalladamente en la [introducción al aprendizaje supervisado](https://dialektico.com/aprendizaje-supervisado/), en este apartado podrás ejecutar un programa de **machine learning** en el que observarás cómo opera cada una de sus partes hasta alcanzar su objetivo. \n",
        "\n",
        "Es un algoritmo que utiliza **redes neuronales artificiales** para clasificar imágenes de ropa de acuerdo a **10 clases** diferentes: <br>\n",
        "<br>\n",
        "<table>\n",
        "  <tr>\n",
        "    <th>Nombre de la prenda (salida)</th>\n",
        "  </tr>\n",
        "  <tr>\n",
        "    <td>Playera/Blusa</td>\n",
        "  </tr>\n",
        "  <tr>\n",
        "    <td>Pantalón</td>\n",
        "  </tr>\n",
        "    <tr>\n",
        "    <td>Suéter</td>\n",
        "  </tr>\n",
        "    <tr>\n",
        "    <td>Vestido</td>\n",
        "  </tr>\n",
        "    <tr>\n",
        "    <td>Abrigo</td>\n",
        "  </tr>\n",
        "    <tr>\n",
        "    <td>Sandalia</td>\n",
        "  </tr>\n",
        "    <tr>\n",
        "    <td>Camisa</td>\n",
        "  </tr>\n",
        "    <tr>\n",
        "    <td>Zapato/Tenis</td>\n",
        "  </tr>\n",
        "    <tr>\n",
        "    <td>Bolsa</td>\n",
        "  </tr>\n",
        "    <tr>\n",
        "    <td>Botín</td>\n",
        "  </tr>\n",
        "</table><br>\n",
        "<br>\n",
        "\n",
        "Este código, a diferencia de los demás códigos que utilizaremos en [el curso](https://dialektico.com/cursoml/) (que son códigos propios) es un ejemplo extraído del repositorio oficial de [TensorFlow](https://www.tensorflow.org/) que he **simplificado y traducido** para su mejor comprensión. \n",
        "\n",
        "Las imágenes utilizadas para entrenar este algoritmo provienen del set de datos de **Fashion MNIST**, el cual contiene más de 70,000 imágenes de las categorías antes mencionadas. Son de resolución baja y se pueden observar algunos ejemplos en la siguiente imagen: \n",
        "<table>\n",
        "  <tr><td>\n",
        "    <img src=\"https://tensorflow.org/images/fashion-mnist-sprite.png\"\n",
        "         alt=\"Fashion MNIST sprite\"  width=\"600\">\n",
        "  </td></tr>\n",
        "  <tr><td align=\"center\">\n",
        "    <b>Figure 1.</b> <a href=\"https://github.com/zalandoresearch/fashion-mnist\">Fashion-MNIST samples</a> (by Zalando, MIT License).<br/>&nbsp;\n",
        "  </td></tr>\n",
        "</table>"
      ]
    },
    {
      "cell_type": "markdown",
      "metadata": {
        "id": "XgLk0Fo9Z2-Q"
      },
      "source": [
        "# 2. Conjunto de datos y entrenamiento de la red"
      ]
    },
    {
      "cell_type": "markdown",
      "metadata": {
        "id": "wyqVCUAHBCIq"
      },
      "source": [
        "En este primer bloque vamos a **descargar el conjunto de datos** y entrenar una **red neuronal artificial** que aprenderá a clasificar cada imagen en una de las 10 categorías antes mencionadas. \n",
        "\n",
        "Solo en esta ocasión (ya que nuestro objetivo es puramente demostrativo), dejaremos de lado los detalles correspondientes al preprocesamiento y las librerías utilizadas, e iremos directo al **entrenamiento** del algoritmo.\n",
        "\n",
        "Ejecuta el siguiente código para descargar tu conjunto de datos y preprocesarlo, y haz lo mismo con todas las celdas que aparezcan a partir de ahora.\n",
        "\n",
        "**Nota**: *Recuerda que para ejecutar las celdas de código solo debes colocarte sobre estas y presionar Shift + Enter, u oprimir el botón de reproducción.*"
      ]
    },
    {
      "cell_type": "code",
      "metadata": {
        "id": "pjVscjTP_HBL"
      },
      "source": [
        "#Se importan las librerías a utilizar.\n",
        "import tensorflow as tf\n",
        "from tensorflow import keras\n",
        "import numpy as np\n",
        "import matplotlib.pyplot as plt\n",
        "\n",
        "#Se descarga el conjunto de datos.\n",
        "fashion_mnist = keras.datasets.fashion_mnist\n",
        "\n",
        "(train_images, train_labels), (test_images, test_labels) = fashion_mnist.load_data()\n",
        "\n",
        "##########Preprocesamiento#############\n",
        "#Se definen los nombres de cada categoría.\n",
        "class_names = ['Playera/Blusa', 'Pantalón', 'Suéter', 'Vestido', 'Abrigo',\n",
        "               'Sandalia', 'Camisa', 'Zapato/tenis', 'Mochila', 'Botín']\n",
        "\n",
        "#Se normalizan los datos.\n",
        "train_images = train_images / 255.0\n",
        "\n",
        "test_images = test_images / 255.0"
      ],
      "execution_count": null,
      "outputs": []
    },
    {
      "cell_type": "markdown",
      "source": [
        "Ahora que has descargado los datos, ejecuta la siguiente celda para entrenar el modelo. \n",
        "\n",
        "Al hacerlo, aparecerán segmentos llamados \"Epoch\", los cuales son las épocas o número de iteraciones en que el algoritmo procesa los datos, esto es lo que llamamos **entrenamiento del algoritmo**, y conforme se dan las épocas, este mejora su **capacidad de clasificación**. \n",
        "\n",
        "Esto es un claro ejemplo de **aprendizaje supervisado**, en el que apartir de un grupo de ***entradas*** (imágenes de prendas), cada una etiquetada con su nombre (***salidas***), la computadora aprende a clasificar cada una de ellas.\n",
        "\n",
        "No te preocupes por entender cada parte del código, ya lo aprenderás a su tiempo. "
      ],
      "metadata": {
        "id": "nQpuhi1ECMfg"
      }
    },
    {
      "cell_type": "code",
      "source": [
        "#Se define el modelo de redes neuronales artificiales.\n",
        "model = keras.Sequential([\n",
        "    keras.layers.Flatten(input_shape=(28, 28)),\n",
        "    keras.layers.Dense(128, activation='relu'),\n",
        "    keras.layers.Dense(10, activation='softmax')\n",
        "])\n",
        "\n",
        "#Se compila el modelo y se pide la impresión de la precisión como forma de medición de sus resultados.\n",
        "model.compile(optimizer='adam',\n",
        "              loss='sparse_categorical_crossentropy',\n",
        "              metrics=['accuracy'])\n",
        "\n",
        "model.fit(train_images, train_labels, epochs=10)\n",
        "\n",
        "test_loss, test_acc = model.evaluate(test_images,  test_labels, verbose=2)\n",
        "\n",
        "print('\\nPrecisión de predicción:', test_acc)"
      ],
      "metadata": {
        "id": "9jawrqZrCpLp"
      },
      "execution_count": null,
      "outputs": []
    },
    {
      "cell_type": "markdown",
      "metadata": {
        "id": "-mIheOi-VTxJ"
      },
      "source": [
        "Después de ejecutarse, la última línea impresa por el código debe mostrar un **aproximado de 88% de precisión de predicción**, el cual es la probabilidad de éxito de clasificación de prendas del algoritmo. Para mejorar esta métrica podemos hacer algunas adecuaciones, como utilizar **redes neuronales convolucionales** o ajustar **hiperparámetros**, pero de esto hablaremos luego. \n",
        "\n",
        "Por el momento, el modelo ha sido entrenado y vamos a intentar realizar una clasificación utilizando una imagen nueva. "
      ]
    },
    {
      "cell_type": "markdown",
      "metadata": {
        "id": "t3qlJWvmaJzr"
      },
      "source": [
        "# 3. Haciendo predicciones"
      ]
    },
    {
      "cell_type": "markdown",
      "metadata": {
        "id": "bYVX1Q_wY6He"
      },
      "source": [
        "Al ejecutar el siguiente bloque de código le darás una imagen a la red neuronal, este la procesará y nos dirá qué \"piensa\" que es. \n",
        "\n",
        "Una vez que termine, verás desplegada la imagen, en la parte superior podrás observar **el nombre que le ha dado nuestra red neuronal artificial**, y un porcentaje, el cual es la **probabilidad que la red otorga a ese objeto de llamarse con la clase que le ha asignado** (en este caso, la probabilidad de que la imagen sea un botín)."
      ]
    },
    {
      "cell_type": "code",
      "metadata": {
        "id": "oIqJVu43YThR"
      },
      "source": [
        "\n",
        "#Se realizan las predicciones con nuevas imágenes.\n",
        "predictions = model.predict(test_images)\n",
        "\n",
        "#Se definen funciones para el despliegue de la imagen testeada, junto a su probabilidad de categorización estimada.\n",
        "def plot_image(i, predictions_array, true_label, img):\n",
        "  predictions_array, true_label, img = predictions_array, true_label[i], img[i]\n",
        "  plt.grid(False)\n",
        "  plt.xticks([])\n",
        "  plt.yticks([])\n",
        "\n",
        "  plt.imshow(img, cmap=plt.cm.binary)\n",
        "\n",
        "  predicted_label = np.argmax(predictions_array)\n",
        "  if predicted_label == true_label:\n",
        "    color = 'blue'\n",
        "  else:\n",
        "    color = 'red'\n",
        "\n",
        "  plt.xlabel(\"{} {:2.0f}% ({})\".format(class_names[predicted_label],\n",
        "                                100*np.max(predictions_array),\n",
        "                                class_names[true_label]),\n",
        "                                color=color)\n",
        "\n",
        "def plot_value_array(i, predictions_array, true_label):\n",
        "  predictions_array, true_label = predictions_array, true_label[i]\n",
        "  plt.grid(False)\n",
        "  plt.xticks(range(10))\n",
        "  plt.yticks([])\n",
        "  thisplot = plt.bar(range(10), predictions_array, color=\"#777777\")\n",
        "  plt.ylim([0, 1])\n",
        "  predicted_label = np.argmax(predictions_array)\n",
        "\n",
        "  thisplot[predicted_label].set_color('red')\n",
        "  thisplot[true_label].set_color('blue')\n",
        "\n",
        "i = 0\n",
        "plt.figure(figsize=(6,3))\n",
        "plt.plot\n",
        "plot_image(i, predictions[i], test_labels, test_images)"
      ],
      "execution_count": null,
      "outputs": []
    },
    {
      "cell_type": "markdown",
      "metadata": {
        "id": "SfxgTcjiZczf"
      },
      "source": [
        "El **porcentaje de predicción** mostrado debajo de la imagen, debería ser de entre 90 y 100%. Es decir, el algoritmo tiene ese porcentaje de seguridad de que la imagen es un botín. El primer nombre que aparece es el que **predijo nuestra red**, mientras que el segundo, el que está entre paréntesis, corresponde a su *nombre verdadero*, en este caso ambos son iguales, es decir, nuestro algoritmo **acertó en su predicción**."
      ]
    },
    {
      "cell_type": "markdown",
      "metadata": {
        "id": "WosTCtaPZzKW"
      },
      "source": [
        "Probemos ahora con una imagen diferente, una de un zapato:"
      ]
    },
    {
      "cell_type": "code",
      "metadata": {
        "id": "khWtTrdJYgxR"
      },
      "source": [
        "i = 12\n",
        "plt.figure(figsize=(6,3))\n",
        "plt.subplot(1,2,1)\n",
        "plot_image(i, predictions[i], test_labels, test_images)\n",
        "plt.show()"
      ],
      "execution_count": null,
      "outputs": []
    },
    {
      "cell_type": "markdown",
      "metadata": {
        "id": "5ga01bR1dGzf"
      },
      "source": [
        "En este caso la **precisión de predicción es más baja**. De hecho, dependiendo de cómo se entrenó tu red puede que esta haga una predicción errónea, he observado que en veces clasifica la imagen como una sandalia o como un zapato."
      ]
    },
    {
      "cell_type": "markdown",
      "metadata": {
        "id": "145e_ttKfVas"
      },
      "source": [
        "# 4. Evaluando el modelo con más imágenes"
      ]
    },
    {
      "cell_type": "markdown",
      "metadata": {
        "id": "oRv1SPaNdemW"
      },
      "source": [
        "En este último bloque observarás todo un **conjunto de imágenes clasificadas por nuestro algoritmo**. Evalúa su capacidad de predicción y observa los diversos resultados, aquellos que estén en letras rojas representan imágenes mal categorizadas por el algoritmo.\n",
        "Notarás que pocas veces se equivoca:"
      ]
    },
    {
      "cell_type": "code",
      "metadata": {
        "id": "2B1DDs7-ag1o"
      },
      "source": [
        "num_rows = 5\n",
        "num_cols = 3\n",
        "num_images = num_rows*num_cols\n",
        "plt.figure(figsize=(2*2*num_cols, 2*num_rows))\n",
        "for i in range(num_images):\n",
        "  plt.subplot(num_rows, 2*num_cols, 2*i+1)\n",
        "  plot_image(i, predictions[i], test_labels, test_images)\n",
        "plt.tight_layout()\n",
        "plt.show()"
      ],
      "execution_count": null,
      "outputs": []
    },
    {
      "cell_type": "markdown",
      "metadata": {
        "id": "KWofrjkVfG03"
      },
      "source": [
        "Verás que la mayoría de las imágenes fueron clasificadas de forma exitosa, si no es que todas. \n",
        "\n",
        "\n",
        "Con esto concluye nuestro primer acercamiento a un **algoritmo de aprendizaje supervisado**, en este caso, una **red neuronal artificial**, también conocida como **perceptrón o perceptrón multicapa**. Recuerda que esto es solo ilustrativo, si deseas conocer a fondo el funcionamiento de cada parte del modelo, continúa con las lecciones del [curso](https://dialektico.com/cursoml/)."
      ]
    },
    {
      "cell_type": "markdown",
      "source": [
        "▶ [Regresar a la lección](https://dialektico.com/aprendizaje-supervisado/#colab) 🧙"
      ],
      "metadata": {
        "id": "y0-DV9IEGCgH"
      }
    },
    {
      "cell_type": "code",
      "metadata": {
        "id": "qThQxN8Aj9kG"
      },
      "source": [
        "# MIT License\n",
        "#\n",
        "# Copyright (c) 2017 François Chollet\n",
        "#\n",
        "# Permission is hereby granted, free of charge, to any person obtaining a\n",
        "# copy of this software and associated documentation files (the \"Software\"),\n",
        "# to deal in the Software without restriction, including without limitation\n",
        "# the rights to use, copy, modify, merge, publish, distribute, sublicense,\n",
        "# and/or sell copies of the Software, and to permit persons to whom the\n",
        "# Software is furnished to do so, subject to the following conditions:\n",
        "#\n",
        "# The above copyright notice and this permission notice shall be included in\n",
        "# all copies or substantial portions of the Software.\n",
        "#\n",
        "# THE SOFTWARE IS PROVIDED \"AS IS\", WITHOUT WARRANTY OF ANY KIND, EXPRESS OR\n",
        "# IMPLIED, INCLUDING BUT NOT LIMITED TO THE WARRANTIES OF MERCHANTABILITY,\n",
        "# FITNESS FOR A PARTICULAR PURPOSE AND NONINFRINGEMENT. IN NO EVENT SHALL\n",
        "# THE AUTHORS OR COPYRIGHT HOLDERS BE LIABLE FOR ANY CLAIM, DAMAGES OR OTHER\n",
        "# LIABILITY, WHETHER IN AN ACTION OF CONTRACT, TORT OR OTHERWISE, ARISING\n",
        "# FROM, OUT OF OR IN CONNECTION WITH THE SOFTWARE OR THE USE OR OTHER\n",
        "# DEALINGS IN THE SOFTWARE."
      ],
      "execution_count": null,
      "outputs": []
    }
  ]
}