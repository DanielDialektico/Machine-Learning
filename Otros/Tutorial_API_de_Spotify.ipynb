{
  "nbformat": 4,
  "nbformat_minor": 0,
  "metadata": {
    "colab": {
      "provenance": [],
      "authorship_tag": "ABX9TyMpS5ob6IJmVK66PxkzlvQW",
      "include_colab_link": true
    },
    "kernelspec": {
      "name": "python3",
      "display_name": "Python 3"
    },
    "language_info": {
      "name": "python"
    }
  },
  "cells": [
    {
      "cell_type": "markdown",
      "metadata": {
        "id": "view-in-github",
        "colab_type": "text"
      },
      "source": [
        "<a href=\"https://colab.research.google.com/github/DanielDialektico/Machine-Learning/blob/main/Otros/Tutorial_API_de_Spotify.ipynb\" target=\"_parent\"><img src=\"https://colab.research.google.com/assets/colab-badge.svg\" alt=\"Open In Colab\"/></a>"
      ]
    },
    {
      "cell_type": "markdown",
      "source": [
        "![MiniLogoW4.png](data:image/png;base64,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)"
      ],
      "metadata": {
        "id": "7_lxZ9fdNVE-"
      }
    },
    {
      "cell_type": "markdown",
      "source": [
        "**INTRODUCCIÓN A LA API DE SPOTIFY PARA PYTHON 🎼**"
      ],
      "metadata": {
        "id": "Fkxue2A5NgKd"
      }
    },
    {
      "cell_type": "markdown",
      "source": [
        "Instalamos la librería:"
      ],
      "metadata": {
        "id": "Sp_53fMDOYbV"
      }
    },
    {
      "cell_type": "code",
      "execution_count": 1,
      "metadata": {
        "colab": {
          "base_uri": "https://localhost:8080/"
        },
        "id": "gWu06FeQ1DvV",
        "outputId": "dd744e3e-e32b-4277-bb6a-756d11622b6e"
      },
      "outputs": [
        {
          "output_type": "stream",
          "name": "stdout",
          "text": [
            "Looking in indexes: https://pypi.org/simple, https://us-python.pkg.dev/colab-wheels/public/simple/\n",
            "Requirement already satisfied: spotipy in /usr/local/lib/python3.10/dist-packages (2.23.0)\n",
            "Requirement already satisfied: redis>=3.5.3 in /usr/local/lib/python3.10/dist-packages (from spotipy) (4.5.5)\n",
            "Requirement already satisfied: requests>=2.25.0 in /usr/local/lib/python3.10/dist-packages (from spotipy) (2.27.1)\n",
            "Requirement already satisfied: six>=1.15.0 in /usr/local/lib/python3.10/dist-packages (from spotipy) (1.16.0)\n",
            "Requirement already satisfied: urllib3>=1.26.0 in /usr/local/lib/python3.10/dist-packages (from spotipy) (1.26.15)\n",
            "Requirement already satisfied: async-timeout>=4.0.2 in /usr/local/lib/python3.10/dist-packages (from redis>=3.5.3->spotipy) (4.0.2)\n",
            "Requirement already satisfied: certifi>=2017.4.17 in /usr/local/lib/python3.10/dist-packages (from requests>=2.25.0->spotipy) (2022.12.7)\n",
            "Requirement already satisfied: charset-normalizer~=2.0.0 in /usr/local/lib/python3.10/dist-packages (from requests>=2.25.0->spotipy) (2.0.12)\n",
            "Requirement already satisfied: idna<4,>=2.5 in /usr/local/lib/python3.10/dist-packages (from requests>=2.25.0->spotipy) (3.4)\n"
          ]
        }
      ],
      "source": [
        "!pip install spotipy"
      ]
    },
    {
      "cell_type": "markdown",
      "source": [
        "Se declaran las variables con las **credenciales** ([ver tutorial](https://dialektico.com/tutorial-api-spotify-python/)), y la variable que utilizaremos para acceder a la API."
      ],
      "metadata": {
        "id": "eelTZnCEM5aW"
      }
    },
    {
      "cell_type": "code",
      "source": [
        "# Se importan las librerías necesarias.\n",
        "import spotipy\n",
        "import pandas as pd\n",
        "from spotipy.oauth2 import SpotifyClientCredentials\n",
        "\n",
        "# Se declara el ID del cliente.\n",
        "client_id = '1ac2cc06cf774a9caa548b37a4e22ddf'\n",
        "\n",
        "# Se declara el valor del secret client.\n",
        "client_secret = '401d357f92584b80b26f40f9f8664eaa'\n",
        "\n",
        "client_credentials_manager = SpotifyClientCredentials(client_id, client_secret)\n",
        "sp = spotipy.Spotify(client_credentials_manager=client_credentials_manager)"
      ],
      "metadata": {
        "id": "kdytcG9B1FLQ"
      },
      "execution_count": 2,
      "outputs": []
    },
    {
      "cell_type": "markdown",
      "source": [
        "Visualizamos el formato en el que se entrega la información, usando como ejemplo la extracción de datos de la agrupación **Blackpink**."
      ],
      "metadata": {
        "id": "Si19GMZjPOSF"
      }
    },
    {
      "cell_type": "code",
      "source": [
        "# Se busca información sobre Blackpink.\n",
        "result = sp.search(q='Blackpink', type='artist', limit=1)\n",
        "\n",
        "# Se imprime el resultado.\n",
        "result"
      ],
      "metadata": {
        "colab": {
          "base_uri": "https://localhost:8080/"
        },
        "id": "j5Yuyhz04JCG",
        "outputId": "7a0713c7-5b54-4a61-febd-b8c659ca63fb"
      },
      "execution_count": 3,
      "outputs": [
        {
          "output_type": "execute_result",
          "data": {
            "text/plain": [
              "{'artists': {'href': 'https://api.spotify.com/v1/search?query=Blackpink&type=artist&offset=0&limit=1',\n",
              "  'items': [{'external_urls': {'spotify': 'https://open.spotify.com/artist/41MozSoPIsD1dJM0CLPjZF'},\n",
              "    'followers': {'href': None, 'total': 41094116},\n",
              "    'genres': ['k-pop', 'k-pop girl group', 'pop'],\n",
              "    'href': 'https://api.spotify.com/v1/artists/41MozSoPIsD1dJM0CLPjZF',\n",
              "    'id': '41MozSoPIsD1dJM0CLPjZF',\n",
              "    'images': [{'height': 640,\n",
              "      'url': 'https://i.scdn.co/image/ab6761610000e5ebc9690bc711d04b3d4fd4b87c',\n",
              "      'width': 640},\n",
              "     {'height': 320,\n",
              "      'url': 'https://i.scdn.co/image/ab67616100005174c9690bc711d04b3d4fd4b87c',\n",
              "      'width': 320},\n",
              "     {'height': 160,\n",
              "      'url': 'https://i.scdn.co/image/ab6761610000f178c9690bc711d04b3d4fd4b87c',\n",
              "      'width': 160}],\n",
              "    'name': 'BLACKPINK',\n",
              "    'popularity': 86,\n",
              "    'type': 'artist',\n",
              "    'uri': 'spotify:artist:41MozSoPIsD1dJM0CLPjZF'}],\n",
              "  'limit': 1,\n",
              "  'next': 'https://api.spotify.com/v1/search?query=Blackpink&type=artist&offset=1&limit=1',\n",
              "  'offset': 0,\n",
              "  'previous': None,\n",
              "  'total': 47}}"
            ]
          },
          "metadata": {},
          "execution_count": 3
        }
      ]
    },
    {
      "cell_type": "markdown",
      "source": [
        "Ahora accedemos a un elemento en particular del diccionario, extrayendo el **número de seguidor**es del grupo en la plataforma:"
      ],
      "metadata": {
        "id": "RzB-_Ke4P449"
      }
    },
    {
      "cell_type": "code",
      "source": [
        "# Se imprime el número de seguidores de Blackpink. \n",
        "result['artists']['items'][0]['followers']['total']"
      ],
      "metadata": {
        "colab": {
          "base_uri": "https://localhost:8080/"
        },
        "id": "Zck0qeca4fdl",
        "outputId": "b8564207-2021-4eef-ed70-51dfb3e45e63"
      },
      "execution_count": 4,
      "outputs": [
        {
          "output_type": "execute_result",
          "data": {
            "text/plain": [
              "41094116"
            ]
          },
          "metadata": {},
          "execution_count": 4
        }
      ]
    },
    {
      "cell_type": "markdown",
      "source": [
        "Obtenemos el top de canciones más populares de la banda utilizando el método [artist_top_tracks](https://spotipy.readthedocs.io/en/2.22.1/#spotipy.client.Spotify.artist_top_tracks): "
      ],
      "metadata": {
        "id": "27-ruIcvQZrV"
      }
    },
    {
      "cell_type": "code",
      "source": [
        "# Se busca información sobre Blackpink y se obtiene su ID de artista.\n",
        "result = sp.search(q='Blackpink', type='artist', limit=1)\n",
        "blackpink_id = result['artists']['items'][0]['id']\n",
        "\n",
        "# Se obtienen las 10 canciones más escuchadas de Blackpink.\n",
        "results = sp.artist_top_tracks(blackpink_id, country='US')\n",
        "\n",
        "# Se imprime el nombre de las canciones.\n",
        "for track in results['tracks']:\n",
        "    print(track['name'])"
      ],
      "metadata": {
        "colab": {
          "base_uri": "https://localhost:8080/"
        },
        "id": "L58BV_Pc1M-W",
        "outputId": "bff45aa2-a72b-4f72-e1e4-af3f231e3f87"
      },
      "execution_count": 5,
      "outputs": [
        {
          "output_type": "stream",
          "name": "stdout",
          "text": [
            "Shut Down\n",
            "Pink Venom\n",
            "Tally\n",
            "Typa Girl\n",
            "How You Like That\n",
            "Kill This Love\n",
            "Lovesick Girls\n",
            "As If It's Your Last\n",
            "Hard to Love\n",
            "DDU-DU DDU-DU\n"
          ]
        }
      ]
    },
    {
      "cell_type": "markdown",
      "source": [
        "Creamos una función que crea una función para la extracción de 50 canciones de un **género** definido (entrada), sus características, y acomoda la información en un dataFrame de **Pandas**:"
      ],
      "metadata": {
        "id": "KiCvCsX1RoTt"
      }
    },
    {
      "cell_type": "code",
      "source": [
        "def songs_by_genre(genre):\n",
        "\n",
        "    # Se buscan las 50 canciones más populares del género especificado.\n",
        "    results = sp.search(q=f'genre:{genre}', type='track', limit=50)\n",
        "    tracks = results['tracks']['items']\n",
        "\n",
        "    # Se crea una lista de diccionarios con el nombre de la canción y las características deseadas.\n",
        "    song_features = []\n",
        "    for track in tracks:\n",
        "        features = sp.audio_features(track['id'])[0]\n",
        "        song_features.append({'Nombre': track['name'], 'Bailabilidad': features['danceability'], 'Energía': features['energy'], 'Acústica': features['acousticness'], 'Duración (ms)': features['duration_ms'],\n",
        "                          'Acústica': features['acousticness'], 'Instrumentalidad': features['instrumentalness'], 'Sonoridad': features['loudness'], 'Tempo': features['tempo'], \n",
        "                          'Discursividad': features['speechiness'],'ID': features['id'], 'Modo': features['mode'], 'Valencia': features['valence'], 'Género': genre})\n",
        " \n",
        "\n",
        "    # Se crea un dataFrame de Pandas con la información extraída.\n",
        "    data_frame = pd.DataFrame(song_features)\n",
        "\n",
        "    return data_frame"
      ],
      "metadata": {
        "id": "WseKCX_zRrM1"
      },
      "execution_count": 6,
      "outputs": []
    },
    {
      "cell_type": "markdown",
      "source": [
        "Creamos un bucle que obtenga estos datos para cada género especificado en una **lista**, y concatenamos las **tablas** resultantes:"
      ],
      "metadata": {
        "id": "ze3To9KzR_1t"
      }
    },
    {
      "cell_type": "code",
      "source": [
        "# Se importa una librería para la generación de una barra de progreso.\n",
        "from tqdm import tqdm\n",
        "\n",
        "# Se crea una lista con los géneros musicales deseados.\n",
        "genres_list = ['world-music', 'salsa', 'rock-n-roll', 'reggae', 'reggaeton', 'pop', 'black-metal', 'k-pop', 'hip-hop', 'electronic']\n",
        "\n",
        "# Se itera sobre esta lista utilizando sus elementos como entradas de la función creada.\n",
        "tables = []\n",
        "\n",
        "for item in tqdm(genres_list, desc = 'Creando conjunto de datos:'): \n",
        "  table = songs_by_genre(item)\n",
        "  tables.append(table)\n",
        "\n",
        "# Se concatenan las tablas y se imprime el resultado.\n",
        "dataset = pd.concat(tables)\n",
        "dataset"
      ],
      "metadata": {
        "colab": {
          "base_uri": "https://localhost:8080/",
          "height": 589
        },
        "id": "OYr7aksZSFjn",
        "outputId": "3e42d4ea-166b-48c5-c21d-6afb610b85a4"
      },
      "execution_count": 7,
      "outputs": [
        {
          "output_type": "stream",
          "name": "stderr",
          "text": [
            "Creando conjunto de datos:: 100%|██████████| 10/10 [00:28<00:00,  2.85s/it]\n"
          ]
        },
        {
          "output_type": "execute_result",
          "data": {
            "text/plain": [
              "                               Nombre  Bailabilidad  Energía  Acústica  \\\n",
              "0        Oceans (Where Feet May Fail)         0.262    0.361  0.508000   \n",
              "1               What A Beautiful Name         0.424    0.506  0.201000   \n",
              "2           So Will I (100 Billion X)         0.431    0.416  0.046200   \n",
              "3                      God Only Knows         0.597    0.417  0.395000   \n",
              "4   Who You Say I Am - Studio Version         0.376    0.650  0.004060   \n",
              "..                                ...           ...      ...       ...   \n",
              "45            Praise You - Radio Edit         0.621    0.885  0.041800   \n",
              "46                        Blue Monday         0.589    0.696  0.000087   \n",
              "47            Coming Back (feat. SZA)         0.653    0.496  0.625000   \n",
              "48                              Salta         0.653    0.604  0.044800   \n",
              "49                     At Doom's Gate         0.577    0.647  0.001650   \n",
              "\n",
              "    Duración (ms)  Instrumentalidad  Sonoridad    Tempo  Discursividad  \\\n",
              "0          535963          0.002680    -10.187  126.786         0.0333   \n",
              "1          238200          0.000000     -5.877  135.902         0.0284   \n",
              "2          411000          0.000002    -10.376  127.964         0.0296   \n",
              "3          229760          0.000008     -7.952  143.839         0.0502   \n",
              "4          198705          0.000000     -8.147  171.907         0.0406   \n",
              "..            ...               ...        ...      ...            ...   \n",
              "45         227973          0.492000     -6.826  109.728         0.0473   \n",
              "46         267000          0.000034     -8.109  129.833         0.0340   \n",
              "47         195905          0.274000     -7.262   86.013         0.0868   \n",
              "48         222250          0.908000    -10.177  119.980         0.0327   \n",
              "49          70771          0.806000     -7.647  160.987         0.0569   \n",
              "\n",
              "                        ID  Modo  Valencia       Género  \n",
              "0   5Mw9bXG1dLNhbjofkVS2oR     1    0.0560  world-music  \n",
              "1   4KLj9QjEhJl2WU50mxRF9Z     1    0.1380  world-music  \n",
              "2   1ed3wNCecRIp6SugyR0w2J     1    0.1770  world-music  \n",
              "3   4ElNxglBjcrASiGn58t9Jm     1    0.2630  world-music  \n",
              "4   2KngtvMAc2wmPipizcEnce     1    0.3210  world-music  \n",
              "..                     ...   ...       ...          ...  \n",
              "45  21RDsw7wzUJNl2FbWTgEfJ     1    0.5540   electronic  \n",
              "46  5267gVdYWrLoz6ClOhlqmE     1    0.9380   electronic  \n",
              "47  2pSsHnjAgEPjHmet7ChlHQ     0    0.1020   electronic  \n",
              "48  5L8R2cyft2HfQ1IlfVAbcz     0    0.0768   electronic  \n",
              "49  2UKgx2oba7CltHLACr3xdT     1    0.2360   electronic  \n",
              "\n",
              "[500 rows x 13 columns]"
            ],
            "text/html": [
              "\n",
              "  <div id=\"df-f65c11a2-b62b-4beb-af4e-8c31406affc3\">\n",
              "    <div class=\"colab-df-container\">\n",
              "      <div>\n",
              "<style scoped>\n",
              "    .dataframe tbody tr th:only-of-type {\n",
              "        vertical-align: middle;\n",
              "    }\n",
              "\n",
              "    .dataframe tbody tr th {\n",
              "        vertical-align: top;\n",
              "    }\n",
              "\n",
              "    .dataframe thead th {\n",
              "        text-align: right;\n",
              "    }\n",
              "</style>\n",
              "<table border=\"1\" class=\"dataframe\">\n",
              "  <thead>\n",
              "    <tr style=\"text-align: right;\">\n",
              "      <th></th>\n",
              "      <th>Nombre</th>\n",
              "      <th>Bailabilidad</th>\n",
              "      <th>Energía</th>\n",
              "      <th>Acústica</th>\n",
              "      <th>Duración (ms)</th>\n",
              "      <th>Instrumentalidad</th>\n",
              "      <th>Sonoridad</th>\n",
              "      <th>Tempo</th>\n",
              "      <th>Discursividad</th>\n",
              "      <th>ID</th>\n",
              "      <th>Modo</th>\n",
              "      <th>Valencia</th>\n",
              "      <th>Género</th>\n",
              "    </tr>\n",
              "  </thead>\n",
              "  <tbody>\n",
              "    <tr>\n",
              "      <th>0</th>\n",
              "      <td>Oceans (Where Feet May Fail)</td>\n",
              "      <td>0.262</td>\n",
              "      <td>0.361</td>\n",
              "      <td>0.508000</td>\n",
              "      <td>535963</td>\n",
              "      <td>0.002680</td>\n",
              "      <td>-10.187</td>\n",
              "      <td>126.786</td>\n",
              "      <td>0.0333</td>\n",
              "      <td>5Mw9bXG1dLNhbjofkVS2oR</td>\n",
              "      <td>1</td>\n",
              "      <td>0.0560</td>\n",
              "      <td>world-music</td>\n",
              "    </tr>\n",
              "    <tr>\n",
              "      <th>1</th>\n",
              "      <td>What A Beautiful Name</td>\n",
              "      <td>0.424</td>\n",
              "      <td>0.506</td>\n",
              "      <td>0.201000</td>\n",
              "      <td>238200</td>\n",
              "      <td>0.000000</td>\n",
              "      <td>-5.877</td>\n",
              "      <td>135.902</td>\n",
              "      <td>0.0284</td>\n",
              "      <td>4KLj9QjEhJl2WU50mxRF9Z</td>\n",
              "      <td>1</td>\n",
              "      <td>0.1380</td>\n",
              "      <td>world-music</td>\n",
              "    </tr>\n",
              "    <tr>\n",
              "      <th>2</th>\n",
              "      <td>So Will I (100 Billion X)</td>\n",
              "      <td>0.431</td>\n",
              "      <td>0.416</td>\n",
              "      <td>0.046200</td>\n",
              "      <td>411000</td>\n",
              "      <td>0.000002</td>\n",
              "      <td>-10.376</td>\n",
              "      <td>127.964</td>\n",
              "      <td>0.0296</td>\n",
              "      <td>1ed3wNCecRIp6SugyR0w2J</td>\n",
              "      <td>1</td>\n",
              "      <td>0.1770</td>\n",
              "      <td>world-music</td>\n",
              "    </tr>\n",
              "    <tr>\n",
              "      <th>3</th>\n",
              "      <td>God Only Knows</td>\n",
              "      <td>0.597</td>\n",
              "      <td>0.417</td>\n",
              "      <td>0.395000</td>\n",
              "      <td>229760</td>\n",
              "      <td>0.000008</td>\n",
              "      <td>-7.952</td>\n",
              "      <td>143.839</td>\n",
              "      <td>0.0502</td>\n",
              "      <td>4ElNxglBjcrASiGn58t9Jm</td>\n",
              "      <td>1</td>\n",
              "      <td>0.2630</td>\n",
              "      <td>world-music</td>\n",
              "    </tr>\n",
              "    <tr>\n",
              "      <th>4</th>\n",
              "      <td>Who You Say I Am - Studio Version</td>\n",
              "      <td>0.376</td>\n",
              "      <td>0.650</td>\n",
              "      <td>0.004060</td>\n",
              "      <td>198705</td>\n",
              "      <td>0.000000</td>\n",
              "      <td>-8.147</td>\n",
              "      <td>171.907</td>\n",
              "      <td>0.0406</td>\n",
              "      <td>2KngtvMAc2wmPipizcEnce</td>\n",
              "      <td>1</td>\n",
              "      <td>0.3210</td>\n",
              "      <td>world-music</td>\n",
              "    </tr>\n",
              "    <tr>\n",
              "      <th>...</th>\n",
              "      <td>...</td>\n",
              "      <td>...</td>\n",
              "      <td>...</td>\n",
              "      <td>...</td>\n",
              "      <td>...</td>\n",
              "      <td>...</td>\n",
              "      <td>...</td>\n",
              "      <td>...</td>\n",
              "      <td>...</td>\n",
              "      <td>...</td>\n",
              "      <td>...</td>\n",
              "      <td>...</td>\n",
              "      <td>...</td>\n",
              "    </tr>\n",
              "    <tr>\n",
              "      <th>45</th>\n",
              "      <td>Praise You - Radio Edit</td>\n",
              "      <td>0.621</td>\n",
              "      <td>0.885</td>\n",
              "      <td>0.041800</td>\n",
              "      <td>227973</td>\n",
              "      <td>0.492000</td>\n",
              "      <td>-6.826</td>\n",
              "      <td>109.728</td>\n",
              "      <td>0.0473</td>\n",
              "      <td>21RDsw7wzUJNl2FbWTgEfJ</td>\n",
              "      <td>1</td>\n",
              "      <td>0.5540</td>\n",
              "      <td>electronic</td>\n",
              "    </tr>\n",
              "    <tr>\n",
              "      <th>46</th>\n",
              "      <td>Blue Monday</td>\n",
              "      <td>0.589</td>\n",
              "      <td>0.696</td>\n",
              "      <td>0.000087</td>\n",
              "      <td>267000</td>\n",
              "      <td>0.000034</td>\n",
              "      <td>-8.109</td>\n",
              "      <td>129.833</td>\n",
              "      <td>0.0340</td>\n",
              "      <td>5267gVdYWrLoz6ClOhlqmE</td>\n",
              "      <td>1</td>\n",
              "      <td>0.9380</td>\n",
              "      <td>electronic</td>\n",
              "    </tr>\n",
              "    <tr>\n",
              "      <th>47</th>\n",
              "      <td>Coming Back (feat. SZA)</td>\n",
              "      <td>0.653</td>\n",
              "      <td>0.496</td>\n",
              "      <td>0.625000</td>\n",
              "      <td>195905</td>\n",
              "      <td>0.274000</td>\n",
              "      <td>-7.262</td>\n",
              "      <td>86.013</td>\n",
              "      <td>0.0868</td>\n",
              "      <td>2pSsHnjAgEPjHmet7ChlHQ</td>\n",
              "      <td>0</td>\n",
              "      <td>0.1020</td>\n",
              "      <td>electronic</td>\n",
              "    </tr>\n",
              "    <tr>\n",
              "      <th>48</th>\n",
              "      <td>Salta</td>\n",
              "      <td>0.653</td>\n",
              "      <td>0.604</td>\n",
              "      <td>0.044800</td>\n",
              "      <td>222250</td>\n",
              "      <td>0.908000</td>\n",
              "      <td>-10.177</td>\n",
              "      <td>119.980</td>\n",
              "      <td>0.0327</td>\n",
              "      <td>5L8R2cyft2HfQ1IlfVAbcz</td>\n",
              "      <td>0</td>\n",
              "      <td>0.0768</td>\n",
              "      <td>electronic</td>\n",
              "    </tr>\n",
              "    <tr>\n",
              "      <th>49</th>\n",
              "      <td>At Doom's Gate</td>\n",
              "      <td>0.577</td>\n",
              "      <td>0.647</td>\n",
              "      <td>0.001650</td>\n",
              "      <td>70771</td>\n",
              "      <td>0.806000</td>\n",
              "      <td>-7.647</td>\n",
              "      <td>160.987</td>\n",
              "      <td>0.0569</td>\n",
              "      <td>2UKgx2oba7CltHLACr3xdT</td>\n",
              "      <td>1</td>\n",
              "      <td>0.2360</td>\n",
              "      <td>electronic</td>\n",
              "    </tr>\n",
              "  </tbody>\n",
              "</table>\n",
              "<p>500 rows × 13 columns</p>\n",
              "</div>\n",
              "      <button class=\"colab-df-convert\" onclick=\"convertToInteractive('df-f65c11a2-b62b-4beb-af4e-8c31406affc3')\"\n",
              "              title=\"Convert this dataframe to an interactive table.\"\n",
              "              style=\"display:none;\">\n",
              "        \n",
              "  <svg xmlns=\"http://www.w3.org/2000/svg\" height=\"24px\"viewBox=\"0 0 24 24\"\n",
              "       width=\"24px\">\n",
              "    <path d=\"M0 0h24v24H0V0z\" fill=\"none\"/>\n",
              "    <path d=\"M18.56 5.44l.94 2.06.94-2.06 2.06-.94-2.06-.94-.94-2.06-.94 2.06-2.06.94zm-11 1L8.5 8.5l.94-2.06 2.06-.94-2.06-.94L8.5 2.5l-.94 2.06-2.06.94zm10 10l.94 2.06.94-2.06 2.06-.94-2.06-.94-.94-2.06-.94 2.06-2.06.94z\"/><path d=\"M17.41 7.96l-1.37-1.37c-.4-.4-.92-.59-1.43-.59-.52 0-1.04.2-1.43.59L10.3 9.45l-7.72 7.72c-.78.78-.78 2.05 0 2.83L4 21.41c.39.39.9.59 1.41.59.51 0 1.02-.2 1.41-.59l7.78-7.78 2.81-2.81c.8-.78.8-2.07 0-2.86zM5.41 20L4 18.59l7.72-7.72 1.47 1.35L5.41 20z\"/>\n",
              "  </svg>\n",
              "      </button>\n",
              "      \n",
              "  <style>\n",
              "    .colab-df-container {\n",
              "      display:flex;\n",
              "      flex-wrap:wrap;\n",
              "      gap: 12px;\n",
              "    }\n",
              "\n",
              "    .colab-df-convert {\n",
              "      background-color: #E8F0FE;\n",
              "      border: none;\n",
              "      border-radius: 50%;\n",
              "      cursor: pointer;\n",
              "      display: none;\n",
              "      fill: #1967D2;\n",
              "      height: 32px;\n",
              "      padding: 0 0 0 0;\n",
              "      width: 32px;\n",
              "    }\n",
              "\n",
              "    .colab-df-convert:hover {\n",
              "      background-color: #E2EBFA;\n",
              "      box-shadow: 0px 1px 2px rgba(60, 64, 67, 0.3), 0px 1px 3px 1px rgba(60, 64, 67, 0.15);\n",
              "      fill: #174EA6;\n",
              "    }\n",
              "\n",
              "    [theme=dark] .colab-df-convert {\n",
              "      background-color: #3B4455;\n",
              "      fill: #D2E3FC;\n",
              "    }\n",
              "\n",
              "    [theme=dark] .colab-df-convert:hover {\n",
              "      background-color: #434B5C;\n",
              "      box-shadow: 0px 1px 3px 1px rgba(0, 0, 0, 0.15);\n",
              "      filter: drop-shadow(0px 1px 2px rgba(0, 0, 0, 0.3));\n",
              "      fill: #FFFFFF;\n",
              "    }\n",
              "  </style>\n",
              "\n",
              "      <script>\n",
              "        const buttonEl =\n",
              "          document.querySelector('#df-f65c11a2-b62b-4beb-af4e-8c31406affc3 button.colab-df-convert');\n",
              "        buttonEl.style.display =\n",
              "          google.colab.kernel.accessAllowed ? 'block' : 'none';\n",
              "\n",
              "        async function convertToInteractive(key) {\n",
              "          const element = document.querySelector('#df-f65c11a2-b62b-4beb-af4e-8c31406affc3');\n",
              "          const dataTable =\n",
              "            await google.colab.kernel.invokeFunction('convertToInteractive',\n",
              "                                                     [key], {});\n",
              "          if (!dataTable) return;\n",
              "\n",
              "          const docLinkHtml = 'Like what you see? Visit the ' +\n",
              "            '<a target=\"_blank\" href=https://colab.research.google.com/notebooks/data_table.ipynb>data table notebook</a>'\n",
              "            + ' to learn more about interactive tables.';\n",
              "          element.innerHTML = '';\n",
              "          dataTable['output_type'] = 'display_data';\n",
              "          await google.colab.output.renderOutput(dataTable, element);\n",
              "          const docLink = document.createElement('div');\n",
              "          docLink.innerHTML = docLinkHtml;\n",
              "          element.appendChild(docLink);\n",
              "        }\n",
              "      </script>\n",
              "    </div>\n",
              "  </div>\n",
              "  "
            ]
          },
          "metadata": {},
          "execution_count": 7
        }
      ]
    },
    {
      "cell_type": "markdown",
      "source": [
        "Por último se descarga en formato CSV:"
      ],
      "metadata": {
        "id": "qZ9IIVkQSUGM"
      }
    },
    {
      "cell_type": "code",
      "source": [
        "# Se convierte a formato CSV.   \n",
        "dataset.to_csv('dataset.csv', index=False)\n",
        "\n",
        "# Se descarga el CSV.   \n",
        "from google.colab import files\n",
        "files.download('dataset.csv')"
      ],
      "metadata": {
        "colab": {
          "base_uri": "https://localhost:8080/",
          "height": 17
        },
        "id": "nehofeRXM1-f",
        "outputId": "2e774a10-9cb1-4021-a2f9-9961aedbac10"
      },
      "execution_count": 8,
      "outputs": [
        {
          "output_type": "display_data",
          "data": {
            "text/plain": [
              "<IPython.core.display.Javascript object>"
            ],
            "application/javascript": [
              "\n",
              "    async function download(id, filename, size) {\n",
              "      if (!google.colab.kernel.accessAllowed) {\n",
              "        return;\n",
              "      }\n",
              "      const div = document.createElement('div');\n",
              "      const label = document.createElement('label');\n",
              "      label.textContent = `Downloading \"${filename}\": `;\n",
              "      div.appendChild(label);\n",
              "      const progress = document.createElement('progress');\n",
              "      progress.max = size;\n",
              "      div.appendChild(progress);\n",
              "      document.body.appendChild(div);\n",
              "\n",
              "      const buffers = [];\n",
              "      let downloaded = 0;\n",
              "\n",
              "      const channel = await google.colab.kernel.comms.open(id);\n",
              "      // Send a message to notify the kernel that we're ready.\n",
              "      channel.send({})\n",
              "\n",
              "      for await (const message of channel.messages) {\n",
              "        // Send a message to notify the kernel that we're ready.\n",
              "        channel.send({})\n",
              "        if (message.buffers) {\n",
              "          for (const buffer of message.buffers) {\n",
              "            buffers.push(buffer);\n",
              "            downloaded += buffer.byteLength;\n",
              "            progress.value = downloaded;\n",
              "          }\n",
              "        }\n",
              "      }\n",
              "      const blob = new Blob(buffers, {type: 'application/binary'});\n",
              "      const a = document.createElement('a');\n",
              "      a.href = window.URL.createObjectURL(blob);\n",
              "      a.download = filename;\n",
              "      div.appendChild(a);\n",
              "      a.click();\n",
              "      div.remove();\n",
              "    }\n",
              "  "
            ]
          },
          "metadata": {}
        },
        {
          "output_type": "display_data",
          "data": {
            "text/plain": [
              "<IPython.core.display.Javascript object>"
            ],
            "application/javascript": [
              "download(\"download_5be51b56-756e-404e-987d-08c1d2ab8244\", \"dataset.csv\", 54810)"
            ]
          },
          "metadata": {}
        }
      ]
    },
    {
      "cell_type": "markdown",
      "source": [
        "O en formato XLS:"
      ],
      "metadata": {
        "id": "vaJTOIBCSuRF"
      }
    },
    {
      "cell_type": "code",
      "source": [
        "# Se convierte a formato Excel.   \n",
        "dataset.to_excel('dataset.xlsx', index=False)\n",
        "\n",
        "# Se descarga el Excel.   \n",
        "from google.colab import files\n",
        "files.download('dataset.xlsx')"
      ],
      "metadata": {
        "colab": {
          "base_uri": "https://localhost:8080/",
          "height": 17
        },
        "id": "MmpDA3WUSkoH",
        "outputId": "aae41474-fe49-498a-bce8-01233cc8ab39"
      },
      "execution_count": 11,
      "outputs": [
        {
          "output_type": "display_data",
          "data": {
            "text/plain": [
              "<IPython.core.display.Javascript object>"
            ],
            "application/javascript": [
              "\n",
              "    async function download(id, filename, size) {\n",
              "      if (!google.colab.kernel.accessAllowed) {\n",
              "        return;\n",
              "      }\n",
              "      const div = document.createElement('div');\n",
              "      const label = document.createElement('label');\n",
              "      label.textContent = `Downloading \"${filename}\": `;\n",
              "      div.appendChild(label);\n",
              "      const progress = document.createElement('progress');\n",
              "      progress.max = size;\n",
              "      div.appendChild(progress);\n",
              "      document.body.appendChild(div);\n",
              "\n",
              "      const buffers = [];\n",
              "      let downloaded = 0;\n",
              "\n",
              "      const channel = await google.colab.kernel.comms.open(id);\n",
              "      // Send a message to notify the kernel that we're ready.\n",
              "      channel.send({})\n",
              "\n",
              "      for await (const message of channel.messages) {\n",
              "        // Send a message to notify the kernel that we're ready.\n",
              "        channel.send({})\n",
              "        if (message.buffers) {\n",
              "          for (const buffer of message.buffers) {\n",
              "            buffers.push(buffer);\n",
              "            downloaded += buffer.byteLength;\n",
              "            progress.value = downloaded;\n",
              "          }\n",
              "        }\n",
              "      }\n",
              "      const blob = new Blob(buffers, {type: 'application/binary'});\n",
              "      const a = document.createElement('a');\n",
              "      a.href = window.URL.createObjectURL(blob);\n",
              "      a.download = filename;\n",
              "      div.appendChild(a);\n",
              "      a.click();\n",
              "      div.remove();\n",
              "    }\n",
              "  "
            ]
          },
          "metadata": {}
        },
        {
          "output_type": "display_data",
          "data": {
            "text/plain": [
              "<IPython.core.display.Javascript object>"
            ],
            "application/javascript": [
              "download(\"download_cc393b1a-e032-48ac-9c0e-6f0d6498fcfb\", \"dataset.xlsx\", 56156)"
            ]
          },
          "metadata": {}
        }
      ]
    },
    {
      "cell_type": "markdown",
      "source": [
        "No olvides que puedes encontrar más tópicos como este en https://dialektico.com/."
      ],
      "metadata": {
        "id": "0QjcY7SqTatu"
      }
    }
  ]
}