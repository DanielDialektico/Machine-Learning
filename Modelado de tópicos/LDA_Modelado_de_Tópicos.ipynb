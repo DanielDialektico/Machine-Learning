{
  "nbformat": 4,
  "nbformat_minor": 0,
  "metadata": {
    "colab": {
      "provenance": [],
      "authorship_tag": "ABX9TyNdtIyiwa8us/3WCNe3P30x",
      "include_colab_link": true
    },
    "kernelspec": {
      "name": "python3",
      "display_name": "Python 3"
    },
    "language_info": {
      "name": "python"
    }
  },
  "cells": [
    {
      "cell_type": "markdown",
      "metadata": {
        "id": "view-in-github",
        "colab_type": "text"
      },
      "source": [
        "<a href=\"https://colab.research.google.com/github/DanielDialektico/Machine-Learning/blob/main/Modelado%20de%20t%C3%B3picos/LDA_Modelado_de_T%C3%B3picos.ipynb\" target=\"_parent\"><img src=\"https://colab.research.google.com/assets/colab-badge.svg\" alt=\"Open In Colab\"/></a>"
      ]
    },
    {
      "cell_type": "markdown",
      "source": [
        "Este espacio de trabajo contiene la aplicación de un algoritmo de aprendizaje no supervisado de procesamiento de lenguaje natural a un conjunto de datos de reseñas de clientes de una tienda departamental. \n",
        "\n",
        "El modelo utilizado fue el LDA ()Latent Dirichlet Allocation), el cual se utiliza para modelado de tópicos, es decir, agrupación de términos en categorías (permite superposición de términos, es decir, cada término puede estar asociado a más de una clase).\n"
      ],
      "metadata": {
        "id": "XgRA9L6yH6uE"
      }
    },
    {
      "cell_type": "markdown",
      "source": [
        "# Carga de datos"
      ],
      "metadata": {
        "id": "PSMOSP7QIg8B"
      }
    },
    {
      "cell_type": "markdown",
      "source": [
        "En el siguiente fragmento de código se instalan y cargan las librerías necesarias."
      ],
      "metadata": {
        "id": "f-W3fNx-IkHw"
      }
    },
    {
      "cell_type": "code",
      "execution_count": 37,
      "metadata": {
        "colab": {
          "base_uri": "https://localhost:8080/"
        },
        "id": "tO0kPR9iC8Lx",
        "outputId": "2ce0b3c4-6e11-4e09-bd57-235f5ca72c32"
      },
      "outputs": [
        {
          "output_type": "stream",
          "name": "stdout",
          "text": [
            "/usr/local/lib/python3.9/dist-packages/torch/cuda/__init__.py:497: UserWarning: Can't initialize NVML\n",
            "  warnings.warn(\"Can't initialize NVML\")\n",
            "2023-03-28 07:34:21.272288: W tensorflow/compiler/xla/stream_executor/platform/default/dso_loader.cc:64] Could not load dynamic library 'libnvinfer.so.7'; dlerror: libnvinfer.so.7: cannot open shared object file: No such file or directory; LD_LIBRARY_PATH: /usr/local/nvidia/lib:/usr/local/nvidia/lib64\n",
            "2023-03-28 07:34:21.272480: W tensorflow/compiler/xla/stream_executor/platform/default/dso_loader.cc:64] Could not load dynamic library 'libnvinfer_plugin.so.7'; dlerror: libnvinfer_plugin.so.7: cannot open shared object file: No such file or directory; LD_LIBRARY_PATH: /usr/local/nvidia/lib:/usr/local/nvidia/lib64\n",
            "2023-03-28 07:34:21.272506: W tensorflow/compiler/tf2tensorrt/utils/py_utils.cc:38] TF-TRT Warning: Cannot dlopen some TensorRT libraries. If you would like to use Nvidia GPU with TensorRT, please make sure the missing libraries mentioned above are installed properly.\n",
            "2023-03-28 07:34:23.359084: E tensorflow/compiler/xla/stream_executor/cuda/cuda_driver.cc:267] failed call to cuInit: CUDA_ERROR_NO_DEVICE: no CUDA-capable device is detected\n",
            "Looking in indexes: https://pypi.org/simple, https://us-python.pkg.dev/colab-wheels/public/simple/\n",
            "Collecting es-core-news-sm==3.5.0\n",
            "  Downloading https://github.com/explosion/spacy-models/releases/download/es_core_news_sm-3.5.0/es_core_news_sm-3.5.0-py3-none-any.whl (12.9 MB)\n",
            "\u001b[2K     \u001b[90m━━━━━━━━━━━━━━━━━━━━━━━━━━━━━━━━━━━━━━━━\u001b[0m \u001b[32m12.9/12.9 MB\u001b[0m \u001b[31m51.0 MB/s\u001b[0m eta \u001b[36m0:00:00\u001b[0m\n",
            "\u001b[?25hRequirement already satisfied: spacy<3.6.0,>=3.5.0 in /usr/local/lib/python3.9/dist-packages (from es-core-news-sm==3.5.0) (3.5.1)\n",
            "Requirement already satisfied: jinja2 in /usr/local/lib/python3.9/dist-packages (from spacy<3.6.0,>=3.5.0->es-core-news-sm==3.5.0) (3.1.2)\n",
            "Requirement already satisfied: thinc<8.2.0,>=8.1.8 in /usr/local/lib/python3.9/dist-packages (from spacy<3.6.0,>=3.5.0->es-core-news-sm==3.5.0) (8.1.9)\n",
            "Requirement already satisfied: preshed<3.1.0,>=3.0.2 in /usr/local/lib/python3.9/dist-packages (from spacy<3.6.0,>=3.5.0->es-core-news-sm==3.5.0) (3.0.8)\n",
            "Requirement already satisfied: pydantic!=1.8,!=1.8.1,<1.11.0,>=1.7.4 in /usr/local/lib/python3.9/dist-packages (from spacy<3.6.0,>=3.5.0->es-core-news-sm==3.5.0) (1.10.7)\n",
            "Requirement already satisfied: murmurhash<1.1.0,>=0.28.0 in /usr/local/lib/python3.9/dist-packages (from spacy<3.6.0,>=3.5.0->es-core-news-sm==3.5.0) (1.0.9)\n",
            "Requirement already satisfied: packaging>=20.0 in /usr/local/lib/python3.9/dist-packages (from spacy<3.6.0,>=3.5.0->es-core-news-sm==3.5.0) (23.0)\n",
            "Requirement already satisfied: wasabi<1.2.0,>=0.9.1 in /usr/local/lib/python3.9/dist-packages (from spacy<3.6.0,>=3.5.0->es-core-news-sm==3.5.0) (1.1.1)\n",
            "Requirement already satisfied: langcodes<4.0.0,>=3.2.0 in /usr/local/lib/python3.9/dist-packages (from spacy<3.6.0,>=3.5.0->es-core-news-sm==3.5.0) (3.3.0)\n",
            "Requirement already satisfied: tqdm<5.0.0,>=4.38.0 in /usr/local/lib/python3.9/dist-packages (from spacy<3.6.0,>=3.5.0->es-core-news-sm==3.5.0) (4.65.0)\n",
            "Requirement already satisfied: numpy>=1.15.0 in /usr/local/lib/python3.9/dist-packages (from spacy<3.6.0,>=3.5.0->es-core-news-sm==3.5.0) (1.22.4)\n",
            "Requirement already satisfied: spacy-legacy<3.1.0,>=3.0.11 in /usr/local/lib/python3.9/dist-packages (from spacy<3.6.0,>=3.5.0->es-core-news-sm==3.5.0) (3.0.12)\n",
            "Requirement already satisfied: requests<3.0.0,>=2.13.0 in /usr/local/lib/python3.9/dist-packages (from spacy<3.6.0,>=3.5.0->es-core-news-sm==3.5.0) (2.27.1)\n",
            "Requirement already satisfied: srsly<3.0.0,>=2.4.3 in /usr/local/lib/python3.9/dist-packages (from spacy<3.6.0,>=3.5.0->es-core-news-sm==3.5.0) (2.4.6)\n",
            "Requirement already satisfied: cymem<2.1.0,>=2.0.2 in /usr/local/lib/python3.9/dist-packages (from spacy<3.6.0,>=3.5.0->es-core-news-sm==3.5.0) (2.0.7)\n",
            "Requirement already satisfied: setuptools in /usr/local/lib/python3.9/dist-packages (from spacy<3.6.0,>=3.5.0->es-core-news-sm==3.5.0) (67.6.0)\n",
            "Requirement already satisfied: smart-open<7.0.0,>=5.2.1 in /usr/local/lib/python3.9/dist-packages (from spacy<3.6.0,>=3.5.0->es-core-news-sm==3.5.0) (6.3.0)\n",
            "Requirement already satisfied: catalogue<2.1.0,>=2.0.6 in /usr/local/lib/python3.9/dist-packages (from spacy<3.6.0,>=3.5.0->es-core-news-sm==3.5.0) (2.0.8)\n",
            "Requirement already satisfied: typer<0.8.0,>=0.3.0 in /usr/local/lib/python3.9/dist-packages (from spacy<3.6.0,>=3.5.0->es-core-news-sm==3.5.0) (0.7.0)\n",
            "Requirement already satisfied: spacy-loggers<2.0.0,>=1.0.0 in /usr/local/lib/python3.9/dist-packages (from spacy<3.6.0,>=3.5.0->es-core-news-sm==3.5.0) (1.0.4)\n",
            "Requirement already satisfied: pathy>=0.10.0 in /usr/local/lib/python3.9/dist-packages (from spacy<3.6.0,>=3.5.0->es-core-news-sm==3.5.0) (0.10.1)\n",
            "Requirement already satisfied: typing-extensions>=4.2.0 in /usr/local/lib/python3.9/dist-packages (from pydantic!=1.8,!=1.8.1,<1.11.0,>=1.7.4->spacy<3.6.0,>=3.5.0->es-core-news-sm==3.5.0) (4.5.0)\n",
            "Requirement already satisfied: urllib3<1.27,>=1.21.1 in /usr/local/lib/python3.9/dist-packages (from requests<3.0.0,>=2.13.0->spacy<3.6.0,>=3.5.0->es-core-news-sm==3.5.0) (1.26.15)\n",
            "Requirement already satisfied: charset-normalizer~=2.0.0 in /usr/local/lib/python3.9/dist-packages (from requests<3.0.0,>=2.13.0->spacy<3.6.0,>=3.5.0->es-core-news-sm==3.5.0) (2.0.12)\n",
            "Requirement already satisfied: certifi>=2017.4.17 in /usr/local/lib/python3.9/dist-packages (from requests<3.0.0,>=2.13.0->spacy<3.6.0,>=3.5.0->es-core-news-sm==3.5.0) (2022.12.7)\n",
            "Requirement already satisfied: idna<4,>=2.5 in /usr/local/lib/python3.9/dist-packages (from requests<3.0.0,>=2.13.0->spacy<3.6.0,>=3.5.0->es-core-news-sm==3.5.0) (3.4)\n",
            "Requirement already satisfied: confection<1.0.0,>=0.0.1 in /usr/local/lib/python3.9/dist-packages (from thinc<8.2.0,>=8.1.8->spacy<3.6.0,>=3.5.0->es-core-news-sm==3.5.0) (0.0.4)\n",
            "Requirement already satisfied: blis<0.8.0,>=0.7.8 in /usr/local/lib/python3.9/dist-packages (from thinc<8.2.0,>=8.1.8->spacy<3.6.0,>=3.5.0->es-core-news-sm==3.5.0) (0.7.9)\n",
            "Requirement already satisfied: click<9.0.0,>=7.1.1 in /usr/local/lib/python3.9/dist-packages (from typer<0.8.0,>=0.3.0->spacy<3.6.0,>=3.5.0->es-core-news-sm==3.5.0) (8.1.3)\n",
            "Requirement already satisfied: MarkupSafe>=2.0 in /usr/local/lib/python3.9/dist-packages (from jinja2->spacy<3.6.0,>=3.5.0->es-core-news-sm==3.5.0) (2.1.2)\n",
            "\u001b[38;5;2m✔ Download and installation successful\u001b[0m\n",
            "You can now load the package via spacy.load('es_core_news_sm')\n",
            "Looking in indexes: https://pypi.org/simple, https://us-python.pkg.dev/colab-wheels/public/simple/\n",
            "Requirement already satisfied: pyLDAvis in /usr/local/lib/python3.9/dist-packages (3.4.0)\n",
            "Requirement already satisfied: numexpr in /usr/local/lib/python3.9/dist-packages (from pyLDAvis) (2.8.4)\n",
            "Requirement already satisfied: joblib>=1.2.0 in /usr/local/lib/python3.9/dist-packages (from pyLDAvis) (1.2.0)\n",
            "Requirement already satisfied: gensim in /usr/local/lib/python3.9/dist-packages (from pyLDAvis) (4.3.1)\n",
            "Requirement already satisfied: scipy in /usr/local/lib/python3.9/dist-packages (from pyLDAvis) (1.10.1)\n",
            "Requirement already satisfied: funcy in /usr/local/lib/python3.9/dist-packages (from pyLDAvis) (2.0)\n",
            "Requirement already satisfied: scikit-learn>=1.0.0 in /usr/local/lib/python3.9/dist-packages (from pyLDAvis) (1.2.2)\n",
            "Requirement already satisfied: setuptools in /usr/local/lib/python3.9/dist-packages (from pyLDAvis) (67.6.0)\n",
            "Requirement already satisfied: numpy>=1.22.0 in /usr/local/lib/python3.9/dist-packages (from pyLDAvis) (1.22.4)\n",
            "Requirement already satisfied: pandas>=1.3.4 in /usr/local/lib/python3.9/dist-packages (from pyLDAvis) (1.4.4)\n",
            "Requirement already satisfied: jinja2 in /usr/local/lib/python3.9/dist-packages (from pyLDAvis) (3.1.2)\n",
            "Requirement already satisfied: python-dateutil>=2.8.1 in /usr/local/lib/python3.9/dist-packages (from pandas>=1.3.4->pyLDAvis) (2.8.2)\n",
            "Requirement already satisfied: pytz>=2020.1 in /usr/local/lib/python3.9/dist-packages (from pandas>=1.3.4->pyLDAvis) (2022.7.1)\n",
            "Requirement already satisfied: threadpoolctl>=2.0.0 in /usr/local/lib/python3.9/dist-packages (from scikit-learn>=1.0.0->pyLDAvis) (3.1.0)\n",
            "Requirement already satisfied: smart-open>=1.8.1 in /usr/local/lib/python3.9/dist-packages (from gensim->pyLDAvis) (6.3.0)\n",
            "Requirement already satisfied: MarkupSafe>=2.0 in /usr/local/lib/python3.9/dist-packages (from jinja2->pyLDAvis) (2.1.2)\n",
            "Requirement already satisfied: six>=1.5 in /usr/local/lib/python3.9/dist-packages (from python-dateutil>=2.8.1->pandas>=1.3.4->pyLDAvis) (1.16.0)\n",
            "Looking in indexes: https://pypi.org/simple, https://us-python.pkg.dev/colab-wheels/public/simple/\n",
            "\u001b[31mERROR: Could not find a version that satisfies the requirement pyLDAvis.gensim (from versions: none)\u001b[0m\u001b[31m\n",
            "\u001b[0m\u001b[31mERROR: No matching distribution found for pyLDAvis.gensim\u001b[0m\u001b[31m\n",
            "\u001b[0m"
          ]
        },
        {
          "output_type": "stream",
          "name": "stderr",
          "text": [
            "[nltk_data] Downloading package punkt to /root/nltk_data...\n",
            "[nltk_data]   Package punkt is already up-to-date!\n"
          ]
        }
      ],
      "source": [
        "!python3 -m spacy download es_core_news_sm\n",
        "!pip install pyLDAvis\n",
        "!pip install pyLDAvis.gensim\n",
        "import pandas as pd\n",
        "import numpy as np\n",
        "import re\n",
        "import spacy\n",
        "import gensim\n",
        "from gensim import corpora\n",
        "import pandas as pd\n",
        "import nltk\n",
        "from nltk import FreqDist\n",
        "import matplotlib.pyplot as plt\n",
        "import seaborn as sns\n",
        "import warnings\n",
        "import es_core_news_sm\n",
        "from nltk.tokenize import word_tokenize\n",
        "import pyLDAvis\n",
        "import pyLDAvis.gensim_models as gensimvis\n",
        "nltk.download('punkt')\n",
        "\n",
        "#Se ignoran las alertas.\n",
        "warnings.filterwarnings('ignore')\n",
        "%matplotlib inline"
      ]
    },
    {
      "cell_type": "markdown",
      "source": [
        "En el siguiente bloque se carga y filtra el conjunto de datos:"
      ],
      "metadata": {
        "id": "s9ODnpb9IqTZ"
      }
    },
    {
      "cell_type": "code",
      "source": [
        "#Se carga el conjunto de datos.\n",
        "reviews = pd.read_csv('https://raw.githubusercontent.com/DanielDialektico/Machine-Learning/main/Conjuntos%20de%20datos/Rese%C3%B1as.csv')\n",
        "reviews = reviews[\"Opinión\"].dropna().reset_index(drop = True)"
      ],
      "metadata": {
        "id": "TjXL5dPfD2pB"
      },
      "execution_count": 38,
      "outputs": []
    },
    {
      "cell_type": "markdown",
      "source": [
        "# Exploración de datos"
      ],
      "metadata": {
        "id": "dIN9wck0Jyro"
      }
    },
    {
      "cell_type": "markdown",
      "source": [
        "Se procede a graficar las 20 palabras más frecuentes."
      ],
      "metadata": {
        "id": "CaorRz_AIxUJ"
      }
    },
    {
      "cell_type": "code",
      "source": [
        "# Función para graficar términos más frecuentes\n",
        "def freq_words(x, terms = 30):\n",
        "  all_words = ' '.join([text for text in x])\n",
        "  all_words = all_words.split()\n",
        "\n",
        "  fdist = FreqDist(all_words)\n",
        "  words_df = pd.DataFrame({'word':list(fdist.keys()), 'count':list(fdist.values())})\n",
        "\n",
        "  # selecting top 20 most frequent words\n",
        "  d = words_df.nlargest(columns=\"count\", n = terms) \n",
        "  plt.figure(figsize=(20,5))\n",
        "  ax = sns.barplot(data=d, x= \"word\", y = \"count\")\n",
        "  ax.set(ylabel = 'Conteo')\n",
        "  ax.set(xlabel = 'Término')\n",
        "  plt.xticks(rotation=45, ha=\"right\")\n",
        "  plt.show()\n",
        "\n",
        "freq_words(reviews)  "
      ],
      "metadata": {
        "colab": {
          "base_uri": "https://localhost:8080/",
          "height": 365
        },
        "id": "JodkCuM_F1sg",
        "outputId": "cc91115c-6f35-4582-be05-88de334ac70d"
      },
      "execution_count": 43,
      "outputs": [
        {
          "output_type": "display_data",
          "data": {
            "text/plain": [
              "<Figure size 1440x360 with 1 Axes>"
            ],
            "image/png": "[encoded data removed]"
          },
          "metadata": {
            "needs_background": "light"
          }
        }
      ]
    },
    {
      "cell_type": "markdown",
      "source": [
        "Dado que las palabras más frecuentes no aportan información relevante sobre las opiniones de los clientes, se procede a preprocesar el conjunto de datos."
      ],
      "metadata": {
        "id": "eRdYBUHdJBnB"
      }
    },
    {
      "cell_type": "markdown",
      "source": [
        "# Preprocesamiento"
      ],
      "metadata": {
        "id": "52tLOcC-J2T5"
      }
    },
    {
      "cell_type": "markdown",
      "source": [
        "En la siguiente celda se preprocesa el conjunto de datos aplicando los siguientes ajustes:\n",
        "\n",
        "\n",
        "\n",
        "*   Se tokenizan las frases.\n",
        "*   Se convierten todas las letras a minúsculas.\n",
        "*   Se quitan caracteres no alfanuméricos.\n",
        "*   Se eliminan stop words.\n",
        "*   Se remueven adjetivos.\n",
        "*   Se lematizan los textos.\n",
        "*   Se remueven los acentos ortográficos.\n",
        "\n",
        "Al final, se vuelven a graficar los términos más frecuentes."
      ],
      "metadata": {
        "id": "UjOKlmC9J6Rq"
      }
    },
    {
      "cell_type": "code",
      "source": [
        "nlp = es_core_news_sm.load()\n",
        "\n",
        "def remove_w(data_set):\n",
        "  words = [\"google\", \"traducción\", \"jeje\", \"gustar\", \"despota\", \"tener\"]\n",
        "  for i in words:\n",
        "    data_set = data_set.str.replace(i, \"\")\n",
        "  return data_set  \n",
        "\n",
        "#reviews = remove_w(reviews)\n",
        "\n",
        "drop_index = []\n",
        "\n",
        "for i in range(len(reviews)):\n",
        "  text = nlp(reviews.iloc[i])\n",
        "  words = [t.orth_ for t in text if not t.is_punct | t.is_stop] \n",
        "  lexical_tokens = nlp(' '.join([t.lower() for t in words if len(t) > 3 and t.isalpha()]).replace(\"tender \",\"tienda \"))\n",
        "  lemmas_no_pron = ' '.join([tok.lemma_ for tok in lexical_tokens if tok.pos_ != 'PRON' and tok.pos_ != 'ADJ'])\n",
        "  reviews.iat[i] = lemmas_no_pron\n",
        "  lemmas_as_word = ' '.join(lemmas_no_pron)\n",
        "  if lemmas_as_word == '':\n",
        "    drop_index.append(i)\n",
        "    \n",
        "reviews = reviews.drop(drop_index)\n",
        "\n",
        "reviews = remove_w(reviews)\n",
        "reviews = reviews.str.replace(\"tender\", \"tienda\")\n",
        "reviews = reviews.str.replace(\"personar\", \"personal\")\n",
        "reviews = reviews.str.replace(\"preciar\", \"precio\")\n",
        "reviews = reviews.str.replace(\"mesar\", \"meses\")\n",
        "\n",
        "\n",
        "def remove_accent(data_set):\n",
        "  accent = [\"á\",\"é\",\"í\",\"ó\",\"ú\"]\n",
        "  drop_accent = [\"a\", \"e\", \"i\", \"o\", \"u\"]\n",
        "  for i in range(len(accent)):\n",
        "    data_set = data_set.str.replace(accent[i], drop_accent[i])\n",
        "  return data_set  \n",
        "\n",
        "reviews = remove_accent(reviews)\n",
        "\n",
        "reviews = reviews.apply(lambda x: word_tokenize(x))\n",
        "\n",
        "reviews_list = reviews.apply(lambda x: ' '.join([j for j in x]))\n",
        "reviews_list = reviews_list.values.tolist()\n",
        "freq_words(reviews_list, 35)"
      ],
      "metadata": {
        "colab": {
          "base_uri": "https://localhost:8080/",
          "height": 368
        },
        "id": "BwC5m9f7EtoB",
        "outputId": "1f5f8300-437d-4c01-b9bc-eb7cbe22f1b5"
      },
      "execution_count": 44,
      "outputs": [
        {
          "output_type": "display_data",
          "data": {
            "text/plain": [
              "<Figure size 1440x360 with 1 Axes>"
            ],
            "image/png": "[encoded data removed]"
          },
          "metadata": {
            "needs_background": "light"
          }
        }
      ]
    },
    {
      "cell_type": "markdown",
      "source": [
        "Ahora que se ha preprocesado el conjunto de datos, se aplica el algoritmo de aprendizaje no supervisado para la agrupación de términos en categorías.\n",
        "\n",
        "El siguiente código ajusta el modelo a los datos, e imprime los principales términos que componen a cada una de las 4 categorías generadas."
      ],
      "metadata": {
        "id": "yw_pGZXQKoD5"
      }
    },
    {
      "cell_type": "code",
      "source": [
        "dictionary = corpora.Dictionary(reviews)\n",
        "\n",
        "doc_term_matrix = [dictionary.doc2bow(rev) for rev in reviews]\n",
        "\n",
        "LDA = gensim.models.ldamodel.LdaModel\n",
        "\n",
        "# Build LDA model\n",
        "lda_model = LDA(corpus=doc_term_matrix, id2word=dictionary, num_topics=4, random_state = 100,\n",
        "                chunksize=100, passes=50)\n",
        "\n",
        "lda_model.print_topics()"
      ],
      "metadata": {
        "colab": {
          "base_uri": "https://localhost:8080/"
        },
        "id": "xFetuNeoGIsy",
        "outputId": "9bbf15ea-a3d8-45f1-8498-3e71a12e3ded"
      },
      "execution_count": 45,
      "outputs": [
        {
          "output_type": "execute_result",
          "data": {
            "text/plain": [
              "[(0,\n",
              "  '0.137*\"atencion\" + 0.077*\"variedad\" + 0.043*\"producto\" + 0.041*\"credito\" + 0.038*\"cliente\" + 0.033*\"cosa\" + 0.026*\"compra\" + 0.022*\"faltar\" + 0.019*\"encuentra\" + 0.017*\"super\"'),\n",
              " (1,\n",
              "  '0.140*\"precio\" + 0.130*\"servicio\" + 0.098*\"lugar\" + 0.047*\"tiendar\" + 0.037*\"comprar\" + 0.025*\"articulo\" + 0.025*\"calidad\" + 0.024*\"interes\" + 0.020*\"cobrar\" + 0.013*\"mes\"'),\n",
              " (2,\n",
              "  '0.057*\"tienda\" + 0.041*\"oferta\" + 0.030*\"promocion\" + 0.029*\"trato\" + 0.025*\"exelente\" + 0.020*\"pago\" + 0.018*\"estacionamiento\" + 0.016*\"poder\" + 0.015*\"centro\" + 0.014*\"encontrar\"'),\n",
              " (3,\n",
              "  '0.141*\"ropa\" + 0.052*\"atienda\" + 0.036*\"falta\" + 0.026*\"caja\" + 0.019*\"gente\" + 0.016*\"familia\" + 0.014*\"vender\" + 0.014*\"amabl\" + 0.012*\"ubicacion\" + 0.011*\"pagar\"')]"
            ]
          },
          "metadata": {},
          "execution_count": 45
        }
      ]
    },
    {
      "cell_type": "markdown",
      "source": [
        "Por último, se visualizan los resultados:"
      ],
      "metadata": {
        "id": "qfsz8ZubK8Db"
      }
    },
    {
      "cell_type": "code",
      "source": [
        "# Visualize the topics\n",
        "pyLDAvis.enable_notebook()\n",
        "vis = gensimvis.prepare(lda_model, doc_term_matrix, dictionary)\n",
        "vis"
      ],
      "metadata": {
        "colab": {
          "base_uri": "https://localhost:8080/",
          "height": 861
        },
        "id": "fMOTMZ1YG4kw",
        "outputId": "9d757312-22bc-42cd-e05d-4fa77ca0fe78"
      },
      "execution_count": 46,
      "outputs": [
        {
          "output_type": "execute_result",
          "data": {
            "text/plain": [
              "PreparedData(topic_coordinates=              x         y  topics  cluster       Freq\n",
              "topic                                                \n",
              "0     -0.294688  0.135957       1        1  28.018274\n",
              "1      0.231285  0.207711       2        1  25.703342\n",
              "2      0.002904 -0.222514       3        1  23.972498\n",
              "3      0.060498 -0.121154       4        1  22.305886, topic_info=              Term        Freq       Total Category  logprob  loglift\n",
              "21          precio  481.000000  481.000000  Default  30.0000  30.0000\n",
              "3         atencion  511.000000  511.000000  Default  29.0000  29.0000\n",
              "2             ropa  420.000000  420.000000  Default  28.0000  28.0000\n",
              "1         servicio  446.000000  446.000000  Default  27.0000  27.0000\n",
              "18           lugar  335.000000  335.000000  Default  26.0000  26.0000\n",
              "...            ...         ...         ...      ...      ...      ...\n",
              "377       telefono   13.504703   14.280946   Topic4  -5.3941   1.4444\n",
              "1109     necesidad   12.574158   13.307987   Topic4  -5.4655   1.4436\n",
              "93           pagar   33.488032   66.462691   Topic4  -4.4860   0.8149\n",
              "216   departamento   18.811260   32.273642   Topic4  -5.0627   0.9605\n",
              "76         calidad   30.208596  114.772284   Topic4  -4.5890   0.1655\n",
              "\n",
              "[158 rows x 6 columns], token_table=      Topic      Freq        Term\n",
              "term                             \n",
              "88        2  0.948832       abono\n",
              "740       3  0.971429       abrir\n",
              "431       4  0.941437  amabilidad\n",
              "96        4  0.987517       amabl\n",
              "124       2  0.934605    ambiente\n",
              "...     ...       ...         ...\n",
              "469       4  0.910083      vestir\n",
              "502       1  0.942792      volver\n",
              "487       2  0.926977    zapateer\n",
              "157       1  0.990892      zapato\n",
              "644       3  0.950365        zona\n",
              "\n",
              "[129 rows x 3 columns], R=30, lambda_step=0.01, plot_opts={'xlab': 'PC1', 'ylab': 'PC2'}, topic_order=[1, 2, 3, 4])"
            ],
            "text/html": [
              "\n",
              "<link rel=\"stylesheet\" type=\"text/css\" href=\"https://cdn.jsdelivr.net/gh/bmabey/pyLDAvis@3.4.0/pyLDAvis/js/ldavis.v1.0.0.css\">\n",
              "\n",
              "\n",
              "<div id=\"ldavis_el2751401810573901764525622073\" style=\"background-color:white;\"></div>\n",
              "<script type=\"text/javascript\">\n",
              "\n",
              "var ldavis_el2751401810573901764525622073_data = {\"mdsDat\": {\"x\": [-0.29468754624845234, 0.23128538508644658, 0.002903817906093358, 0.06049834325591228], \"y\": [0.13595707181505315, 0.20771147116301555, -0.22251430487531196, -0.12115423810275673], \"topics\": [1, 2, 3, 4], \"cluster\": [1, 1, 1, 1], \"Freq\": [28.018274372300894, 25.70334223027183, 23.972497607601564, 22.305885789825712]}, \"tinfo\": {\"Term\": [\"precio\", \"atencion\", \"ropa\", \"servicio\", \"lugar\", \"variedad\", \"tienda\", \"atienda\", \"tiendar\", \"producto\", \"credito\", \"oferta\", \"cliente\", \"comprar\", \"falta\", \"cosa\", \"promocion\", \"trato\", \"compra\", \"caja\", \"exelente\", \"articulo\", \"interes\", \"faltar\", \"calidad\", \"cobrar\", \"pago\", \"encuentra\", \"gente\", \"estacionamiento\", \"atencion\", \"variedad\", \"producto\", \"credito\", \"cliente\", \"cosa\", \"compra\", \"faltar\", \"encuentra\", \"super\", \"marca\", \"buscar\", \"persona\", \"el\", \"opcion\", \"tratar\", \"ofrecer\", \"zapato\", \"informacion\", \"tarjeta\", \"pasar\", \"recomeir\", \"necesitar\", \"pedir\", \"facilidad\", \"area\", \"atento\", \"sacar\", \"descuento\", \"volver\", \"precio\", \"servicio\", \"lugar\", \"tiendar\", \"comprar\", \"articulo\", \"interes\", \"cobrar\", \"mes\", \"deber\", \"esperar\", \"seguridad\", \"tiempo\", \"mejorar\", \"ocasion\", \"manejar\", \"mercancia\", \"ambiente\", \"trabajo\", \"medida\", \"zapateer\", \"calzado\", \"decir\", \"limpieza\", \"asco\", \"contar\", \"aparte\", \"parecer\", \"domingo\", \"abono\", \"coppel\", \"calidad\", \"pagar\", \"tienda\", \"oferta\", \"promocion\", \"trato\", \"exelente\", \"pago\", \"estacionamiento\", \"poder\", \"centro\", \"encontrar\", \"dejar\", \"tardar\", \"querer\", \"hora\", \"encuentro\", \"gusto\", \"surtidora\", \"instalacion\", \"ropar\", \"tipo\", \"llamar\", \"abrir\", \"quedar\", \"zona\", \"poner\", \"trabajar\", \"sucursal\", \"entrar\", \"ciudad\", \"linea\", \"dinero\", \"ropa\", \"atienda\", \"falta\", \"caja\", \"gente\", \"familia\", \"amabl\", \"vender\", \"ubicacion\", \"seguir\", \"empleado\", \"remodelacion\", \"dama\", \"lenta\", \"encontre\", \"amabilidad\", \"problema\", \"cara\", \"talla\", \"sistema\", \"ni\\u00f1o\", \"valet\", \"fila\", \"regular\", \"liverpool\", \"mujer\", \"creditir\", \"vestir\", \"comentario\", \"telefono\", \"necesidad\", \"pagar\", \"departamento\", \"calidad\"], \"Freq\": [481.0, 511.0, 420.0, 446.0, 335.0, 286.0, 182.0, 155.0, 162.0, 161.0, 154.0, 132.0, 143.0, 127.0, 107.0, 124.0, 95.0, 93.0, 98.0, 77.0, 81.0, 85.0, 82.0, 84.0, 114.0, 68.0, 63.0, 70.0, 56.0, 58.0, 510.54582865662127, 286.17940325333194, 160.35611809345377, 153.41911267203605, 143.04542872826607, 123.80984887939563, 97.30260194654046, 83.63156766869082, 70.04881491334956, 64.76384372430738, 57.58555587482085, 55.78280184129504, 55.17815617169339, 53.139815516537574, 47.961826733415236, 46.349454508512935, 32.72231758138591, 32.57038768216439, 30.93358747177204, 30.104214767541865, 26.495575397866222, 25.495702309502125, 24.197416602662265, 25.271642915188774, 23.07835059292662, 21.719014047474833, 19.0320451783087, 19.302415164900548, 19.113099146676, 18.342480528827693, 480.8409596548788, 445.8835515298009, 334.9529716648423, 161.81782353039478, 126.6912565306738, 84.62331246602331, 81.40181012750786, 67.86897255639795, 45.95739874459902, 34.52331725794063, 29.82541343645522, 25.52303348364522, 25.97521638815026, 23.717241442885847, 24.40398921483482, 18.01386662357738, 16.23296608728432, 16.4027852901889, 18.26400024503232, 14.99902151098035, 16.42984120395682, 13.642640272024325, 11.87642167207706, 11.428617828542952, 10.635841115744118, 11.308375880112713, 11.476621619659864, 9.755068484618567, 10.792878022301583, 11.756506697785973, 10.853607487414683, 84.09828450830277, 32.50202054955614, 181.7017312574354, 131.71870967710902, 94.80802739759186, 93.13792803652122, 80.44647721123322, 62.30177757541651, 58.225941832447354, 51.819576303978934, 47.778936938705925, 43.75763029213702, 40.91415272284952, 37.97614178881837, 37.25605900827751, 33.74904195161189, 30.604134035216603, 28.04558646555566, 26.19584276960159, 25.672413427180757, 25.512214867835954, 24.44996409000942, 22.800644872642817, 22.954656545477125, 23.23565930769381, 21.38290621731542, 20.08093329777381, 20.10557373734097, 19.432973339711495, 20.276405589491016, 18.32801087987263, 17.95729008150919, 18.803556190101524, 419.3189857605224, 154.72896273616408, 106.95830085668908, 76.36649482748943, 55.73432317609198, 48.21195740919147, 40.83874979709576, 40.879723996228385, 35.26326337126709, 27.638532699202937, 25.443225302191458, 25.466797716596854, 21.313792306112326, 20.95778656094265, 18.741562971677503, 18.43770444555122, 19.472626177335464, 18.27820792532106, 17.39252186185933, 17.191745240935557, 16.89774200491887, 17.022850206682342, 15.568976216663247, 15.528702407529984, 14.773855009462865, 14.406676244382421, 12.758832981298967, 12.496229640807028, 12.733333802310344, 13.50470265301063, 12.574158409510723, 33.48803217849734, 18.81126008163376, 30.20859580765159], \"Total\": [481.0, 511.0, 420.0, 446.0, 335.0, 286.0, 182.0, 155.0, 162.0, 161.0, 154.0, 132.0, 143.0, 127.0, 107.0, 124.0, 95.0, 93.0, 98.0, 77.0, 81.0, 85.0, 82.0, 84.0, 114.0, 68.0, 63.0, 70.0, 56.0, 58.0, 511.25436179442056, 286.8956747137693, 161.06739431380387, 154.14657503449445, 143.77458149161734, 124.53069564903505, 98.02303389310215, 84.34903627271746, 70.76860894562468, 65.47480929117789, 58.31226178251046, 56.50795459959751, 55.912921851572534, 53.87337321188899, 48.686995571797105, 47.06148952670239, 33.456015781064316, 33.30334283486026, 31.656981897696298, 30.864152633114028, 27.21817785493537, 26.234785054652743, 24.92842237636666, 26.04469026338497, 23.805924298802445, 22.482678398927224, 19.73738425387915, 20.018294241843883, 19.864529913788203, 19.092229908179394, 481.5587652747559, 446.5990600254866, 335.6715857775998, 162.54835893872936, 127.41904129731192, 85.34619601568897, 82.12047945163069, 68.62173845393797, 46.672802407463045, 35.297463549601964, 30.5859070365089, 26.246581135113285, 26.71269951695839, 24.4498504278871, 25.16946078802755, 18.755917368771907, 16.94079292597987, 17.119528030571022, 19.082480140905428, 15.707666767199822, 17.26041006989044, 14.365110548239835, 12.641062860080478, 12.169925923233206, 11.35156003140818, 12.080415563403339, 12.288956383412188, 10.486893854602254, 11.608981293954683, 12.647132038810492, 11.688303046634013, 114.77228446137472, 66.46269121897711, 182.41224502431297, 132.41302074062096, 95.51708511252342, 93.8368974509098, 81.14369052603747, 63.025682751749734, 58.93182306243993, 52.54611760670012, 48.49243311580785, 44.47306533074778, 41.61515667980194, 38.6917998459572, 37.985320159037045, 34.45328790417227, 31.299970837738602, 28.748989446696747, 26.895492710268837, 26.379256219183745, 26.220676408983223, 25.168759556520353, 23.501922574060185, 23.676469782595994, 23.984520525503598, 22.096774760535357, 20.777696324012346, 20.811981330356243, 20.13528689359788, 21.01017012868022, 19.052462666692133, 18.693900247024178, 19.608059319429064, 420.00933643369234, 155.42444131819818, 107.64618509194995, 77.06599451124133, 56.42628065525923, 48.903475502763484, 41.518290745116445, 41.58050500585457, 35.96981427251642, 28.347546762698336, 26.128379468606074, 26.180082614011887, 22.004046822025376, 21.65193237108188, 19.430553751145766, 19.119701300060196, 20.198606520782633, 18.96493328556106, 18.081632240385808, 17.881271728507503, 17.635182842643548, 17.773590097088395, 16.25739878879826, 16.231435717272973, 15.473730429130466, 15.113189361247073, 13.449215394061184, 13.185606119767618, 13.445366101089464, 14.280946429067583, 13.307987229773962, 66.46269121897711, 32.27364172490525, 114.77228446137472], \"Category\": [\"Default\", \"Default\", \"Default\", \"Default\", \"Default\", \"Default\", \"Default\", \"Default\", \"Default\", \"Default\", \"Default\", \"Default\", \"Default\", \"Default\", \"Default\", \"Default\", \"Default\", \"Default\", \"Default\", \"Default\", \"Default\", \"Default\", \"Default\", \"Default\", \"Default\", \"Default\", \"Default\", \"Default\", \"Default\", \"Default\", \"Topic1\", \"Topic1\", \"Topic1\", \"Topic1\", \"Topic1\", \"Topic1\", \"Topic1\", \"Topic1\", \"Topic1\", \"Topic1\", \"Topic1\", \"Topic1\", \"Topic1\", \"Topic1\", \"Topic1\", \"Topic1\", \"Topic1\", \"Topic1\", \"Topic1\", \"Topic1\", \"Topic1\", \"Topic1\", \"Topic1\", \"Topic1\", \"Topic1\", \"Topic1\", \"Topic1\", \"Topic1\", \"Topic1\", \"Topic1\", \"Topic2\", \"Topic2\", \"Topic2\", \"Topic2\", \"Topic2\", \"Topic2\", \"Topic2\", \"Topic2\", \"Topic2\", \"Topic2\", \"Topic2\", \"Topic2\", \"Topic2\", \"Topic2\", \"Topic2\", \"Topic2\", \"Topic2\", \"Topic2\", \"Topic2\", \"Topic2\", \"Topic2\", \"Topic2\", \"Topic2\", \"Topic2\", \"Topic2\", \"Topic2\", \"Topic2\", \"Topic2\", \"Topic2\", \"Topic2\", \"Topic2\", \"Topic2\", \"Topic2\", \"Topic3\", \"Topic3\", \"Topic3\", \"Topic3\", \"Topic3\", \"Topic3\", \"Topic3\", \"Topic3\", \"Topic3\", \"Topic3\", \"Topic3\", \"Topic3\", \"Topic3\", \"Topic3\", \"Topic3\", \"Topic3\", \"Topic3\", \"Topic3\", \"Topic3\", \"Topic3\", \"Topic3\", \"Topic3\", \"Topic3\", \"Topic3\", \"Topic3\", \"Topic3\", \"Topic3\", \"Topic3\", \"Topic3\", \"Topic3\", \"Topic3\", \"Topic4\", \"Topic4\", \"Topic4\", \"Topic4\", \"Topic4\", \"Topic4\", \"Topic4\", \"Topic4\", \"Topic4\", \"Topic4\", \"Topic4\", \"Topic4\", \"Topic4\", \"Topic4\", \"Topic4\", \"Topic4\", \"Topic4\", \"Topic4\", \"Topic4\", \"Topic4\", \"Topic4\", \"Topic4\", \"Topic4\", \"Topic4\", \"Topic4\", \"Topic4\", \"Topic4\", \"Topic4\", \"Topic4\", \"Topic4\", \"Topic4\", \"Topic4\", \"Topic4\", \"Topic4\"], \"logprob\": [30.0, 29.0, 28.0, 27.0, 26.0, 25.0, 24.0, 23.0, 22.0, 21.0, 20.0, 19.0, 18.0, 17.0, 16.0, 15.0, 14.0, 13.0, 12.0, 11.0, 10.0, 9.0, 8.0, 7.0, 6.0, 5.0, 4.0, 3.0, 2.0, 1.0, -1.9897, -2.5685, -3.1478, -3.192, -3.262, -3.4064, -3.6473, -3.7987, -3.976, -4.0544, -4.1719, -4.2037, -4.2146, -4.2522, -4.3548, -4.3889, -4.7371, -4.7418, -4.7933, -4.8205, -4.9482, -4.9866, -5.0389, -4.9955, -5.0863, -5.147, -5.279, -5.2649, -5.2748, -5.3159, -1.9634, -2.0389, -2.3249, -3.0525, -3.2972, -3.7007, -3.7395, -3.9213, -4.3112, -4.5973, -4.7436, -4.8993, -4.8818, -4.9727, -4.9442, -5.2478, -5.3519, -5.3415, -5.234, -5.4309, -5.3398, -5.5257, -5.6644, -5.7028, -5.7747, -5.7134, -5.6986, -5.8611, -5.76, -5.6745, -5.7544, -3.7069, -4.6576, -2.8668, -3.1885, -3.5174, -3.5351, -3.6816, -3.9372, -4.0049, -4.1214, -4.2026, -4.2905, -4.3577, -4.4323, -4.4514, -4.5503, -4.6481, -4.7354, -4.8036, -4.8238, -4.8301, -4.8726, -4.9424, -4.9357, -4.9235, -5.0066, -5.0694, -5.0682, -5.1022, -5.0598, -5.1608, -5.1812, -5.1352, -1.9585, -2.9555, -3.3247, -3.6616, -3.9766, -4.1215, -4.2875, -4.2865, -4.4343, -4.6779, -4.7607, -4.7598, -4.9378, -4.9546, -5.0664, -5.0828, -5.0281, -5.0914, -5.1411, -5.1527, -5.17, -5.1626, -5.2519, -5.2545, -5.3043, -5.3295, -5.4509, -5.4717, -5.4529, -5.3941, -5.4655, -4.486, -5.0627, -4.589], \"loglift\": [30.0, 29.0, 28.0, 27.0, 26.0, 25.0, 24.0, 23.0, 22.0, 21.0, 20.0, 19.0, 18.0, 17.0, 16.0, 15.0, 14.0, 13.0, 12.0, 11.0, 10.0, 9.0, 8.0, 7.0, 6.0, 5.0, 4.0, 3.0, 2.0, 1.0, 1.2709, 1.2698, 1.2679, 1.2676, 1.2672, 1.2665, 1.2649, 1.2638, 1.2621, 1.2614, 1.2598, 1.2594, 1.2591, 1.2586, 1.2573, 1.2571, 1.2501, 1.2501, 1.2492, 1.2474, 1.2454, 1.2437, 1.2426, 1.2422, 1.2413, 1.2378, 1.2359, 1.2359, 1.2338, 1.2323, 1.3571, 1.3569, 1.3564, 1.354, 1.3528, 1.35, 1.3498, 1.3475, 1.3431, 1.3364, 1.3334, 1.3306, 1.3306, 1.3281, 1.3277, 1.3182, 1.3159, 1.3158, 1.3147, 1.3124, 1.3092, 1.3069, 1.2962, 1.2957, 1.2934, 1.2925, 1.2902, 1.2862, 1.2857, 1.2855, 1.2845, 1.0476, 0.6432, 1.4244, 1.423, 1.4208, 1.4208, 1.4196, 1.4167, 1.4162, 1.4143, 1.4134, 1.412, 1.4113, 1.4096, 1.4089, 1.4076, 1.4058, 1.4035, 1.4019, 1.4011, 1.4009, 1.3993, 1.398, 1.3973, 1.3965, 1.3954, 1.3942, 1.3937, 1.3928, 1.3927, 1.3895, 1.3881, 1.3864, 1.4987, 1.4958, 1.4939, 1.4912, 1.488, 1.4861, 1.4838, 1.4833, 1.4805, 1.475, 1.4737, 1.4727, 1.4684, 1.4677, 1.4642, 1.464, 1.4637, 1.4634, 1.4615, 1.461, 1.4576, 1.4572, 1.4571, 1.4561, 1.454, 1.4524, 1.4476, 1.4466, 1.4459, 1.4444, 1.4436, 0.8149, 0.9605, 0.1655]}, \"token.table\": {\"Topic\": [2, 3, 4, 4, 2, 2, 1, 2, 2, 1, 1, 4, 1, 4, 2, 4, 2, 4, 3, 3, 1, 2, 4, 1, 2, 2, 2, 1, 4, 1, 4, 2, 2, 3, 3, 4, 1, 3, 2, 1, 4, 3, 4, 1, 3, 3, 2, 3, 3, 1, 4, 1, 4, 4, 4, 3, 3, 1, 3, 2, 4, 2, 3, 4, 3, 2, 2, 1, 2, 2, 2, 2, 4, 4, 1, 4, 2, 3, 1, 1, 2, 4, 3, 2, 1, 1, 1, 3, 3, 2, 4, 1, 3, 3, 3, 1, 4, 4, 4, 3, 1, 4, 2, 2, 4, 3, 1, 3, 4, 3, 1, 4, 2, 3, 2, 3, 3, 2, 1, 3, 4, 4, 1, 4, 4, 1, 2, 1, 3], \"Freq\": [0.9488317164061681, 0.971428604483374, 0.9414373016352159, 0.9875165683409689, 0.9346052047362616, 0.895112624441239, 0.9785310989036673, 0.9959436268767581, 0.9690298046757042, 0.9995024750624566, 0.962640224034032, 0.9972691468947974, 0.9910109186715965, 0.9861677706490138, 0.7318840118432008, 0.26138714708685745, 0.9745835197707843, 0.9491201328772556, 0.9898451555393841, 0.9447597570401192, 0.9946125282815551, 0.9909396283459752, 0.9668758665445802, 0.9895633316734737, 0.9967113133716479, 0.9105647022047509, 0.9411118069160407, 0.995738435039898, 0.9665991375036238, 0.9925617871546101, 0.9543699015846323, 0.9915726650107889, 0.949287265859194, 0.9852179655471414, 0.4028054878594017, 0.5887157130252794, 0.956478712683348, 0.9689893166109226, 0.9475422279927519, 0.9837884067802116, 0.9568140278289416, 0.9893628800436944, 0.9778414060319626, 0.9891391259899536, 0.990416258235713, 0.9519199453172789, 0.980843888794616, 0.9841881174887015, 0.9859053671502593, 0.966146061430474, 0.9939971389473953, 0.9958620004668584, 0.9815253314110072, 0.9841672833309832, 0.992445352585551, 0.9739472774135091, 0.9868434064861085, 0.9792468561968598, 0.9856229373553019, 0.9863556635432134, 0.969890337734816, 0.9038674573195438, 0.962880927048135, 0.9693848596303168, 0.9786433398170509, 0.9979992772517697, 0.9596971263036971, 0.9946450065052336, 0.9549476839757293, 0.9816010969386542, 0.9444658269485663, 0.9855847008801969, 0.9263431870905098, 0.9768569638325996, 0.9627564728184784, 0.9639820665137865, 0.9535365180098005, 0.9968808147543887, 0.9863696925525001, 0.9858895468137069, 0.49651916578691746, 0.49651916578691746, 0.9837259557220543, 0.9535712040807415, 0.9552439600686023, 0.9598885510704785, 0.9836724352557358, 0.9896068894987118, 0.9625706184225256, 0.9988396737531356, 0.9406589499355131, 0.9933729957056094, 0.9945864646946222, 0.9589518362705345, 0.974060501401286, 0.9529332886821669, 0.9857415128701963, 0.954924412141454, 0.9975968714356147, 0.9915838780990555, 0.94913181764931, 0.9877397940073015, 0.990605209347308, 0.9986586178093334, 0.950715377413424, 0.9436170490345062, 0.9927482142167634, 0.9667047293048128, 0.9401806083651036, 0.9821202464421028, 0.9720014139579234, 0.980327184163667, 0.9733198242841036, 0.9977400364528268, 0.996626487389294, 0.9535630846686853, 0.9609849097273649, 0.9432736136543902, 0.9774446253746366, 0.9910813605986108, 0.9730381073093993, 0.9564753044903899, 0.9968780473436453, 0.9860390102098848, 0.9100833053104643, 0.9427919151700835, 0.9269768177704459, 0.9908915199184529, 0.9503649391179845], \"Term\": [\"abono\", \"abrir\", \"amabilidad\", \"amabl\", \"ambiente\", \"aparte\", \"area\", \"articulo\", \"asco\", \"atencion\", \"atento\", \"atienda\", \"buscar\", \"caja\", \"calidad\", \"calidad\", \"calzado\", \"cara\", \"centro\", \"ciudad\", \"cliente\", \"cobrar\", \"comentario\", \"compra\", \"comprar\", \"contar\", \"coppel\", \"cosa\", \"creditir\", \"credito\", \"dama\", \"deber\", \"decir\", \"dejar\", \"departamento\", \"departamento\", \"descuento\", \"dinero\", \"domingo\", \"el\", \"empleado\", \"encontrar\", \"encontre\", \"encuentra\", \"encuentro\", \"entrar\", \"esperar\", \"estacionamiento\", \"exelente\", \"facilidad\", \"falta\", \"faltar\", \"familia\", \"fila\", \"gente\", \"gusto\", \"hora\", \"informacion\", \"instalacion\", \"interes\", \"lenta\", \"limpieza\", \"linea\", \"liverpool\", \"llamar\", \"lugar\", \"manejar\", \"marca\", \"medida\", \"mejorar\", \"mercancia\", \"mes\", \"mujer\", \"necesidad\", \"necesitar\", \"ni\\u00f1o\", \"ocasion\", \"oferta\", \"ofrecer\", \"opcion\", \"pagar\", \"pagar\", \"pago\", \"parecer\", \"pasar\", \"pedir\", \"persona\", \"poder\", \"poner\", \"precio\", \"problema\", \"producto\", \"promocion\", \"quedar\", \"querer\", \"recomeir\", \"regular\", \"remodelacion\", \"ropa\", \"ropar\", \"sacar\", \"seguir\", \"seguridad\", \"servicio\", \"sistema\", \"sucursal\", \"super\", \"surtidora\", \"talla\", \"tardar\", \"tarjeta\", \"telefono\", \"tiempo\", \"tienda\", \"tiendar\", \"tipo\", \"trabajar\", \"trabajo\", \"tratar\", \"trato\", \"ubicacion\", \"valet\", \"variedad\", \"vender\", \"vestir\", \"volver\", \"zapateer\", \"zapato\", \"zona\"]}, \"R\": 30, \"lambda.step\": 0.01, \"plot.opts\": {\"xlab\": \"PC1\", \"ylab\": \"PC2\"}, \"topic.order\": [1, 2, 3, 4]};\n",
              "\n",
              "function LDAvis_load_lib(url, callback){\n",
              "  var s = document.createElement('script');\n",
              "  s.src = url;\n",
              "  s.async = true;\n",
              "  s.onreadystatechange = s.onload = callback;\n",
              "  s.onerror = function(){console.warn(\"failed to load library \" + url);};\n",
              "  document.getElementsByTagName(\"head\")[0].appendChild(s);\n",
              "}\n",
              "\n",
              "if(typeof(LDAvis) !== \"undefined\"){\n",
              "   // already loaded: just create the visualization\n",
              "   !function(LDAvis){\n",
              "       new LDAvis(\"#\" + \"ldavis_el2751401810573901764525622073\", ldavis_el2751401810573901764525622073_data);\n",
              "   }(LDAvis);\n",
              "}else if(typeof define === \"function\" && define.amd){\n",
              "   // require.js is available: use it to load d3/LDAvis\n",
              "   require.config({paths: {d3: \"https://d3js.org/d3.v5\"}});\n",
              "   require([\"d3\"], function(d3){\n",
              "      window.d3 = d3;\n",
              "      LDAvis_load_lib(\"https://cdn.jsdelivr.net/gh/bmabey/pyLDAvis@3.4.0/pyLDAvis/js/ldavis.v3.0.0.js\", function(){\n",
              "        new LDAvis(\"#\" + \"ldavis_el2751401810573901764525622073\", ldavis_el2751401810573901764525622073_data);\n",
              "      });\n",
              "    });\n",
              "}else{\n",
              "    // require.js not available: dynamically load d3 & LDAvis\n",
              "    LDAvis_load_lib(\"https://d3js.org/d3.v5.js\", function(){\n",
              "         LDAvis_load_lib(\"https://cdn.jsdelivr.net/gh/bmabey/pyLDAvis@3.4.0/pyLDAvis/js/ldavis.v3.0.0.js\", function(){\n",
              "                 new LDAvis(\"#\" + \"ldavis_el2751401810573901764525622073\", ldavis_el2751401810573901764525622073_data);\n",
              "            })\n",
              "         });\n",
              "}\n",
              "</script>"
            ]
          },
          "metadata": {},
          "execution_count": 46
        }
      ]
    }
  ]
}