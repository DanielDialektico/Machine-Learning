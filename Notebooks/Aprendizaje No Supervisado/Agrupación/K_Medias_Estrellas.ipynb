{
  "nbformat": 4,
  "nbformat_minor": 0,
  "metadata": {
    "colab": {
      "provenance": [],
      "authorship_tag": "ABX9TyN6O+iQ1x7AFUwWVQSukEMM",
      "include_colab_link": true
    },
    "kernelspec": {
      "name": "python3",
      "display_name": "Python 3"
    },
    "language_info": {
      "name": "python"
    }
  },
  "cells": [
    {
      "cell_type": "markdown",
      "metadata": {
        "id": "view-in-github",
        "colab_type": "text"
      },
      "source": [
        "<a href=\"https://colab.research.google.com/github/DanielDialektico/Machine-Learning/blob/main/Notebooks/Aprendizaje%20No%20Supervisado/Agrupaci%C3%B3n/K_Medias_Estrellas.ipynb\" target=\"_parent\"><img src=\"https://colab.research.google.com/assets/colab-badge.svg\" alt=\"Open In Colab\"/></a>"
      ]
    },
    {
      "cell_type": "markdown",
      "source": [
        "![MiniLogoW4.png](data:image/png;base64,iVBORw0KGgoAAAANSUhEUgAAASwAAABNCAYAAAAcolk+AAAACXBIWXMAAAsTAAALEwEAmpwYAAAVTElEQVR4nO2de3RU1b3HPztAkJCYF3ARhABBiCm5UsELNKah8mwrFolpveKFIBhYva1SkZVQpSILJChXoddyZUQeiqjENkG0XiFIXIAIgmDqrQiSRFFeYhJIeCXAvn+cmfFkMpM5ZzJnHmF/1ppFzp69z/kxj+/s/Tu//fsJKSUKhUIRDkQE2wCFQqEwihIshUIRNijBUigUYYMSLIVCETYowVIoFGFD22AboAgbugDjgcFAnJvnLwGfAy8D3wTMKsU1hVBhDQoDDAf+CGQCkV767gT+ArxmsU2KaxAlWApv9AHWAcNMjKkC/gW4bIlFimsW5cNSeGMa5sQKIAFtVqZQ+JUmPiwhRDDsUIQgUsqbgbv0bcuXL2fDhg1u+y9cuJD09HTH4RAhRIm1FiquBfSrwCZLwnARLClle6ATEBVsW1rIJeB7IcS5YBuiR0rZDs0X9aCj7dSpUyQnJ1NXV9ek/6xZs1iyZInjsAGIFUJcCIStitaNXqPC7i6hlLILMAnIoHUIVj1wWkpZCfxFCPHPINvjYBgwRt/w5JNPuhWrqVOn8swzz+ibXldipbACxwwrArgVuB+4AQj0NOscUAMcQ7vL9KmnGYeU8lFgId7vVoUjHwghhgfbCCllZ2A18EtH26FDh0hNTeXKlSuN+mZlZfHGG2/Qpk0bR9NpIUTngBmraPW4zrAigHuABcBNQbJJz7fAp1LKE0ApUCiEuAjOZWAGrVOsADKllB1DYHl4PzBS35Cfn99ErEaNGsX69ev1YnUB+K2nk9qXmdHNXLfe6P/dwLlMnU9hDPvrHo/22rfx0t0MDcBZ4Lzj++4OIaUcDKwnNMTKlfNACfAJ2q31aGAD0A/g6uXLXHazRAk3ImNj4Qff4d+BM810v4D99RBCNNfPI1LKaLQA0KEeutwHpDkOdu7cye23396ow9ChQ9m6dStRUY1W5DuBt13O9Y398Uu0z1jHZkyrB04Am4UQb3iw/Udody57ezmX/nyn0QJf23vp728a7NcuFUJsMjtYStkRGAiMRgsTicL/bpyraJ+pKmA7sF3/ubLbkAn8AuiM9hrGYaFgAXVoq633hBBbXJ3uzwEz/Xhhq9iL9uG709Fw4oMPeHfUqOBZ5CcmnjpFZFycmSENwGbgFU9fbHdIKbsBk9FmqbeifQm8jSE9PZ1du3Y52wYMGMD27duJM2ZzPVBt5Fo6aoHnhRB/dLHlTmAxkGriXKFAFdr/5wkjnaWUXdH8tJlogtXNOtMacRb4CDgC/A9wHTALuANNrALNKeAtYA3ajyFt0RzXTiZOnMg777xjqRVt2rQhJiaG6OhoOnToQI8ePejXrx833XQTgwYNIi0tTb/McDDYUqPCi3ZoM5YhgGHBQhOrBZiIv/vwww85duwYSUlJAHTu3JlNmzYZFSvQlu9mxAogBpgjpfzUIcj2mVU4ihVocWl/klLu9TbTklKmAIvQfpgDfVPserTZHGgidRW4OcA26OmCNpseCzwAbGmLy7Tu3LlznDnj00rDFFVVVc6/9+7d2+i5hIQExo8fT05ODhkZGZbbEsZ0klIOFUJ85K2jfWp/OyaDhdPT06msrPTRvBazmB8EeQbhKVZ6lgAeBcs+s1qEtmcz2PRv7skzZ840cob7g6ioKCIj3bqnbwRsQO+QDGuoqqpi1apVrFq1iiFDhrBs2TKGDBkSbLMsZ/fu3SxatMhrvzlz5uhfjz+h+Re80df+ALQP3LZt23wx0zSjR48mKioKm83G9OnTm+2bm5vLihUrHIeJ4Jxd3aHvN336dGw2m9drr1ixgtzcXHJzczl16pRP9reE3r1789xzzzkOk7x0n4TO5QFQX1/Pe++9x86dO/n222+pra31u42xsbEkJSWRnp7OiBEjaNu2qSy89dZbrFy5kj179nDy5Em/2+Cgffv2pKamMnbsWP7whz/QubNzJdoLuCckBUvP7t27GTZsGHPnzmXevHlhE9jqC8ePH2fjxo1e++Xk5OgPbzB4+iS0Nx2AiooK7r77bhPW+U5FRQW9evXy2s8dUsq2wEPoZlfl5eWGxKpPnz7k5uYCsHnzZr766iufbGgJt9xyi/7Qo9PffvftJ+iWgZ999hkTJkzg8OHD1hnoQkpKCkVFRaSkpDjb8vLyePrppwNy/UuXLrF//37279/P6tWr2bVrl/6z83RY7CWUUjJ//nweeeSRYJuiCDy3AY3urCxevNjQQN1MLRzohW4GdvXqVbKysgIqVgAHDx5kwoQJXL16FYAvvvgiYGLlyokTJ/S7JwC6hfwMS8/SpUsZMWIEd955p9e+vX/9a+L6N12GXzh5koMGfp0VIUEk8Hu0EAbA+OwqOzubkSNHeu0XQgwE/tVxUFZWxqFDh4JiyOeff05ZWRkDBw5s4l8ONB9//LH+sH2LBWvcuHHMnz/fUN/q6mqOHj3Knj172LhxI998Yz7P27x58wwJVp/f/Iae48Y1aa8qKzMtWGmzZzN44UJDfVe7dxoqfCMSl9lVfn6+oYEFBQVW2GMlMehuiNTU1ATPEt31GxoagmqH61awFgtWQkICAwcONDVm0qRJLF26lGXLljF79mxTdxv27dvHiRMn6Nq1q0lLFWGKM+ympKSEwsJCrwMKCgro06ePpUb5yFV/n7BDhw6e7qy5paGhgfPnz/vbDLKysrjxxhtNjdm0aRPl5eWmxgRtSdi2bVtmzZrFsWPHePbZZ02NLS8vV4IVIMaPH09mZmaLzpGQkOAXW4z4ruLj452Odj07duzg8mXv+QQ3b97s9U4maP6x0aNHe+3nIiYVXgeYZPny5a43YZqluLjYkpstv/vd7xg+fLipMZWVlSEhWKs9tHcEegApaHuRALjvvvtMC1Z9fb3PxinMkZmZycyZM4NtBiUlJZSUeE+vVVBQQHx8fJN2o7/+Xbp0MdzP5J3Py8AcMwMUTfG3YF0UQjzQXAcp5TCgEOgOkJiY6GcTFK0RI76rQYMGuc6uNgPJ9kcwqQWeFkJ4X8+2HmrctHVE26XhM2F1lzCQjHn3XeffMS7+kPd+/nPn372ysug/bZrbcZV//StfrFxpoZVB4WsTff2Sr8xms7Fv3z6v/Vwc7YeEEGMApJTJaFuZ3Dl7fgH8rIUmVqFFqLtSD5QJIUpbeH6jHBZC9NM3SCnzcW+blWx2vPYutqwH/r0lJ1aC5YFuI0Z4fO7Y1q3OvxNvvdXjuGPvv+9/w4LL10IIb9HaTqSUC9Gq7bQII76r3Nxc1zCG2Y4/hBBHgD+7G2cPTG2pYH2Ptjn/DiDW5blkKaU7p9EFtC92q/uQWIkSLEVIY7PZvDpm4+PjycvL0ze9KYR4y1LDGpMEvI75Td45Usq/o0qiGSYsIt0V1y5GZld5eXn6MIbzQohsS41qii8ZKbCPmYK2sVdhACVYipBl8eLFXmdXffr0cZ1dLbPUKGvohZfsCC2g2qLzBgW1JLTTf9o0emVluX3u2NatHv1R33/yCXsfe8x5rI+I7z9tGt3u+CHJgN5Zr2ie6upqQ7MrF0f7Mdekf4GkuLiYAwcOGO6fk5OjD42YaoFJAB8CX2AXxJSUFJ54wnseQV83q1uNEiw7kfHxHh3tx95/n380rgrzw3NbtzZywusFK6Z3b2J693Y3LFzpJKV0X5SwKZeAH/l6IZvNRnV185ODkSNHkp3daPVnbP+URRQXF7N27VrD/YcPH64XBkvie4QQ/5BS7kYnWPPmzbPiUgFBCZbCDFGA5f4ho7Mrl2wMe4QQyy0zygBr1qxhzZo1TdorKyspLS11HicmJnLXXXc16Wchb6IVFQlUqmXLUIKlCDny8/O9zq5yc3P1jvbLaCl0Q4ovv/ySBQsWsG7dukYVh1588cWA2mFPy7xJSnkH8F80n0MtFi2Xe0iiBEsRUpSXl3vdghMfH+/qu1onhPg/Sw0zwaFDh3jqqaeaCFWwscd8/bi5PlLKBcBjzfUJJkqwFM0yZ84cn3weaWlpbN++3fQ4I/sF8/Ly9PsFa4UQU0xfyCIefPBBXnrppUYZSNq1a9coTUt0tLdyigpPKMFSNMvFixe5eNFjXUuPWJF7HNyGMTznqW8w+O6775xilZyczOOPP87p06eZPdsZeO9M8x3snFfhiIrDUoQVLmJ1GdgfJFPcMnr0aJKTk1m9ejUHDx4kJyfHbVEHhW8owVKEFS53D9sCNillMIp8umXy5MlKqCxECZYirCgvL3cVrc7A40EypwkdO3ZUQmUh6pU1gD5a/VpjwIABJCebTyfV28eA2fj4eK8hDfn5+WRnZ+vDGh6UUr5mpKCsRdQCnwP/FqTrG0JK2R7vKX86NfNc0FGCZYBuI0Y0m26mNTN16tSAZhzNzs6mpKTE6x7C6dOns2XLFsdhB+BFIM1i8zxRhZat4RTajO8mtPL0IYGUsgtakdYMvAuWucTsAUYJliLkWLFiBaNGjWq2j6MghW5rzgAp5T1CiDctN7ApPdGS5HkslBpkJqFtWwr7kk7Kh6UwizTwuAR8C3znywVGjhzptpCEK24i4l8IkgNeYEKs2rVrUZZgU0gpo9ESC4a9WIESLIU5vhZCRBh4XCeEuBFtmeYTLsGhbnHjgE8EjBXJtAgpJTU1NdTU1His6XfdddrOFyvKbblhMOBMi9vQ0OC0r7mHkQpDwUAtCQ1QW1FBrcFyRNeqr8vfOAJEvRWfWLx4MdnZ2QwaNMjR9ICUsjBYqYfr6uqchX4XLFjQbOmrAFV/GoouueA777xjqMzXtm3bTJftCgRKsAzwxcqVHtPLuDJFlSDzG3l5eYZSJOfn5+sd8JHAC0A/zyOsIyYmhh07dgTj0tcEakmoCGlcUsi4paSkBJutUZbhm6SUOVbZ5IY6tCR5CotRgqUIadwk6XOLGwf881LKwZYZ1pgvgbHAq2jipbAItSQMfzpJKY1kgwvUl9fvFBQUUFjYfA3S6upq8vPz9TOyjsB/A8MsNg8AIUQlcD+AlPIZ4NFAXNeFtlJK1zsVHYNgR397PURXfM5A68DfgtXGzQsGml8hEegK/JoQCqprBdyIVknbCC19v82kSAYY0MLrAZoDvqCgwKsD3mazkZ2dra9POFhKOUoIsaW5ca2IroDr+9PHXUeLScKi4q3+Fqx2NH3BQItRSUB7QRvlrlYpNvxCoGJsApIi2R25ubmGHPDTp0/nyJEjjsO2wEopZX8hhPkcOQGmtraWmJiYlpyiA1oq5FaLFT6skW4eGWjTwSaJ9ouKikxfoE2bNi2zUBF2uMky6hY3sVk9gYetsstfvPDCC6SmpvLVV18F25SQJqg+rFdffZVFi8zPHLt3726BNeFDRUWFqXJSeiIjI0lNTfWvQdZyFOgBOJd73rKSOmKzdJujn5BSbhVC7LXWVN84cOAAM2fOJCMjgx49egTbHJ/YsWOH6dXS8ePHTV8nYIJVU1PD2bNnqaio4KOPPmLDhg188sknps/Tq1cv/QfxmuSRRx7xeWxSUhKVlZWG+z///PMUFxf7fD3Q7uCNHTvWl6F1aIVRn8a+GlixYoXX7BEOB/yGDU7vRAcC6IA3Q11dHffeey9xcXG88sorRESYW/RMmTKFKVOCnyF67ty5AblOiwVr7dq1pmqxtZRHHzV286W2ooKqsrIm7WcOHfK3Sa2aI0eO6H1CPpGTk9OS4S8DY4BR8EMEvLcyYIWFha6bowdLKccLIYpbYoy/mTFjBocPH2bz5s107do12OaEHJGRjd2zYRXWMGbMGGbMmGGo7x6DwubgH888YziavTlWR7aKPaYhgxDiOynlcuA2IA60CPjCwkJDEfA6wXJkJ90phPBpU7YJDG13WLt2LaWlpTz22GOMcNnS5W0fpdUkJGg38vv1C8qGASd9+/bVH54Nm8DRcePG8be//U053K9B7LMiZ+hGfHy8a253twQxO2kZ4LwrmZyczK9+9Svnw3EnsLS0lJ/+9Kc8+eSTTU6QlpZGSkpKAExtyoABA0hL01KLDR06lMzMzKDYERERwUMPPaRv+iDkBSsxMRGbzcbGjRuJimou75iilbMKzQEPaGEOungrj+Tn57vOxP7DpctZP9jmeo73gV2Og3HjxlFcXOx8dOnSBYBOnTrx2muvuf0RjoiIoKioiJtvvtkP5hnnlltuoaioyFnZJyIigrfffpuHH36YuLi4gNkxbNgwtmzZQkZGhqPpMjApZJeEt912G1OmTCEnJ4cOHToE25yA0LNnTyZPnmzpNTp1CukMuK44868IIT6SUr6AlogO0CLgBw/2HsDvJjupnj1AJdALjL8HPXv21B++oT+wL2PXo6VMbhJpfuHCBQBefvllunVzVo9vAAqALCAVICUlhbKyMrZt28bOnTs5evSoJYVZ27VrR1JSEhkZGWRkZDRx/EdHR7N06VKWLFnC4cOHOXnypCXxk1FRUVx//fX079/f3ZJ4A1AjpJQvoSvzPX78eDZu3Oh3YzwRGxtL9+7d6du3L3379mXQoEFkZmYaCl048cEHvOslM2U4MPHUKSID+OsVRqzRF0m1J+dbT8uCI/cIIYboG6SUr2DfVuMD9UIIt8n77PbmAQ8C1zvaDxw4wOuvv+4aVzZXCLFASjkObTYZ7F+WK8DXgG/J+f2HRBOrewGElPI/0YpRtgM4d+6cx8Rj/qR9+/ZmZk5ngaXAPrQPbEdQgtXKOSKE6OvaKKW8B3gJnQCYoA4Y6lrW3n7O5Wg+LjPUA68IIaY110lKeQPal+520EJ8oqOj9dV1ioQQE3T909BS5PzEpD3+4jTwWyFEoZRyPPBn7LFwAeQKWmGP3wOljkYhpYxFU/QJ7scFjStAOTBfCLEOmr7x9TU1VH36afAs9BNd0tOJ+OHDa+UWkivAGfu/gfwA1gI1Bq9ZB7zZXPl5H75El4BPgQdcxcrlvBOBxbjZkeHCeeB/hRATDV4fKaUNbablSpUQwu317N/Ne4CHgO5oy1l/+52vognv92g3NpYKIU56sOV24G6gLxDrZzsagGrgn2g/As4gTUclbdAEC+DHaIoezDJFl9Cqj3wGPIVOVV3w9Ma3Bqrw/mXxFx3RZaK0kHOA4wvg7Zr6vkYw8n8we06rGIqWMlq/IbwKbdvQuqBYFIYIvXqhbVD+Eb5Nt81wCW3aeRzzHyZ3b3xrQH14rw1uAFLQcmgd9dJX4YKrYIUTNwATsUdAhzH/BJ5FfXgVCq+Es2ApFIprjJAPHFUoFAoHSrAUCkXYoARLoVCEDUqwFApF2KAES6FQhA1KsBQKRdigBEuhUIQN/w9d/eJ1luqtZwAAAABJRU5ErkJggg==)"
      ],
      "metadata": {
        "id": "utoy_A3cMWGN"
      }
    },
    {
      "cell_type": "markdown",
      "source": [
        "# 1. Introducción\n",
        "En esta libreta se presenta un modelo de K-medias aplicado a un **conjunto de datos de estrellas** y sus propiedades físicas. El fin es crear tres agrupaciones de estrellas de acuerdo a tres de estos atributos, ejemplificando el uso del **aprendizaje no supervisado** para la estructuración de información no etiquetada."
      ],
      "metadata": {
        "id": "uOL4DoVciQ3o"
      }
    },
    {
      "cell_type": "markdown",
      "source": [
        "# 2. Carga de la información y exploración del conjunto de datos\n",
        "El conjunto de datos se carga desde mi repositorio de **GitHub**. La información general sobre este conjunto de datos se especifica en el **apéndice** al final.\n",
        "\n",
        "Antes de hacer uso del algoritmo de k-medias, se procede a hacer una efímera exploración de los datos. En este bloque se utiliza la función *head* de Pandas para imprimir los primeros cinco renglones y las 7 columnas del arreglo, esto para obtener un primer vistazo de la tabla generada."
      ],
      "metadata": {
        "id": "gczAb7YekPSv"
      }
    },
    {
      "cell_type": "code",
      "source": [
        "#Se importan las librerías\n",
        "import pandas as pd\n",
        "import numpy as np\n",
        "import matplotlib.pyplot as plt\n",
        "import seaborn as sns\n",
        "import warnings\n",
        "from mpl_toolkits.mplot3d import Axes3D\n",
        "from sklearn.cluster import KMeans\n",
        "from sklearn.metrics import pairwise_distances_argmin_min\n",
        "\n",
        "#Se carga el conjunto de datos desde GitHub\n",
        "dataset = pd.read_csv('https://raw.githubusercontent.com/DanielDialektico/Machine-Learning/main/Conjuntos%20de%20datos/estrellas_data_2.csv')\n",
        "\n",
        "#Se imprime el encabezado\n",
        "dataset.head()"
      ],
      "metadata": {
        "id": "hW3eaNbHk64A"
      },
      "execution_count": null,
      "outputs": []
    },
    {
      "cell_type": "markdown",
      "source": [
        "Con el fin de identificar los tipos de valores embebidos en los datos, y posibles valores nulos, se imprime un resumen informativo utilizando la función info() de Pandas, donde se constata que se cuentan con valores de tipo **enteros, flotantes, y objetos (solo para un atributo)**. Además, se aprecia la **ausencia de valores nulos**."
      ],
      "metadata": {
        "id": "StvoAe7lr9b1"
      }
    },
    {
      "cell_type": "code",
      "source": [
        "dataset.info()"
      ],
      "metadata": {
        "id": "ttmWYoxjIDmT"
      },
      "execution_count": null,
      "outputs": []
    },
    {
      "cell_type": "markdown",
      "source": [
        "Con el fin de trabajar sobre un espacio desplegable en gráficas, se seleccionan tres atributos del conjunto de datos: **Distancia**, **Magnitud absoluta**, e **Índice de color**.\n",
        "Se crea una gráfica tridimensional de este subconjunto con el fin de observar su dispersión."
      ],
      "metadata": {
        "id": "tb8rSih2u0LE"
      }
    },
    {
      "cell_type": "code",
      "source": [
        "#Se grafican los valores de los 3 atributos seleccionados.\n",
        "fig = plt.figure(figsize=(10,8))\n",
        "ax = fig.add_subplot(projection='3d')\n",
        "ax.scatter(dataset['Distancia'], dataset['Magnitud absoluta'], dataset['Índice de color'])\n",
        "plt.show()"
      ],
      "metadata": {
        "id": "HJYiowV4spkF"
      },
      "execution_count": null,
      "outputs": []
    },
    {
      "cell_type": "markdown",
      "source": [
        "# 3. Preprocesamiento"
      ],
      "metadata": {
        "id": "hD6anoGo03b-"
      }
    },
    {
      "cell_type": "markdown",
      "source": [
        "De forma intuitiva, se pueden observar posibles **valores atípicos** (puntos alejados del mayor conglomerado). Para eliminar estos valores atípicos se procede a imprimir la distribución particular de cada atributo, además de su gráfico de caja con el fin de obtener una visualización de estos."
      ],
      "metadata": {
        "id": "oVj9SaUHwBru"
      }
    },
    {
      "cell_type": "code",
      "source": [
        "warnings.filterwarnings('ignore')\n",
        "\n",
        "#Se generan las gráficas de distribución y de caja para cada variable.\n",
        "plt.figure(figsize=(16,8))\n",
        "plt.subplot(3,2,1)\n",
        "sns.distplot(dataset['Distancia'])\n",
        "plt.subplot(3,2,2)\n",
        "sns.boxplot(dataset['Distancia'])\n",
        "plt.figure(figsize=(16,8))\n",
        "plt.subplot(3,2,3)\n",
        "sns.distplot(dataset['Magnitud absoluta'])\n",
        "plt.subplot(3,2,4)\n",
        "sns.boxplot(dataset['Magnitud absoluta'])\n",
        "plt.figure(figsize=(16,8))\n",
        "plt.subplot(3,2,5)\n",
        "sns.distplot(dataset['Índice de color'])\n",
        "plt.subplot(3,2,6)\n",
        "sns.boxplot(dataset['Índice de color'])"
      ],
      "metadata": {
        "id": "du-gsd_TL72c"
      },
      "execution_count": null,
      "outputs": []
    },
    {
      "cell_type": "markdown",
      "source": [
        "Debido a que se tienen distribuciones que no tienen una **distribución normal**, se procede a eliminar los valores atípicos utilizando el método por rango intercuartílico, en el que se desechan los puntos que estén por debajo y por arriba del espacio determinado por el primer y tercer cuartil."
      ],
      "metadata": {
        "id": "VpUNqC7H0UvZ"
      }
    },
    {
      "cell_type": "code",
      "source": [
        "#Se crea una función que realice los cálculos de los límites inferiores y superiores del rango intercuartílico\n",
        "def iqrFilter(data):\n",
        "  percentile25 = dataset[data].quantile(0.25)\n",
        "  percentile75 = dataset[data].quantile(0.75)\n",
        "  iqr = percentile75 - percentile25\n",
        "\n",
        "  upper_limit = percentile75 + 1.5 * iqr\n",
        "  lower_limit = percentile25 - 1.5 * iqr\n",
        "\n",
        "  return upper_limit,lower_limit\n",
        "\n",
        "#Se aplica la función para la definición de los límites de cada columna\n",
        "upperD,lowerD = iqrFilter('Distancia')\n",
        "upperM,lowerM = iqrFilter('Magnitud absoluta')\n",
        "upperI,lowerI = iqrFilter('Índice de color')\n",
        "\n",
        "#Se eliminan los valores que no pertenezcan al rango establecido.\n",
        "dataset = dataset[dataset['Distancia'] > lowerD]\n",
        "dataset = dataset[dataset['Distancia'] < upperD]\n",
        "dataset = dataset[dataset['Magnitud absoluta'] > lowerM]\n",
        "dataset = dataset[dataset['Magnitud absoluta'] < upperM]\n",
        "dataset = dataset[dataset['Índice de color'] > lowerI]\n",
        "dataset = dataset[dataset['Índice de color'] < upperI]"
      ],
      "metadata": {
        "id": "nZOR8SBxmP9A"
      },
      "execution_count": null,
      "outputs": []
    },
    {
      "cell_type": "markdown",
      "source": [
        "Una vez realizado el filtrado, se grafican de nuevo los puntos correspondientes al subconjunto seleccionando, lo cual muestra una **disminución visible de los valores atípicos**. Dado que el fin de este trabajo es aplicar un algoritmo de agrupación y ya se tiene una forma más centrada de los datos, no se aplican más pruebas y filtros para posibles residuos."
      ],
      "metadata": {
        "id": "wBLgrbSQ3F_C"
      }
    },
    {
      "cell_type": "code",
      "source": [
        "#Se grafican los valores de los 3 atributos seleccionados.\n",
        "fig = plt.figure(figsize=(10,8))\n",
        "ax = fig.add_subplot(projection='3d')\n",
        "ax.scatter(dataset['Distancia'], dataset['Magnitud absoluta'], dataset['Índice de color'])\n",
        "plt.show()"
      ],
      "metadata": {
        "id": "N71wnkqw3A8z"
      },
      "execution_count": null,
      "outputs": []
    },
    {
      "cell_type": "markdown",
      "source": [
        "# 4. Agrupación con k-medias\n",
        "Se procede a utilizar el modelo de **k-medias**, especificando un número de agrupaciones igual a tres, lo cual generará esta cantidad de conglomerados al rededor de 3 **centroides** diferentes."
      ],
      "metadata": {
        "id": "LRfTEbms39XG"
      }
    },
    {
      "cell_type": "code",
      "source": [
        "#Se definen los atributos seleccionados como un arreglo de numpy para ser utilizados en nuestro modelo.\n",
        "attributes = np.array(dataset[['Distancia', 'Magnitud absoluta', 'Índice de color']])\n",
        "\n",
        "#Se configura el modelo con 3 agrupaciones.\n",
        "kmeans = KMeans(n_clusters=3).fit(attributes)\n",
        "#Se obtiene el valor de los centroides.\n",
        "centroids = kmeans.cluster_centers_"
      ],
      "metadata": {
        "id": "kTo6q0OCyEIX"
      },
      "execution_count": null,
      "outputs": []
    },
    {
      "cell_type": "markdown",
      "source": [
        "Para observar los resultados, se muestran las tres agrupaciones generadas utilizando como distintivo un color diferente para cada una."
      ],
      "metadata": {
        "id": "DAoxi8s25Hdy"
      }
    },
    {
      "cell_type": "code",
      "source": [
        "#Se utiliza el modelo para señalar a qué agrupación pertenece cada grupo\n",
        "labels = kmeans.predict(attributes)\n",
        "C = kmeans.cluster_centers_\n",
        "\n",
        "colors=['red','green','blue']\n",
        "points_colors=[]\n",
        "for row in labels:\n",
        "    points_colors.append(colors[row])\n",
        "fig = plt.figure(figsize=(10,8))\n",
        "ax = fig.add_subplot(projection='3d')\n",
        "ax.scatter(dataset['Distancia'], dataset['Magnitud absoluta'], dataset['Índice de color'], c = points_colors)\n",
        "plt.show()"
      ],
      "metadata": {
        "id": "GWwncmI8yyie"
      },
      "execution_count": null,
      "outputs": []
    },
    {
      "cell_type": "markdown",
      "source": [
        "Para finalizar, se grafican los puntos de nuevo, esta vez seleccionando un grosor más bajo para cada uno, y añadiendo tres círculos de cada color, los cuales representan a los **centroides** generados por el modelo."
      ],
      "metadata": {
        "id": "CKjunJgK6RD2"
      }
    },
    {
      "cell_type": "code",
      "source": [
        "fig = plt.figure(figsize=(10,8))\n",
        "ax = fig.add_subplot(projection='3d')\n",
        "ax.scatter(C[:, 0], C[:, 1], C[:, 2], marker='o', c = colors, s=1000)\n",
        "ax.scatter(dataset['Distancia'], dataset['Magnitud absoluta'], dataset['Índice de color'], c = points_colors, s= 1)\n",
        "ax.scatter(C[:, 0], C[:, 1], C[:, 2], marker='o', c = colors, s=1000)\n",
        "plt.show()"
      ],
      "metadata": {
        "id": "Y-9p16mdzrOw"
      },
      "execution_count": null,
      "outputs": []
    },
    {
      "cell_type": "markdown",
      "source": [
        "Encuentra más códigos como este y las explicaciones de los modelos en https://dialektico.com/"
      ],
      "metadata": {
        "id": "GVoO4cbS8r2J"
      }
    },
    {
      "cell_type": "markdown",
      "source": [
        "# 5. Apéndice\n",
        "\n",
        "### **Conjunto de datos**\n",
        "El conjunto de datos  utilizado para este trabajo fue descargado de https://www.kaggle.com/datasets/vinesmsuic/star-categorization-giants-and-dwarfs. Consiste en una base de datos de 3,642 estrellas y sus características, obtenida de la herramienta de consulta de catálogos astronómicos [Vizier](https://vizier.u-strasbg.fr/viz-bin/VizieR-3?-source=I%2F239%2Fhip_main&-out.max=50&-out.form=HTML+Table&-out.add=_RAJ%2C_DEJ&-sort=_r&-oc.form=sexa).\n",
        "Para mayor detalles visitar la **primera URL**.\n"
      ],
      "metadata": {
        "id": "EMBTnCHD8rKR"
      }
    }
  ]
}