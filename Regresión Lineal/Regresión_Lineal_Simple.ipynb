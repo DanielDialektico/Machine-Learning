{
  "nbformat": 4,
  "nbformat_minor": 0,
  "metadata": {
    "colab": {
      "provenance": [],
      "toc_visible": true,
      "authorship_tag": "ABX9TyNxLzqjvZ2z5ik3Q2t8Fbab",
      "include_colab_link": true
    },
    "kernelspec": {
      "name": "python3",
      "display_name": "Python 3"
    },
    "language_info": {
      "name": "python"
    }
  },
  "cells": [
    {
      "cell_type": "markdown",
      "metadata": {
        "id": "view-in-github",
        "colab_type": "text"
      },
      "source": [
        "<a href=\"https://colab.research.google.com/github/DanielDialektico/Machine-Learning/blob/main/Regresi%C3%B3n%20Lineal/Regresi%C3%B3n_Lineal_Simple.ipynb\" target=\"_parent\"><img src=\"https://colab.research.google.com/assets/colab-badge.svg\" alt=\"Open In Colab\"/></a>"
      ]
    },
    {
      "cell_type": "markdown",
      "source": [
        "![MiniLogoW4.png](data:image/png;base64,iVBORw0KGgoAAAANSUhEUgAAASwAAABNCAYAAAAcolk+AAAACXBIWXMAAAsTAAALEwEAmpwYAAAVTElEQVR4nO2de3RU1b3HPztAkJCYF3ARhABBiCm5UsELNKah8mwrFolpveKFIBhYva1SkZVQpSILJChXoddyZUQeiqjENkG0XiFIXIAIgmDqrQiSRFFeYhJIeCXAvn+cmfFkMpM5ZzJnHmF/1ppFzp69z/kxj+/s/Tu//fsJKSUKhUIRDkQE2wCFQqEwihIshUIRNijBUigUYYMSLIVCETYowVIoFGFD22AboAgbugDjgcFAnJvnLwGfAy8D3wTMKsU1hVBhDQoDDAf+CGQCkV767gT+ArxmsU2KaxAlWApv9AHWAcNMjKkC/gW4bIlFimsW5cNSeGMa5sQKIAFtVqZQ+JUmPiwhRDDsUIQgUsqbgbv0bcuXL2fDhg1u+y9cuJD09HTH4RAhRIm1FiquBfSrwCZLwnARLClle6ATEBVsW1rIJeB7IcS5YBuiR0rZDs0X9aCj7dSpUyQnJ1NXV9ek/6xZs1iyZInjsAGIFUJcCIStitaNXqPC7i6hlLILMAnIoHUIVj1wWkpZCfxFCPHPINvjYBgwRt/w5JNPuhWrqVOn8swzz+ibXldipbACxwwrArgVuB+4AQj0NOscUAMcQ7vL9KmnGYeU8lFgId7vVoUjHwghhgfbCCllZ2A18EtH26FDh0hNTeXKlSuN+mZlZfHGG2/Qpk0bR9NpIUTngBmraPW4zrAigHuABcBNQbJJz7fAp1LKE0ApUCiEuAjOZWAGrVOsADKllB1DYHl4PzBS35Cfn99ErEaNGsX69ev1YnUB+K2nk9qXmdHNXLfe6P/dwLlMnU9hDPvrHo/22rfx0t0MDcBZ4Lzj++4OIaUcDKwnNMTKlfNACfAJ2q31aGAD0A/g6uXLXHazRAk3ImNj4Qff4d+BM810v4D99RBCNNfPI1LKaLQA0KEeutwHpDkOdu7cye23396ow9ChQ9m6dStRUY1W5DuBt13O9Y398Uu0z1jHZkyrB04Am4UQb3iw/Udody57ezmX/nyn0QJf23vp728a7NcuFUJsMjtYStkRGAiMRgsTicL/bpyraJ+pKmA7sF3/ubLbkAn8AuiM9hrGYaFgAXVoq633hBBbXJ3uzwEz/Xhhq9iL9uG709Fw4oMPeHfUqOBZ5CcmnjpFZFycmSENwGbgFU9fbHdIKbsBk9FmqbeifQm8jSE9PZ1du3Y52wYMGMD27duJM2ZzPVBt5Fo6aoHnhRB/dLHlTmAxkGriXKFAFdr/5wkjnaWUXdH8tJlogtXNOtMacRb4CDgC/A9wHTALuANNrALNKeAtYA3ajyFt0RzXTiZOnMg777xjqRVt2rQhJiaG6OhoOnToQI8ePejXrx833XQTgwYNIi0tTb/McDDYUqPCi3ZoM5YhgGHBQhOrBZiIv/vwww85duwYSUlJAHTu3JlNmzYZFSvQlu9mxAogBpgjpfzUIcj2mVU4ihVocWl/klLu9TbTklKmAIvQfpgDfVPserTZHGgidRW4OcA26OmCNpseCzwAbGmLy7Tu3LlznDnj00rDFFVVVc6/9+7d2+i5hIQExo8fT05ODhkZGZbbEsZ0klIOFUJ85K2jfWp/OyaDhdPT06msrPTRvBazmB8EeQbhKVZ6lgAeBcs+s1qEtmcz2PRv7skzZ840cob7g6ioKCIj3bqnbwRsQO+QDGuoqqpi1apVrFq1iiFDhrBs2TKGDBkSbLMsZ/fu3SxatMhrvzlz5uhfjz+h+Re80df+ALQP3LZt23wx0zSjR48mKioKm83G9OnTm+2bm5vLihUrHIeJ4Jxd3aHvN336dGw2m9drr1ixgtzcXHJzczl16pRP9reE3r1789xzzzkOk7x0n4TO5QFQX1/Pe++9x86dO/n222+pra31u42xsbEkJSWRnp7OiBEjaNu2qSy89dZbrFy5kj179nDy5Em/2+Cgffv2pKamMnbsWP7whz/QubNzJdoLuCckBUvP7t27GTZsGHPnzmXevHlhE9jqC8ePH2fjxo1e++Xk5OgPbzB4+iS0Nx2AiooK7r77bhPW+U5FRQW9evXy2s8dUsq2wEPoZlfl5eWGxKpPnz7k5uYCsHnzZr766iufbGgJt9xyi/7Qo9PffvftJ+iWgZ999hkTJkzg8OHD1hnoQkpKCkVFRaSkpDjb8vLyePrppwNy/UuXLrF//37279/P6tWr2bVrl/6z83RY7CWUUjJ//nweeeSRYJuiCDy3AY3urCxevNjQQN1MLRzohW4GdvXqVbKysgIqVgAHDx5kwoQJXL16FYAvvvgiYGLlyokTJ/S7JwC6hfwMS8/SpUsZMWIEd955p9e+vX/9a+L6N12GXzh5koMGfp0VIUEk8Hu0EAbA+OwqOzubkSNHeu0XQgwE/tVxUFZWxqFDh4JiyOeff05ZWRkDBw5s4l8ONB9//LH+sH2LBWvcuHHMnz/fUN/q6mqOHj3Knj172LhxI998Yz7P27x58wwJVp/f/Iae48Y1aa8qKzMtWGmzZzN44UJDfVe7dxoqfCMSl9lVfn6+oYEFBQVW2GMlMehuiNTU1ATPEt31GxoagmqH61awFgtWQkICAwcONDVm0qRJLF26lGXLljF79mxTdxv27dvHiRMn6Nq1q0lLFWGKM+ympKSEwsJCrwMKCgro06ePpUb5yFV/n7BDhw6e7qy5paGhgfPnz/vbDLKysrjxxhtNjdm0aRPl5eWmxgRtSdi2bVtmzZrFsWPHePbZZ02NLS8vV4IVIMaPH09mZmaLzpGQkOAXW4z4ruLj452Odj07duzg8mXv+QQ3b97s9U4maP6x0aNHe+3nIiYVXgeYZPny5a43YZqluLjYkpstv/vd7xg+fLipMZWVlSEhWKs9tHcEegApaHuRALjvvvtMC1Z9fb3PxinMkZmZycyZM4NtBiUlJZSUeE+vVVBQQHx8fJN2o7/+Xbp0MdzP5J3Py8AcMwMUTfG3YF0UQjzQXAcp5TCgEOgOkJiY6GcTFK0RI76rQYMGuc6uNgPJ9kcwqQWeFkJ4X8+2HmrctHVE26XhM2F1lzCQjHn3XeffMS7+kPd+/nPn372ysug/bZrbcZV//StfrFxpoZVB4WsTff2Sr8xms7Fv3z6v/Vwc7YeEEGMApJTJaFuZ3Dl7fgH8rIUmVqFFqLtSD5QJIUpbeH6jHBZC9NM3SCnzcW+blWx2vPYutqwH/r0lJ1aC5YFuI0Z4fO7Y1q3OvxNvvdXjuGPvv+9/w4LL10IIb9HaTqSUC9Gq7bQII76r3Nxc1zCG2Y4/hBBHgD+7G2cPTG2pYH2Ptjn/DiDW5blkKaU7p9EFtC92q/uQWIkSLEVIY7PZvDpm4+PjycvL0ze9KYR4y1LDGpMEvI75Td45Usq/o0qiGSYsIt0V1y5GZld5eXn6MIbzQohsS41qii8ZKbCPmYK2sVdhACVYipBl8eLFXmdXffr0cZ1dLbPUKGvohZfsCC2g2qLzBgW1JLTTf9o0emVluX3u2NatHv1R33/yCXsfe8x5rI+I7z9tGt3u+CHJgN5Zr2ie6upqQ7MrF0f7Mdekf4GkuLiYAwcOGO6fk5OjD42YaoFJAB8CX2AXxJSUFJ54wnseQV83q1uNEiw7kfHxHh3tx95/n380rgrzw3NbtzZywusFK6Z3b2J693Y3LFzpJKV0X5SwKZeAH/l6IZvNRnV185ODkSNHkp3daPVnbP+URRQXF7N27VrD/YcPH64XBkvie4QQ/5BS7kYnWPPmzbPiUgFBCZbCDFGA5f4ho7Mrl2wMe4QQyy0zygBr1qxhzZo1TdorKyspLS11HicmJnLXXXc16Wchb6IVFQlUqmXLUIKlCDny8/O9zq5yc3P1jvbLaCl0Q4ovv/ySBQsWsG7dukYVh1588cWA2mFPy7xJSnkH8F80n0MtFi2Xe0iiBEsRUpSXl3vdghMfH+/qu1onhPg/Sw0zwaFDh3jqqaeaCFWwscd8/bi5PlLKBcBjzfUJJkqwFM0yZ84cn3weaWlpbN++3fQ4I/sF8/Ly9PsFa4UQU0xfyCIefPBBXnrppUYZSNq1a9coTUt0tLdyigpPKMFSNMvFixe5eNFjXUuPWJF7HNyGMTznqW8w+O6775xilZyczOOPP87p06eZPdsZeO9M8x3snFfhiIrDUoQVLmJ1GdgfJFPcMnr0aJKTk1m9ejUHDx4kJyfHbVEHhW8owVKEFS53D9sCNillMIp8umXy5MlKqCxECZYirCgvL3cVrc7A40EypwkdO3ZUQmUh6pU1gD5a/VpjwIABJCebTyfV28eA2fj4eK8hDfn5+WRnZ+vDGh6UUr5mpKCsRdQCnwP/FqTrG0JK2R7vKX86NfNc0FGCZYBuI0Y0m26mNTN16tSAZhzNzs6mpKTE6x7C6dOns2XLFsdhB+BFIM1i8zxRhZat4RTajO8mtPL0IYGUsgtakdYMvAuWucTsAUYJliLkWLFiBaNGjWq2j6MghW5rzgAp5T1CiDctN7ApPdGS5HkslBpkJqFtWwr7kk7Kh6UwizTwuAR8C3znywVGjhzptpCEK24i4l8IkgNeYEKs2rVrUZZgU0gpo9ESC4a9WIESLIU5vhZCRBh4XCeEuBFtmeYTLsGhbnHjgE8EjBXJtAgpJTU1NdTU1His6XfdddrOFyvKbblhMOBMi9vQ0OC0r7mHkQpDwUAtCQ1QW1FBrcFyRNeqr8vfOAJEvRWfWLx4MdnZ2QwaNMjR9ICUsjBYqYfr6uqchX4XLFjQbOmrAFV/GoouueA777xjqMzXtm3bTJftCgRKsAzwxcqVHtPLuDJFlSDzG3l5eYZSJOfn5+sd8JHAC0A/zyOsIyYmhh07dgTj0tcEakmoCGlcUsi4paSkBJutUZbhm6SUOVbZ5IY6tCR5CotRgqUIadwk6XOLGwf881LKwZYZ1pgvgbHAq2jipbAItSQMfzpJKY1kgwvUl9fvFBQUUFjYfA3S6upq8vPz9TOyjsB/A8MsNg8AIUQlcD+AlPIZ4NFAXNeFtlJK1zsVHYNgR397PURXfM5A68DfgtXGzQsGml8hEegK/JoQCqprBdyIVknbCC19v82kSAYY0MLrAZoDvqCgwKsD3mazkZ2dra9POFhKOUoIsaW5ca2IroDr+9PHXUeLScKi4q3+Fqx2NH3BQItRSUB7QRvlrlYpNvxCoGJsApIi2R25ubmGHPDTp0/nyJEjjsO2wEopZX8hhPkcOQGmtraWmJiYlpyiA1oq5FaLFT6skW4eGWjTwSaJ9ouKikxfoE2bNi2zUBF2uMky6hY3sVk9gYetsstfvPDCC6SmpvLVV18F25SQJqg+rFdffZVFi8zPHLt3726BNeFDRUWFqXJSeiIjI0lNTfWvQdZyFOgBOJd73rKSOmKzdJujn5BSbhVC7LXWVN84cOAAM2fOJCMjgx49egTbHJ/YsWOH6dXS8ePHTV8nYIJVU1PD2bNnqaio4KOPPmLDhg188sknps/Tq1cv/QfxmuSRRx7xeWxSUhKVlZWG+z///PMUFxf7fD3Q7uCNHTvWl6F1aIVRn8a+GlixYoXX7BEOB/yGDU7vRAcC6IA3Q11dHffeey9xcXG88sorRESYW/RMmTKFKVOCnyF67ty5AblOiwVr7dq1pmqxtZRHHzV286W2ooKqsrIm7WcOHfK3Sa2aI0eO6H1CPpGTk9OS4S8DY4BR8EMEvLcyYIWFha6bowdLKccLIYpbYoy/mTFjBocPH2bz5s107do12OaEHJGRjd2zYRXWMGbMGGbMmGGo7x6DwubgH888YziavTlWR7aKPaYhgxDiOynlcuA2IA60CPjCwkJDEfA6wXJkJ90phPBpU7YJDG13WLt2LaWlpTz22GOMcNnS5W0fpdUkJGg38vv1C8qGASd9+/bVH54Nm8DRcePG8be//U053K9B7LMiZ+hGfHy8a253twQxO2kZ4LwrmZyczK9+9Svnw3EnsLS0lJ/+9Kc8+eSTTU6QlpZGSkpKAExtyoABA0hL01KLDR06lMzMzKDYERERwUMPPaRv+iDkBSsxMRGbzcbGjRuJimou75iilbMKzQEPaGEOungrj+Tn57vOxP7DpctZP9jmeo73gV2Og3HjxlFcXOx8dOnSBYBOnTrx2muvuf0RjoiIoKioiJtvvtkP5hnnlltuoaioyFnZJyIigrfffpuHH36YuLi4gNkxbNgwtmzZQkZGhqPpMjApZJeEt912G1OmTCEnJ4cOHToE25yA0LNnTyZPnmzpNTp1CukMuK44868IIT6SUr6AlogO0CLgBw/2HsDvJjupnj1AJdALjL8HPXv21B++oT+wL2PXo6VMbhJpfuHCBQBefvllunVzVo9vAAqALCAVICUlhbKyMrZt28bOnTs5evSoJYVZ27VrR1JSEhkZGWRkZDRx/EdHR7N06VKWLFnC4cOHOXnypCXxk1FRUVx//fX079/f3ZJ4A1AjpJQvoSvzPX78eDZu3Oh3YzwRGxtL9+7d6du3L3379mXQoEFkZmYaCl048cEHvOslM2U4MPHUKSID+OsVRqzRF0m1J+dbT8uCI/cIIYboG6SUr2DfVuMD9UIIt8n77PbmAQ8C1zvaDxw4wOuvv+4aVzZXCLFASjkObTYZ7F+WK8DXgG/J+f2HRBOrewGElPI/0YpRtgM4d+6cx8Rj/qR9+/ZmZk5ngaXAPrQPbEdQgtXKOSKE6OvaKKW8B3gJnQCYoA4Y6lrW3n7O5Wg+LjPUA68IIaY110lKeQPal+520EJ8oqOj9dV1ioQQE3T909BS5PzEpD3+4jTwWyFEoZRyPPBn7LFwAeQKWmGP3wOljkYhpYxFU/QJ7scFjStAOTBfCLEOmr7x9TU1VH36afAs9BNd0tOJ+OHDa+UWkivAGfu/gfwA1gI1Bq9ZB7zZXPl5H75El4BPgQdcxcrlvBOBxbjZkeHCeeB/hRATDV4fKaUNbablSpUQwu317N/Ne4CHgO5oy1l/+52vognv92g3NpYKIU56sOV24G6gLxDrZzsagGrgn2g/As4gTUclbdAEC+DHaIoezDJFl9Cqj3wGPIVOVV3w9Ma3Bqrw/mXxFx3RZaK0kHOA4wvg7Zr6vkYw8n8we06rGIqWMlq/IbwKbdvQuqBYFIYIvXqhbVD+Eb5Nt81wCW3aeRzzHyZ3b3xrQH14rw1uAFLQcmgd9dJX4YKrYIUTNwATsUdAhzH/BJ5FfXgVCq+Es2ApFIprjJAPHFUoFAoHSrAUCkXYoARLoVCEDUqwFApF2KAES6FQhA1KsBQKRdigBEuhUIQN/w9d/eJ1luqtZwAAAABJRU5ErkJggg==)"
      ],
      "metadata": {
        "id": "RN_aPXP_2Kde"
      }
    },
    {
      "cell_type": "markdown",
      "source": [
        "**INTRODUCCIÓN A LA REGRESIÓN LINEAL 📊**"
      ],
      "metadata": {
        "id": "Obmog3A_xKev"
      }
    },
    {
      "cell_type": "markdown",
      "source": [
        "# 1. Introducción"
      ],
      "metadata": {
        "id": "w-FF7eQKxLCx"
      }
    },
    {
      "cell_type": "markdown",
      "source": [
        "En este ejercicio aplicarás el método de **regresión lineal** para ajustar una **recta** a un **conjunto de datos** y realizar **predicciones** sobre los valores de una variable respecto a otra; esto permitirá demostrar la sencillez y poder de la aplicación de uno de los **algoritmos** básicos del **machine learning** a un conjunto de datos reales.\n",
        "\n",
        "En este caso, volveremos a remitirnos a otro cúmulo de información sobre automóviles, esta vez de uno que consiste en especificaciones y precios de 84 carros del año 2022 vendidos en la India. \n",
        "\n",
        "Los detalles del conjunto de datos pueden ser consultados en el **apéndice** al final."
      ],
      "metadata": {
        "id": "GgzZlAJAUDAI"
      }
    },
    {
      "cell_type": "markdown",
      "source": [
        "# 2. Objetivo"
      ],
      "metadata": {
        "id": "FrcjOofrUwMJ"
      }
    },
    {
      "cell_type": "markdown",
      "source": [
        "Se plantea el siguiente caso: supóngase que estamos haciendo un estudio mercadológico, y deseamos saber cómo se han comportado las variaciones de los **precios** de automóviles respecto a su **potencia de frenado**, la cual va desde los 10 hasta los 739 BPH (break power horse: caballo de fuerza de frenado), y para lo que se nos ha proporcionado una tabla con datos.\n",
        "\n",
        "Las preguntas a responder son las siguientes:\n",
        "\n",
        "1.   ¿Cómo tiende a comportarse el **precio** de los automóviles respecto a la **potencia de frenado**?\n",
        "2.   De acuerdo con la tendencia, ¿cuál es el precio aproximado, en dólares estadounidenses, de un automóvil con una capacidad de 160 BPH?\n"
      ],
      "metadata": {
        "id": "x85kHlsqVQBC"
      }
    },
    {
      "cell_type": "markdown",
      "source": [
        "# 3. Carga y exploración de datos"
      ],
      "metadata": {
        "id": "xh6MbAFbZILR"
      }
    },
    {
      "cell_type": "markdown",
      "source": [
        "Para responder a las cuestiones planteadas, antes deberemos revisar cómo es la información que se nos ha proporcionado, y cuáles **adecuaciones** debemos hacer para su correcto **procesamiento**.\n",
        "\n",
        "Antes que nada, cargaremos las demás librerías a utilizar, e instalaremos una librería que nos ayudará en las etapas de preprocesamiento, cuya intervención se explicará más adelante:"
      ],
      "metadata": {
        "id": "TRxhSTmJZMCK"
      }
    },
    {
      "cell_type": "code",
      "source": [
        "#Se instala la librería alibi-detect\n",
        "!pip install alibi-detect\n",
        "\n",
        "#Se importan las librerías.\n",
        "import pandas as pd\n",
        "import matplotlib.pyplot as plt\n",
        "import numpy as np\n",
        "import seaborn as sns\n",
        "import warnings\n",
        "from datetime import date\n",
        "from sklearn import preprocessing\n",
        "from sklearn import datasets, linear_model\n",
        "from sklearn.model_selection import train_test_split\n",
        "from sklearn.metrics import mean_squared_error, r2_score\n",
        "from sklearn.datasets import make_regression\n",
        "from sklearn.model_selection import train_test_split\n",
        "\n",
        "#Se filtran las advertencias.\n",
        "warnings.filterwarnings('ignore')\n",
        "#Se define el estilo de las gráficas.\n",
        "plt.style.use('seaborn-v0_8-whitegrid')"
      ],
      "metadata": {
        "id": "FSvEtBtrkToY"
      },
      "execution_count": null,
      "outputs": []
    },
    {
      "cell_type": "markdown",
      "source": [
        "Una vez hecho esto, proseguimos a cargar el **conjunto de datos** y leerlo como una tabla (dataFrame) de **[Pandas](https://pandas.pydata.org/)**. \n",
        "\n",
        "Imprimiremos la tabla para tener una primera visión de los datos que disponemos:"
      ],
      "metadata": {
        "id": "8-E9vYnDbh8o"
      }
    },
    {
      "cell_type": "code",
      "execution_count": null,
      "metadata": {
        "id": "xBL8hs17P_5F"
      },
      "outputs": [],
      "source": [
        "#Se carga el conjunto de datos desde un repositorio de GitHub.\n",
        "dataset = pd.read_csv('https://raw.githubusercontent.com/DanielDialektico/Machine-Learning/main/Conjuntos%20de%20datos/Autom%C3%B3viles_Cardekho.csv')\n",
        "\n",
        "#Se imprime el conjunto de datos.\n",
        "dataset"
      ]
    },
    {
      "cell_type": "markdown",
      "source": [
        "A primera vista, se puede observar que se trata una tabla con **84 renglones** (ejemplos de entrenamiento) y **15 columnas**, las cuales representan los atributos de los automóviles.\n",
        "\n",
        "Para obtener mayor información sobre estos atributos, imprimiremos datos estadísticos sobre ellos:"
      ],
      "metadata": {
        "id": "0w0a3FA0cX6Y"
      }
    },
    {
      "cell_type": "code",
      "source": [
        "#Se imprime una tabla con datos estadísticos de cada variable del conjuto de datos.\n",
        "dataset.describe()"
      ],
      "metadata": {
        "id": "HEN5JFtXc7y6"
      },
      "execution_count": null,
      "outputs": []
    },
    {
      "cell_type": "markdown",
      "source": [
        "En esta tabla, la cual fue explicada en la [introducción al preprocesamiento de datos](https://colab.research.google.com/github/DanielDialektico/Machine-Learning/blob/main/Preprocesamiento/Preprocesamiento_intro.ipynb), nos podemos percatar de algunas **propiedades** del conjunto de datos. Por ejemplo, en lo que respecta a las variables que vamos a utilizar, podemos observar una **desviación estándar** relativamente alta para la **potencia de frenado**, lo cual puede indicar presencia de **valores atípicos**. "
      ],
      "metadata": {
        "id": "zfJLHmv3dCbR"
      }
    },
    {
      "cell_type": "markdown",
      "source": [
        "Por último, imprimimos la información general de cada columna, buscando posibles datos no nulos e incongruencias en sus tipos:"
      ],
      "metadata": {
        "id": "YqYWmi4li0Hx"
      }
    },
    {
      "cell_type": "code",
      "source": [
        "dataset.info()"
      ],
      "metadata": {
        "id": "EILA5ODui53y"
      },
      "execution_count": null,
      "outputs": []
    },
    {
      "cell_type": "markdown",
      "source": [
        "Con esto constatamos la ausencia de datos inválidos, así como de la adecuada definción de cada tipo (Dtype) para cada variable (el **precio** y la **potencia** están declarados como tipo numérico)."
      ],
      "metadata": {
        "id": "YxS4MQy-jDbK"
      }
    },
    {
      "cell_type": "markdown",
      "source": [
        "# 4. Preprocesamiento de datos"
      ],
      "metadata": {
        "id": "eGNF-r8EeUo6"
      }
    },
    {
      "cell_type": "markdown",
      "source": [
        "Una vez realizada la breve **exploración** de los datos, procedemos a ejecutar las etapas de **preprocesamiento**, que serán las siguientes:\n",
        "\n",
        "\n",
        "\n",
        "*   **Limpieza de datos**: se delimitarán los atributos solo a las columnas necesarias, y se removerán valores atípicos (outliers). \n",
        "*   **Transformación de datos**: se transformarán los precios de rupias a dólares.\n",
        "*  **Reducción de datos**: se delimitará el conjunto de datos solo a los atributos de interés eliminando las columnas sobrantes.\n",
        "\n"
      ],
      "metadata": {
        "id": "Jn-RR5_EeYiQ"
      }
    },
    {
      "cell_type": "markdown",
      "source": [
        "## 4.1 Transformación, reducción y limpieza "
      ],
      "metadata": {
        "id": "Ub0GlKENhEdQ"
      }
    },
    {
      "cell_type": "markdown",
      "source": [
        "Dada la simplicidad de todas las actividades, salvo la **remoción de valores atípicos** (la cual requerirá algo de **procesamiento** de datos), realizaremos primero todas las adecuaciones de las etapas de preprocesamiento, y dejaremos esta hasta el final."
      ],
      "metadata": {
        "id": "nl0F4z94hIUy"
      }
    },
    {
      "cell_type": "markdown",
      "source": [
        "En el siguiente bloque, se reduce el conjunto de datos a las 2 columnas que se utilizarán, y se cambian los nombres de las variables para su mejor comprensión:"
      ],
      "metadata": {
        "id": "GyqHh8FmhwXJ"
      }
    },
    {
      "cell_type": "code",
      "source": [
        "#Se seleccionan solo las columbas de precio y potencia para el análisis propuesto.\n",
        "dataset = dataset[['price','max_power_bhp']]\n",
        "\n",
        "#Se traduce el nombre de las variables.\n",
        "dataset.columns = ['Precio', 'Poder_máximo_BHP']\n",
        "\n",
        "#Se imprime la tabla resultante.\n",
        "dataset"
      ],
      "metadata": {
        "id": "3E_DJPUVS2AH"
      },
      "execution_count": null,
      "outputs": []
    },
    {
      "cell_type": "markdown",
      "source": [
        "Ahora, cambiamos el valor de los precios convirtiéndolos a dólares con una simple multiplicación por un escalar:"
      ],
      "metadata": {
        "id": "RpRwihfniBCa"
      }
    },
    {
      "cell_type": "code",
      "source": [
        "#Se multiplican los precios de la columna por un factor para la conversión en dólares.\n",
        "dataset['Precio'] = dataset['Precio']*0.012\n",
        "\n",
        "#Se imprime la tabla resultante.\n",
        "dataset"
      ],
      "metadata": {
        "id": "u6VvxXJD80Qd"
      },
      "execution_count": null,
      "outputs": []
    },
    {
      "cell_type": "markdown",
      "source": [
        "Se puede notar cómo los valores se han modificado correctamente. Con esto, podemos continuar con el último paso definido del preprocesamiento de datos."
      ],
      "metadata": {
        "id": "Mikh6_85jl-K"
      }
    },
    {
      "cell_type": "markdown",
      "source": [
        "## 4.2 Detección y remoción de valores atípicos"
      ],
      "metadata": {
        "id": "mfwR-mhUjuOp"
      }
    },
    {
      "cell_type": "markdown",
      "source": [
        "Para identificar y eliminar los valores que se **desvían** considerablemente del **comportamiento** **típico** de los datos, utilizaremos la librería antes instalada: [**alibi-detect**](https://github.com/SeldonIO/alibi-detect), la cual ofrece 10 **algoritmos** diferentes para la detección de este tipo de **observaciones**. \n",
        "\n",
        "En este caso, se utilizará el algoritmo **Isolation Forest**, el cual detecta **anormalidades** en los datos utilizando árboles binarios.\n",
        "\n",
        "Los detalles sobre el funcionamiento de este se escapan de la cobertura de esta práctica, pero pueden ser consultados en [**Liu et al. (2008)**](https://cs.nju.edu.cn/zhouzh/zhouzh.files/publication/icdm08b.pdf).\n",
        "\n",
        "Antes de aplica el algoritmo, con la intención de atisbar posibles **valores atípicos**, mostraremos la gráfica de los puntos generados por ambas variables, donde la variable **dependiente** es el **precio**, y la variable **independiente** el **poder máximo de frenado**."
      ],
      "metadata": {
        "id": "DtEcWLRVjyIz"
      }
    },
    {
      "cell_type": "code",
      "source": [
        "#Se definen cuáles son las entradas y salidas del conjunto de datos.\n",
        "inputs = dataset['Poder_máximo_BHP']\n",
        "outputs = dataset['Precio']\n",
        "\n",
        "#Se genera la gráfica de dispersión de ambas variables.\n",
        "plt.figure(figsize=(9, 9))\n",
        "plt.plot(inputs, outputs, 'o', markersize = 7)\n",
        "plt.title(\"PRECIO RESPECTO A PODER MÁXIMO DE FRENADO (BHP)\", fontdict = {'family': 'DejaVu Sans', 'color':  'black', 'weight': 'bold', 'size': 16}, pad = 15)\n",
        "plt.suptitle(\"Fig. 1 Representación en el plano del conjunto de datos.\", fontproperties = {'family': 'DejaVu Sans', 'size': 16}, y=-0.001)\n",
        "plt.xlabel(\"POTENCIA MÁXIMA DE FRENADO (BHP)\", fontdict = {'family': 'DejaVu Sans', 'color':  'black', 'weight': 'bold', 'size': 12}, labelpad=15)\n",
        "plt.ylabel(\"PRECIO (USD)\", fontdict = {'family': 'DejaVu Sans', 'color':  'black', 'weight': 'bold', 'size': 12}, labelpad=15)\n",
        "plt.show()"
      ],
      "metadata": {
        "id": "l1xzdN8mWDuu"
      },
      "execution_count": null,
      "outputs": []
    },
    {
      "cell_type": "markdown",
      "source": [
        "Podemos notar algunos **ejemplos de entrenamiento** (puntos) posicionados en regiones **lejanas** a la agrupación de la mayoría. \n",
        "\n",
        "Para su detección, procedemos a utilizar el algoritmo **[Isolation Forest](https://docs.seldon.io/projects/alibi-detect/en/stable/od/methods/iforest.html)** con la librería alibi_detect. \n",
        "\n",
        "Para visualizar el resultado, resaltaremos los puntos identificados como valores atípicos con un color rojo:"
      ],
      "metadata": {
        "id": "gKiCIps1e8ea"
      }
    },
    {
      "cell_type": "code",
      "source": [
        "#Se importa el algoritmo desde alibi_detect.\n",
        "from alibi_detect.od import IForest\n",
        "\n",
        "#Se define el método con sus respectivos parámetros.\n",
        "od = IForest(threshold=0., n_estimators=400)\n",
        "\n",
        "#Se ejecuta el algoritmo sobre el conjunto de datos.\n",
        "od.fit(dataset[['Poder_máximo_BHP', 'Precio']])\n",
        "preds = od.predict(dataset[['Poder_máximo_BHP', 'Precio']], return_instance_score=True)\n",
        "\n",
        "#Se añade una columna donde se asocia cada ejemplo de entrenamiento a un valor n = 0 si es un valor atípico, n = 1 en el caso contrario.  \n",
        "dataset['Valores_atípicos'] = preds['data']['is_outlier']\n",
        "\n",
        "#Se generan dos subconjuntos de datos, uno filtrado, y otro que solo contiene valores atípicos.\n",
        "outliers = dataset.loc[(dataset['Valores_atípicos']==1)]\n",
        "dataset = dataset.loc[(dataset['Valores_atípicos']==0)]\n",
        "\n",
        "#Se definen los puntos a graficar, y se imprimen.\n",
        "inputs = dataset['Poder_máximo_BHP']\n",
        "outputs = dataset['Precio']\n",
        "\n",
        "x_outliers = outliers['Poder_máximo_BHP']\n",
        "y_outliers = outliers['Precio']\n",
        "\n",
        "plt.figure(figsize=(9, 9))\n",
        "plt.plot(inputs, outputs, 'o', markersize = 7)\n",
        "plt.plot(x_outliers, y_outliers, 'o', color = 'red', label = 'Valores atípicos', markersize = 7)\n",
        "plt.title(\"PRECIO RESPECTO A PODER MÁXIMO (BHP)\", fontdict = {'family': 'DejaVu Sans', 'color':  'black', 'weight': 'bold', 'size': 16}, pad = 15)\n",
        "plt.suptitle(\"Fig. 2 Visualización de los datos atípicos (puntos color rojo) en el conjunto de datos.\", fontproperties = {'family': 'DejaVu Sans', 'size': 16}, y=-0.001)\n",
        "plt.xlabel(\"POTENCIA MÁXIMA DE FRENADO (BHP)\", fontdict = {'family': 'DejaVu Sans', 'color':  'black', 'weight': 'bold', 'size': 12}, labelpad = 15)\n",
        "plt.ylabel(\"PRECIO (USD)\", fontdict = {'family': 'DejaVu Sans', 'color':  'black', 'weight': 'bold', 'size': 12}, labelpad = 15)\n",
        "plt.legend(loc='upper left', prop = {'family': 'DejaVu Sans', 'weight': 'bold', 'size': 14}, frameon = True, framealpha = 1, facecolor  = '#dddddd', shadow = True)\n",
        "plt.show()"
      ],
      "metadata": {
        "id": "imoCHXaye09F"
      },
      "execution_count": null,
      "outputs": []
    },
    {
      "cell_type": "markdown",
      "source": [
        "En la **figura 2** se aprecia la diferenciación con coloración en rojo de los puntos señalados como **outliers**. Filtremos estos valores y graficaremos las observaciones restantes, las cuales representan el conjunto de datos finalmente preprocesado:"
      ],
      "metadata": {
        "id": "p4gBjRUtfiER"
      }
    },
    {
      "cell_type": "code",
      "source": [
        "#Se grafica el conjunto de datos preprocesado.\n",
        "plt.figure(figsize=(9, 9))\n",
        "plt.plot(inputs, outputs, 'o', markersize = 7)\n",
        "plt.title(\"PRECIO RESPECTO A PODER MÁXIMO (BHP)\", fontdict = {'family': 'DejaVu Sans', 'color':  'black', 'weight': 'bold', 'size': 16}, pad = 15)\n",
        "plt.suptitle(\"Fig. 3 Conjunto de datos preprocesado.\", fontproperties = {'family': 'DejaVu Sans','size': 16}, y=-0.001)\n",
        "plt.xlabel(\"POTENCIA MÁXIMA DE FRENADO (BHP)\", fontdict = {'family': 'DejaVu Sans', 'color':  'black', 'weight': 'bold', 'size': 12}, labelpad = 15)\n",
        "plt.ylabel(\"PRECIO (USD)\", fontdict = {'family': 'DejaVu Sans', 'color':  'black', 'weight': 'bold', 'size': 12}, labelpad = 15)\n",
        "plt.show()"
      ],
      "metadata": {
        "id": "MJh_RRwBps1V"
      },
      "execution_count": null,
      "outputs": []
    },
    {
      "cell_type": "markdown",
      "source": [
        "# 5. Regresión lineal simple"
      ],
      "metadata": {
        "id": "l0uFor4LiyJM"
      }
    },
    {
      "cell_type": "markdown",
      "source": [
        "Para dar solución a las preguntas planteadas en los objetivos, utilizaremos el método de **regresión lineal simple** incovando a la clase definida en la librería [**scikit-learn**](https://scikit-learn.org/stable/index.html), la cual nos permitirá utilizar el método de **mínimos cuadrados** para la obtención de la **ecuación de la recta**."
      ],
      "metadata": {
        "id": "21MVAHami8ga"
      }
    },
    {
      "cell_type": "markdown",
      "source": [
        "En el siguiente bloque se definen los conjuntos de datos de **entrenamient**o y **prueba**, los cuales tendrán una proporción de **80%** y **20%** del total de ejemplos de entrenamiento, y se entrena el modelo de regresión lineal:"
      ],
      "metadata": {
        "id": "MRXdUUIvkOOo"
      }
    },
    {
      "cell_type": "code",
      "source": [
        "#Se generan los conjuntos de entrenamiento y prueba para las entradas (x) y salidas (y), con una proporción 80-20.\n",
        "x_train, x_test, y_train, y_test = train_test_split(inputs, outputs, test_size=0.2, random_state=42)\n",
        "x_train = x_train.to_numpy().reshape(-1,1)\n",
        "y_train = y_train.to_numpy().reshape(-1,1)\n",
        "\n",
        "#Se define la regresión lineal.\n",
        "regr = linear_model.LinearRegression()\n",
        "\n",
        "# Se entrena el modelo sobre los conjuntos de entrenamiento, utilizando el método de mínimos cuadrados.\n",
        "regr.fit(x_train, y_train);"
      ],
      "metadata": {
        "id": "ED0O3bpLrtv-"
      },
      "execution_count": null,
      "outputs": []
    },
    {
      "cell_type": "markdown",
      "source": [
        "Una vez ajustados los datos con el método **fit()**, podemos graficar la línea recta resultante:"
      ],
      "metadata": {
        "id": "krDUdnQYmLJa"
      }
    },
    {
      "cell_type": "code",
      "source": [
        "#Se grafica la línea recta obtenida.\n",
        "plt.figure(figsize=(9, 9))\n",
        "plt.plot(inputs, outputs, 'o', markersize = 7)\n",
        "plt.plot(inputs, regr.predict(inputs.to_numpy().reshape(-1,1)), color=\"#9E0505\", linewidth=5, label='Recta de regresión')\n",
        "plt.title(\"PRECIO RESPECTO A PODER MÁXIMO (BHP)\", fontdict = {'family': 'DejaVu Sans', 'color':  'black', 'weight': 'bold', 'size': 16}, pad = 15)\n",
        "plt.xlabel(\"POTENCIA MÁXIMA DE FRENADO (BHP)\", fontdict = {'family': 'DejaVu Sans', 'color':  'black', 'weight': 'bold', 'size': 12}, labelpad = 15)\n",
        "plt.ylabel(\"PRECIO (USD)\", fontdict = {'family': 'DejaVu Sans', 'color':  'black', 'weight': 'bold', 'size': 12}, labelpad = 15)\n",
        "plt.suptitle(\"Fig. 4 Visualización del conjunto de datos y la recta ajustada generada por la ecuación resultante de la regresión lineal.\", fontproperties = {'family': 'DejaVu Sans', 'size': 16}, y=-0.001)\n",
        "plt.legend(loc='upper left', prop = {'family': 'DejaVu Sans', 'weight': 'bold', 'size': 14}, frameon = True, framealpha = 1, facecolor  = '#dddddd', shadow = True)\n",
        "plt.show()"
      ],
      "metadata": {
        "id": "Si_3YG8LwL04"
      },
      "execution_count": null,
      "outputs": []
    },
    {
      "cell_type": "markdown",
      "source": [
        "Con esta primera ilustración podemos resolver la **primera interrogante**: *¿cómo se comporta el precio de los automóviles respecto a la potencia de frenado?* \n",
        "\n",
        "En la **figura 4** podemos ver cómo a valores más altos de la **potencia máxima** se obtienen también cantidades más altas del **precio**, razón por la cual la **pendiente** de la recta es **positiva**. Esto nos indica que el precio es directamente proporcional a la potencia: uno aumenta conforme el otro también, y por lo tanto la **tendencia** entre ambos es **creciente**.\n"
      ],
      "metadata": {
        "id": "1lCUlXwlWS1m"
      }
    },
    {
      "cell_type": "markdown",
      "source": [
        "## 5.1 Realizando predicciones con el modelo"
      ],
      "metadata": {
        "id": "Jbl8QgQThE3c"
      }
    },
    {
      "cell_type": "markdown",
      "source": [
        "Para responder a la **segunda pregunta**, debemos recordar cómo se utiliza el modelo obtenido por la regresión lineal para hacer **predicciones**. Recordemos que la ecuación de la recta dada por este método tiene la siguiente forma:\n"
      ],
      "metadata": {
        "id": "97IaD0aiXhKu"
      }
    },
    {
      "cell_type": "markdown",
      "source": [
        "\\begin{align}\n",
        "        h(x)=\\theta_{0}+\\theta_{1}x\\quad(1.1) \n",
        "    \\end{align}"
      ],
      "metadata": {
        "id": "s_bEapxMe6dX"
      }
    },
    {
      "cell_type": "markdown",
      "source": [
        "donde $\\theta_{0}$ es el **parámetro** que determina la **intersección** con el eje $y$, y $\\theta_{1}$ el **parámetro** que define su **pendiente**.\n",
        "\n",
        "Para poder consultar los valores de estos **parámetros** después de hacer la regresión, utilizaremos los atributos **coef_** y **rank_** del modelo definido, los cuales nos entregarán los valores de los **coeficientes de regresión** correspondientes a la intersección y la pendiente, respectivamente:"
      ],
      "metadata": {
        "id": "Ddm7au6be3FA"
      }
    },
    {
      "cell_type": "code",
      "source": [
        "#Se obtienen los valores de los coeficientes de regresión calculados.\n",
        "theta_0 = regr.intercept_[0]\n",
        "theta_1 = regr.coef_[0][0]\n",
        "\n",
        "print('El valor de los parámetros de regresión de la ecuación de la recta son:\\ntheta_0 = ' + str(theta_0)[0:8] + '\\ntheta_1 = ' + str(theta_1)[0:6])"
      ],
      "metadata": {
        "id": "iR6mkELgyqeK"
      },
      "execution_count": null,
      "outputs": []
    },
    {
      "cell_type": "markdown",
      "source": [
        "Por lo tanto, la ecuación quedaría de la siguiente forma:"
      ],
      "metadata": {
        "id": "Tca6xS1hdC5m"
      }
    },
    {
      "cell_type": "code",
      "source": [
        "#Se imprime la ecuación resultante:\n",
        "print('h(x) = ' + str(theta_0)[0:8] + ' + ' + str(theta_1)[0:6] + 'x')"
      ],
      "metadata": {
        "id": "TyvauUSnswsz"
      },
      "execution_count": null,
      "outputs": []
    },
    {
      "cell_type": "markdown",
      "source": [
        "Ahora, para responder a la pregunta: ¿cuál es el precio aproximado, en dólares estadounidenses, de un automóvil de 160 BPH?, utilizaremos esta ecuación sustituyendo el valor de $x$ por el de 160, lo cual se puede hacer utilizando el método **predict()**:\n"
      ],
      "metadata": {
        "id": "cDiaRgxed2DH"
      }
    },
    {
      "cell_type": "code",
      "source": [
        "#Se define el valor de x para la predicción.\n",
        "input_pred = 160\n",
        "print('El precio de un automóvil dada una potencia de 160 BHP es: $' + str(regr.predict(np.array([[input_pred,]]))[0][0])[0:2] + ',' + \n",
        "         str(regr.predict(np.array([[input_pred,]]))[0][0])[2:8] + ' USD')"
      ],
      "metadata": {
        "id": "lgqTy2KbtaX6"
      },
      "execution_count": null,
      "outputs": []
    },
    {
      "cell_type": "markdown",
      "source": [
        "Es decir, para un valor de potencia de 160 bhp, el valor impreso arriba es el **precio estimado**. \n",
        "\n",
        "Para ilustrar esto, veamos en dónde se encuentra el **punto predicho** por el **modelo** en nuestra recta respecto al conjunto de datos:"
      ],
      "metadata": {
        "id": "mdjHVWSme0nJ"
      }
    },
    {
      "cell_type": "code",
      "source": [
        "#Se grafica el resultado.\n",
        "plt.figure(figsize=(9, 9))\n",
        "plt.plot(inputs, outputs, 'o', markersize = 7)\n",
        "plt.plot(inputs, regr.predict(inputs.to_numpy().reshape(-1,1)), color=\"#9E0505\", linewidth=5, label='h(x) = ' + str(theta_0)[0:8] + ' + ' + str(theta_1)[0:6] + 'x' )\n",
        "plt.plot(input_pred, regr.predict(np.array([[input_pred,]])), 'o', markersize = 17, color=\"orange\", label = 'Predicción = $' + str(regr.predict(np.array([[input_pred,]]))[0][0])[0:2] + ',' + \n",
        "         str(regr.predict(np.array([[input_pred,]]))[0][0])[2:8] + ' USD');\n",
        "plt.title(\"PRECIO RESPECTO A PODER MÁXIMO (BHP)\", fontdict = {'family': 'DejaVu Sans', 'color':  'black', 'weight': 'bold', 'size': 16}, pad = 15)\n",
        "plt.xlabel(\"POTENCIA MÁXIMA DE FRENADO (BHP)\", fontdict = {'family': 'DejaVu Sans', 'color':  'black', 'weight': 'bold', 'size': 12}, labelpad = 15)\n",
        "plt.ylabel(\"PRECIO (USD)\", fontdict = {'family': 'DejaVu Sans', 'color':  'black', 'weight': 'bold', 'size': 12}, labelpad = 15)\n",
        "plt.suptitle(\"Fig. 5 Línea de regresión y el punto calculado por el modelo sobre esta (punto amarillo).\", fontproperties = {'family': 'DejaVu Sans', 'size': 16}, y=-0.001)\n",
        "plt.legend(loc='upper left', prop = {'family': 'DejaVu Sans', 'weight': 'bold', 'size': 14}, frameon = True, framealpha = 1, facecolor  = '#dddddd', shadow = True)\n",
        "plt.show()"
      ],
      "metadata": {
        "id": "iSDv59D25vjA"
      },
      "execution_count": null,
      "outputs": []
    },
    {
      "cell_type": "markdown",
      "source": [
        "## 5.2 Evaluando su precisión"
      ],
      "metadata": {
        "id": "mv35unhOhJ-N"
      }
    },
    {
      "cell_type": "markdown",
      "source": [
        "Uno de las etapas clave de todo modelo de **machine learning**, consiste en la **evaluación** de su **precisión** en la ejecución de sus tareas. \n",
        "\n",
        "Para esto, se utilizan diversas **funciones** que permiten calcular los **errores** respecto a los valores reales del conjunto de datos (conjunto de prueba).\n",
        "\n",
        "Esto lo veremos de forma más detallado en un futuro, por el momento, utilizaremos dos métricas: el **error cuadrático medio** (MSE), el cual fue definido en nuestra exploración, y el **coeficiente de determinación $R^{2}$**, el cual conforme se aproxima a $1$, indica mayor **rendimiento** de **predicción** del modelo (dicho de forma simplificada)."
      ],
      "metadata": {
        "id": "JX0ZdqkkhMmQ"
      }
    },
    {
      "cell_type": "code",
      "source": [
        "y_pred = regr.predict(x_test.to_numpy().reshape(-1,1))\n",
        "print(\"Error cuadrático medio: %.2f\" % mean_squared_error(y_test, y_pred))\n",
        "print(\"Coeficiente de determinación: %.2f\" % r2_score(y_test, y_pred))"
      ],
      "metadata": {
        "id": "pcyrbnbd5gav"
      },
      "execution_count": null,
      "outputs": []
    },
    {
      "cell_type": "markdown",
      "source": [
        "Como verás, el coeficiente de determinación tiene una aproximación a 1 considerable, más no del 100% , esto nos plantea la incógnita de cómo podemos generar un modelo con mayor capacidad predictiva. \n",
        "\n",
        "En lo sucesivo, estaremos explorando más **algoritmos** que nos abrirán un amplio abanico de posibilidades para el entrenamiento de modelos de **aprendizaje supervisado**."
      ],
      "metadata": {
        "id": "O1tlDdXjjd0Q"
      }
    },
    {
      "cell_type": "markdown",
      "source": [
        "#Ejercicio"
      ],
      "metadata": {
        "id": "p8N9oEqUmmBB"
      }
    },
    {
      "cell_type": "markdown",
      "source": [
        "Hasta aquí concluimos con esta práctica, pero aún puedes poner a prueba tus conocimientos haciendo unas cuantas **modificaciones** a las siguientes celdas de código. A continuación, se cargará el **conjunto de datos** de **calificaciones** y **horas de estudio** visto en la introducción a la regresión lineal (esta celda no requiere modificación alguna): "
      ],
      "metadata": {
        "id": "Z8gdb41nk3dQ"
      }
    },
    {
      "cell_type": "code",
      "source": [
        "#Se visualiza el conjunto de datos:\n",
        "dataset = pd.read_csv('https://raw.githubusercontent.com/DanielDialektico/Machine-Learning/main/Regresi%C3%B3n%20Lineal/Estudiantes_puntaje.csv', encoding='latin-1')\n",
        "dataset"
      ],
      "metadata": {
        "id": "BzRmzAzuk8Ih"
      },
      "execution_count": null,
      "outputs": []
    },
    {
      "cell_type": "markdown",
      "source": [
        "Para aplicar regresión lineal y realizar predicciones sobre este conjunto de datos solo deberás añadir algunos elementos a los siguientes bloques de código:"
      ],
      "metadata": {
        "id": "guBrFXJ1xype"
      }
    },
    {
      "cell_type": "markdown",
      "source": [
        "Define las **entradas** y **salidas** del conjunto de datos, colocando entre comillas el nombre de las variables.\n",
        "\n",
        "Recuerda cuáles son tus entradas y salidas, y que:\n",
        "\n",
        "Inputs = entradas\n",
        "\n",
        "Outputs = salidas"
      ],
      "metadata": {
        "id": "AY9U_QZ5yE02"
      }
    },
    {
      "cell_type": "code",
      "source": [
        "inputs = dataset[#-Nombre de la columna de entradas]\n",
        "outputs = dataset[#-Nombre de la columna de salidas]"
      ],
      "metadata": {
        "id": "B5u2ZwbkyEfU"
      },
      "execution_count": null,
      "outputs": []
    },
    {
      "cell_type": "markdown",
      "source": [
        "Por último, en el siguiente código se aplica la regresión lineal simple para el **entrenamiento** del modelo. Aquí solo deberás especificar con qué valores deseas realizar una predicción con la ecuación resultante; se recomienda utilizar un **número continuo** de entre **0** y **10**."
      ],
      "metadata": {
        "id": "jHs48ZDsyjHf"
      }
    },
    {
      "cell_type": "code",
      "source": [
        "x_train, x_test, y_train, y_test = train_test_split(inputs, outputs, test_size=0.2, random_state=42)\n",
        "x_train = x_train.to_numpy().reshape(-1,1)\n",
        "y_train = y_train.to_numpy().reshape(-1,1)\n",
        "regr = linear_model.LinearRegression()\n",
        "regr.fit(x_train, y_train);\n",
        "theta_0 = regr.intercept_[0]\n",
        "theta_1 = regr.coef_[0][0]\n",
        "\n",
        "#Edita esta línea de código\n",
        "input_pred = #Valor para el que deseas probar el modelo.\n",
        "\n",
        "plt.figure(figsize=(9, 9))\n",
        "plt.plot(inputs, outputs, 'o', markersize = 7)\n",
        "plt.plot(inputs, regr.predict(inputs.to_numpy().reshape(-1,1)), color=\"#9E0505\", linewidth=5, label='h(x) = ' + str(theta_0)[0:4] + ' + ' + str(theta_1)[0:4] + 'x' )\n",
        "plt.plot(input_pred, regr.predict(np.array([[input_pred,]])), 'o', markersize = 17, color=\"orange\", label = 'Predicción = ' + str(regr.predict(np.array([[input_pred,]]))[0][0])[0:5],);\n",
        "plt.title(\"PUNTAJE RESPECTO A HORAS DE ESTUDIO\", fontdict = {'family': 'DejaVu Sans', 'color':  'black', 'weight': 'bold', 'size': 16})\n",
        "plt.xlabel(\"HORAS DE ESTUDIO\", fontdict = {'family': 'DejaVu Sans', 'color':  'black', 'weight': 'bold', 'size': 12})\n",
        "plt.ylabel(\"PUNTAJE\", fontdict = {'family': 'DejaVu Sans', 'color':  'black', 'weight': 'bold', 'size': 12})\n",
        "plt.suptitle(\"Fig. 6 Linea de regresión y el punto calculado por el modelo sobre esta (punto amarillo).\", fontproperties = {'family': 'DejaVu Sans', 'size': 16}, y=-0.001)\n",
        "plt.legend(loc='upper left', prop = {'family': 'DejaVu Sans', 'weight': 'bold', 'size': 14}, frameon = True, framealpha = 1, facecolor  = '#dddddd', shadow = True)\n",
        "plt.show()"
      ],
      "metadata": {
        "id": "vYuwDYHAharg"
      },
      "execution_count": null,
      "outputs": []
    },
    {
      "cell_type": "markdown",
      "source": [
        "En la **figura 6** podrás observar la ecuación resultante, la recta generada a partir de esta, y la **predicción** realizada por el **modelo**."
      ],
      "metadata": {
        "id": "-SiblyzvzVqM"
      }
    },
    {
      "cell_type": "markdown",
      "source": [
        "▶ [Regresar a la lección](https://dialektico.com/introduccion-a-la-regresion-lineal/) 🧙"
      ],
      "metadata": {
        "id": "Etha1W0_zqE2"
      }
    },
    {
      "cell_type": "markdown",
      "source": [
        "# 7. Apéndice"
      ],
      "metadata": {
        "id": "CKMx4NxBmv2v"
      }
    },
    {
      "cell_type": "markdown",
      "source": [
        "## 7.1 Conjunto de datos"
      ],
      "metadata": {
        "id": "yFhxUKuHnNin"
      }
    },
    {
      "cell_type": "markdown",
      "source": [
        "El conjunto de datos utilizado para este ejercicio es un subconjunto de un conjunto de datos de segunda mano extráidos de https://www.cardekho.com/, y ofrecidos de forma gratuita en [Kaggle](https://www.kaggle.com/). \n",
        "\n",
        "Consiste en un total de 84 automóviles en venta en la India durante el 2022, con 16 atributos asociados:\n",
        "\n",
        "*   **car_name:** nombre del coche.\n",
        "*   **reviews_count:** número de opiniones dadas al coche en el sitio web.\n",
        "*   **fuel_type:** tipo de combustible que utiliza el coche. Los valores posibles son petróleo, diesel y eléctrico.\n",
        "*   **engine_displacement:** medida del volumen del cilindro barrido por todos los pistones de un motor de pistones, excluyendo las cámaras de combustión. La unidad es (cc).\n",
        "*   **no_cylinder:** número de cilindros que contiene el coche. Es $0$ en caso de vehículos eléctricos.\n",
        "*   **seating_capacity:** número de personas que caben en el coche.\n",
        "*   **transmission_type:** tipo de transmisión, los valores posibles son manual, automático y eléctrico.\n",
        "*   **fuel_tank_capacity:** capacidad máxima del depósito de combustible del coche. 0 en caso de vehículo eléctrico.\n",
        "*   **body_type**: forma de la carrocería del coche.\n",
        "*   **rating_Integer:** clasificación proporcionada al coche en el sitio web. Valores entre 0 y 5.\n",
        "*   **starting_price:** precio inicial del coche en Rs.\n",
        "*   **ending_price:** precio final del coche en Rs.\n",
        "*   **max_torque_nm:** Torque máximo que puede proporcionar el coche\n",
        "*   **max_torque_rpm:** RPM al que se puede alcanzar el torque máximo.\n",
        "*   **max_power_bhp:** Potencia de frenado máxima del coche\n",
        "*   **max_power_rp:** RPM al que se puede alcanzar la potencia máxima.\n"
      ],
      "metadata": {
        "id": "x6NkBA3InRbO"
      }
    }
  ]
}
